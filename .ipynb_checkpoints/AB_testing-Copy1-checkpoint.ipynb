{
 "cells": [
  {
   "cell_type": "code",
   "execution_count": 1,
   "id": "e418bb9e",
   "metadata": {},
   "outputs": [],
   "source": [
    "import numpy as np\n",
    "import pandas as pd\n",
    "import matplotlib.pyplot as plt\n",
    "import geopandas as gpd\n",
    "from shapely.geometry import Polygon"
   ]
  },
  {
   "cell_type": "markdown",
   "id": "a6299b47",
   "metadata": {},
   "source": [
    "We compiled the US States (and Washington DC) tax rates into one dataset from 2000-2023 based on the available information from the US Government. Then we added added it as a pandas DataFrame and rounded the numbers. "
   ]
  },
  {
   "cell_type": "code",
   "execution_count": 2,
   "id": "27c69845",
   "metadata": {
    "scrolled": false
   },
   "outputs": [
    {
     "data": {
      "text/html": [
       "<div>\n",
       "<style scoped>\n",
       "    .dataframe tbody tr th:only-of-type {\n",
       "        vertical-align: middle;\n",
       "    }\n",
       "\n",
       "    .dataframe tbody tr th {\n",
       "        vertical-align: top;\n",
       "    }\n",
       "\n",
       "    .dataframe thead th {\n",
       "        text-align: right;\n",
       "    }\n",
       "</style>\n",
       "<table border=\"1\" class=\"dataframe\">\n",
       "  <thead>\n",
       "    <tr style=\"text-align: right;\">\n",
       "      <th></th>\n",
       "      <th>NAME</th>\n",
       "      <th>STATE</th>\n",
       "      <th>2000</th>\n",
       "      <th>2001</th>\n",
       "      <th>2002</th>\n",
       "      <th>2003</th>\n",
       "      <th>2004</th>\n",
       "      <th>2005</th>\n",
       "      <th>2006</th>\n",
       "      <th>2007</th>\n",
       "      <th>...</th>\n",
       "      <th>2014</th>\n",
       "      <th>2015</th>\n",
       "      <th>2016</th>\n",
       "      <th>2017</th>\n",
       "      <th>2018</th>\n",
       "      <th>2019</th>\n",
       "      <th>2020</th>\n",
       "      <th>2021</th>\n",
       "      <th>2022</th>\n",
       "      <th>2023</th>\n",
       "    </tr>\n",
       "  </thead>\n",
       "  <tbody>\n",
       "    <tr>\n",
       "      <th>0</th>\n",
       "      <td>Alabama</td>\n",
       "      <td>AL</td>\n",
       "      <td>5.00</td>\n",
       "      <td>5.00</td>\n",
       "      <td>6.00</td>\n",
       "      <td>5.00</td>\n",
       "      <td>6.50</td>\n",
       "      <td>6.50</td>\n",
       "      <td>6.50</td>\n",
       "      <td>6.50</td>\n",
       "      <td>...</td>\n",
       "      <td>6.50</td>\n",
       "      <td>6.50</td>\n",
       "      <td>6.50</td>\n",
       "      <td>6.50</td>\n",
       "      <td>6.50</td>\n",
       "      <td>6.50</td>\n",
       "      <td>6.50</td>\n",
       "      <td>6.50</td>\n",
       "      <td>6.50</td>\n",
       "      <td>6.50</td>\n",
       "    </tr>\n",
       "    <tr>\n",
       "      <th>1</th>\n",
       "      <td>Alaska</td>\n",
       "      <td>AK</td>\n",
       "      <td>5.20</td>\n",
       "      <td>5.20</td>\n",
       "      <td>5.44</td>\n",
       "      <td>5.44</td>\n",
       "      <td>5.44</td>\n",
       "      <td>5.44</td>\n",
       "      <td>5.44</td>\n",
       "      <td>5.44</td>\n",
       "      <td>...</td>\n",
       "      <td>5.44</td>\n",
       "      <td>5.34</td>\n",
       "      <td>5.34</td>\n",
       "      <td>5.34</td>\n",
       "      <td>5.34</td>\n",
       "      <td>5.34</td>\n",
       "      <td>5.34</td>\n",
       "      <td>5.34</td>\n",
       "      <td>5.34</td>\n",
       "      <td>5.34</td>\n",
       "    </tr>\n",
       "    <tr>\n",
       "      <th>2</th>\n",
       "      <td>Arizona</td>\n",
       "      <td>AZ</td>\n",
       "      <td>8.00</td>\n",
       "      <td>7.97</td>\n",
       "      <td>6.97</td>\n",
       "      <td>6.97</td>\n",
       "      <td>6.97</td>\n",
       "      <td>6.97</td>\n",
       "      <td>6.97</td>\n",
       "      <td>6.97</td>\n",
       "      <td>...</td>\n",
       "      <td>6.50</td>\n",
       "      <td>5.50</td>\n",
       "      <td>5.50</td>\n",
       "      <td>4.90</td>\n",
       "      <td>4.90</td>\n",
       "      <td>4.90</td>\n",
       "      <td>4.90</td>\n",
       "      <td>4.90</td>\n",
       "      <td>4.90</td>\n",
       "      <td>4.90</td>\n",
       "    </tr>\n",
       "    <tr>\n",
       "      <th>3</th>\n",
       "      <td>Arkansas</td>\n",
       "      <td>AR</td>\n",
       "      <td>3.75</td>\n",
       "      <td>3.75</td>\n",
       "      <td>3.92</td>\n",
       "      <td>3.92</td>\n",
       "      <td>3.92</td>\n",
       "      <td>3.92</td>\n",
       "      <td>3.92</td>\n",
       "      <td>3.92</td>\n",
       "      <td>...</td>\n",
       "      <td>3.92</td>\n",
       "      <td>3.92</td>\n",
       "      <td>3.92</td>\n",
       "      <td>3.92</td>\n",
       "      <td>3.92</td>\n",
       "      <td>3.92</td>\n",
       "      <td>3.92</td>\n",
       "      <td>3.87</td>\n",
       "      <td>3.65</td>\n",
       "      <td>3.55</td>\n",
       "    </tr>\n",
       "    <tr>\n",
       "      <th>4</th>\n",
       "      <td>California</td>\n",
       "      <td>CA</td>\n",
       "      <td>8.84</td>\n",
       "      <td>8.84</td>\n",
       "      <td>8.84</td>\n",
       "      <td>8.84</td>\n",
       "      <td>8.84</td>\n",
       "      <td>8.84</td>\n",
       "      <td>8.84</td>\n",
       "      <td>8.84</td>\n",
       "      <td>...</td>\n",
       "      <td>8.84</td>\n",
       "      <td>8.84</td>\n",
       "      <td>8.84</td>\n",
       "      <td>8.84</td>\n",
       "      <td>8.84</td>\n",
       "      <td>8.84</td>\n",
       "      <td>8.84</td>\n",
       "      <td>8.84</td>\n",
       "      <td>8.84</td>\n",
       "      <td>8.84</td>\n",
       "    </tr>\n",
       "  </tbody>\n",
       "</table>\n",
       "<p>5 rows × 26 columns</p>\n",
       "</div>"
      ],
      "text/plain": [
       "         NAME STATE  2000  2001  2002  2003  2004  2005  2006  2007  ...  \\\n",
       "0     Alabama    AL  5.00  5.00  6.00  5.00  6.50  6.50  6.50  6.50  ...   \n",
       "1      Alaska    AK  5.20  5.20  5.44  5.44  5.44  5.44  5.44  5.44  ...   \n",
       "2     Arizona    AZ  8.00  7.97  6.97  6.97  6.97  6.97  6.97  6.97  ...   \n",
       "3    Arkansas    AR  3.75  3.75  3.92  3.92  3.92  3.92  3.92  3.92  ...   \n",
       "4  California    CA  8.84  8.84  8.84  8.84  8.84  8.84  8.84  8.84  ...   \n",
       "\n",
       "   2014  2015  2016  2017  2018  2019  2020  2021  2022  2023  \n",
       "0  6.50  6.50  6.50  6.50  6.50  6.50  6.50  6.50  6.50  6.50  \n",
       "1  5.44  5.34  5.34  5.34  5.34  5.34  5.34  5.34  5.34  5.34  \n",
       "2  6.50  5.50  5.50  4.90  4.90  4.90  4.90  4.90  4.90  4.90  \n",
       "3  3.92  3.92  3.92  3.92  3.92  3.92  3.92  3.87  3.65  3.55  \n",
       "4  8.84  8.84  8.84  8.84  8.84  8.84  8.84  8.84  8.84  8.84  \n",
       "\n",
       "[5 rows x 26 columns]"
      ]
     },
     "execution_count": 2,
     "metadata": {},
     "output_type": "execute_result"
    }
   ],
   "source": [
    "df = pd.read_csv(\"taxrates.csv\")\n",
    "df = df.rename(columns={\"State\":\"NAME\", \"STUSPS\": \"STATE\"}).round(2)\n",
    "df.head()"
   ]
  },
  {
   "cell_type": "markdown",
   "id": "b61e33d3",
   "metadata": {},
   "source": [
    "To get an idea of the changes in the tax rates of each state, we transpose the data and plot a line graph using matplotlib."
   ]
  },
  {
   "cell_type": "code",
   "execution_count": 3,
   "id": "322a5d5b",
   "metadata": {},
   "outputs": [
    {
     "data": {
      "text/html": [
       "<div>\n",
       "<style scoped>\n",
       "    .dataframe tbody tr th:only-of-type {\n",
       "        vertical-align: middle;\n",
       "    }\n",
       "\n",
       "    .dataframe tbody tr th {\n",
       "        vertical-align: top;\n",
       "    }\n",
       "\n",
       "    .dataframe thead th {\n",
       "        text-align: right;\n",
       "    }\n",
       "</style>\n",
       "<table border=\"1\" class=\"dataframe\">\n",
       "  <thead>\n",
       "    <tr style=\"text-align: right;\">\n",
       "      <th>NAME</th>\n",
       "      <th>Alabama</th>\n",
       "      <th>Alaska</th>\n",
       "      <th>Arizona</th>\n",
       "      <th>Arkansas</th>\n",
       "      <th>California</th>\n",
       "      <th>Colorado</th>\n",
       "      <th>Connecticut</th>\n",
       "      <th>Delaware</th>\n",
       "      <th>Florida</th>\n",
       "      <th>Georgia</th>\n",
       "      <th>...</th>\n",
       "      <th>Tennessee</th>\n",
       "      <th>Texas</th>\n",
       "      <th>Utah</th>\n",
       "      <th>Vermont</th>\n",
       "      <th>Virginia</th>\n",
       "      <th>Washington</th>\n",
       "      <th>West Virginia</th>\n",
       "      <th>Wisconsin</th>\n",
       "      <th>Wyoming</th>\n",
       "      <th>District of Columbia</th>\n",
       "    </tr>\n",
       "  </thead>\n",
       "  <tbody>\n",
       "    <tr>\n",
       "      <th>2000</th>\n",
       "      <td>5.0</td>\n",
       "      <td>5.2</td>\n",
       "      <td>8.0</td>\n",
       "      <td>3.75</td>\n",
       "      <td>8.84</td>\n",
       "      <td>4.75</td>\n",
       "      <td>8.5</td>\n",
       "      <td>8.7</td>\n",
       "      <td>5.5</td>\n",
       "      <td>6.0</td>\n",
       "      <td>...</td>\n",
       "      <td>6.0</td>\n",
       "      <td>0.0</td>\n",
       "      <td>5.0</td>\n",
       "      <td>8.38</td>\n",
       "      <td>6.0</td>\n",
       "      <td>0.0</td>\n",
       "      <td>9.0</td>\n",
       "      <td>7.9</td>\n",
       "      <td>0.0</td>\n",
       "      <td>9.98</td>\n",
       "    </tr>\n",
       "    <tr>\n",
       "      <th>2001</th>\n",
       "      <td>5.0</td>\n",
       "      <td>5.2</td>\n",
       "      <td>7.97</td>\n",
       "      <td>3.75</td>\n",
       "      <td>8.84</td>\n",
       "      <td>4.63</td>\n",
       "      <td>7.5</td>\n",
       "      <td>8.7</td>\n",
       "      <td>5.5</td>\n",
       "      <td>6.0</td>\n",
       "      <td>...</td>\n",
       "      <td>6.0</td>\n",
       "      <td>0.0</td>\n",
       "      <td>5.0</td>\n",
       "      <td>8.38</td>\n",
       "      <td>6.0</td>\n",
       "      <td>0.0</td>\n",
       "      <td>9.0</td>\n",
       "      <td>7.9</td>\n",
       "      <td>0.0</td>\n",
       "      <td>9.98</td>\n",
       "    </tr>\n",
       "    <tr>\n",
       "      <th>2002</th>\n",
       "      <td>6.0</td>\n",
       "      <td>5.44</td>\n",
       "      <td>6.97</td>\n",
       "      <td>3.92</td>\n",
       "      <td>8.84</td>\n",
       "      <td>4.63</td>\n",
       "      <td>7.5</td>\n",
       "      <td>8.7</td>\n",
       "      <td>5.5</td>\n",
       "      <td>6.0</td>\n",
       "      <td>...</td>\n",
       "      <td>6.0</td>\n",
       "      <td>0.0</td>\n",
       "      <td>5.0</td>\n",
       "      <td>8.51</td>\n",
       "      <td>6.0</td>\n",
       "      <td>0.0</td>\n",
       "      <td>9.0</td>\n",
       "      <td>7.9</td>\n",
       "      <td>0.0</td>\n",
       "      <td>9.5</td>\n",
       "    </tr>\n",
       "    <tr>\n",
       "      <th>2003</th>\n",
       "      <td>5.0</td>\n",
       "      <td>5.44</td>\n",
       "      <td>6.97</td>\n",
       "      <td>3.92</td>\n",
       "      <td>8.84</td>\n",
       "      <td>4.63</td>\n",
       "      <td>7.5</td>\n",
       "      <td>8.7</td>\n",
       "      <td>5.5</td>\n",
       "      <td>6.0</td>\n",
       "      <td>...</td>\n",
       "      <td>6.0</td>\n",
       "      <td>0.0</td>\n",
       "      <td>5.0</td>\n",
       "      <td>8.51</td>\n",
       "      <td>6.0</td>\n",
       "      <td>0.0</td>\n",
       "      <td>9.0</td>\n",
       "      <td>7.9</td>\n",
       "      <td>0.0</td>\n",
       "      <td>9.5</td>\n",
       "    </tr>\n",
       "    <tr>\n",
       "      <th>2004</th>\n",
       "      <td>6.5</td>\n",
       "      <td>5.44</td>\n",
       "      <td>6.97</td>\n",
       "      <td>3.92</td>\n",
       "      <td>8.84</td>\n",
       "      <td>4.63</td>\n",
       "      <td>7.5</td>\n",
       "      <td>8.7</td>\n",
       "      <td>5.5</td>\n",
       "      <td>6.0</td>\n",
       "      <td>...</td>\n",
       "      <td>6.5</td>\n",
       "      <td>0.0</td>\n",
       "      <td>5.0</td>\n",
       "      <td>8.51</td>\n",
       "      <td>6.0</td>\n",
       "      <td>0.0</td>\n",
       "      <td>9.0</td>\n",
       "      <td>7.9</td>\n",
       "      <td>0.0</td>\n",
       "      <td>9.98</td>\n",
       "    </tr>\n",
       "  </tbody>\n",
       "</table>\n",
       "<p>5 rows × 51 columns</p>\n",
       "</div>"
      ],
      "text/plain": [
       "NAME Alabama Alaska Arizona Arkansas California Colorado Connecticut Delaware  \\\n",
       "2000     5.0    5.2     8.0     3.75       8.84     4.75         8.5      8.7   \n",
       "2001     5.0    5.2    7.97     3.75       8.84     4.63         7.5      8.7   \n",
       "2002     6.0   5.44    6.97     3.92       8.84     4.63         7.5      8.7   \n",
       "2003     5.0   5.44    6.97     3.92       8.84     4.63         7.5      8.7   \n",
       "2004     6.5   5.44    6.97     3.92       8.84     4.63         7.5      8.7   \n",
       "\n",
       "NAME Florida Georgia  ... Tennessee Texas Utah Vermont Virginia Washington  \\\n",
       "2000     5.5     6.0  ...       6.0   0.0  5.0    8.38      6.0        0.0   \n",
       "2001     5.5     6.0  ...       6.0   0.0  5.0    8.38      6.0        0.0   \n",
       "2002     5.5     6.0  ...       6.0   0.0  5.0    8.51      6.0        0.0   \n",
       "2003     5.5     6.0  ...       6.0   0.0  5.0    8.51      6.0        0.0   \n",
       "2004     5.5     6.0  ...       6.5   0.0  5.0    8.51      6.0        0.0   \n",
       "\n",
       "NAME West Virginia Wisconsin  Wyoming District of Columbia  \n",
       "2000           9.0        7.9     0.0                 9.98  \n",
       "2001           9.0        7.9     0.0                 9.98  \n",
       "2002           9.0        7.9     0.0                  9.5  \n",
       "2003           9.0        7.9     0.0                  9.5  \n",
       "2004           9.0        7.9     0.0                 9.98  \n",
       "\n",
       "[5 rows x 51 columns]"
      ]
     },
     "execution_count": 3,
     "metadata": {},
     "output_type": "execute_result"
    }
   ],
   "source": [
    "df_t = df.T \n",
    "df_t.columns=df_t.iloc[0]\n",
    "df_t = df_t.tail(-2)\n",
    "df_t.head()\n"
   ]
  },
  {
   "cell_type": "code",
   "execution_count": null,
   "id": "f6750c24",
   "metadata": {},
   "outputs": [],
   "source": [
    "# plot the data\n",
    "ax = df_t.plot(figsize=(40,15))\n",
    "\n",
    "# set x-axis label and values\n",
    "ax.set_xlabel(\"Time\")\n",
    "ax.set_ylabel(\"Tax rate(%)\")\n",
    "\n",
    "plt.show()"
   ]
  },
  {
   "cell_type": "code",
   "execution_count": null,
   "id": "1120f67e",
   "metadata": {
    "scrolled": true
   },
   "outputs": [],
   "source": [
    "shapefile = 's_08mr23/s_08mr23.shp'\n",
    "gdf = gpd.read_file(shapefile)\n",
    "gdf"
   ]
  },
  {
   "cell_type": "code",
   "execution_count": null,
   "id": "0b1df434",
   "metadata": {
    "scrolled": false
   },
   "outputs": [],
   "source": [
    "#drop Puerto rico, Fed States of Micronesia, American Samoa, US Virgin Islands, Guam, Commonwealth of the northern mariana islands from file\n",
    "gdf = gdf.drop(index=[2,37,44,52,54,55,56,57])\n",
    "gdf = gdf.reset_index(drop=True)"
   ]
  },
  {
   "cell_type": "code",
   "execution_count": null,
   "id": "4c65a3e8",
   "metadata": {
    "scrolled": false
   },
   "outputs": [],
   "source": [
    "len(gdf)"
   ]
  },
  {
   "cell_type": "code",
   "execution_count": null,
   "id": "46dc9c86",
   "metadata": {
    "scrolled": false
   },
   "outputs": [],
   "source": [
    "gdf.plot()"
   ]
  },
  {
   "cell_type": "markdown",
   "id": "b08c69bf",
   "metadata": {},
   "source": [
    "Creating the merged dataset that will include the Tax rate as a column"
   ]
  },
  {
   "cell_type": "code",
   "execution_count": null,
   "id": "779f56a3",
   "metadata": {},
   "outputs": [],
   "source": [
    "df_test = df[['STATE','2022']].copy()\n",
    "df_test.head()"
   ]
  },
  {
   "cell_type": "markdown",
   "id": "18cbbb2c",
   "metadata": {},
   "source": [
    "We are going to clip Hawaii and Alaska and add them separately. "
   ]
  },
  {
   "cell_type": "code",
   "execution_count": null,
   "id": "941f3b08",
   "metadata": {},
   "outputs": [],
   "source": [
    "alaska_gdf = gdf[gdf.STATE=='AK']\n",
    "alaska_gdf = alaska_gdf.merge(df_test, on=\"STATE\")\n",
    "#clipping some of the western islands to make it fit better\n",
    "polygon = Polygon([(-170,50),(-170,72),(-140, 72),(-140,50)])\n",
    "alaska_gdf = alaska_gdf.clip(polygon)\n",
    "alaska_gdf\n",
    "alaska_gdf.plot()"
   ]
  },
  {
   "cell_type": "code",
   "execution_count": null,
   "id": "7baa975b",
   "metadata": {
    "scrolled": false
   },
   "outputs": [],
   "source": [
    "hawaii_gdf = gdf[gdf.STATE=='HI']\n",
    "hawaii_gdf = hawaii_gdf.merge(df_test, on=\"STATE\")\n",
    "hawaii_gdf\n",
    "hawaii_gdf.plot()"
   ]
  },
  {
   "cell_type": "markdown",
   "id": "6f2ffca4",
   "metadata": {},
   "source": [
    "Removing Alaska and Hawaii from the table due to mapping errors. Will add back later separately."
   ]
  },
  {
   "cell_type": "code",
   "execution_count": null,
   "id": "b0ccaa80",
   "metadata": {},
   "outputs": [],
   "source": [
    "gdf_test = gdf.drop(gdf[gdf['STATE'] == 'AK'].index)\n",
    "gdf_test = gdf_test.drop(gdf_test[gdf_test['STATE'] == 'HI'].index)\n",
    "len(gdf_test)"
   ]
  },
  {
   "cell_type": "markdown",
   "id": "d17aa99f",
   "metadata": {},
   "source": [
    "Creating the merged dataset that will include the Tax rate as a column"
   ]
  },
  {
   "cell_type": "code",
   "execution_count": null,
   "id": "cde6f38b",
   "metadata": {},
   "outputs": [],
   "source": [
    "df_test = df[['STATE','2022']].copy()\n",
    "df_test.head()"
   ]
  },
  {
   "cell_type": "code",
   "execution_count": null,
   "id": "054aa28a",
   "metadata": {
    "scrolled": true
   },
   "outputs": [],
   "source": [
    "gdf_new = gdf_test.merge(df_test, on=\"STATE\")\n",
    "gdf_new"
   ]
  },
  {
   "cell_type": "markdown",
   "id": "d61e7f42",
   "metadata": {},
   "source": [
    "Plotting the values on a geographical map we get a heatmap:"
   ]
  },
  {
   "cell_type": "code",
   "execution_count": null,
   "id": "0bdbdc28",
   "metadata": {
    "scrolled": false
   },
   "outputs": [],
   "source": [
    "# Print the map\n",
    "# Set the range for the choropleth\n",
    "title = 'Tax rate in 2022'\n",
    "col = '2022'\n",
    "vmin = gdf_new[col].min()\n",
    "vmax = gdf_new[col].max()\n",
    "cmap = 'GnBu'\n",
    "# Create figure and axes for Matplotlib\n",
    "fig, ax = plt.subplots(1, figsize=(20, 8))\n",
    "# Remove the axis\n",
    "ax.axis('off')\n",
    "gdf_new.plot(column=col, ax=ax, edgecolor='0.8', linewidth=1, cmap=cmap, legend=True)\n",
    "# Add a title\n",
    "ax.set_title(title, fontdict={'fontname': 'Times New Roman','fontsize': '25', 'fontweight': '3'})\n",
    "# Create an annotation for the data source\n",
    "\n",
    "#Add Alaska\n",
    "akax = fig.add_axes([0.1, 0.17, 0.2, 0.19])   \n",
    "akax.axis('off')\n",
    "alaska_gdf.plot(column=alaska_gdf[\"2022\"], cmap=\"GnBu\", ax=akax, linewidth=1, edgecolor='0.8')\n",
    "\n",
    "#Add Hawaii\n",
    "hiax = fig.add_axes([.28, 0.20, 0.1, 0.1])      \n",
    "hiax.axis('off')\n",
    "hawaii_gdf.plot(column=hawaii_gdf[\"2022\"], cmap=\"GnBu\", ax=hiax, linewidth=1, edgecolor='0.8')\n",
    "\n"
   ]
  },
  {
   "cell_type": "code",
   "execution_count": null,
   "id": "62781771",
   "metadata": {},
   "outputs": [],
   "source": [
    "from matplotlib.widgets import Button, Slider"
   ]
  },
  {
   "cell_type": "code",
   "execution_count": null,
   "id": "2d142411",
   "metadata": {},
   "outputs": [],
   "source": [
    "import numpy as np\n",
    "import matplotlib.pyplot as plt\n",
    "from matplotlib.widgets import Slider\n",
    "\n",
    "x = np.linspace(0, 3, 300)\n",
    "y = np.sin(5 * np.pi * x)\n",
    "\n",
    "fig, ax = plt.subplots()\n",
    "l, = ax.plot(x, y)\n",
    "plt.show()"
   ]
  },
  {
   "cell_type": "code",
   "execution_count": null,
   "id": "b815ff36",
   "metadata": {},
   "outputs": [],
   "source": [
    "fig.subplots_adjust(bottom=0.2)\n"
   ]
  },
  {
   "cell_type": "code",
   "execution_count": null,
   "id": "6ae70fef",
   "metadata": {
    "scrolled": false
   },
   "outputs": [],
   "source": [
    "x = np.linspace(0, 3, 300)\n",
    "y = np.sin(5 * np.pi * x)\n",
    "\n",
    "fig, ax = plt.subplots()\n",
    "fig.subplots_adjust(bottom=0.2)\n",
    "l, = ax.plot(x, y)\n",
    "\n",
    "def onChange(value):\n",
    "    l.set_ydata(np.sin(value * np.pi * x))\n",
    "    fig.canvas.draw_idle()\n",
    "\n",
    "slideraxis = fig.add_axes([0.25, 0.1, 0.65, 0.03])\n",
    "slider = Slider(slideraxis, label='Frequency [Hz]',\n",
    "                valmin=0, valmax=10, valinit=0)\n",
    "slider.on_changed(onChange)\n",
    "plt.show()"
   ]
  },
  {
   "cell_type": "code",
   "execution_count": null,
   "id": "4686ad70",
   "metadata": {},
   "outputs": [],
   "source": [
    "from ipywidgets import interact, interactive, fixed, interact_manual\n"
   ]
  },
  {
   "cell_type": "code",
   "execution_count": null,
   "id": "1bb37d2e",
   "metadata": {},
   "outputs": [],
   "source": [
    "%matplotlib notebook"
   ]
  },
  {
   "cell_type": "code",
   "execution_count": null,
   "id": "1dd9cea0",
   "metadata": {},
   "outputs": [],
   "source": []
  }
 ],
 "metadata": {
  "kernelspec": {
   "display_name": "Python 3 (ipykernel)",
   "language": "python",
   "name": "python3"
  },
  "language_info": {
   "codemirror_mode": {
    "name": "ipython",
    "version": 3
   },
   "file_extension": ".py",
   "mimetype": "text/x-python",
   "name": "python",
   "nbconvert_exporter": "python",
   "pygments_lexer": "ipython3",
   "version": "3.11.3"
  }
 },
 "nbformat": 4,
 "nbformat_minor": 5
}
