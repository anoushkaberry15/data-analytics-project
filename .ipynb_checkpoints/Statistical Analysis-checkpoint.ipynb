{
 "cells": [
  {
   "cell_type": "markdown",
   "metadata": {},
   "source": [
    "# How do different economic factors influence the economic popularity of a state? "
   ]
  },
  {
   "cell_type": "markdown",
   "metadata": {},
   "source": [
    "## Data Preprocessing and Exploration"
   ]
  },
  {
   "cell_type": "code",
   "execution_count": 1,
   "metadata": {},
   "outputs": [],
   "source": [
    "import pandas as pd\n",
    "import numpy as np\n",
    "import matplotlib.pyplot as plt\n",
    "import seaborn as sns"
   ]
  },
  {
   "cell_type": "code",
   "execution_count": 2,
   "metadata": {},
   "outputs": [
    {
     "data": {
      "text/html": [
       "<div>\n",
       "<style scoped>\n",
       "    .dataframe tbody tr th:only-of-type {\n",
       "        vertical-align: middle;\n",
       "    }\n",
       "\n",
       "    .dataframe tbody tr th {\n",
       "        vertical-align: top;\n",
       "    }\n",
       "\n",
       "    .dataframe thead th {\n",
       "        text-align: right;\n",
       "    }\n",
       "</style>\n",
       "<table border=\"1\" class=\"dataframe\">\n",
       "  <thead>\n",
       "    <tr style=\"text-align: right;\">\n",
       "      <th></th>\n",
       "      <th>State</th>\n",
       "      <th>year</th>\n",
       "      <th>tax_rate</th>\n",
       "      <th>gdp</th>\n",
       "      <th>min_wage</th>\n",
       "      <th>unemployment_rate</th>\n",
       "      <th>population</th>\n",
       "      <th>median_hh_income</th>\n",
       "      <th>business_applications</th>\n",
       "    </tr>\n",
       "  </thead>\n",
       "  <tbody>\n",
       "    <tr>\n",
       "      <th>0</th>\n",
       "      <td>Alabama</td>\n",
       "      <td>2005</td>\n",
       "      <td>6.5</td>\n",
       "      <td>1.588500e+11</td>\n",
       "      <td>5.15</td>\n",
       "      <td>4.5</td>\n",
       "      <td>4569805</td>\n",
       "      <td>53550</td>\n",
       "      <td>31078</td>\n",
       "    </tr>\n",
       "    <tr>\n",
       "      <th>1</th>\n",
       "      <td>Alabama</td>\n",
       "      <td>2006</td>\n",
       "      <td>6.5</td>\n",
       "      <td>1.664700e+11</td>\n",
       "      <td>5.15</td>\n",
       "      <td>4.0</td>\n",
       "      <td>4628981</td>\n",
       "      <td>53170</td>\n",
       "      <td>33918</td>\n",
       "    </tr>\n",
       "    <tr>\n",
       "      <th>2</th>\n",
       "      <td>Alabama</td>\n",
       "      <td>2007</td>\n",
       "      <td>6.5</td>\n",
       "      <td>1.729800e+11</td>\n",
       "      <td>5.15</td>\n",
       "      <td>4.0</td>\n",
       "      <td>4672840</td>\n",
       "      <td>57660</td>\n",
       "      <td>33701</td>\n",
       "    </tr>\n",
       "    <tr>\n",
       "      <th>3</th>\n",
       "      <td>Alabama</td>\n",
       "      <td>2008</td>\n",
       "      <td>6.5</td>\n",
       "      <td>1.745300e+11</td>\n",
       "      <td>6.55</td>\n",
       "      <td>5.7</td>\n",
       "      <td>4718206</td>\n",
       "      <td>58600</td>\n",
       "      <td>32222</td>\n",
       "    </tr>\n",
       "    <tr>\n",
       "      <th>4</th>\n",
       "      <td>Alabama</td>\n",
       "      <td>2009</td>\n",
       "      <td>6.5</td>\n",
       "      <td>1.709300e+11</td>\n",
       "      <td>7.25</td>\n",
       "      <td>11.0</td>\n",
       "      <td>4757938</td>\n",
       "      <td>52890</td>\n",
       "      <td>29221</td>\n",
       "    </tr>\n",
       "  </tbody>\n",
       "</table>\n",
       "</div>"
      ],
      "text/plain": [
       "     State  year  tax_rate           gdp  min_wage  unemployment_rate  \\\n",
       "0  Alabama  2005       6.5  1.588500e+11      5.15                4.5   \n",
       "1  Alabama  2006       6.5  1.664700e+11      5.15                4.0   \n",
       "2  Alabama  2007       6.5  1.729800e+11      5.15                4.0   \n",
       "3  Alabama  2008       6.5  1.745300e+11      6.55                5.7   \n",
       "4  Alabama  2009       6.5  1.709300e+11      7.25               11.0   \n",
       "\n",
       "   population  median_hh_income  business_applications  \n",
       "0     4569805             53550                  31078  \n",
       "1     4628981             53170                  33918  \n",
       "2     4672840             57660                  33701  \n",
       "3     4718206             58600                  32222  \n",
       "4     4757938             52890                  29221  "
      ]
     },
     "execution_count": 2,
     "metadata": {},
     "output_type": "execute_result"
    }
   ],
   "source": [
    "# Loading and inspecting the newly uploaded \"combined.csv\"\n",
    "df = pd.read_csv(\"combined.csv\")\n",
    "df.head()"
   ]
  },
  {
   "cell_type": "code",
   "execution_count": 3,
   "metadata": {},
   "outputs": [
    {
     "data": {
      "text/html": [
       "<div>\n",
       "<style scoped>\n",
       "    .dataframe tbody tr th:only-of-type {\n",
       "        vertical-align: middle;\n",
       "    }\n",
       "\n",
       "    .dataframe tbody tr th {\n",
       "        vertical-align: top;\n",
       "    }\n",
       "\n",
       "    .dataframe thead th {\n",
       "        text-align: right;\n",
       "    }\n",
       "</style>\n",
       "<table border=\"1\" class=\"dataframe\">\n",
       "  <thead>\n",
       "    <tr style=\"text-align: right;\">\n",
       "      <th></th>\n",
       "      <th>year</th>\n",
       "      <th>tax_rate</th>\n",
       "      <th>gdp</th>\n",
       "      <th>min_wage</th>\n",
       "      <th>unemployment_rate</th>\n",
       "      <th>population</th>\n",
       "      <th>median_hh_income</th>\n",
       "      <th>business_applications</th>\n",
       "    </tr>\n",
       "  </thead>\n",
       "  <tbody>\n",
       "    <tr>\n",
       "      <th>count</th>\n",
       "      <td>918.000000</td>\n",
       "      <td>918.000000</td>\n",
       "      <td>9.180000e+02</td>\n",
       "      <td>918.000000</td>\n",
       "      <td>918.000000</td>\n",
       "      <td>9.180000e+02</td>\n",
       "      <td>918.000000</td>\n",
       "      <td>918.000000</td>\n",
       "    </tr>\n",
       "    <tr>\n",
       "      <th>mean</th>\n",
       "      <td>2013.500000</td>\n",
       "      <td>5.976906</td>\n",
       "      <td>3.464156e+11</td>\n",
       "      <td>7.748181</td>\n",
       "      <td>5.632789</td>\n",
       "      <td>6.204967e+06</td>\n",
       "      <td>69993.758170</td>\n",
       "      <td>61295.957516</td>\n",
       "    </tr>\n",
       "    <tr>\n",
       "      <th>std</th>\n",
       "      <td>5.190956</td>\n",
       "      <td>2.665890</td>\n",
       "      <td>4.453838e+11</td>\n",
       "      <td>1.796426</td>\n",
       "      <td>2.163291</td>\n",
       "      <td>6.979893e+06</td>\n",
       "      <td>12105.438242</td>\n",
       "      <td>79791.142932</td>\n",
       "    </tr>\n",
       "    <tr>\n",
       "      <th>min</th>\n",
       "      <td>2005.000000</td>\n",
       "      <td>0.000000</td>\n",
       "      <td>2.360900e+10</td>\n",
       "      <td>2.650000</td>\n",
       "      <td>2.100000</td>\n",
       "      <td>5.141570e+05</td>\n",
       "      <td>39670.000000</td>\n",
       "      <td>3818.000000</td>\n",
       "    </tr>\n",
       "    <tr>\n",
       "      <th>25%</th>\n",
       "      <td>2009.000000</td>\n",
       "      <td>5.000000</td>\n",
       "      <td>8.500950e+10</td>\n",
       "      <td>7.250000</td>\n",
       "      <td>4.000000</td>\n",
       "      <td>1.754430e+06</td>\n",
       "      <td>61170.000000</td>\n",
       "      <td>13850.500000</td>\n",
       "    </tr>\n",
       "    <tr>\n",
       "      <th>50%</th>\n",
       "      <td>2013.500000</td>\n",
       "      <td>6.500000</td>\n",
       "      <td>2.096150e+11</td>\n",
       "      <td>7.250000</td>\n",
       "      <td>5.100000</td>\n",
       "      <td>4.364332e+06</td>\n",
       "      <td>68490.000000</td>\n",
       "      <td>37555.000000</td>\n",
       "    </tr>\n",
       "    <tr>\n",
       "      <th>75%</th>\n",
       "      <td>2018.000000</td>\n",
       "      <td>7.750000</td>\n",
       "      <td>4.155300e+11</td>\n",
       "      <td>8.250000</td>\n",
       "      <td>6.900000</td>\n",
       "      <td>7.055983e+06</td>\n",
       "      <td>78585.000000</td>\n",
       "      <td>70977.250000</td>\n",
       "    </tr>\n",
       "    <tr>\n",
       "      <th>max</th>\n",
       "      <td>2022.000000</td>\n",
       "      <td>9.990000</td>\n",
       "      <td>3.598100e+12</td>\n",
       "      <td>16.100000</td>\n",
       "      <td>13.700000</td>\n",
       "      <td>3.950165e+07</td>\n",
       "      <td>108900.000000</td>\n",
       "      <td>633654.000000</td>\n",
       "    </tr>\n",
       "  </tbody>\n",
       "</table>\n",
       "</div>"
      ],
      "text/plain": [
       "              year    tax_rate           gdp    min_wage  unemployment_rate  \\\n",
       "count   918.000000  918.000000  9.180000e+02  918.000000         918.000000   \n",
       "mean   2013.500000    5.976906  3.464156e+11    7.748181           5.632789   \n",
       "std       5.190956    2.665890  4.453838e+11    1.796426           2.163291   \n",
       "min    2005.000000    0.000000  2.360900e+10    2.650000           2.100000   \n",
       "25%    2009.000000    5.000000  8.500950e+10    7.250000           4.000000   \n",
       "50%    2013.500000    6.500000  2.096150e+11    7.250000           5.100000   \n",
       "75%    2018.000000    7.750000  4.155300e+11    8.250000           6.900000   \n",
       "max    2022.000000    9.990000  3.598100e+12   16.100000          13.700000   \n",
       "\n",
       "         population  median_hh_income  business_applications  \n",
       "count  9.180000e+02        918.000000             918.000000  \n",
       "mean   6.204967e+06      69993.758170           61295.957516  \n",
       "std    6.979893e+06      12105.438242           79791.142932  \n",
       "min    5.141570e+05      39670.000000            3818.000000  \n",
       "25%    1.754430e+06      61170.000000           13850.500000  \n",
       "50%    4.364332e+06      68490.000000           37555.000000  \n",
       "75%    7.055983e+06      78585.000000           70977.250000  \n",
       "max    3.950165e+07     108900.000000          633654.000000  "
      ]
     },
     "execution_count": 3,
     "metadata": {},
     "output_type": "execute_result"
    }
   ],
   "source": [
    "# Descriptive statistics for the dataset\n",
    "df.describe()"
   ]
  },
  {
   "cell_type": "markdown",
   "metadata": {},
   "source": [
    "# Correlation Analysis:\n",
    "\n",
    "Next, we'll compute the correlations between the various economic factors and the number of business applications to identify any strong relationships.​​"
   ]
  },
  {
   "cell_type": "code",
   "execution_count": 6,
   "metadata": {
    "scrolled": true
   },
   "outputs": [
    {
     "ename": "ValueError",
     "evalue": "could not convert string to float: 'Alabama'",
     "output_type": "error",
     "traceback": [
      "\u001b[0;31m---------------------------------------------------------------------------\u001b[0m",
      "\u001b[0;31mValueError\u001b[0m                                Traceback (most recent call last)",
      "Cell \u001b[0;32mIn[6], line 2\u001b[0m\n\u001b[1;32m      1\u001b[0m \u001b[38;5;66;03m# Computing correlations between economic factors and business applications\u001b[39;00m\n\u001b[0;32m----> 2\u001b[0m correlation_matrix \u001b[38;5;241m=\u001b[39m df\u001b[38;5;241m.\u001b[39mcorr() \n\u001b[1;32m      3\u001b[0m correlation_with_business_apps \u001b[38;5;241m=\u001b[39m correlation_matrix[\u001b[38;5;124m'\u001b[39m\u001b[38;5;124mbusiness_applications\u001b[39m\u001b[38;5;124m'\u001b[39m]\u001b[38;5;241m.\u001b[39msort_values(ascending\u001b[38;5;241m=\u001b[39m\u001b[38;5;28;01mFalse\u001b[39;00m)\n\u001b[1;32m      5\u001b[0m correlation_with_business_apps \u001b[38;5;241m=\u001b[39m correlation_with_business_apps\u001b[38;5;241m.\u001b[39mdrop([\u001b[38;5;124m'\u001b[39m\u001b[38;5;124mbusiness_applications\u001b[39m\u001b[38;5;124m'\u001b[39m])\n",
      "File \u001b[0;32m~/anaconda3/lib/python3.11/site-packages/pandas/core/frame.py:10707\u001b[0m, in \u001b[0;36mDataFrame.corr\u001b[0;34m(self, method, min_periods, numeric_only)\u001b[0m\n\u001b[1;32m  10705\u001b[0m cols \u001b[38;5;241m=\u001b[39m data\u001b[38;5;241m.\u001b[39mcolumns\n\u001b[1;32m  10706\u001b[0m idx \u001b[38;5;241m=\u001b[39m cols\u001b[38;5;241m.\u001b[39mcopy()\n\u001b[0;32m> 10707\u001b[0m mat \u001b[38;5;241m=\u001b[39m data\u001b[38;5;241m.\u001b[39mto_numpy(dtype\u001b[38;5;241m=\u001b[39m\u001b[38;5;28mfloat\u001b[39m, na_value\u001b[38;5;241m=\u001b[39mnp\u001b[38;5;241m.\u001b[39mnan, copy\u001b[38;5;241m=\u001b[39m\u001b[38;5;28;01mFalse\u001b[39;00m)\n\u001b[1;32m  10709\u001b[0m \u001b[38;5;28;01mif\u001b[39;00m method \u001b[38;5;241m==\u001b[39m \u001b[38;5;124m\"\u001b[39m\u001b[38;5;124mpearson\u001b[39m\u001b[38;5;124m\"\u001b[39m:\n\u001b[1;32m  10710\u001b[0m     correl \u001b[38;5;241m=\u001b[39m libalgos\u001b[38;5;241m.\u001b[39mnancorr(mat, minp\u001b[38;5;241m=\u001b[39mmin_periods)\n",
      "File \u001b[0;32m~/anaconda3/lib/python3.11/site-packages/pandas/core/frame.py:1892\u001b[0m, in \u001b[0;36mDataFrame.to_numpy\u001b[0;34m(self, dtype, copy, na_value)\u001b[0m\n\u001b[1;32m   1890\u001b[0m \u001b[38;5;28;01mif\u001b[39;00m dtype \u001b[38;5;129;01mis\u001b[39;00m \u001b[38;5;129;01mnot\u001b[39;00m \u001b[38;5;28;01mNone\u001b[39;00m:\n\u001b[1;32m   1891\u001b[0m     dtype \u001b[38;5;241m=\u001b[39m np\u001b[38;5;241m.\u001b[39mdtype(dtype)\n\u001b[0;32m-> 1892\u001b[0m result \u001b[38;5;241m=\u001b[39m \u001b[38;5;28mself\u001b[39m\u001b[38;5;241m.\u001b[39m_mgr\u001b[38;5;241m.\u001b[39mas_array(dtype\u001b[38;5;241m=\u001b[39mdtype, copy\u001b[38;5;241m=\u001b[39mcopy, na_value\u001b[38;5;241m=\u001b[39mna_value)\n\u001b[1;32m   1893\u001b[0m \u001b[38;5;28;01mif\u001b[39;00m result\u001b[38;5;241m.\u001b[39mdtype \u001b[38;5;129;01mis\u001b[39;00m \u001b[38;5;129;01mnot\u001b[39;00m dtype:\n\u001b[1;32m   1894\u001b[0m     result \u001b[38;5;241m=\u001b[39m np\u001b[38;5;241m.\u001b[39marray(result, dtype\u001b[38;5;241m=\u001b[39mdtype, copy\u001b[38;5;241m=\u001b[39m\u001b[38;5;28;01mFalse\u001b[39;00m)\n",
      "File \u001b[0;32m~/anaconda3/lib/python3.11/site-packages/pandas/core/internals/managers.py:1656\u001b[0m, in \u001b[0;36mBlockManager.as_array\u001b[0;34m(self, dtype, copy, na_value)\u001b[0m\n\u001b[1;32m   1654\u001b[0m         arr\u001b[38;5;241m.\u001b[39mflags\u001b[38;5;241m.\u001b[39mwriteable \u001b[38;5;241m=\u001b[39m \u001b[38;5;28;01mFalse\u001b[39;00m\n\u001b[1;32m   1655\u001b[0m \u001b[38;5;28;01melse\u001b[39;00m:\n\u001b[0;32m-> 1656\u001b[0m     arr \u001b[38;5;241m=\u001b[39m \u001b[38;5;28mself\u001b[39m\u001b[38;5;241m.\u001b[39m_interleave(dtype\u001b[38;5;241m=\u001b[39mdtype, na_value\u001b[38;5;241m=\u001b[39mna_value)\n\u001b[1;32m   1657\u001b[0m     \u001b[38;5;66;03m# The underlying data was copied within _interleave, so no need\u001b[39;00m\n\u001b[1;32m   1658\u001b[0m     \u001b[38;5;66;03m# to further copy if copy=True or setting na_value\u001b[39;00m\n\u001b[1;32m   1660\u001b[0m \u001b[38;5;28;01mif\u001b[39;00m na_value \u001b[38;5;129;01mis\u001b[39;00m lib\u001b[38;5;241m.\u001b[39mno_default:\n",
      "File \u001b[0;32m~/anaconda3/lib/python3.11/site-packages/pandas/core/internals/managers.py:1715\u001b[0m, in \u001b[0;36mBlockManager._interleave\u001b[0;34m(self, dtype, na_value)\u001b[0m\n\u001b[1;32m   1713\u001b[0m     \u001b[38;5;28;01melse\u001b[39;00m:\n\u001b[1;32m   1714\u001b[0m         arr \u001b[38;5;241m=\u001b[39m blk\u001b[38;5;241m.\u001b[39mget_values(dtype)\n\u001b[0;32m-> 1715\u001b[0m     result[rl\u001b[38;5;241m.\u001b[39mindexer] \u001b[38;5;241m=\u001b[39m arr\n\u001b[1;32m   1716\u001b[0m     itemmask[rl\u001b[38;5;241m.\u001b[39mindexer] \u001b[38;5;241m=\u001b[39m \u001b[38;5;241m1\u001b[39m\n\u001b[1;32m   1718\u001b[0m \u001b[38;5;28;01mif\u001b[39;00m \u001b[38;5;129;01mnot\u001b[39;00m itemmask\u001b[38;5;241m.\u001b[39mall():\n",
      "\u001b[0;31mValueError\u001b[0m: could not convert string to float: 'Alabama'"
     ]
    }
   ],
   "source": [
    "# Computing correlations between economic factors and business applications\n",
    "correlation_matrix = df.corr() \n",
    "correlation_with_business_apps = correlation_matrix['business_applications'].sort_values(ascending=False)\n",
    "\n",
    "correlation_with_business_apps = correlation_with_business_apps.drop(['business_applications'])"
   ]
  },
  {
   "cell_type": "code",
   "execution_count": null,
   "metadata": {},
   "outputs": [],
   "source": [
    "# Visualizing correlations with business applications\n",
    "plt.figure(figsize=(10, len(correlation_with_business_apps) * 0.5)) \n",
    "\n",
    "\n",
    "sns.barplot(x=correlation_with_business_apps, y=correlation_with_business_apps.index, palette='coolwarm')\n",
    "\n",
    "\n",
    "plt.title(\"Correlations with Business Applications\")\n",
    "plt.xlabel(\"Correlation Coefficient\")\n",
    "plt.ylabel(\"Features\")\n",
    "\n",
    "\n",
    "plt.show()"
   ]
  },
  {
   "cell_type": "markdown",
   "metadata": {},
   "source": [
    "1. Population (0.889): There's a strong positive correlation with business applications. This indicates that as the population in a state increases, there's a tendency for the number of business applications to also increase. A larger population can provide a larger customer base and labor availability which is attractive to a new business \n",
    "  \n",
    "2. GDP (0.885): A strong positive correlation with business applications suggests that states with higher GDPs might have a conducive environment for new businesses, leading to more applications. A growing economy tends to attract more entrepreneurs and investors who start new businesses\n",
    "  \n",
    "3. Year (0.177): A weak positive correlation, indicating that over the years, there has been a slight increase in business applications.\n",
    "\n",
    "4. Minimum Wage (0.169): A weak positive correlation suggests that an increase in minimum wage might slightly favor more business applications, but the relationship isn't strong.  \n",
    "  \n",
    "5. Median Household Income (0.006): Very weak negative correlation, suggesting that the median household income doesn't significantly influence business applications.  \n",
    "  \n",
    "6. Unemployment Rate (0.007): Very weak negative correlation. Typically, one might expect a higher unemployment rate to deter business applications, but the relationship isn't strong in our data.  \n",
    "  \n",
    "7. Tax Rate (-0.04): A weak negative correlation, indicating that as the tax rate increases, there might be a slight decrease in business applications."
   ]
  },
  {
   "cell_type": "markdown",
   "metadata": {},
   "source": [
    "## Identifying Best Model"
   ]
  },
  {
   "cell_type": "code",
   "execution_count": 8,
   "metadata": {},
   "outputs": [],
   "source": [
    "import statsmodels.api as sm\n",
    "from sklearn.metrics import mean_squared_error, mean_absolute_error, r2_score"
   ]
  },
  {
   "cell_type": "code",
   "execution_count": 9,
   "metadata": {},
   "outputs": [
    {
     "name": "stdout",
     "output_type": "stream",
     "text": [
      "['tax_rate', 'gdp', 'min_wage', 'unemployment_rate', 'population', 'median_hh_income']\n"
     ]
    }
   ],
   "source": [
    "features = list(df.columns)\n",
    "\n",
    "del features[0] #deleting 'State'\n",
    "del features[0] #deleting 'year'\n",
    "del features[-1] #deleting 'business_applications'\n",
    "\n",
    "print(features)"
   ]
  },
  {
   "cell_type": "code",
   "execution_count": 10,
   "metadata": {
    "scrolled": true
   },
   "outputs": [
    {
     "name": "stdout",
     "output_type": "stream",
     "text": [
      "const                1.220794e-01\n",
      "population           3.084093e-22\n",
      "gdp                  1.006366e-05\n",
      "min_wage             2.695835e-04\n",
      "unemployment_rate    1.746466e-05\n",
      "median_hh_income     8.700554e-02\n",
      "tax_rate             2.821509e-04\n",
      "dtype: float64\n"
     ]
    }
   ],
   "source": [
    "#splitting our dependent and independent variables\n",
    "X = df[['population', 'gdp', 'min_wage', 'unemployment_rate', 'median_hh_income', 'tax_rate']]\n",
    "y = df['business_applications']\n",
    "\n",
    "# Adding a constant to the independent variables matrix (required for statsmodels regression model)\n",
    "X2 = sm.add_constant(X)\n",
    "\n",
    "# Fit the regression model using statsmodels\n",
    "model = sm.OLS(y, X2).fit()\n",
    "full_y_pred = model.predict(X2)\n",
    "\n",
    "# Calculate residuals for plotting\n",
    "residuals = model.resid\n",
    "\n",
    "# Extract p-values\n",
    "print(model.pvalues)"
   ]
  },
  {
   "cell_type": "code",
   "execution_count": 11,
   "metadata": {},
   "outputs": [
    {
     "name": "stdout",
     "output_type": "stream",
     "text": [
      "tax_rate: -1614.5871104800099\n",
      "gdp: 5.063041074914285e-08\n",
      "min_wage: 2981.1786844711532\n",
      "unemployment_rate: -2511.000957718506\n",
      "population: 0.007132876264227306\n",
      "median_hh_income: -0.20304515366455772\n"
     ]
    }
   ],
   "source": [
    "#Printing the regression coefficients \n",
    "for i, feature in enumerate(features):\n",
    "    print(f'{feature}: {model.params[feature]}')"
   ]
  },
  {
   "cell_type": "code",
   "execution_count": 12,
   "metadata": {},
   "outputs": [
    {
     "name": "stdout",
     "output_type": "stream",
     "text": [
      "RMSE: 34618.35374124977, MAE: 17061.25963769586, R-squared value: 0.8115583942373996\n"
     ]
    }
   ],
   "source": [
    "# Calculate performance metrics\n",
    "full_rmse = np.sqrt(mean_squared_error(y, full_y_pred))\n",
    "full_mae = mean_absolute_error(y, full_y_pred)\n",
    "full_r2 = r2_score(y, full_y_pred)\n",
    "\n",
    "#Printing RMSE, MAE and R-squared value\n",
    "print(f'RMSE: {full_rmse}, MAE: {full_mae}, R-squared value: {full_r2}')"
   ]
  },
  {
   "cell_type": "markdown",
   "metadata": {},
   "source": [
    "- The results of our regression analysis show several interesting effects on our dependent variable, the number of business applications. All values except for the median household income have a statistically significant effect on the number of business applications per state.  \n",
    "\n",
    "- The R-squared ($R^2$) value of our model is 0.81, which means that 81% of the variation in the number of business applications can be explained by the independent variables in our model.  \n",
    "\n",
    "- The Root Mean Squared Error (RMSE) of our model is 34,618.35, which implies a difference of about 34,618 business applications between the actual and predicted values. This is a large difference, suggesting that there may be more accurate models for predicting the number of business applications.  \n",
    "\n",
    "- The Mean Absolute Error, being significantly smaller than the RMSE value, suggests that the model is influenced by outliers in the data. This is coherent with the wide spread of number of business applications across the US. States like California and Texas have a much higher number of business applications than the other states, which may be skewing the model."
   ]
  },
  {
   "cell_type": "code",
   "execution_count": 13,
   "metadata": {
    "scrolled": false
   },
   "outputs": [
    {
     "name": "stderr",
     "output_type": "stream",
     "text": [
      "/Users/anoushkaberry/anaconda3/lib/python3.11/site-packages/seaborn/_oldcore.py:1498: FutureWarning: is_categorical_dtype is deprecated and will be removed in a future version. Use isinstance(dtype, CategoricalDtype) instead\n",
      "  if pd.api.types.is_categorical_dtype(vector):\n",
      "/Users/anoushkaberry/anaconda3/lib/python3.11/site-packages/seaborn/_oldcore.py:1498: FutureWarning: is_categorical_dtype is deprecated and will be removed in a future version. Use isinstance(dtype, CategoricalDtype) instead\n",
      "  if pd.api.types.is_categorical_dtype(vector):\n",
      "/Users/anoushkaberry/anaconda3/lib/python3.11/site-packages/seaborn/_oldcore.py:1498: FutureWarning: is_categorical_dtype is deprecated and will be removed in a future version. Use isinstance(dtype, CategoricalDtype) instead\n",
      "  if pd.api.types.is_categorical_dtype(vector):\n",
      "/Users/anoushkaberry/anaconda3/lib/python3.11/site-packages/seaborn/_oldcore.py:1119: FutureWarning: use_inf_as_na option is deprecated and will be removed in a future version. Convert inf values to NaN before operating instead.\n",
      "  with pd.option_context('mode.use_inf_as_na', True):\n"
     ]
    },
    {
     "data": {
      "image/png": "[encoded data removed]",
      "text/plain": [
       "<Figure size 1000x1000 with 2 Axes>"
      ]
     },
     "metadata": {},
     "output_type": "display_data"
    }
   ],
   "source": [
    "# Plotting residuals\n",
    "# Set up the figure and axes\n",
    "fig, axs = plt.subplots(nrows=2, ncols=1, figsize=(10, 10))\n",
    "\n",
    "# Residuals vs Fitted values plot\n",
    "sns.scatterplot(x=full_y_pred, y=residuals, ax=axs[0], alpha=0.5)\n",
    "axs[0].axhline(y=0, color='red', linestyle='--')\n",
    "axs[0].set_title('Residuals vs. Fitted values')\n",
    "axs[0].set_xlabel('Fitted values')\n",
    "axs[0].set_ylabel('Residuals')\n",
    "\n",
    "# Histogram of residuals\n",
    "sns.histplot(residuals, ax=axs[1], kde=True, bins=30)\n",
    "axs[1].set_title('Histogram of Residuals')\n",
    "axs[1].set_xlabel('Residuals')\n",
    "axs[1].set_ylabel('Frequency')\n",
    "\n",
    "plt.tight_layout()\n",
    "plt.show()"
   ]
  },
  {
   "cell_type": "code",
   "execution_count": 14,
   "metadata": {},
   "outputs": [
    {
     "data": {
      "image/png": "[encoded data removed]",
      "text/plain": [
       "<Figure size 640x480 with 1 Axes>"
      ]
     },
     "metadata": {},
     "output_type": "display_data"
    }
   ],
   "source": [
    "#Q-Q plot\n",
    "\n",
    "sm.qqplot(residuals, line='45', fit=True)\n",
    "plt.show()"
   ]
  },
  {
   "cell_type": "code",
   "execution_count": 15,
   "metadata": {},
   "outputs": [
    {
     "name": "stdout",
     "output_type": "stream",
     "text": [
      "{'LM Statistic': 100.62398088769704, 'LM p-Value': 1.8593143490055297e-19, 'F-statistic': 18.69161080605369, 'F-test p-value': 1.403789836883332e-20}\n"
     ]
    }
   ],
   "source": [
    "#Breusch-Pagan Test\n",
    "from statsmodels.stats.diagnostic import het_breuschpagan\n",
    "\n",
    "bp_test = het_breuschpagan(residuals, X2)\n",
    "labels = ['LM Statistic', 'LM p-Value', 'F-statistic', 'F-test p-value']\n",
    "print(dict(zip(labels, bp_test)))"
   ]
  },
  {
   "cell_type": "code",
   "execution_count": 16,
   "metadata": {},
   "outputs": [
    {
     "name": "stdout",
     "output_type": "stream",
     "text": [
      "0.2942941248635922\n"
     ]
    }
   ],
   "source": [
    "#Durbin-Watson Test\n",
    "from statsmodels.stats.stattools import durbin_watson\n",
    "\n",
    "dw_test = durbin_watson(residuals)\n",
    "print(dw_test)"
   ]
  },
  {
   "cell_type": "markdown",
   "metadata": {},
   "source": [
    "- Linearity: A residual analysis of our regression model shows that there is a significant number of outliers with a large distance to the regression line. This is likely due to the outliers in the data, which are skewing the model. This is inline with our analysis of the RMSE and MAE values.\n",
    "- Normality: The normality assumption states that errors are around 0. The QQ plot indicates no normality \n",
    "- Homoscedasticity: The Breusch-Pagan test results and the residuals vs. fitted plot shows homoscedasticity\n",
    "- Autocorrelation: The result from the Durbin Watson test shows positive autocorrelation in the residuals"
   ]
  },
  {
   "cell_type": "markdown",
   "metadata": {},
   "source": [
    "# Retraining Linear Regression Model with split data and training random forest model"
   ]
  },
  {
   "cell_type": "code",
   "execution_count": 17,
   "metadata": {},
   "outputs": [],
   "source": [
    "from sklearn.model_selection import train_test_split\n",
    "from sklearn.linear_model import LinearRegression\n",
    "from sklearn.ensemble import RandomForestRegressor"
   ]
  },
  {
   "cell_type": "code",
   "execution_count": 18,
   "metadata": {},
   "outputs": [],
   "source": [
    "\n",
    "# Splitting data into dependet and independent variables for further testing\n",
    "X = df.drop(columns=['State', 'business_applications', 'year'])\n",
    "y = df['business_applications']\n",
    "\n",
    "# Splitting the data into training and testing sets (80% train, 20% test)\n",
    "X_train, X_test, y_train, y_test = train_test_split(X, y, test_size=0.2, random_state=42)\n",
    "\n",
    "# Linear Regression Model with training data\n",
    "lr_model = LinearRegression()\n",
    "lr_model.fit(X_train, y_train)\n",
    "\n",
    "# Training the Random Forest model\n",
    "rf_model = RandomForestRegressor(n_estimators=100, random_state=42)\n",
    "rf_model.fit(X_train, y_train)\n",
    "\n",
    "# Directly compute performance metrics for lr_model\n",
    "lr_predictions = lr_model.predict(X_test)\n",
    "lr_rmse = mean_squared_error(y_test, lr_predictions, squared=False)\n",
    "lr_mae = mean_absolute_error(y_test, lr_predictions)\n",
    "lr_r2 = r2_score(y_test, lr_predictions)\n",
    "\n",
    "# Directly compute performance metrics for rf_model\n",
    "rf_predictions = rf_model.predict(X_test)\n",
    "rf_rmse = mean_squared_error(y_test, rf_predictions, squared=False)\n",
    "rf_mae = mean_absolute_error(y_test, rf_predictions)\n",
    "rf_r2 = r2_score(y_test, rf_predictions)\n"
   ]
  },
  {
   "cell_type": "code",
   "execution_count": 19,
   "metadata": {
    "scrolled": true
   },
   "outputs": [
    {
     "name": "stdout",
     "output_type": "stream",
     "text": [
      "Random Forest: RMSE: 14459.304830659235, MAE: 7099.44972826087, R-squared value: 0.9646597861986456\n",
      "Linear Regression: RMSE: 27181.346493195022, MAE: 16090.85240073541, R-squared value: 0.8751132744410776\n"
     ]
    }
   ],
   "source": [
    "#Comparing Linear Regression and Random Forest Regression\n",
    "print(f'Random Forest: RMSE: {rf_rmse}, MAE: {rf_mae}, R-squared value: {rf_r2}')\n",
    "print(f'Linear Regression: RMSE: {lr_rmse}, MAE: {lr_mae}, R-squared value: {lr_r2}')"
   ]
  },
  {
   "cell_type": "markdown",
   "metadata": {},
   "source": [
    "- When comparing our linear regression model with the random forest model, we can see that the random forest model has a lower RMSE and MAE value. This suggests that the random forest model is more accurate than the linear regression model. Furthermore, the $R^2$ Value of 0.96 suggests that 96% of the variation in the number of business applications can be explained by the independent variables in our model. This is a significant improvement over our initial linear regression model, which had an $R^2$ value of 0.81.\n",
    "  \n",
    "Based on the comparison metrics (RMSE, MAE, and $R^2$), the Random Forest model outperforms the Linear Regression model for this dataset. The Random Forest model not only provides more accurate predictions (as indicated by lower RMSE and MAE values) but also captures a higher proportion of the variance in the data (as reflected by the higher $R^2$ value). To confirm this conclusion, we will delve into the crossvalidation of our models."
   ]
  },
  {
   "cell_type": "markdown",
   "metadata": {},
   "source": [
    "## Cross Validation of Random Forest Model and Linear Reggression"
   ]
  },
  {
   "cell_type": "code",
   "execution_count": 20,
   "metadata": {},
   "outputs": [],
   "source": [
    "from sklearn.model_selection import cross_val_score, KFold\n",
    "from sklearn.metrics import make_scorer"
   ]
  },
  {
   "cell_type": "code",
   "execution_count": 21,
   "metadata": {
    "scrolled": true
   },
   "outputs": [
    {
     "data": {
      "text/html": [
       "<div>\n",
       "<style scoped>\n",
       "    .dataframe tbody tr th:only-of-type {\n",
       "        vertical-align: middle;\n",
       "    }\n",
       "\n",
       "    .dataframe tbody tr th {\n",
       "        vertical-align: top;\n",
       "    }\n",
       "\n",
       "    .dataframe thead th {\n",
       "        text-align: right;\n",
       "    }\n",
       "</style>\n",
       "<table border=\"1\" class=\"dataframe\">\n",
       "  <thead>\n",
       "    <tr style=\"text-align: right;\">\n",
       "      <th></th>\n",
       "      <th>Model</th>\n",
       "      <th>R2 Mean</th>\n",
       "      <th>MAE Mean</th>\n",
       "      <th>RMSE Mean</th>\n",
       "    </tr>\n",
       "  </thead>\n",
       "  <tbody>\n",
       "    <tr>\n",
       "      <th>0</th>\n",
       "      <td>Linear Regression</td>\n",
       "      <td>0.812782</td>\n",
       "      <td>17357.917062</td>\n",
       "      <td>32896.349297</td>\n",
       "    </tr>\n",
       "    <tr>\n",
       "      <th>1</th>\n",
       "      <td>Random Forest</td>\n",
       "      <td>0.933572</td>\n",
       "      <td>8034.819393</td>\n",
       "      <td>19763.436199</td>\n",
       "    </tr>\n",
       "  </tbody>\n",
       "</table>\n",
       "</div>"
      ],
      "text/plain": [
       "               Model   R2 Mean      MAE Mean     RMSE Mean\n",
       "0  Linear Regression  0.812782  17357.917062  32896.349297\n",
       "1      Random Forest  0.933572   8034.819393  19763.436199"
      ]
     },
     "execution_count": 21,
     "metadata": {},
     "output_type": "execute_result"
    }
   ],
   "source": [
    "cv = KFold(n_splits=10, shuffle=True, random_state=42)\n",
    "rmse_scorer = make_scorer(mean_squared_error, squared=False)\n",
    "\n",
    "# Get the cross-validation scores for a model\n",
    "def get_cv_scores(model, X, y, cv):\n",
    "    r2_scores = cross_val_score(model, X, y, cv=cv, scoring='r2')\n",
    "    mae_scores = -cross_val_score(model, X, y, cv=cv, scoring='neg_mean_absolute_error')\n",
    "    rmse_scores = cross_val_score(model, X, y, cv=cv, scoring=rmse_scorer)\n",
    "    \n",
    "    return r2_scores, mae_scores, rmse_scores\n",
    "\n",
    "# Get cross-validation scores for each model\n",
    "lr_r2_scores, lr_mae_scores, lr_rmse_scores = get_cv_scores(lr_model, X, y, cv)\n",
    "rf_r2_scores, rf_mae_scores, rf_rmse_scores = get_cv_scores(rf_model, X, y, cv)\n",
    "\n",
    "# Create a DataFrame to store the mean and std deviation of the scores\n",
    "cv_results_df = pd.DataFrame({\n",
    "    \"Model\": [\"Linear Regression\", \"Random Forest\"],\n",
    "    \"R2 Mean\": [lr_r2_scores.mean(), rf_r2_scores.mean()],\n",
    "    \"MAE Mean\": [lr_mae_scores.mean(), rf_mae_scores.mean()],\n",
    "    \"RMSE Mean\": [lr_rmse_scores.mean(), rf_rmse_scores.mean()],\n",
    "})\n",
    "\n",
    "cv_results_df"
   ]
  },
  {
   "cell_type": "markdown",
   "metadata": {},
   "source": [
    "- We performed a 10-fold cross-validation on both the linear regression and the random forest model. The results show that the random forest model has lower RMSE and MAE means than the linear regression model across the 10-fold cross-valdidation procedure. This confirms our conclusion, that the random forest model is a better fit for our model. \n",
    "- Given these results we will proceed with our analysis using the Random Forest model."
   ]
  },
  {
   "cell_type": "markdown",
   "metadata": {},
   "source": [
    "# Random Forest Performance Evaluation and Improvement"
   ]
  },
  {
   "cell_type": "markdown",
   "metadata": {},
   "source": [
    "## Comparing Performance on Training and Validation Data"
   ]
  },
  {
   "cell_type": "code",
   "execution_count": 22,
   "metadata": {},
   "outputs": [
    {
     "data": {
      "text/html": [
       "<div>\n",
       "<style scoped>\n",
       "    .dataframe tbody tr th:only-of-type {\n",
       "        vertical-align: middle;\n",
       "    }\n",
       "\n",
       "    .dataframe tbody tr th {\n",
       "        vertical-align: top;\n",
       "    }\n",
       "\n",
       "    .dataframe thead th {\n",
       "        text-align: right;\n",
       "    }\n",
       "</style>\n",
       "<table border=\"1\" class=\"dataframe\">\n",
       "  <thead>\n",
       "    <tr style=\"text-align: right;\">\n",
       "      <th></th>\n",
       "      <th>Metric</th>\n",
       "      <th>Training Data</th>\n",
       "      <th>Test Data</th>\n",
       "    </tr>\n",
       "  </thead>\n",
       "  <tbody>\n",
       "    <tr>\n",
       "      <th>0</th>\n",
       "      <td>Mean Absolute Error (MAE)</td>\n",
       "      <td>3,101.87</td>\n",
       "      <td>7,099.45</td>\n",
       "    </tr>\n",
       "    <tr>\n",
       "      <th>1</th>\n",
       "      <td>Root Mean Squared Error (RMSE)</td>\n",
       "      <td>8,569.96</td>\n",
       "      <td>14,459.30</td>\n",
       "    </tr>\n",
       "    <tr>\n",
       "      <th>2</th>\n",
       "      <td>R-squared (R2)</td>\n",
       "      <td>0.99</td>\n",
       "      <td>0.96</td>\n",
       "    </tr>\n",
       "  </tbody>\n",
       "</table>\n",
       "</div>"
      ],
      "text/plain": [
       "                           Metric  Training Data  Test Data\n",
       "0       Mean Absolute Error (MAE)       3,101.87   7,099.45\n",
       "1  Root Mean Squared Error (RMSE)       8,569.96  14,459.30\n",
       "2                  R-squared (R2)           0.99       0.96"
      ]
     },
     "execution_count": 22,
     "metadata": {},
     "output_type": "execute_result"
    }
   ],
   "source": [
    "# Predictions on training and test sets\n",
    "y_train_pred_rf = rf_model.predict(X_train)\n",
    "y_test_pred_rf = rf_model.predict(X_test)\n",
    "\n",
    "# Calculating performance metrics for training data\n",
    "mae_train = mean_absolute_error(y_train, y_train_pred_rf)\n",
    "mse_train = mean_squared_error(y_train, y_train_pred_rf)\n",
    "rmse_train = mean_squared_error(y_train, y_train_pred_rf, squared=False)\n",
    "r2_train = r2_score(y_train, y_train_pred_rf)\n",
    "\n",
    "# Calculating performance metrics for test data\n",
    "mae_test = mean_absolute_error(y_test, y_test_pred_rf)\n",
    "mse_test = mean_squared_error(y_test, y_test_pred_rf)\n",
    "rmse_test = mean_squared_error(y_test, y_test_pred_rf, squared=False)\n",
    "r2_test = r2_score(y_test, y_test_pred_rf)\n",
    "\n",
    "# Creating a DataFrame to display the performance metrics\n",
    "performance_metrics = pd.DataFrame({\n",
    "    'Metric': ['Mean Absolute Error (MAE)', 'Root Mean Squared Error (RMSE)', 'R-squared (R2)'],\n",
    "    'Training Data': [mae_train, rmse_train, r2_train],\n",
    "    'Test Data': [mae_test, rmse_test, r2_test]\n",
    "})\n",
    "\n",
    "# Setting display option to format the output in a non-scientific number format\n",
    "pd.options.display.float_format = '{:,.2f}'.format\n",
    "\n",
    "performance_metrics\n"
   ]
  },
  {
   "cell_type": "markdown",
   "metadata": {},
   "source": [
    "The Random Forest Model appears to have a strong fit to the training data, as evidenced by the high R2 and low error metrics. However, its performance drops somewhat on the test data, with all error metrics increasing. This suggests that while the model is generally effective, it might be overfitting to the training data and could potentially benefit from Hyperparameter Tuning. Despite this, the R2 value for the test data is still very high, indicating that the model is capturing a significant portion of the variability in the target variable."
   ]
  },
  {
   "cell_type": "markdown",
   "metadata": {},
   "source": [
    "## Learning Curves for Random Forest Model: \n",
    "- Assess the performance of the model as the size of the training set increases.\n",
    "- Identify if the model suffers from overfitting or underfitting.\n",
    "- Determine the training set size required to build a good model."
   ]
  },
  {
   "cell_type": "code",
   "execution_count": 23,
   "metadata": {},
   "outputs": [],
   "source": [
    "from sklearn.model_selection import learning_curve"
   ]
  },
  {
   "cell_type": "code",
   "execution_count": 24,
   "metadata": {},
   "outputs": [
    {
     "data": {
      "image/png": "[encoded data removed]",
      "text/plain": [
       "<Figure size 1200x600 with 1 Axes>"
      ]
     },
     "metadata": {},
     "output_type": "display_data"
    }
   ],
   "source": [
    "# Generating learning curves\n",
    "train_sizes, train_scores, test_scores = learning_curve(rf_model, X, y, cv=10, scoring=\"neg_mean_squared_error\", \n",
    "                                                        train_sizes=np.linspace(0.1, 1.0, 5))\n",
    "\n",
    "# Calculating mean and standard deviation for training and test sets\n",
    "train_scores_mean = np.mean(np.sqrt(-train_scores), axis=1)\n",
    "train_scores_std = np.std(np.sqrt(-train_scores), axis=1)\n",
    "test_scores_mean = np.mean(np.sqrt(-test_scores), axis=1)\n",
    "test_scores_std = np.std(np.sqrt(-test_scores), axis=1)\n",
    "\n",
    "# Plotting learning curves\n",
    "plt.figure(figsize=(12, 6))\n",
    "plt.fill_between(train_sizes, train_scores_mean - train_scores_std, train_scores_mean + train_scores_std, alpha=0.1, color=\"r\")\n",
    "plt.fill_between(train_sizes, test_scores_mean - test_scores_std, test_scores_mean + test_scores_std, alpha=0.1, color=\"g\")\n",
    "plt.plot(train_sizes, train_scores_mean, 'o-', color=\"r\", label=\"Training score\")\n",
    "plt.plot(train_sizes, test_scores_mean, 'o-', color=\"g\", label=\"Cross-validation score\")\n",
    "plt.title(\"Learning Curves (Random Forest)\")\n",
    "plt.xlabel(\"Training examples\")\n",
    "plt.ylabel(\"RMSE\")\n",
    "plt.legend(loc=\"best\")\n",
    "plt.grid()\n",
    "plt.tight_layout()\n",
    "plt.show()\n"
   ]
  },
  {
   "cell_type": "markdown",
   "metadata": {},
   "source": [
    "\n",
    "- The Training Score (Red) starts very low, indicating a low error when the model is trained on a small subset of data. As more training examples are added, the error (RMSE) increases slightly and then decreases again. This indicates that the model is able to learn from the data and improve its performance.\n",
    "- Cross-validation Score (Green): Starts relatively high, indicating a higher error when the model is validated on a small subset of data. As more training examples are used, the validation error decreases and starts converging towards the training score.\n",
    "  \n",
    "- The gap between the training and validation scores narrows as more data is added, indicating that adding more data might help the model generalize better.\n",
    "\n",
    "- The model shows signs of overfitting when trained on a smaller dataset, as indicated by the significant gap between training and validation errors. As more data is added, the model starts to generalize better, reducing the gap.\n",
    "\n",
    "- The curves start to converge, suggesting that adding even more data might continue to benefit the model's performance on unseen data.\n",
    "\n",
    "In summary, our Random Forest model demonstrates good performance. The convergence of the training score and cross-validation score towards the end suggest that the model generalises well for unseen data. "
   ]
  },
  {
   "cell_type": "markdown",
   "metadata": {},
   "source": [
    "## Model Improvement: Hyperparameter Tuning\n",
    "- To further improve model performance, we chose to utilise hyperparameter tuning using GridSearch."
   ]
  },
  {
   "cell_type": "code",
   "execution_count": 27,
   "metadata": {},
   "outputs": [],
   "source": [
    "from sklearn.model_selection import GridSearchCV"
   ]
  },
  {
   "cell_type": "code",
   "execution_count": null,
   "metadata": {},
   "outputs": [
    {
     "name": "stdout",
     "output_type": "stream",
     "text": [
      "Fitting 5 folds for each of 405 candidates, totalling 2025 fits\n"
     ]
    }
   ],
   "source": [
    "# Split the Data\n",
    "X = df.drop(columns=['State', 'business_applications', 'year'])\n",
    "y = df['business_applications']\n",
    "X_train, X_test, y_train, y_test = train_test_split(X, y, test_size=0.2, random_state=42)\n",
    "\n",
    "# Define a grid of hyperparameters\n",
    "param_grid = {\n",
    "    'n_estimators': [50, 100, 200, 300, 400],\n",
    "    'max_depth': [None, 20, 40],\n",
    "    'min_samples_split': [2, 5, 10],\n",
    "    'min_samples_leaf': [1, 2, 4],\n",
    "    'max_features': [None, 'sqrt', 'log2']\n",
    "}\n",
    "\n",
    "# Define the model to use for hyperparameter tuning\n",
    "grid_search_rf = GridSearchCV(rf_model, param_grid=param_grid, cv=5, scoring='neg_mean_squared_error', verbose=1, n_jobs=-1)\n",
    "\n",
    "# Train model on every combination of hyperparameters\n",
    "grid_search_rf.fit(X_train, y_train)\n",
    "\n",
    "# Extract the best model\n",
    "best_rf = grid_search_rf.best_estimator_\n",
    "\n",
    "# Evaluate the best model\n",
    "y_pred = best_rf.predict(X_test)\n",
    "rmse = np.sqrt(mean_squared_error(y_test, y_pred))\n",
    "mae = mean_absolute_error(y_test, y_pred)\n",
    "r2 = r2_score(y_test, y_pred)\n",
    "\n",
    "performance_metrics = pd.DataFrame({\n",
    "    'Metric': ['RMSE', 'MAE', 'R-squared'],\n",
    "    'Value': [rmse, mae, r2]\n",
    "})\n",
    "\n",
    "# Extracting the optimal hyperparameters and best score from the grid search\n",
    "optimal_hyperparameters = grid_search_rf.best_params_\n",
    "best_score = grid_search_rf.best_score_\n",
    "\n",
    "# Creating a DataFrame to display the results\n",
    "df_optimal_metrics = pd.DataFrame({\n",
    "    'Hyperparameter': optimal_hyperparameters.keys(),\n",
    "    'Optimal Value': optimal_hyperparameters.values()\n",
    "})\n",
    "\n",
    "# Appending the best score to the DataFrame\n",
    "df_optimal_metrics = df_optimal_metrics.append({\n",
    "    'Hyperparameter': 'Best Score (Negative MSE)',\n",
    "    'Optimal Value': best_score\n",
    "}, ignore_index=True)\n",
    "\n",
    "print(df_optimal_metrics)\n",
    "\n",
    "print(performance_metrics)\n"
   ]
  },
  {
   "cell_type": "markdown",
   "metadata": {},
   "source": [
    "- The results of our hyperparameter tuning indicate on optimal max depth of our random forest of 20. This is a significant increase from the default max depth of 10.  \n",
    "\n",
    "- The optimal number of estimators is 300 which is a significant increase from the default of 100. \n",
    "\n",
    "- Our refined model exhibits an increase in performance through lower RMSE and MAE vales aswell as an increased R^2 value."
   ]
  },
  {
   "cell_type": "markdown",
   "metadata": {},
   "source": [
    "## Model Comparison"
   ]
  },
  {
   "cell_type": "code",
   "execution_count": null,
   "metadata": {},
   "outputs": [],
   "source": [
    "# Predict using the old model\n",
    "y_pred_old = rf_model.predict(X_test)\n",
    "\n",
    "# Predict using the best model from grid search\n",
    "y_pred_new = best_rf.predict(X_test)\n",
    "\n",
    "# Performance metrics for the old model\n",
    "rmse_old = np.sqrt(mean_squared_error(y_test, y_pred_old))\n",
    "mae_old = mean_absolute_error(y_test, y_pred_old)\n",
    "r2_old = r2_score(y_test, y_pred_old)\n",
    "\n",
    "# Performance metrics for the new model\n",
    "rmse_new = np.sqrt(mean_squared_error(y_test, y_pred_new))\n",
    "mae_new = mean_absolute_error(y_test, y_pred_new)\n",
    "r2_new = r2_score(y_test, y_pred_new)\n",
    "\n",
    "# Compile metrics into a DataFrame for comparison\n",
    "comparison_df = pd.DataFrame({\n",
    "    'Metric': ['RMSE', 'MAE', 'R-squared'],\n",
    "    'Old Model': [rmse_old, mae_old, r2_old],\n",
    "    'New Model': [rmse_new, mae_new, r2_new]\n",
    "})\n",
    "\n",
    "print(comparison_df)\n"
   ]
  },
  {
   "cell_type": "markdown",
   "metadata": {},
   "source": [
    "When comparing the new model to the old model, the new model has lower RMSE and MAE values and a higher R2 value. These metrics indicated that the model is performin better than the previous model. Thus, hyperparameter tuning has improved the model's performance which now explains 97% of the variance in the data."
   ]
  },
  {
   "cell_type": "markdown",
   "metadata": {},
   "source": [
    "# Feature Importance with Random Forest"
   ]
  },
  {
   "cell_type": "code",
   "execution_count": null,
   "metadata": {},
   "outputs": [],
   "source": [
    "# Extracting feature importances from the updated Random Forest model\n",
    "feature_importances = best_rf.feature_importances_\n",
    "\n",
    "# Combining feature names and their importance scores\n",
    "features_df = pd.DataFrame({\n",
    "    'Feature': features,\n",
    "    'Importance': feature_importances\n",
    "})\n",
    "\n",
    "# Sorting the features based on importance\n",
    "features_df = features_df.sort_values(by='Importance', ascending=False)\n",
    "\n",
    "# Plotting the feature importances\n",
    "plt.figure(figsize=(10, 6))\n",
    "sns.barplot(x='Importance', y='Feature', data=features_df, palette=\"viridis\")\n",
    "plt.title('Feature Importance from Hyperparameter Tuned Random Forest')\n",
    "plt.xlabel('Importance Score')\n",
    "plt.ylabel('Features')\n",
    "plt.show()\n"
   ]
  },
  {
   "cell_type": "markdown",
   "metadata": {},
   "source": [
    "1. GDP: Unsurprisingly, the Gross Domestic Product (GDP) of a state plays the most significant role. A higher GDP often indicates a stronger economy, which can attract more businesses.\n",
    "\n",
    "2. Population: The population of a state is the next most important factor. States with larger populations may offer more market opportunities, attracting more businesses.\n",
    "\n",
    "3. Median Household Income: States with higher median household incomes may indicate a more affluent customer base, potentially drawing more business applications.\n",
    "\n",
    "4. Tax Rate: Interestingly, the tax rate is relatively less important, suggesting that while taxes matter, they might not be the primary consideration for businesses.\n",
    "\n",
    "5. Unemployment Rate: The unemployment rate has a moderate importance. A lower unemployment rate could signal a healthy economy, which may be attractive to businesses.\n",
    "\n",
    "6. Minimum Wage: The minimum wage is the least influential among the factors considered. It might be because businesses consider a range of labor and operational costs, not just the minimum wage."
   ]
  },
  {
   "cell_type": "markdown",
   "metadata": {},
   "source": [
    "# Testing Model Robustness\n"
   ]
  },
  {
   "cell_type": "markdown",
   "metadata": {},
   "source": [
    "## Cross Validation"
   ]
  },
  {
   "cell_type": "code",
   "execution_count": null,
   "metadata": {},
   "outputs": [],
   "source": [
    "# Get cross-validation scores for the best_rf model\n",
    "rf_r2_scores, rf_mae_scores, rf_rmse_scores = get_cv_scores(best_rf, X, y, cv)\n",
    "\n",
    "# Create a DataFrame to store the mean and std deviation of the scores for best_rf\n",
    "updated_rd_results = pd.DataFrame({\n",
    "    \"Model\": [\"Random Forest (Best RF)\"],\n",
    "    \"R2 Mean\": [rf_r2_scores.mean()],\n",
    "    \"MAE Mean\": [rf_mae_scores.mean()],\n",
    "    \"RMSE Mean\": [rf_rmse_scores.mean()],\n",
    "})\n",
    "\n",
    "updated_rd_results\n"
   ]
  },
  {
   "cell_type": "markdown",
   "metadata": {},
   "source": [
    "This discrepancy between the initial $R^2$ (from the train-test split) and the cross-validation $R^2$ suggests that our model might have overfit to the initial training set or that there might be some state-specific patterns that the model is not capturing well when validated on different data splits."
   ]
  },
  {
   "cell_type": "markdown",
   "metadata": {},
   "source": [
    "## Residual Analysis"
   ]
  },
  {
   "cell_type": "code",
   "execution_count": null,
   "metadata": {},
   "outputs": [],
   "source": [
    "# Predictions on the test set using Random Forest\n",
    "y_pred_rf = best_rf.predict(X_test)\n",
    "\n",
    "# Calculating residuals\n",
    "residuals_rf = y_test - y_pred_rf\n",
    "\n",
    "# Plotting residuals distribution and scatter plot of actual vs predicted values\n",
    "plt.figure(figsize=(14, 5))\n",
    "\n",
    "# Distribution of Residuals\n",
    "plt.subplot(1, 2, 1)\n",
    "sns.histplot(residuals_rf, bins=30, kde=True)\n",
    "plt.title('Distribution of Residuals (Random Forest)')\n",
    "plt.xlabel('Residuals')\n",
    "plt.ylabel('Frequency')\n",
    "\n",
    "# Scatter plot of actual vs predicted values\n",
    "plt.subplot(1, 2, 2)\n",
    "sns.scatterplot(x=y_test, y=y_pred_rf)\n",
    "plt.plot([y_test.min(), y_test.max()], [y_test.min(), y_test.max()], 'k--', lw=3)\n",
    "plt.xlabel('Actual Business Applications')\n",
    "plt.ylabel('Predicted Business Applications')\n",
    "plt.title('Actual vs. Predicted Business Applications (Random Forest)')\n",
    "\n",
    "plt.tight_layout()\n",
    "plt.show()\n"
   ]
  },
  {
   "cell_type": "markdown",
   "metadata": {},
   "source": [
    "Actual vs. Predicted Business Applications: The scatter plot on the right compares the actual number of business applications against the predicted values. The dashed line represents a perfect prediction. Points close to this line indicate accurate predictions, while points farther away represent errors. The model seems to perform well for a majority of the data points, though there are a few outliers.\n",
    "\n",
    "Given these insights, the Random Forest model provides a good, albeit not perfect, understanding of the relationship between economic factors and the economic popularity of a state.\n"
   ]
  },
  {
   "cell_type": "code",
   "execution_count": null,
   "metadata": {},
   "outputs": [],
   "source": [
    "# Calculating residuals for training and test data\n",
    "residuals_train_rf = y_train - y_train_pred_rf\n",
    "residuals_test_rf = y_test - y_test_pred_rf\n",
    "\n",
    "# Plotting residuals\n",
    "plt.figure(figsize=(14, 6))\n",
    "\n",
    "# Residuals for Training Data\n",
    "plt.subplot(1, 2, 1)\n",
    "sns.scatterplot(x=y_train_pred_rf, y=residuals_train_rf, alpha=0.5)\n",
    "plt.axhline(y=0, color='r', linestyle='--')\n",
    "plt.title('Residuals vs. Fitted Values (Training Data)')\n",
    "plt.xlabel('Fitted Values')\n",
    "plt.ylabel('Residuals')\n",
    "\n",
    "# Residuals for Test Data\n",
    "plt.subplot(1, 2, 2)\n",
    "sns.scatterplot(x=y_test_pred_rf, y=residuals_test_rf, alpha=0.5)\n",
    "plt.axhline(y=0, color='r', linestyle='--')\n",
    "plt.title('Residuals vs. Fitted Values (Test Data)')\n",
    "plt.xlabel('Fitted Values')\n",
    "plt.ylabel('Residuals')\n",
    "\n",
    "plt.tight_layout()\n",
    "plt.show()\n"
   ]
  },
  {
   "cell_type": "markdown",
   "metadata": {},
   "source": [
    "The red dashed line at zero represents no residuals, which means the predictions would be perfect.\n",
    "\n",
    "For both the training and test data, the residuals seem to be randomly distributed around the zero line, which is a good sign. This suggests that there aren't obvious patterns in the model's errors.\n",
    "\n",
    "There's a slightly higher concentration of residuals around the lower fitted values, which might indicate that the model's performance varies based on the magnitude of the predicted value."
   ]
  },
  {
   "cell_type": "markdown",
   "metadata": {},
   "source": [
    "# Using Shapley Values to Interpret the Model"
   ]
  },
  {
   "cell_type": "code",
   "execution_count": null,
   "metadata": {
    "scrolled": true
   },
   "outputs": [],
   "source": [
    "import shap"
   ]
  },
  {
   "cell_type": "code",
   "execution_count": null,
   "metadata": {},
   "outputs": [],
   "source": [
    "explainer = shap.TreeExplainer(best_rf)\n",
    "\n",
    "# Calculating SHAP values for a subset of the data\n",
    "shap_values = explainer.shap_values(X_train)\n",
    "\n",
    "\n",
    "shap.summary_plot(shap_values, X_train, plot_type=\"bar\", show=False)\n",
    "plt.title(\"Global Feature Importance Based on SHAP Values\")\n",
    "plt.tight_layout()\n",
    "plt.show()\n"
   ]
  },
  {
   "cell_type": "markdown",
   "metadata": {},
   "source": [
    "# Comparing Predictions to Observations\n"
   ]
  },
  {
   "cell_type": "code",
   "execution_count": null,
   "metadata": {},
   "outputs": [],
   "source": [
    "# Getting the data for 2022\n",
    "data_2022 = df[df['year'] == 2022]\n",
    "X_2022 = data_2022.drop(columns=['State', 'business_applications', 'year'])\n",
    "\n",
    "# Predicting business applications for 2022\n",
    "predictions_2022 = best_rf.predict(X_2022)\n",
    "\n",
    "# Plotting the predicted vs observed values for 2022\n",
    "plt.figure(figsize=(12, 6))\n",
    "plt.scatter(data_2022['State'], data_2022['business_applications'], color='blue', label='Observed Values', s=50)\n",
    "plt.scatter(data_2022['State'], predictions_2022, color='red', label='Predicted Values', s=50, alpha=0.6)\n",
    "plt.xticks(rotation=90)\n",
    "plt.ylabel('Number of Business Applications')\n",
    "plt.title('Observed vs. Predicted Business Applications (2022)')\n",
    "plt.legend()\n",
    "plt.tight_layout()\n",
    "plt.grid(True, which='both', linestyle='--', linewidth=0.5)\n",
    "plt.show()"
   ]
  }
 ],
 "metadata": {
  "kernelspec": {
   "display_name": "Python 3 (ipykernel)",
   "language": "python",
   "name": "python3"
  },
  "language_info": {
   "codemirror_mode": {
    "name": "ipython",
    "version": 3
   },
   "file_extension": ".py",
   "mimetype": "text/x-python",
   "name": "python",
   "nbconvert_exporter": "python",
   "pygments_lexer": "ipython3",
   "version": "3.11.5"
  }
 },
 "nbformat": 4,
 "nbformat_minor": 2
}
