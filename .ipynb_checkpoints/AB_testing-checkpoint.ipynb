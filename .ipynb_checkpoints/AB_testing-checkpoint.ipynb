{
 "cells": [
  {
   "cell_type": "code",
   "execution_count": 42,
   "id": "e418bb9e",
   "metadata": {},
   "outputs": [],
   "source": [
    "import numpy as np\n",
    "import pandas as pd\n",
    "import matplotlib.pyplot as plt\n",
    "import geopandas as gpd\n",
    "import plotly.express as px"
   ]
  },
  {
   "cell_type": "markdown",
   "id": "a6299b47",
   "metadata": {},
   "source": [
    "We compiled the US States (and Washington DC) tax rates into one dataset from 2000-2023 based on the available information from the US Government. Then we added added it as a pandas DataFrame and rounded the numbers. "
   ]
  },
  {
   "cell_type": "code",
   "execution_count": 28,
   "id": "27c69845",
   "metadata": {
    "scrolled": true
   },
   "outputs": [
    {
     "data": {
      "text/html": [
       "<div>\n",
       "<style scoped>\n",
       "    .dataframe tbody tr th:only-of-type {\n",
       "        vertical-align: middle;\n",
       "    }\n",
       "\n",
       "    .dataframe tbody tr th {\n",
       "        vertical-align: top;\n",
       "    }\n",
       "\n",
       "    .dataframe thead th {\n",
       "        text-align: right;\n",
       "    }\n",
       "</style>\n",
       "<table border=\"1\" class=\"dataframe\">\n",
       "  <thead>\n",
       "    <tr style=\"text-align: right;\">\n",
       "      <th></th>\n",
       "      <th>Name</th>\n",
       "      <th>State</th>\n",
       "      <th>2000</th>\n",
       "      <th>2001</th>\n",
       "      <th>2002</th>\n",
       "      <th>2003</th>\n",
       "      <th>2004</th>\n",
       "      <th>2005</th>\n",
       "      <th>2006</th>\n",
       "      <th>2007</th>\n",
       "      <th>...</th>\n",
       "      <th>2014</th>\n",
       "      <th>2015</th>\n",
       "      <th>2016</th>\n",
       "      <th>2017</th>\n",
       "      <th>2018</th>\n",
       "      <th>2019</th>\n",
       "      <th>2020</th>\n",
       "      <th>2021</th>\n",
       "      <th>2022</th>\n",
       "      <th>2023</th>\n",
       "    </tr>\n",
       "  </thead>\n",
       "  <tbody>\n",
       "    <tr>\n",
       "      <th>0</th>\n",
       "      <td>Alabama</td>\n",
       "      <td>AL</td>\n",
       "      <td>5.00</td>\n",
       "      <td>5.00</td>\n",
       "      <td>6.00</td>\n",
       "      <td>5.00</td>\n",
       "      <td>6.50</td>\n",
       "      <td>6.50</td>\n",
       "      <td>6.50</td>\n",
       "      <td>6.50</td>\n",
       "      <td>...</td>\n",
       "      <td>6.50</td>\n",
       "      <td>6.50</td>\n",
       "      <td>6.50</td>\n",
       "      <td>6.50</td>\n",
       "      <td>6.50</td>\n",
       "      <td>6.50</td>\n",
       "      <td>6.50</td>\n",
       "      <td>6.50</td>\n",
       "      <td>6.50</td>\n",
       "      <td>6.50</td>\n",
       "    </tr>\n",
       "    <tr>\n",
       "      <th>1</th>\n",
       "      <td>Alaska</td>\n",
       "      <td>AK</td>\n",
       "      <td>5.20</td>\n",
       "      <td>5.20</td>\n",
       "      <td>5.44</td>\n",
       "      <td>5.44</td>\n",
       "      <td>5.44</td>\n",
       "      <td>5.44</td>\n",
       "      <td>5.44</td>\n",
       "      <td>5.44</td>\n",
       "      <td>...</td>\n",
       "      <td>5.44</td>\n",
       "      <td>5.34</td>\n",
       "      <td>5.34</td>\n",
       "      <td>5.34</td>\n",
       "      <td>5.34</td>\n",
       "      <td>5.34</td>\n",
       "      <td>5.34</td>\n",
       "      <td>5.34</td>\n",
       "      <td>5.34</td>\n",
       "      <td>5.34</td>\n",
       "    </tr>\n",
       "    <tr>\n",
       "      <th>2</th>\n",
       "      <td>Arizona</td>\n",
       "      <td>AZ</td>\n",
       "      <td>8.00</td>\n",
       "      <td>7.97</td>\n",
       "      <td>6.97</td>\n",
       "      <td>6.97</td>\n",
       "      <td>6.97</td>\n",
       "      <td>6.97</td>\n",
       "      <td>6.97</td>\n",
       "      <td>6.97</td>\n",
       "      <td>...</td>\n",
       "      <td>6.50</td>\n",
       "      <td>5.50</td>\n",
       "      <td>5.50</td>\n",
       "      <td>4.90</td>\n",
       "      <td>4.90</td>\n",
       "      <td>4.90</td>\n",
       "      <td>4.90</td>\n",
       "      <td>4.90</td>\n",
       "      <td>4.90</td>\n",
       "      <td>4.90</td>\n",
       "    </tr>\n",
       "    <tr>\n",
       "      <th>3</th>\n",
       "      <td>Arkansas</td>\n",
       "      <td>AR</td>\n",
       "      <td>3.75</td>\n",
       "      <td>3.75</td>\n",
       "      <td>3.92</td>\n",
       "      <td>3.92</td>\n",
       "      <td>3.92</td>\n",
       "      <td>3.92</td>\n",
       "      <td>3.92</td>\n",
       "      <td>3.92</td>\n",
       "      <td>...</td>\n",
       "      <td>3.92</td>\n",
       "      <td>3.92</td>\n",
       "      <td>3.92</td>\n",
       "      <td>3.92</td>\n",
       "      <td>3.92</td>\n",
       "      <td>3.92</td>\n",
       "      <td>3.92</td>\n",
       "      <td>3.87</td>\n",
       "      <td>3.65</td>\n",
       "      <td>3.55</td>\n",
       "    </tr>\n",
       "    <tr>\n",
       "      <th>4</th>\n",
       "      <td>California</td>\n",
       "      <td>CA</td>\n",
       "      <td>8.84</td>\n",
       "      <td>8.84</td>\n",
       "      <td>8.84</td>\n",
       "      <td>8.84</td>\n",
       "      <td>8.84</td>\n",
       "      <td>8.84</td>\n",
       "      <td>8.84</td>\n",
       "      <td>8.84</td>\n",
       "      <td>...</td>\n",
       "      <td>8.84</td>\n",
       "      <td>8.84</td>\n",
       "      <td>8.84</td>\n",
       "      <td>8.84</td>\n",
       "      <td>8.84</td>\n",
       "      <td>8.84</td>\n",
       "      <td>8.84</td>\n",
       "      <td>8.84</td>\n",
       "      <td>8.84</td>\n",
       "      <td>8.84</td>\n",
       "    </tr>\n",
       "    <tr>\n",
       "      <th>5</th>\n",
       "      <td>Colorado</td>\n",
       "      <td>CO</td>\n",
       "      <td>4.75</td>\n",
       "      <td>4.63</td>\n",
       "      <td>4.63</td>\n",
       "      <td>4.63</td>\n",
       "      <td>4.63</td>\n",
       "      <td>4.63</td>\n",
       "      <td>4.63</td>\n",
       "      <td>4.63</td>\n",
       "      <td>...</td>\n",
       "      <td>4.63</td>\n",
       "      <td>4.63</td>\n",
       "      <td>4.63</td>\n",
       "      <td>4.63</td>\n",
       "      <td>4.63</td>\n",
       "      <td>4.63</td>\n",
       "      <td>4.63</td>\n",
       "      <td>4.55</td>\n",
       "      <td>4.55</td>\n",
       "      <td>4.40</td>\n",
       "    </tr>\n",
       "    <tr>\n",
       "      <th>6</th>\n",
       "      <td>Connecticut</td>\n",
       "      <td>CT</td>\n",
       "      <td>8.50</td>\n",
       "      <td>7.50</td>\n",
       "      <td>7.50</td>\n",
       "      <td>7.50</td>\n",
       "      <td>7.50</td>\n",
       "      <td>7.50</td>\n",
       "      <td>7.50</td>\n",
       "      <td>7.50</td>\n",
       "      <td>...</td>\n",
       "      <td>9.00</td>\n",
       "      <td>9.00</td>\n",
       "      <td>9.00</td>\n",
       "      <td>9.00</td>\n",
       "      <td>8.25</td>\n",
       "      <td>7.50</td>\n",
       "      <td>7.50</td>\n",
       "      <td>7.50</td>\n",
       "      <td>7.50</td>\n",
       "      <td>7.50</td>\n",
       "    </tr>\n",
       "    <tr>\n",
       "      <th>7</th>\n",
       "      <td>Delaware</td>\n",
       "      <td>DE</td>\n",
       "      <td>8.70</td>\n",
       "      <td>8.70</td>\n",
       "      <td>8.70</td>\n",
       "      <td>8.70</td>\n",
       "      <td>8.70</td>\n",
       "      <td>8.70</td>\n",
       "      <td>8.70</td>\n",
       "      <td>8.70</td>\n",
       "      <td>...</td>\n",
       "      <td>8.70</td>\n",
       "      <td>8.70</td>\n",
       "      <td>8.70</td>\n",
       "      <td>8.70</td>\n",
       "      <td>8.70</td>\n",
       "      <td>8.70</td>\n",
       "      <td>8.70</td>\n",
       "      <td>8.70</td>\n",
       "      <td>8.70</td>\n",
       "      <td>8.70</td>\n",
       "    </tr>\n",
       "    <tr>\n",
       "      <th>8</th>\n",
       "      <td>Florida</td>\n",
       "      <td>FL</td>\n",
       "      <td>5.50</td>\n",
       "      <td>5.50</td>\n",
       "      <td>5.50</td>\n",
       "      <td>5.50</td>\n",
       "      <td>5.50</td>\n",
       "      <td>5.50</td>\n",
       "      <td>5.50</td>\n",
       "      <td>5.50</td>\n",
       "      <td>...</td>\n",
       "      <td>5.50</td>\n",
       "      <td>5.50</td>\n",
       "      <td>5.50</td>\n",
       "      <td>5.50</td>\n",
       "      <td>5.50</td>\n",
       "      <td>5.50</td>\n",
       "      <td>4.46</td>\n",
       "      <td>4.46</td>\n",
       "      <td>5.50</td>\n",
       "      <td>5.50</td>\n",
       "    </tr>\n",
       "    <tr>\n",
       "      <th>9</th>\n",
       "      <td>Georgia</td>\n",
       "      <td>GA</td>\n",
       "      <td>6.00</td>\n",
       "      <td>6.00</td>\n",
       "      <td>6.00</td>\n",
       "      <td>6.00</td>\n",
       "      <td>6.00</td>\n",
       "      <td>6.00</td>\n",
       "      <td>6.00</td>\n",
       "      <td>6.00</td>\n",
       "      <td>...</td>\n",
       "      <td>6.00</td>\n",
       "      <td>6.00</td>\n",
       "      <td>6.00</td>\n",
       "      <td>6.00</td>\n",
       "      <td>6.00</td>\n",
       "      <td>5.75</td>\n",
       "      <td>5.75</td>\n",
       "      <td>5.75</td>\n",
       "      <td>5.75</td>\n",
       "      <td>5.75</td>\n",
       "    </tr>\n",
       "    <tr>\n",
       "      <th>10</th>\n",
       "      <td>Hawaii</td>\n",
       "      <td>HI</td>\n",
       "      <td>5.40</td>\n",
       "      <td>5.40</td>\n",
       "      <td>5.40</td>\n",
       "      <td>5.40</td>\n",
       "      <td>5.40</td>\n",
       "      <td>5.40</td>\n",
       "      <td>5.40</td>\n",
       "      <td>5.40</td>\n",
       "      <td>...</td>\n",
       "      <td>5.40</td>\n",
       "      <td>5.40</td>\n",
       "      <td>5.40</td>\n",
       "      <td>5.40</td>\n",
       "      <td>5.40</td>\n",
       "      <td>5.40</td>\n",
       "      <td>5.40</td>\n",
       "      <td>5.40</td>\n",
       "      <td>5.40</td>\n",
       "      <td>5.40</td>\n",
       "    </tr>\n",
       "    <tr>\n",
       "      <th>11</th>\n",
       "      <td>Idaho</td>\n",
       "      <td>ID</td>\n",
       "      <td>8.00</td>\n",
       "      <td>8.00</td>\n",
       "      <td>7.60</td>\n",
       "      <td>7.60</td>\n",
       "      <td>7.60</td>\n",
       "      <td>7.60</td>\n",
       "      <td>7.60</td>\n",
       "      <td>7.60</td>\n",
       "      <td>...</td>\n",
       "      <td>7.40</td>\n",
       "      <td>7.40</td>\n",
       "      <td>7.40</td>\n",
       "      <td>7.40</td>\n",
       "      <td>7.40</td>\n",
       "      <td>6.92</td>\n",
       "      <td>6.92</td>\n",
       "      <td>6.92</td>\n",
       "      <td>6.00</td>\n",
       "      <td>5.80</td>\n",
       "    </tr>\n",
       "    <tr>\n",
       "      <th>12</th>\n",
       "      <td>Illinois</td>\n",
       "      <td>IL</td>\n",
       "      <td>4.80</td>\n",
       "      <td>4.80</td>\n",
       "      <td>4.80</td>\n",
       "      <td>4.80</td>\n",
       "      <td>7.30</td>\n",
       "      <td>7.30</td>\n",
       "      <td>7.30</td>\n",
       "      <td>7.30</td>\n",
       "      <td>...</td>\n",
       "      <td>9.50</td>\n",
       "      <td>7.75</td>\n",
       "      <td>7.75</td>\n",
       "      <td>7.75</td>\n",
       "      <td>9.50</td>\n",
       "      <td>9.50</td>\n",
       "      <td>9.50</td>\n",
       "      <td>9.50</td>\n",
       "      <td>9.50</td>\n",
       "      <td>9.50</td>\n",
       "    </tr>\n",
       "    <tr>\n",
       "      <th>13</th>\n",
       "      <td>Indiana</td>\n",
       "      <td>IN</td>\n",
       "      <td>3.40</td>\n",
       "      <td>3.40</td>\n",
       "      <td>3.40</td>\n",
       "      <td>3.40</td>\n",
       "      <td>8.50</td>\n",
       "      <td>8.50</td>\n",
       "      <td>8.50</td>\n",
       "      <td>8.50</td>\n",
       "      <td>...</td>\n",
       "      <td>7.50</td>\n",
       "      <td>6.50</td>\n",
       "      <td>6.50</td>\n",
       "      <td>6.25</td>\n",
       "      <td>6.00</td>\n",
       "      <td>5.75</td>\n",
       "      <td>5.50</td>\n",
       "      <td>5.25</td>\n",
       "      <td>4.90</td>\n",
       "      <td>4.90</td>\n",
       "    </tr>\n",
       "    <tr>\n",
       "      <th>14</th>\n",
       "      <td>Iowa</td>\n",
       "      <td>IA</td>\n",
       "      <td>9.00</td>\n",
       "      <td>9.00</td>\n",
       "      <td>9.00</td>\n",
       "      <td>9.00</td>\n",
       "      <td>9.00</td>\n",
       "      <td>9.00</td>\n",
       "      <td>9.00</td>\n",
       "      <td>9.00</td>\n",
       "      <td>...</td>\n",
       "      <td>9.00</td>\n",
       "      <td>9.00</td>\n",
       "      <td>9.00</td>\n",
       "      <td>9.00</td>\n",
       "      <td>9.00</td>\n",
       "      <td>9.00</td>\n",
       "      <td>9.00</td>\n",
       "      <td>8.10</td>\n",
       "      <td>8.10</td>\n",
       "      <td>6.95</td>\n",
       "    </tr>\n",
       "    <tr>\n",
       "      <th>15</th>\n",
       "      <td>Kansas</td>\n",
       "      <td>KS</td>\n",
       "      <td>4.00</td>\n",
       "      <td>4.00</td>\n",
       "      <td>4.00</td>\n",
       "      <td>5.68</td>\n",
       "      <td>4.00</td>\n",
       "      <td>4.00</td>\n",
       "      <td>4.00</td>\n",
       "      <td>5.68</td>\n",
       "      <td>...</td>\n",
       "      <td>5.50</td>\n",
       "      <td>5.50</td>\n",
       "      <td>5.50</td>\n",
       "      <td>5.50</td>\n",
       "      <td>5.50</td>\n",
       "      <td>5.50</td>\n",
       "      <td>5.50</td>\n",
       "      <td>5.50</td>\n",
       "      <td>5.50</td>\n",
       "      <td>5.50</td>\n",
       "    </tr>\n",
       "    <tr>\n",
       "      <th>16</th>\n",
       "      <td>Kentucky</td>\n",
       "      <td>KY</td>\n",
       "      <td>6.12</td>\n",
       "      <td>6.12</td>\n",
       "      <td>6.05</td>\n",
       "      <td>6.05</td>\n",
       "      <td>6.05</td>\n",
       "      <td>6.05</td>\n",
       "      <td>5.33</td>\n",
       "      <td>5.33</td>\n",
       "      <td>...</td>\n",
       "      <td>5.00</td>\n",
       "      <td>5.00</td>\n",
       "      <td>5.00</td>\n",
       "      <td>5.00</td>\n",
       "      <td>5.00</td>\n",
       "      <td>5.00</td>\n",
       "      <td>5.00</td>\n",
       "      <td>5.00</td>\n",
       "      <td>5.00</td>\n",
       "      <td>5.00</td>\n",
       "    </tr>\n",
       "    <tr>\n",
       "      <th>17</th>\n",
       "      <td>Louisiana</td>\n",
       "      <td>LA</td>\n",
       "      <td>6.00</td>\n",
       "      <td>6.00</td>\n",
       "      <td>6.00</td>\n",
       "      <td>6.00</td>\n",
       "      <td>6.00</td>\n",
       "      <td>6.00</td>\n",
       "      <td>6.00</td>\n",
       "      <td>6.00</td>\n",
       "      <td>...</td>\n",
       "      <td>6.00</td>\n",
       "      <td>6.00</td>\n",
       "      <td>6.00</td>\n",
       "      <td>6.00</td>\n",
       "      <td>6.00</td>\n",
       "      <td>6.00</td>\n",
       "      <td>6.00</td>\n",
       "      <td>6.00</td>\n",
       "      <td>5.33</td>\n",
       "      <td>5.33</td>\n",
       "    </tr>\n",
       "    <tr>\n",
       "      <th>18</th>\n",
       "      <td>Maine</td>\n",
       "      <td>ME</td>\n",
       "      <td>6.22</td>\n",
       "      <td>6.22</td>\n",
       "      <td>7.17</td>\n",
       "      <td>7.17</td>\n",
       "      <td>7.17</td>\n",
       "      <td>7.17</td>\n",
       "      <td>7.17</td>\n",
       "      <td>7.17</td>\n",
       "      <td>...</td>\n",
       "      <td>7.17</td>\n",
       "      <td>7.17</td>\n",
       "      <td>7.17</td>\n",
       "      <td>7.17</td>\n",
       "      <td>7.17</td>\n",
       "      <td>7.17</td>\n",
       "      <td>7.17</td>\n",
       "      <td>7.17</td>\n",
       "      <td>7.17</td>\n",
       "      <td>7.17</td>\n",
       "    </tr>\n",
       "    <tr>\n",
       "      <th>19</th>\n",
       "      <td>Maryland</td>\n",
       "      <td>MD</td>\n",
       "      <td>7.00</td>\n",
       "      <td>7.00</td>\n",
       "      <td>7.00</td>\n",
       "      <td>7.00</td>\n",
       "      <td>7.00</td>\n",
       "      <td>7.00</td>\n",
       "      <td>7.00</td>\n",
       "      <td>7.00</td>\n",
       "      <td>...</td>\n",
       "      <td>8.25</td>\n",
       "      <td>8.25</td>\n",
       "      <td>8.25</td>\n",
       "      <td>8.25</td>\n",
       "      <td>8.25</td>\n",
       "      <td>8.25</td>\n",
       "      <td>8.25</td>\n",
       "      <td>8.25</td>\n",
       "      <td>8.25</td>\n",
       "      <td>8.25</td>\n",
       "    </tr>\n",
       "    <tr>\n",
       "      <th>20</th>\n",
       "      <td>Massachusetts</td>\n",
       "      <td>MA</td>\n",
       "      <td>9.50</td>\n",
       "      <td>9.50</td>\n",
       "      <td>9.50</td>\n",
       "      <td>9.50</td>\n",
       "      <td>9.50</td>\n",
       "      <td>9.50</td>\n",
       "      <td>9.50</td>\n",
       "      <td>9.50</td>\n",
       "      <td>...</td>\n",
       "      <td>8.00</td>\n",
       "      <td>8.00</td>\n",
       "      <td>8.00</td>\n",
       "      <td>8.00</td>\n",
       "      <td>8.00</td>\n",
       "      <td>8.00</td>\n",
       "      <td>8.00</td>\n",
       "      <td>8.00</td>\n",
       "      <td>8.00</td>\n",
       "      <td>8.00</td>\n",
       "    </tr>\n",
       "    <tr>\n",
       "      <th>21</th>\n",
       "      <td>Michigan</td>\n",
       "      <td>MI</td>\n",
       "      <td>1.10</td>\n",
       "      <td>2.10</td>\n",
       "      <td>2.00</td>\n",
       "      <td>1.90</td>\n",
       "      <td>1.90</td>\n",
       "      <td>1.90</td>\n",
       "      <td>1.90</td>\n",
       "      <td>1.90</td>\n",
       "      <td>...</td>\n",
       "      <td>6.00</td>\n",
       "      <td>6.00</td>\n",
       "      <td>6.00</td>\n",
       "      <td>6.00</td>\n",
       "      <td>6.00</td>\n",
       "      <td>6.00</td>\n",
       "      <td>6.00</td>\n",
       "      <td>6.00</td>\n",
       "      <td>6.00</td>\n",
       "      <td>6.00</td>\n",
       "    </tr>\n",
       "    <tr>\n",
       "      <th>22</th>\n",
       "      <td>Minnesota</td>\n",
       "      <td>MN</td>\n",
       "      <td>9.80</td>\n",
       "      <td>9.80</td>\n",
       "      <td>9.80</td>\n",
       "      <td>9.80</td>\n",
       "      <td>9.80</td>\n",
       "      <td>9.80</td>\n",
       "      <td>9.80</td>\n",
       "      <td>9.80</td>\n",
       "      <td>...</td>\n",
       "      <td>9.80</td>\n",
       "      <td>9.80</td>\n",
       "      <td>9.80</td>\n",
       "      <td>9.80</td>\n",
       "      <td>9.80</td>\n",
       "      <td>9.80</td>\n",
       "      <td>9.80</td>\n",
       "      <td>9.80</td>\n",
       "      <td>9.80</td>\n",
       "      <td>9.80</td>\n",
       "    </tr>\n",
       "    <tr>\n",
       "      <th>23</th>\n",
       "      <td>Mississippi</td>\n",
       "      <td>MS</td>\n",
       "      <td>4.00</td>\n",
       "      <td>4.00</td>\n",
       "      <td>4.00</td>\n",
       "      <td>4.00</td>\n",
       "      <td>4.00</td>\n",
       "      <td>4.00</td>\n",
       "      <td>4.00</td>\n",
       "      <td>4.00</td>\n",
       "      <td>...</td>\n",
       "      <td>4.00</td>\n",
       "      <td>4.00</td>\n",
       "      <td>4.00</td>\n",
       "      <td>4.00</td>\n",
       "      <td>3.00</td>\n",
       "      <td>3.00</td>\n",
       "      <td>3.00</td>\n",
       "      <td>3.00</td>\n",
       "      <td>3.00</td>\n",
       "      <td>3.00</td>\n",
       "    </tr>\n",
       "    <tr>\n",
       "      <th>24</th>\n",
       "      <td>Missouri</td>\n",
       "      <td>MO</td>\n",
       "      <td>6.25</td>\n",
       "      <td>6.25</td>\n",
       "      <td>6.25</td>\n",
       "      <td>6.25</td>\n",
       "      <td>6.25</td>\n",
       "      <td>6.25</td>\n",
       "      <td>6.25</td>\n",
       "      <td>6.25</td>\n",
       "      <td>...</td>\n",
       "      <td>6.25</td>\n",
       "      <td>6.25</td>\n",
       "      <td>6.25</td>\n",
       "      <td>6.25</td>\n",
       "      <td>6.25</td>\n",
       "      <td>6.25</td>\n",
       "      <td>4.00</td>\n",
       "      <td>4.00</td>\n",
       "      <td>4.00</td>\n",
       "      <td>4.00</td>\n",
       "    </tr>\n",
       "    <tr>\n",
       "      <th>25</th>\n",
       "      <td>Montana</td>\n",
       "      <td>MT</td>\n",
       "      <td>6.75</td>\n",
       "      <td>6.75</td>\n",
       "      <td>6.75</td>\n",
       "      <td>6.75</td>\n",
       "      <td>6.75</td>\n",
       "      <td>6.75</td>\n",
       "      <td>6.75</td>\n",
       "      <td>6.75</td>\n",
       "      <td>...</td>\n",
       "      <td>6.75</td>\n",
       "      <td>6.75</td>\n",
       "      <td>6.75</td>\n",
       "      <td>6.75</td>\n",
       "      <td>6.75</td>\n",
       "      <td>6.75</td>\n",
       "      <td>6.75</td>\n",
       "      <td>6.75</td>\n",
       "      <td>6.75</td>\n",
       "      <td>6.75</td>\n",
       "    </tr>\n",
       "    <tr>\n",
       "      <th>26</th>\n",
       "      <td>Nebraska</td>\n",
       "      <td>NE</td>\n",
       "      <td>6.70</td>\n",
       "      <td>6.70</td>\n",
       "      <td>6.70</td>\n",
       "      <td>6.70</td>\n",
       "      <td>6.70</td>\n",
       "      <td>6.70</td>\n",
       "      <td>6.70</td>\n",
       "      <td>6.70</td>\n",
       "      <td>...</td>\n",
       "      <td>6.70</td>\n",
       "      <td>6.70</td>\n",
       "      <td>6.70</td>\n",
       "      <td>6.70</td>\n",
       "      <td>6.70</td>\n",
       "      <td>6.70</td>\n",
       "      <td>6.70</td>\n",
       "      <td>6.70</td>\n",
       "      <td>6.70</td>\n",
       "      <td>6.42</td>\n",
       "    </tr>\n",
       "    <tr>\n",
       "      <th>27</th>\n",
       "      <td>Nevada</td>\n",
       "      <td>NV</td>\n",
       "      <td>0.00</td>\n",
       "      <td>0.00</td>\n",
       "      <td>0.00</td>\n",
       "      <td>0.00</td>\n",
       "      <td>0.00</td>\n",
       "      <td>0.00</td>\n",
       "      <td>0.00</td>\n",
       "      <td>0.00</td>\n",
       "      <td>...</td>\n",
       "      <td>0.00</td>\n",
       "      <td>0.00</td>\n",
       "      <td>0.00</td>\n",
       "      <td>0.00</td>\n",
       "      <td>0.00</td>\n",
       "      <td>0.00</td>\n",
       "      <td>0.00</td>\n",
       "      <td>0.00</td>\n",
       "      <td>0.00</td>\n",
       "      <td>0.00</td>\n",
       "    </tr>\n",
       "    <tr>\n",
       "      <th>28</th>\n",
       "      <td>New Hampshire</td>\n",
       "      <td>NH</td>\n",
       "      <td>7.00</td>\n",
       "      <td>8.00</td>\n",
       "      <td>8.50</td>\n",
       "      <td>8.50</td>\n",
       "      <td>8.88</td>\n",
       "      <td>8.88</td>\n",
       "      <td>8.88</td>\n",
       "      <td>8.88</td>\n",
       "      <td>...</td>\n",
       "      <td>8.50</td>\n",
       "      <td>8.50</td>\n",
       "      <td>8.50</td>\n",
       "      <td>8.20</td>\n",
       "      <td>8.20</td>\n",
       "      <td>7.70</td>\n",
       "      <td>7.70</td>\n",
       "      <td>7.70</td>\n",
       "      <td>7.60</td>\n",
       "      <td>7.50</td>\n",
       "    </tr>\n",
       "    <tr>\n",
       "      <th>29</th>\n",
       "      <td>New Jersey</td>\n",
       "      <td>NJ</td>\n",
       "      <td>9.00</td>\n",
       "      <td>9.00</td>\n",
       "      <td>9.00</td>\n",
       "      <td>9.00</td>\n",
       "      <td>9.00</td>\n",
       "      <td>7.67</td>\n",
       "      <td>7.67</td>\n",
       "      <td>7.67</td>\n",
       "      <td>...</td>\n",
       "      <td>9.00</td>\n",
       "      <td>7.67</td>\n",
       "      <td>7.67</td>\n",
       "      <td>9.00</td>\n",
       "      <td>9.00</td>\n",
       "      <td>8.62</td>\n",
       "      <td>8.38</td>\n",
       "      <td>8.62</td>\n",
       "      <td>8.62</td>\n",
       "      <td>8.62</td>\n",
       "    </tr>\n",
       "    <tr>\n",
       "      <th>30</th>\n",
       "      <td>New Mexico</td>\n",
       "      <td>NM</td>\n",
       "      <td>6.20</td>\n",
       "      <td>6.20</td>\n",
       "      <td>6.27</td>\n",
       "      <td>6.27</td>\n",
       "      <td>6.27</td>\n",
       "      <td>6.27</td>\n",
       "      <td>6.27</td>\n",
       "      <td>6.27</td>\n",
       "      <td>...</td>\n",
       "      <td>6.17</td>\n",
       "      <td>5.93</td>\n",
       "      <td>5.93</td>\n",
       "      <td>5.83</td>\n",
       "      <td>5.35</td>\n",
       "      <td>5.35</td>\n",
       "      <td>5.35</td>\n",
       "      <td>5.35</td>\n",
       "      <td>5.35</td>\n",
       "      <td>5.35</td>\n",
       "    </tr>\n",
       "    <tr>\n",
       "      <th>31</th>\n",
       "      <td>New York</td>\n",
       "      <td>NY</td>\n",
       "      <td>9.00</td>\n",
       "      <td>8.00</td>\n",
       "      <td>7.50</td>\n",
       "      <td>7.50</td>\n",
       "      <td>7.50</td>\n",
       "      <td>7.50</td>\n",
       "      <td>7.50</td>\n",
       "      <td>7.50</td>\n",
       "      <td>...</td>\n",
       "      <td>7.10</td>\n",
       "      <td>6.50</td>\n",
       "      <td>6.50</td>\n",
       "      <td>6.50</td>\n",
       "      <td>6.50</td>\n",
       "      <td>6.50</td>\n",
       "      <td>6.50</td>\n",
       "      <td>6.50</td>\n",
       "      <td>6.88</td>\n",
       "      <td>6.88</td>\n",
       "    </tr>\n",
       "    <tr>\n",
       "      <th>32</th>\n",
       "      <td>North Carolina</td>\n",
       "      <td>NC</td>\n",
       "      <td>7.00</td>\n",
       "      <td>6.90</td>\n",
       "      <td>6.90</td>\n",
       "      <td>6.90</td>\n",
       "      <td>6.90</td>\n",
       "      <td>6.90</td>\n",
       "      <td>6.90</td>\n",
       "      <td>6.90</td>\n",
       "      <td>...</td>\n",
       "      <td>6.00</td>\n",
       "      <td>4.00</td>\n",
       "      <td>4.00</td>\n",
       "      <td>3.00</td>\n",
       "      <td>3.00</td>\n",
       "      <td>2.50</td>\n",
       "      <td>2.50</td>\n",
       "      <td>2.50</td>\n",
       "      <td>2.50</td>\n",
       "      <td>2.50</td>\n",
       "    </tr>\n",
       "    <tr>\n",
       "      <th>33</th>\n",
       "      <td>North Dakota</td>\n",
       "      <td>ND</td>\n",
       "      <td>6.75</td>\n",
       "      <td>6.75</td>\n",
       "      <td>6.75</td>\n",
       "      <td>6.75</td>\n",
       "      <td>6.75</td>\n",
       "      <td>5.14</td>\n",
       "      <td>5.14</td>\n",
       "      <td>5.14</td>\n",
       "      <td>...</td>\n",
       "      <td>3.25</td>\n",
       "      <td>3.09</td>\n",
       "      <td>3.09</td>\n",
       "      <td>3.09</td>\n",
       "      <td>3.09</td>\n",
       "      <td>3.09</td>\n",
       "      <td>3.09</td>\n",
       "      <td>3.09</td>\n",
       "      <td>3.09</td>\n",
       "      <td>3.09</td>\n",
       "    </tr>\n",
       "    <tr>\n",
       "      <th>34</th>\n",
       "      <td>Ohio</td>\n",
       "      <td>OH</td>\n",
       "      <td>6.80</td>\n",
       "      <td>6.80</td>\n",
       "      <td>6.80</td>\n",
       "      <td>6.80</td>\n",
       "      <td>6.80</td>\n",
       "      <td>6.80</td>\n",
       "      <td>6.80</td>\n",
       "      <td>6.80</td>\n",
       "      <td>...</td>\n",
       "      <td>0.00</td>\n",
       "      <td>0.00</td>\n",
       "      <td>0.00</td>\n",
       "      <td>0.00</td>\n",
       "      <td>0.00</td>\n",
       "      <td>0.00</td>\n",
       "      <td>0.00</td>\n",
       "      <td>0.00</td>\n",
       "      <td>0.00</td>\n",
       "      <td>0.00</td>\n",
       "    </tr>\n",
       "    <tr>\n",
       "      <th>35</th>\n",
       "      <td>Oklahoma</td>\n",
       "      <td>OK</td>\n",
       "      <td>6.00</td>\n",
       "      <td>6.00</td>\n",
       "      <td>6.00</td>\n",
       "      <td>6.00</td>\n",
       "      <td>6.00</td>\n",
       "      <td>6.00</td>\n",
       "      <td>6.00</td>\n",
       "      <td>6.00</td>\n",
       "      <td>...</td>\n",
       "      <td>6.00</td>\n",
       "      <td>6.00</td>\n",
       "      <td>6.00</td>\n",
       "      <td>6.00</td>\n",
       "      <td>6.00</td>\n",
       "      <td>6.00</td>\n",
       "      <td>6.00</td>\n",
       "      <td>6.00</td>\n",
       "      <td>4.00</td>\n",
       "      <td>4.00</td>\n",
       "    </tr>\n",
       "    <tr>\n",
       "      <th>36</th>\n",
       "      <td>Oregon</td>\n",
       "      <td>OR</td>\n",
       "      <td>6.60</td>\n",
       "      <td>6.60</td>\n",
       "      <td>6.60</td>\n",
       "      <td>6.60</td>\n",
       "      <td>6.60</td>\n",
       "      <td>6.60</td>\n",
       "      <td>6.60</td>\n",
       "      <td>6.60</td>\n",
       "      <td>...</td>\n",
       "      <td>7.10</td>\n",
       "      <td>7.10</td>\n",
       "      <td>7.10</td>\n",
       "      <td>7.10</td>\n",
       "      <td>7.10</td>\n",
       "      <td>7.10</td>\n",
       "      <td>7.10</td>\n",
       "      <td>7.10</td>\n",
       "      <td>7.10</td>\n",
       "      <td>7.10</td>\n",
       "    </tr>\n",
       "    <tr>\n",
       "      <th>37</th>\n",
       "      <td>Pennsylvania</td>\n",
       "      <td>PA</td>\n",
       "      <td>9.99</td>\n",
       "      <td>9.99</td>\n",
       "      <td>10.00</td>\n",
       "      <td>9.99</td>\n",
       "      <td>9.99</td>\n",
       "      <td>9.99</td>\n",
       "      <td>9.99</td>\n",
       "      <td>9.99</td>\n",
       "      <td>...</td>\n",
       "      <td>9.99</td>\n",
       "      <td>9.99</td>\n",
       "      <td>9.99</td>\n",
       "      <td>9.99</td>\n",
       "      <td>9.99</td>\n",
       "      <td>9.99</td>\n",
       "      <td>9.99</td>\n",
       "      <td>9.99</td>\n",
       "      <td>9.99</td>\n",
       "      <td>8.99</td>\n",
       "    </tr>\n",
       "    <tr>\n",
       "      <th>38</th>\n",
       "      <td>Rhode Island</td>\n",
       "      <td>RI</td>\n",
       "      <td>9.00</td>\n",
       "      <td>9.00</td>\n",
       "      <td>9.00</td>\n",
       "      <td>9.00</td>\n",
       "      <td>9.00</td>\n",
       "      <td>9.00</td>\n",
       "      <td>9.00</td>\n",
       "      <td>9.00</td>\n",
       "      <td>...</td>\n",
       "      <td>9.00</td>\n",
       "      <td>7.00</td>\n",
       "      <td>7.00</td>\n",
       "      <td>7.00</td>\n",
       "      <td>7.00</td>\n",
       "      <td>7.00</td>\n",
       "      <td>7.00</td>\n",
       "      <td>7.00</td>\n",
       "      <td>7.00</td>\n",
       "      <td>7.00</td>\n",
       "    </tr>\n",
       "    <tr>\n",
       "      <th>39</th>\n",
       "      <td>South Carolina</td>\n",
       "      <td>SC</td>\n",
       "      <td>5.00</td>\n",
       "      <td>5.00</td>\n",
       "      <td>5.00</td>\n",
       "      <td>5.00</td>\n",
       "      <td>5.00</td>\n",
       "      <td>5.00</td>\n",
       "      <td>5.00</td>\n",
       "      <td>5.00</td>\n",
       "      <td>...</td>\n",
       "      <td>5.00</td>\n",
       "      <td>5.00</td>\n",
       "      <td>5.00</td>\n",
       "      <td>5.00</td>\n",
       "      <td>5.00</td>\n",
       "      <td>5.00</td>\n",
       "      <td>5.00</td>\n",
       "      <td>5.00</td>\n",
       "      <td>5.00</td>\n",
       "      <td>5.00</td>\n",
       "    </tr>\n",
       "    <tr>\n",
       "      <th>40</th>\n",
       "      <td>South Dakota</td>\n",
       "      <td>SD</td>\n",
       "      <td>0.00</td>\n",
       "      <td>0.00</td>\n",
       "      <td>0.00</td>\n",
       "      <td>0.00</td>\n",
       "      <td>0.00</td>\n",
       "      <td>0.00</td>\n",
       "      <td>0.00</td>\n",
       "      <td>0.00</td>\n",
       "      <td>...</td>\n",
       "      <td>0.00</td>\n",
       "      <td>0.00</td>\n",
       "      <td>0.00</td>\n",
       "      <td>0.00</td>\n",
       "      <td>0.00</td>\n",
       "      <td>0.00</td>\n",
       "      <td>0.00</td>\n",
       "      <td>0.00</td>\n",
       "      <td>0.00</td>\n",
       "      <td>0.00</td>\n",
       "    </tr>\n",
       "    <tr>\n",
       "      <th>41</th>\n",
       "      <td>Tennessee</td>\n",
       "      <td>TN</td>\n",
       "      <td>6.00</td>\n",
       "      <td>6.00</td>\n",
       "      <td>6.00</td>\n",
       "      <td>6.00</td>\n",
       "      <td>6.50</td>\n",
       "      <td>6.50</td>\n",
       "      <td>6.50</td>\n",
       "      <td>6.50</td>\n",
       "      <td>...</td>\n",
       "      <td>6.50</td>\n",
       "      <td>6.50</td>\n",
       "      <td>6.50</td>\n",
       "      <td>6.50</td>\n",
       "      <td>6.50</td>\n",
       "      <td>6.50</td>\n",
       "      <td>6.50</td>\n",
       "      <td>6.50</td>\n",
       "      <td>6.50</td>\n",
       "      <td>6.50</td>\n",
       "    </tr>\n",
       "    <tr>\n",
       "      <th>42</th>\n",
       "      <td>Texas</td>\n",
       "      <td>TX</td>\n",
       "      <td>0.00</td>\n",
       "      <td>0.00</td>\n",
       "      <td>0.00</td>\n",
       "      <td>0.00</td>\n",
       "      <td>0.00</td>\n",
       "      <td>0.00</td>\n",
       "      <td>4.50</td>\n",
       "      <td>4.50</td>\n",
       "      <td>...</td>\n",
       "      <td>0.00</td>\n",
       "      <td>0.00</td>\n",
       "      <td>0.00</td>\n",
       "      <td>0.00</td>\n",
       "      <td>0.00</td>\n",
       "      <td>0.00</td>\n",
       "      <td>0.00</td>\n",
       "      <td>0.00</td>\n",
       "      <td>0.00</td>\n",
       "      <td>0.00</td>\n",
       "    </tr>\n",
       "    <tr>\n",
       "      <th>43</th>\n",
       "      <td>Utah</td>\n",
       "      <td>UT</td>\n",
       "      <td>5.00</td>\n",
       "      <td>5.00</td>\n",
       "      <td>5.00</td>\n",
       "      <td>5.00</td>\n",
       "      <td>5.00</td>\n",
       "      <td>5.00</td>\n",
       "      <td>5.00</td>\n",
       "      <td>5.00</td>\n",
       "      <td>...</td>\n",
       "      <td>5.00</td>\n",
       "      <td>5.00</td>\n",
       "      <td>5.00</td>\n",
       "      <td>5.00</td>\n",
       "      <td>5.00</td>\n",
       "      <td>4.95</td>\n",
       "      <td>4.95</td>\n",
       "      <td>4.95</td>\n",
       "      <td>4.85</td>\n",
       "      <td>4.85</td>\n",
       "    </tr>\n",
       "    <tr>\n",
       "      <th>44</th>\n",
       "      <td>Vermont</td>\n",
       "      <td>VT</td>\n",
       "      <td>8.38</td>\n",
       "      <td>8.38</td>\n",
       "      <td>8.51</td>\n",
       "      <td>8.51</td>\n",
       "      <td>8.51</td>\n",
       "      <td>8.51</td>\n",
       "      <td>8.51</td>\n",
       "      <td>7.66</td>\n",
       "      <td>...</td>\n",
       "      <td>7.17</td>\n",
       "      <td>7.17</td>\n",
       "      <td>7.17</td>\n",
       "      <td>7.17</td>\n",
       "      <td>7.17</td>\n",
       "      <td>7.17</td>\n",
       "      <td>7.17</td>\n",
       "      <td>7.17</td>\n",
       "      <td>7.17</td>\n",
       "      <td>7.17</td>\n",
       "    </tr>\n",
       "    <tr>\n",
       "      <th>45</th>\n",
       "      <td>Virginia</td>\n",
       "      <td>VA</td>\n",
       "      <td>6.00</td>\n",
       "      <td>6.00</td>\n",
       "      <td>6.00</td>\n",
       "      <td>6.00</td>\n",
       "      <td>6.00</td>\n",
       "      <td>6.00</td>\n",
       "      <td>6.00</td>\n",
       "      <td>6.00</td>\n",
       "      <td>...</td>\n",
       "      <td>6.00</td>\n",
       "      <td>6.00</td>\n",
       "      <td>6.00</td>\n",
       "      <td>6.00</td>\n",
       "      <td>6.00</td>\n",
       "      <td>6.00</td>\n",
       "      <td>6.00</td>\n",
       "      <td>6.00</td>\n",
       "      <td>6.00</td>\n",
       "      <td>6.00</td>\n",
       "    </tr>\n",
       "    <tr>\n",
       "      <th>46</th>\n",
       "      <td>Washington</td>\n",
       "      <td>WA</td>\n",
       "      <td>0.00</td>\n",
       "      <td>0.00</td>\n",
       "      <td>0.00</td>\n",
       "      <td>0.00</td>\n",
       "      <td>0.00</td>\n",
       "      <td>0.00</td>\n",
       "      <td>0.00</td>\n",
       "      <td>0.00</td>\n",
       "      <td>...</td>\n",
       "      <td>0.00</td>\n",
       "      <td>0.00</td>\n",
       "      <td>0.00</td>\n",
       "      <td>0.00</td>\n",
       "      <td>0.00</td>\n",
       "      <td>0.00</td>\n",
       "      <td>0.00</td>\n",
       "      <td>0.00</td>\n",
       "      <td>0.00</td>\n",
       "      <td>0.00</td>\n",
       "    </tr>\n",
       "    <tr>\n",
       "      <th>47</th>\n",
       "      <td>West Virginia</td>\n",
       "      <td>WV</td>\n",
       "      <td>9.00</td>\n",
       "      <td>9.00</td>\n",
       "      <td>9.00</td>\n",
       "      <td>9.00</td>\n",
       "      <td>9.00</td>\n",
       "      <td>9.00</td>\n",
       "      <td>9.00</td>\n",
       "      <td>9.00</td>\n",
       "      <td>...</td>\n",
       "      <td>6.50</td>\n",
       "      <td>6.50</td>\n",
       "      <td>6.50</td>\n",
       "      <td>6.50</td>\n",
       "      <td>6.50</td>\n",
       "      <td>6.50</td>\n",
       "      <td>6.50</td>\n",
       "      <td>6.50</td>\n",
       "      <td>6.50</td>\n",
       "      <td>6.50</td>\n",
       "    </tr>\n",
       "    <tr>\n",
       "      <th>48</th>\n",
       "      <td>Wisconsin</td>\n",
       "      <td>WI</td>\n",
       "      <td>7.90</td>\n",
       "      <td>7.90</td>\n",
       "      <td>7.90</td>\n",
       "      <td>7.90</td>\n",
       "      <td>7.90</td>\n",
       "      <td>7.90</td>\n",
       "      <td>7.90</td>\n",
       "      <td>7.90</td>\n",
       "      <td>...</td>\n",
       "      <td>7.90</td>\n",
       "      <td>7.90</td>\n",
       "      <td>7.90</td>\n",
       "      <td>7.90</td>\n",
       "      <td>7.90</td>\n",
       "      <td>7.90</td>\n",
       "      <td>7.90</td>\n",
       "      <td>7.90</td>\n",
       "      <td>7.90</td>\n",
       "      <td>7.90</td>\n",
       "    </tr>\n",
       "    <tr>\n",
       "      <th>49</th>\n",
       "      <td>Wyoming</td>\n",
       "      <td>WY</td>\n",
       "      <td>0.00</td>\n",
       "      <td>0.00</td>\n",
       "      <td>0.00</td>\n",
       "      <td>0.00</td>\n",
       "      <td>0.00</td>\n",
       "      <td>0.00</td>\n",
       "      <td>0.00</td>\n",
       "      <td>0.00</td>\n",
       "      <td>...</td>\n",
       "      <td>0.00</td>\n",
       "      <td>0.00</td>\n",
       "      <td>0.00</td>\n",
       "      <td>0.00</td>\n",
       "      <td>0.00</td>\n",
       "      <td>0.00</td>\n",
       "      <td>0.00</td>\n",
       "      <td>0.00</td>\n",
       "      <td>0.00</td>\n",
       "      <td>0.00</td>\n",
       "    </tr>\n",
       "    <tr>\n",
       "      <th>50</th>\n",
       "      <td>District of Columbia</td>\n",
       "      <td>DC</td>\n",
       "      <td>9.98</td>\n",
       "      <td>9.98</td>\n",
       "      <td>9.50</td>\n",
       "      <td>9.50</td>\n",
       "      <td>9.98</td>\n",
       "      <td>9.98</td>\n",
       "      <td>9.98</td>\n",
       "      <td>9.98</td>\n",
       "      <td>...</td>\n",
       "      <td>9.98</td>\n",
       "      <td>9.40</td>\n",
       "      <td>9.40</td>\n",
       "      <td>9.00</td>\n",
       "      <td>8.25</td>\n",
       "      <td>8.25</td>\n",
       "      <td>8.25</td>\n",
       "      <td>8.25</td>\n",
       "      <td>8.25</td>\n",
       "      <td>8.25</td>\n",
       "    </tr>\n",
       "  </tbody>\n",
       "</table>\n",
       "<p>51 rows × 26 columns</p>\n",
       "</div>"
      ],
      "text/plain": [
       "                    Name State  2000  2001   2002  2003  2004  2005  2006  \\\n",
       "0                Alabama    AL  5.00  5.00   6.00  5.00  6.50  6.50  6.50   \n",
       "1                 Alaska    AK  5.20  5.20   5.44  5.44  5.44  5.44  5.44   \n",
       "2                Arizona    AZ  8.00  7.97   6.97  6.97  6.97  6.97  6.97   \n",
       "3               Arkansas    AR  3.75  3.75   3.92  3.92  3.92  3.92  3.92   \n",
       "4             California    CA  8.84  8.84   8.84  8.84  8.84  8.84  8.84   \n",
       "5               Colorado    CO  4.75  4.63   4.63  4.63  4.63  4.63  4.63   \n",
       "6            Connecticut    CT  8.50  7.50   7.50  7.50  7.50  7.50  7.50   \n",
       "7               Delaware    DE  8.70  8.70   8.70  8.70  8.70  8.70  8.70   \n",
       "8                Florida    FL  5.50  5.50   5.50  5.50  5.50  5.50  5.50   \n",
       "9                Georgia    GA  6.00  6.00   6.00  6.00  6.00  6.00  6.00   \n",
       "10                Hawaii    HI  5.40  5.40   5.40  5.40  5.40  5.40  5.40   \n",
       "11                 Idaho    ID  8.00  8.00   7.60  7.60  7.60  7.60  7.60   \n",
       "12              Illinois    IL  4.80  4.80   4.80  4.80  7.30  7.30  7.30   \n",
       "13               Indiana    IN  3.40  3.40   3.40  3.40  8.50  8.50  8.50   \n",
       "14                  Iowa    IA  9.00  9.00   9.00  9.00  9.00  9.00  9.00   \n",
       "15                Kansas    KS  4.00  4.00   4.00  5.68  4.00  4.00  4.00   \n",
       "16              Kentucky    KY  6.12  6.12   6.05  6.05  6.05  6.05  5.33   \n",
       "17             Louisiana    LA  6.00  6.00   6.00  6.00  6.00  6.00  6.00   \n",
       "18                 Maine    ME  6.22  6.22   7.17  7.17  7.17  7.17  7.17   \n",
       "19              Maryland    MD  7.00  7.00   7.00  7.00  7.00  7.00  7.00   \n",
       "20         Massachusetts    MA  9.50  9.50   9.50  9.50  9.50  9.50  9.50   \n",
       "21              Michigan    MI  1.10  2.10   2.00  1.90  1.90  1.90  1.90   \n",
       "22             Minnesota    MN  9.80  9.80   9.80  9.80  9.80  9.80  9.80   \n",
       "23           Mississippi    MS  4.00  4.00   4.00  4.00  4.00  4.00  4.00   \n",
       "24              Missouri    MO  6.25  6.25   6.25  6.25  6.25  6.25  6.25   \n",
       "25               Montana    MT  6.75  6.75   6.75  6.75  6.75  6.75  6.75   \n",
       "26              Nebraska    NE  6.70  6.70   6.70  6.70  6.70  6.70  6.70   \n",
       "27                Nevada    NV  0.00  0.00   0.00  0.00  0.00  0.00  0.00   \n",
       "28         New Hampshire    NH  7.00  8.00   8.50  8.50  8.88  8.88  8.88   \n",
       "29            New Jersey    NJ  9.00  9.00   9.00  9.00  9.00  7.67  7.67   \n",
       "30            New Mexico    NM  6.20  6.20   6.27  6.27  6.27  6.27  6.27   \n",
       "31              New York    NY  9.00  8.00   7.50  7.50  7.50  7.50  7.50   \n",
       "32       North Carolina     NC  7.00  6.90   6.90  6.90  6.90  6.90  6.90   \n",
       "33          North Dakota    ND  6.75  6.75   6.75  6.75  6.75  5.14  5.14   \n",
       "34                 Ohio     OH  6.80  6.80   6.80  6.80  6.80  6.80  6.80   \n",
       "35              Oklahoma    OK  6.00  6.00   6.00  6.00  6.00  6.00  6.00   \n",
       "36                Oregon    OR  6.60  6.60   6.60  6.60  6.60  6.60  6.60   \n",
       "37          Pennsylvania    PA  9.99  9.99  10.00  9.99  9.99  9.99  9.99   \n",
       "38          Rhode Island    RI  9.00  9.00   9.00  9.00  9.00  9.00  9.00   \n",
       "39        South Carolina    SC  5.00  5.00   5.00  5.00  5.00  5.00  5.00   \n",
       "40          South Dakota    SD  0.00  0.00   0.00  0.00  0.00  0.00  0.00   \n",
       "41             Tennessee    TN  6.00  6.00   6.00  6.00  6.50  6.50  6.50   \n",
       "42                 Texas    TX  0.00  0.00   0.00  0.00  0.00  0.00  4.50   \n",
       "43                  Utah    UT  5.00  5.00   5.00  5.00  5.00  5.00  5.00   \n",
       "44               Vermont    VT  8.38  8.38   8.51  8.51  8.51  8.51  8.51   \n",
       "45              Virginia    VA  6.00  6.00   6.00  6.00  6.00  6.00  6.00   \n",
       "46            Washington    WA  0.00  0.00   0.00  0.00  0.00  0.00  0.00   \n",
       "47         West Virginia    WV  9.00  9.00   9.00  9.00  9.00  9.00  9.00   \n",
       "48            Wisconsin     WI  7.90  7.90   7.90  7.90  7.90  7.90  7.90   \n",
       "49               Wyoming    WY  0.00  0.00   0.00  0.00  0.00  0.00  0.00   \n",
       "50  District of Columbia    DC  9.98  9.98   9.50  9.50  9.98  9.98  9.98   \n",
       "\n",
       "    2007  ...  2014  2015  2016  2017  2018  2019  2020  2021  2022  2023  \n",
       "0   6.50  ...  6.50  6.50  6.50  6.50  6.50  6.50  6.50  6.50  6.50  6.50  \n",
       "1   5.44  ...  5.44  5.34  5.34  5.34  5.34  5.34  5.34  5.34  5.34  5.34  \n",
       "2   6.97  ...  6.50  5.50  5.50  4.90  4.90  4.90  4.90  4.90  4.90  4.90  \n",
       "3   3.92  ...  3.92  3.92  3.92  3.92  3.92  3.92  3.92  3.87  3.65  3.55  \n",
       "4   8.84  ...  8.84  8.84  8.84  8.84  8.84  8.84  8.84  8.84  8.84  8.84  \n",
       "5   4.63  ...  4.63  4.63  4.63  4.63  4.63  4.63  4.63  4.55  4.55  4.40  \n",
       "6   7.50  ...  9.00  9.00  9.00  9.00  8.25  7.50  7.50  7.50  7.50  7.50  \n",
       "7   8.70  ...  8.70  8.70  8.70  8.70  8.70  8.70  8.70  8.70  8.70  8.70  \n",
       "8   5.50  ...  5.50  5.50  5.50  5.50  5.50  5.50  4.46  4.46  5.50  5.50  \n",
       "9   6.00  ...  6.00  6.00  6.00  6.00  6.00  5.75  5.75  5.75  5.75  5.75  \n",
       "10  5.40  ...  5.40  5.40  5.40  5.40  5.40  5.40  5.40  5.40  5.40  5.40  \n",
       "11  7.60  ...  7.40  7.40  7.40  7.40  7.40  6.92  6.92  6.92  6.00  5.80  \n",
       "12  7.30  ...  9.50  7.75  7.75  7.75  9.50  9.50  9.50  9.50  9.50  9.50  \n",
       "13  8.50  ...  7.50  6.50  6.50  6.25  6.00  5.75  5.50  5.25  4.90  4.90  \n",
       "14  9.00  ...  9.00  9.00  9.00  9.00  9.00  9.00  9.00  8.10  8.10  6.95  \n",
       "15  5.68  ...  5.50  5.50  5.50  5.50  5.50  5.50  5.50  5.50  5.50  5.50  \n",
       "16  5.33  ...  5.00  5.00  5.00  5.00  5.00  5.00  5.00  5.00  5.00  5.00  \n",
       "17  6.00  ...  6.00  6.00  6.00  6.00  6.00  6.00  6.00  6.00  5.33  5.33  \n",
       "18  7.17  ...  7.17  7.17  7.17  7.17  7.17  7.17  7.17  7.17  7.17  7.17  \n",
       "19  7.00  ...  8.25  8.25  8.25  8.25  8.25  8.25  8.25  8.25  8.25  8.25  \n",
       "20  9.50  ...  8.00  8.00  8.00  8.00  8.00  8.00  8.00  8.00  8.00  8.00  \n",
       "21  1.90  ...  6.00  6.00  6.00  6.00  6.00  6.00  6.00  6.00  6.00  6.00  \n",
       "22  9.80  ...  9.80  9.80  9.80  9.80  9.80  9.80  9.80  9.80  9.80  9.80  \n",
       "23  4.00  ...  4.00  4.00  4.00  4.00  3.00  3.00  3.00  3.00  3.00  3.00  \n",
       "24  6.25  ...  6.25  6.25  6.25  6.25  6.25  6.25  4.00  4.00  4.00  4.00  \n",
       "25  6.75  ...  6.75  6.75  6.75  6.75  6.75  6.75  6.75  6.75  6.75  6.75  \n",
       "26  6.70  ...  6.70  6.70  6.70  6.70  6.70  6.70  6.70  6.70  6.70  6.42  \n",
       "27  0.00  ...  0.00  0.00  0.00  0.00  0.00  0.00  0.00  0.00  0.00  0.00  \n",
       "28  8.88  ...  8.50  8.50  8.50  8.20  8.20  7.70  7.70  7.70  7.60  7.50  \n",
       "29  7.67  ...  9.00  7.67  7.67  9.00  9.00  8.62  8.38  8.62  8.62  8.62  \n",
       "30  6.27  ...  6.17  5.93  5.93  5.83  5.35  5.35  5.35  5.35  5.35  5.35  \n",
       "31  7.50  ...  7.10  6.50  6.50  6.50  6.50  6.50  6.50  6.50  6.88  6.88  \n",
       "32  6.90  ...  6.00  4.00  4.00  3.00  3.00  2.50  2.50  2.50  2.50  2.50  \n",
       "33  5.14  ...  3.25  3.09  3.09  3.09  3.09  3.09  3.09  3.09  3.09  3.09  \n",
       "34  6.80  ...  0.00  0.00  0.00  0.00  0.00  0.00  0.00  0.00  0.00  0.00  \n",
       "35  6.00  ...  6.00  6.00  6.00  6.00  6.00  6.00  6.00  6.00  4.00  4.00  \n",
       "36  6.60  ...  7.10  7.10  7.10  7.10  7.10  7.10  7.10  7.10  7.10  7.10  \n",
       "37  9.99  ...  9.99  9.99  9.99  9.99  9.99  9.99  9.99  9.99  9.99  8.99  \n",
       "38  9.00  ...  9.00  7.00  7.00  7.00  7.00  7.00  7.00  7.00  7.00  7.00  \n",
       "39  5.00  ...  5.00  5.00  5.00  5.00  5.00  5.00  5.00  5.00  5.00  5.00  \n",
       "40  0.00  ...  0.00  0.00  0.00  0.00  0.00  0.00  0.00  0.00  0.00  0.00  \n",
       "41  6.50  ...  6.50  6.50  6.50  6.50  6.50  6.50  6.50  6.50  6.50  6.50  \n",
       "42  4.50  ...  0.00  0.00  0.00  0.00  0.00  0.00  0.00  0.00  0.00  0.00  \n",
       "43  5.00  ...  5.00  5.00  5.00  5.00  5.00  4.95  4.95  4.95  4.85  4.85  \n",
       "44  7.66  ...  7.17  7.17  7.17  7.17  7.17  7.17  7.17  7.17  7.17  7.17  \n",
       "45  6.00  ...  6.00  6.00  6.00  6.00  6.00  6.00  6.00  6.00  6.00  6.00  \n",
       "46  0.00  ...  0.00  0.00  0.00  0.00  0.00  0.00  0.00  0.00  0.00  0.00  \n",
       "47  9.00  ...  6.50  6.50  6.50  6.50  6.50  6.50  6.50  6.50  6.50  6.50  \n",
       "48  7.90  ...  7.90  7.90  7.90  7.90  7.90  7.90  7.90  7.90  7.90  7.90  \n",
       "49  0.00  ...  0.00  0.00  0.00  0.00  0.00  0.00  0.00  0.00  0.00  0.00  \n",
       "50  9.98  ...  9.98  9.40  9.40  9.00  8.25  8.25  8.25  8.25  8.25  8.25  \n",
       "\n",
       "[51 rows x 26 columns]"
      ]
     },
     "execution_count": 28,
     "metadata": {},
     "output_type": "execute_result"
    }
   ],
   "source": [
    "df = pd.read_csv(\"taxrates.csv\")\n",
    "df = df.rename(columns={\"State\":\"Name\", \"STUSPS\": \"State\"}).round(2)\n",
    "df"
   ]
  },
  {
   "cell_type": "code",
   "execution_count": 22,
   "id": "debf0216",
   "metadata": {},
   "outputs": [],
   "source": [
    "df = df.sort_values(by=['Name'])\n",
    "df = df.reset_index(drop= True)"
   ]
  },
  {
   "cell_type": "markdown",
   "id": "b3a806d6",
   "metadata": {},
   "source": [
    "Let us create another dataframe that calculates the changes in the tax rate from 2005-2023"
   ]
  },
  {
   "cell_type": "code",
   "execution_count": null,
   "id": "0970cdca",
   "metadata": {},
   "outputs": [],
   "source": [
    "df_change = df[[\"NAME\", \"STATE\"]]\n",
    "df_change.head()\n",
    "df_change[\"change\"] = df[\"2023\"] - df[\"2005\"]\n",
    "df_change.head()"
   ]
  },
  {
   "cell_type": "markdown",
   "id": "b61e33d3",
   "metadata": {},
   "source": [
    "To get an idea of the changes in the tax rates of each state, we transpose the data and plot a line graph using matplotlib."
   ]
  },
  {
   "cell_type": "code",
   "execution_count": null,
   "id": "322a5d5b",
   "metadata": {},
   "outputs": [],
   "source": [
    "df_t = df.T \n",
    "df_t.columns=df_t.iloc[0]\n",
    "df_t = df_t.tail(-2)\n",
    "df_t.head()\n"
   ]
  },
  {
   "cell_type": "code",
   "execution_count": null,
   "id": "f6750c24",
   "metadata": {},
   "outputs": [],
   "source": [
    "# plot the data\n",
    "ax = df_t.plot(figsize=(40,15))\n",
    "\n",
    "# set x-axis label and values\n",
    "ax.set_xlabel(\"Time\")\n",
    "ax.set_ylabel(\"Tax rate(%)\")\n",
    "\n",
    "plt.show()"
   ]
  },
  {
   "cell_type": "code",
   "execution_count": null,
   "id": "1120f67e",
   "metadata": {
    "scrolled": true
   },
   "outputs": [],
   "source": [
    "shapefile = 's_08mr23/s_08mr23.shp'\n",
    "gdf = gpd.read_file(shapefile)\n",
    "gdf"
   ]
  },
  {
   "cell_type": "code",
   "execution_count": null,
   "id": "0b1df434",
   "metadata": {
    "scrolled": false
   },
   "outputs": [],
   "source": [
    "#drop Puerto rico, Fed States of Micronesia, American Samoa, US Virgin Islands, Guam, Commonwealth of the northern mariana islands from file\n",
    "gdf = gdf.drop(index=[2,37,44,52,54,55,56,57])\n",
    "gdf = gdf.reset_index(drop=True)"
   ]
  },
  {
   "cell_type": "code",
   "execution_count": null,
   "id": "4c65a3e8",
   "metadata": {
    "scrolled": true
   },
   "outputs": [],
   "source": [
    "len(gdf)"
   ]
  },
  {
   "cell_type": "markdown",
   "id": "7dda1e57",
   "metadata": {},
   "source": [
    "Creating the merged dataset that will include the Tax rate as a column"
   ]
  },
  {
   "cell_type": "code",
   "execution_count": null,
   "id": "e0a92d54",
   "metadata": {},
   "outputs": [],
   "source": [
    "df_test = df_change[['STATE','change']].copy()\n",
    "df_test.head()"
   ]
  },
  {
   "cell_type": "code",
   "execution_count": null,
   "id": "46dc9c86",
   "metadata": {
    "scrolled": true
   },
   "outputs": [],
   "source": [
    "gdf.plot()"
   ]
  },
  {
   "cell_type": "markdown",
   "id": "18cbbb2c",
   "metadata": {},
   "source": [
    "We are going to clip Hawaii and Alaska and add them separately. "
   ]
  },
  {
   "cell_type": "code",
   "execution_count": null,
   "id": "e41cc48b",
   "metadata": {},
   "outputs": [],
   "source": [
    "alaska_gdf = gdf[gdf.STATE=='AK']\n",
    "alaska_gdf = alaska_gdf.merge(df_test, on=\"STATE\")\n",
    "#clipping some of the western islands to make it fit better\n",
    "polygon = Polygon([(-170,50),(-170,72),(-140, 72),(-140,50)])\n",
    "alaska_gdf = alaska_gdf.clip(polygon)\n",
    "alaska_gdf\n",
    "alaska_gdf.plot()"
   ]
  },
  {
   "cell_type": "code",
   "execution_count": null,
   "id": "69180f81",
   "metadata": {},
   "outputs": [],
   "source": [
    "polygon = Polygon([(-170,50),(-170,72),(-140, 72),(-140,40)])\n",
    "gdf_tester = gdf.clip(polygon)\n",
    "gdf.plot()"
   ]
  },
  {
   "cell_type": "code",
   "execution_count": null,
   "id": "7abcff30",
   "metadata": {
    "scrolled": false
   },
   "outputs": [],
   "source": [
    "hawaii_gdf = gdf[gdf.STATE=='HI']\n",
    "hawaii_gdf = hawaii_gdf.merge(df_test, on=\"STATE\")\n",
    "hawaii_gdf"
   ]
  },
  {
   "cell_type": "markdown",
   "id": "b73be452",
   "metadata": {},
   "source": [
    "Removing Alaska and Hawaii from the table due to mapping errors. Will add back later separately."
   ]
  },
  {
   "cell_type": "code",
   "execution_count": null,
   "id": "ec0083cc",
   "metadata": {},
   "outputs": [],
   "source": [
    "gdf_test = gdf.drop(gdf[gdf['STATE'] == 'AK'].index)\n",
    "gdf_test = gdf_test.drop(gdf_test[gdf_test['STATE'] == 'HI'].index)\n",
    "len(gdf_test)"
   ]
  },
  {
   "cell_type": "code",
   "execution_count": null,
   "id": "9555a90e",
   "metadata": {},
   "outputs": [],
   "source": [
    "from bokeh.models import GeoJSONDataSource, LinearColorMapper, ColorBar"
   ]
  },
  {
   "cell_type": "code",
   "execution_count": null,
   "id": "887f87c6",
   "metadata": {
    "scrolled": true
   },
   "outputs": [],
   "source": [
    "gdf_new = gdf_test.merge(df_test, on=\"STATE\")\n",
    "gdf_new"
   ]
  },
  {
   "cell_type": "markdown",
   "id": "e3cbae17",
   "metadata": {},
   "source": [
    "Plotting the values on a geographical map we get a heatmap:"
   ]
  },
  {
   "cell_type": "code",
   "execution_count": null,
   "id": "7a559b19",
   "metadata": {
    "scrolled": false
   },
   "outputs": [],
   "source": [
    "# Print the map\n",
    "# Set the range for the choropleth\n",
    "title = 'Changes in the corporate state tax from 2005-2023'\n",
    "col = 'change'\n",
    "vmin = gdf_new[col].min()\n",
    "vmax = gdf_new[col].max()\n",
    "cmap = 'RdYlGn_r'\n",
    "# Create figure and axes for Matplotlib\n",
    "fig, ax = plt.subplots(1, figsize=(20, 8))\n",
    "# Remove the axis\n",
    "ax.axis('off')\n",
    "gdf_new.plot(column=col, ax=ax, edgecolor='0.8', linewidth=0.5, cmap=cmap, legend=True)\n",
    "# Add a title\n",
    "ax.set_title(title, fontdict={'fontname': 'Times New Roman','fontsize': '25', 'fontweight': '3'})\n",
    "# Create an annotation for the data source\n",
    "\n",
    "#Add Alaska\n",
    "akax = fig.add_axes([0.1, 0.17, 0.2, 0.19])   \n",
    "akax.axis('off')\n",
    "alaska_gdf.plot(column=alaska_gdf[\"change\"], cmap=\"RdYlGn_r\", ax=akax, linewidth=0.5, edgecolor='0.8')\n",
    "\n",
    "#Add Hawaii\n",
    "hiax = fig.add_axes([.28, 0.20, 0.1, 0.1])      \n",
    "hiax.axis('off')\n",
    "hawaii_gdf.plot(column=hawaii_gdf[\"change\"], cmap=\"RdYlGn_r\", ax=hiax, linewidth=0.5, edgecolor='0.8')\n",
    "\n"
   ]
  },
  {
   "cell_type": "markdown",
   "id": "1afcd885",
   "metadata": {},
   "source": [
    "#### NOtes: \n",
    "1. if the state is 0- it should be white indicating no change. Currently it is confusing since its a redder hue\n",
    "2. "
   ]
  },
  {
   "cell_type": "code",
   "execution_count": null,
   "id": "3561e742",
   "metadata": {},
   "outputs": [],
   "source": []
  },
  {
   "cell_type": "code",
   "execution_count": null,
   "id": "831d1160",
   "metadata": {
    "scrolled": true
   },
   "outputs": [],
   "source": [
    "df_change"
   ]
  },
  {
   "cell_type": "code",
   "execution_count": null,
   "id": "6311e66f",
   "metadata": {},
   "outputs": [],
   "source": [
    "import matplotlib.pyplot as plt\n",
    "from mpl_toolkits.mplot3d import Axes3D\n",
    "\n",
    "# Sample data\n",
    "years = [2010, 2011, 2012, 2013, 2014, 2015, 2016]\n",
    "business_applications = [100, 120, 140, 160, 180, 200, 220]\n",
    "tax_rates = [10, 9, 8, 7, 6, 5, 4]\n",
    "\n",
    "# Create a 3D plot\n",
    "fig = plt.figure()\n",
    "ax = fig.add_subplot(111, projection='3d')\n",
    "\n",
    "# Plot the data\n",
    "ax.scatter(years, business_applications, tax_rates, c='b', marker='o')\n",
    "\n",
    "# Set labels for the axes\n",
    "ax.set_xlabel('Year')\n",
    "ax.set_ylabel('Number of Business Applications')\n",
    "ax.set_zlabel('Tax Rate')\n",
    "\n",
    "plt.title('3D Graph: Business Applications vs. Year vs. Tax Rate')\n",
    "\n",
    "plt.show()\n",
    "\n",
    "\n",
    "\n"
   ]
  },
  {
   "cell_type": "code",
   "execution_count": null,
   "id": "306b6782",
   "metadata": {
    "scrolled": true
   },
   "outputs": [],
   "source": [
    "import plotly.express as px\n",
    "\n",
    "# Sample data\n",
    "years = [2010, 2011, 2012, 2013, 2014, 2015, 2016]\n",
    "business_applications = [100, 120, 140, 160, 180, 200, 220]\n",
    "tax_rates = [10, 9, 8, 7, 6, 5, 4]\n",
    "\n",
    "# Create a DataFrame with the data\n",
    "import pandas as pd\n",
    "df = pd.DataFrame({'Year': years, 'Business Applications': business_applications, 'Tax Rate': tax_rates})\n",
    "\n",
    "# Create an interactive 3D scatter plot\n",
    "fig = px.scatter_3d(df, x='Year', y='Business Applications', z='Tax Rate', title='3D Scatter Plot')\n",
    "\n",
    "# Show the plot\n",
    "fig.show()"
   ]
  },
  {
   "cell_type": "code",
   "execution_count": null,
   "id": "c6e1dc43",
   "metadata": {},
   "outputs": [],
   "source": [
    "import pandas as pd\n",
    "import matplotlib.pyplot as plt\n",
    "\n",
    "# Sample data\n",
    "years = [2010, 2011, 2012, 2013, 2014, 2015, 2016]\n",
    "number_of_businesses = [100, 120, 140, 160, 180, 200, 220]\n",
    "tax_rate = [10, 9, 8, 7, 6, 5, 4]\n",
    "\n",
    "# Create a DataFrame\n",
    "df = pd.DataFrame({'Year': years, 'Number of Businesses': number_of_businesses, 'Tax Rate': tax_rate})\n",
    "\n",
    "# Calculate the correlation\n",
    "correlation = df['Number of Businesses'].corr(df['Tax Rate'])\n",
    "\n",
    "# Create the bubble plot\n",
    "plt.figure(figsize=(10, 6))\n",
    "plt.scatter(df['Number of Businesses'], df['Tax Rate'], s=correlation * 1000, alpha=0.6, c='blue', label='Correlation Bubble Plot')\n",
    "plt.title('Bubble Plot: Number of Businesses vs. Tax Rate')\n",
    "plt.xlabel('Number of Businesses')\n",
    "plt.ylabel('Tax Rate')\n",
    "\n",
    "# Annotate the correlation value\n",
    "plt.annotate(f'Correlation: {correlation:.2f}', xy=(150, 7.5), fontsize=12, color='red')\n",
    "\n",
    "plt.show()\n"
   ]
  },
  {
   "cell_type": "markdown",
   "id": "0538548e",
   "metadata": {},
   "source": [
    "#### Idea\n",
    "\n",
    "ANOUSHKA'S PENDING WORK: \n",
    "\n",
    "Bubble chart - \n",
    "<br>size of bubble - GDP or population of the state\n",
    "<br>x axis is tax rate\n",
    "<br>y axis is # of businesses \n",
    "\n",
    "ALEX: (Graph 1)\n",
    "First chart - \n",
    "<br>change the absolute values to share of # of business applications and see change in the shares for top 5 states\n",
    "<br>keep existing charts as well so we can see which is giving better result"
   ]
  },
  {
   "cell_type": "code",
   "execution_count": null,
   "id": "89136e15",
   "metadata": {
    "scrolled": true
   },
   "outputs": [],
   "source": [
    "df.head()"
   ]
  },
  {
   "cell_type": "code",
   "execution_count": null,
   "id": "4b32c6d1",
   "metadata": {
    "scrolled": true
   },
   "outputs": [],
   "source": [
    "pip install plotly==5.18.0"
   ]
  },
  {
   "cell_type": "code",
   "execution_count": null,
   "id": "8f4b0320",
   "metadata": {},
   "outputs": [],
   "source": [
    "import plotly.express as px\n",
    "\n",
    "df = px.data.gapminder()\n",
    "\n",
    "fig = px.scatter(df.query(\"year==2007\"), x=\"gdpPercap\", y=\"lifeExp\",\n",
    "\t         size=\"pop\", color=\"continent\",\n",
    "                 hover_name=\"country\", log_x=True, size_max=60)\n",
    "fig.show()\n",
    "df.head()"
   ]
  },
  {
   "cell_type": "code",
   "execution_count": null,
   "id": "542e797c",
   "metadata": {},
   "outputs": [],
   "source": [
    "df.head()"
   ]
  },
  {
   "cell_type": "markdown",
   "id": "88e46922",
   "metadata": {},
   "source": [
    "for bubble chart, i would need a new df that is state, tax rate, population, # of business applications where \n",
    "x= tax rate\n",
    "y = # of business registrations \n",
    "size = population \n",
    "color = 1 color or can decide \n",
    "download population \n",
    "\n",
    "make another that is all change - 2005-2021 "
   ]
  },
  {
   "cell_type": "code",
   "execution_count": 46,
   "id": "e0df2dc1",
   "metadata": {},
   "outputs": [
    {
     "data": {
      "text/html": [
       "<div>\n",
       "<style scoped>\n",
       "    .dataframe tbody tr th:only-of-type {\n",
       "        vertical-align: middle;\n",
       "    }\n",
       "\n",
       "    .dataframe tbody tr th {\n",
       "        vertical-align: top;\n",
       "    }\n",
       "\n",
       "    .dataframe thead th {\n",
       "        text-align: right;\n",
       "    }\n",
       "</style>\n",
       "<table border=\"1\" class=\"dataframe\">\n",
       "  <thead>\n",
       "    <tr style=\"text-align: right;\">\n",
       "      <th></th>\n",
       "      <th>Name</th>\n",
       "      <th>State</th>\n",
       "      <th>2022</th>\n",
       "    </tr>\n",
       "  </thead>\n",
       "  <tbody>\n",
       "    <tr>\n",
       "      <th>0</th>\n",
       "      <td>Alabama</td>\n",
       "      <td>AL</td>\n",
       "      <td>6.50</td>\n",
       "    </tr>\n",
       "    <tr>\n",
       "      <th>1</th>\n",
       "      <td>Alaska</td>\n",
       "      <td>AK</td>\n",
       "      <td>5.34</td>\n",
       "    </tr>\n",
       "    <tr>\n",
       "      <th>2</th>\n",
       "      <td>Arizona</td>\n",
       "      <td>AZ</td>\n",
       "      <td>4.90</td>\n",
       "    </tr>\n",
       "    <tr>\n",
       "      <th>3</th>\n",
       "      <td>Arkansas</td>\n",
       "      <td>AR</td>\n",
       "      <td>3.65</td>\n",
       "    </tr>\n",
       "    <tr>\n",
       "      <th>4</th>\n",
       "      <td>California</td>\n",
       "      <td>CA</td>\n",
       "      <td>8.84</td>\n",
       "    </tr>\n",
       "  </tbody>\n",
       "</table>\n",
       "</div>"
      ],
      "text/plain": [
       "         Name State  2022\n",
       "0     Alabama    AL  6.50\n",
       "1      Alaska    AK  5.34\n",
       "2     Arizona    AZ  4.90\n",
       "3    Arkansas    AR  3.65\n",
       "4  California    CA  8.84"
      ]
     },
     "execution_count": 46,
     "metadata": {},
     "output_type": "execute_result"
    }
   ],
   "source": [
    "df_temp = df[['Name', 'State', '2022']]\n",
    "df_temp.head()"
   ]
  },
  {
   "cell_type": "code",
   "execution_count": 59,
   "id": "1b2fe90d",
   "metadata": {},
   "outputs": [
    {
     "data": {
      "text/plain": [
       "Name     object\n",
       "State    object\n",
       "2005      int64\n",
       "2006      int64\n",
       "2007      int64\n",
       "2008      int64\n",
       "2009      int64\n",
       "2010      int64\n",
       "2011      int64\n",
       "2012      int64\n",
       "2013      int64\n",
       "2014      int64\n",
       "2015      int64\n",
       "2016      int64\n",
       "2017      int64\n",
       "2018      int64\n",
       "2019      int64\n",
       "2020      int64\n",
       "2021      int64\n",
       "2022      int64\n",
       "dtype: object"
      ]
     },
     "execution_count": 59,
     "metadata": {},
     "output_type": "execute_result"
    }
   ],
   "source": [
    "df_biz = pd.read_csv('biz_apps_new.csv')\n",
    "\n",
    "# Drop columns excluded from analyses (2022)\n",
    "# These years were selected to take different datasets into account\n",
    "df_biz.dtypes"
   ]
  },
  {
   "cell_type": "code",
   "execution_count": 58,
   "id": "7635094a",
   "metadata": {},
   "outputs": [
    {
     "data": {
      "text/html": [
       "<div>\n",
       "<style scoped>\n",
       "    .dataframe tbody tr th:only-of-type {\n",
       "        vertical-align: middle;\n",
       "    }\n",
       "\n",
       "    .dataframe tbody tr th {\n",
       "        vertical-align: top;\n",
       "    }\n",
       "\n",
       "    .dataframe thead th {\n",
       "        text-align: right;\n",
       "    }\n",
       "</style>\n",
       "<table border=\"1\" class=\"dataframe\">\n",
       "  <thead>\n",
       "    <tr style=\"text-align: right;\">\n",
       "      <th></th>\n",
       "      <th>Name</th>\n",
       "      <th>State</th>\n",
       "      <th>tax_rate</th>\n",
       "      <th>business_apps</th>\n",
       "      <th>pop</th>\n",
       "    </tr>\n",
       "  </thead>\n",
       "  <tbody>\n",
       "    <tr>\n",
       "      <th>0</th>\n",
       "      <td>Alabama</td>\n",
       "      <td>AL</td>\n",
       "      <td>6.50</td>\n",
       "      <td>70750</td>\n",
       "      <td>5074296</td>\n",
       "    </tr>\n",
       "    <tr>\n",
       "      <th>1</th>\n",
       "      <td>Alaska</td>\n",
       "      <td>AK</td>\n",
       "      <td>5.34</td>\n",
       "      <td>8456</td>\n",
       "      <td>733583</td>\n",
       "    </tr>\n",
       "    <tr>\n",
       "      <th>2</th>\n",
       "      <td>Arizona</td>\n",
       "      <td>AZ</td>\n",
       "      <td>4.90</td>\n",
       "      <td>115080</td>\n",
       "      <td>7359197</td>\n",
       "    </tr>\n",
       "    <tr>\n",
       "      <th>3</th>\n",
       "      <td>Arkansas</td>\n",
       "      <td>AR</td>\n",
       "      <td>3.65</td>\n",
       "      <td>37562</td>\n",
       "      <td>3045637</td>\n",
       "    </tr>\n",
       "    <tr>\n",
       "      <th>4</th>\n",
       "      <td>California</td>\n",
       "      <td>CA</td>\n",
       "      <td>8.84</td>\n",
       "      <td>485954</td>\n",
       "      <td>39029342</td>\n",
       "    </tr>\n",
       "  </tbody>\n",
       "</table>\n",
       "</div>"
      ],
      "text/plain": [
       "         Name State  tax_rate  business_apps       pop\n",
       "0     Alabama    AL      6.50          70750   5074296\n",
       "1      Alaska    AK      5.34           8456    733583\n",
       "2     Arizona    AZ      4.90         115080   7359197\n",
       "3    Arkansas    AR      3.65          37562   3045637\n",
       "4  California    CA      8.84         485954  39029342"
      ]
     },
     "execution_count": 58,
     "metadata": {},
     "output_type": "execute_result"
    }
   ],
   "source": [
    "df_temp = df_temp.rename(columns={\"2022\":\"tax_rate\"})\n",
    "df_temp[\"business_apps\"] = df_biz['2022']\n",
    "df_temp.head()"
   ]
  },
  {
   "cell_type": "code",
   "execution_count": 64,
   "id": "161f801a",
   "metadata": {},
   "outputs": [
    {
     "data": {
      "text/html": [
       "<div>\n",
       "<style scoped>\n",
       "    .dataframe tbody tr th:only-of-type {\n",
       "        vertical-align: middle;\n",
       "    }\n",
       "\n",
       "    .dataframe tbody tr th {\n",
       "        vertical-align: top;\n",
       "    }\n",
       "\n",
       "    .dataframe thead th {\n",
       "        text-align: right;\n",
       "    }\n",
       "</style>\n",
       "<table border=\"1\" class=\"dataframe\">\n",
       "  <thead>\n",
       "    <tr style=\"text-align: right;\">\n",
       "      <th></th>\n",
       "      <th>index</th>\n",
       "      <th>State</th>\n",
       "      <th>2005</th>\n",
       "      <th>2020</th>\n",
       "      <th>2021</th>\n",
       "      <th>2022</th>\n",
       "    </tr>\n",
       "  </thead>\n",
       "  <tbody>\n",
       "    <tr>\n",
       "      <th>0</th>\n",
       "      <td>1</td>\n",
       "      <td>.Alabama</td>\n",
       "      <td>4569805</td>\n",
       "      <td>5031362</td>\n",
       "      <td>5049846</td>\n",
       "      <td>5074296</td>\n",
       "    </tr>\n",
       "    <tr>\n",
       "      <th>1</th>\n",
       "      <td>2</td>\n",
       "      <td>.Alaska</td>\n",
       "      <td>666946</td>\n",
       "      <td>732923</td>\n",
       "      <td>734182</td>\n",
       "      <td>733583</td>\n",
       "    </tr>\n",
       "    <tr>\n",
       "      <th>2</th>\n",
       "      <td>3</td>\n",
       "      <td>.Arizona</td>\n",
       "      <td>5839077</td>\n",
       "      <td>7179943</td>\n",
       "      <td>7264877</td>\n",
       "      <td>7359197</td>\n",
       "    </tr>\n",
       "    <tr>\n",
       "      <th>3</th>\n",
       "      <td>4</td>\n",
       "      <td>.Arkansas</td>\n",
       "      <td>2781097</td>\n",
       "      <td>3014195</td>\n",
       "      <td>3028122</td>\n",
       "      <td>3045637</td>\n",
       "    </tr>\n",
       "    <tr>\n",
       "      <th>4</th>\n",
       "      <td>5</td>\n",
       "      <td>.California</td>\n",
       "      <td>35827943</td>\n",
       "      <td>39501653</td>\n",
       "      <td>39142991</td>\n",
       "      <td>39029342</td>\n",
       "    </tr>\n",
       "  </tbody>\n",
       "</table>\n",
       "</div>"
      ],
      "text/plain": [
       "   index        State      2005      2020      2021      2022\n",
       "0      1     .Alabama   4569805   5031362   5049846   5074296\n",
       "1      2      .Alaska    666946    732923    734182    733583\n",
       "2      3     .Arizona   5839077   7179943   7264877   7359197\n",
       "3      4    .Arkansas   2781097   3014195   3028122   3045637\n",
       "4      5  .California  35827943  39501653  39142991  39029342"
      ]
     },
     "execution_count": 64,
     "metadata": {},
     "output_type": "execute_result"
    }
   ],
   "source": [
    "df_pop = pd.read_csv(\"NST-EST2022-POP.csv\")\n",
    "df_pop = df_pop.drop(index=0)\n",
    "df_pop = df_pop.reset_index()\n",
    "df_pop.head()"
   ]
  },
  {
   "cell_type": "code",
   "execution_count": 50,
   "id": "3739638e",
   "metadata": {},
   "outputs": [],
   "source": [
    "df_temp[\"pop\"] = df_pop['2022']"
   ]
  },
  {
   "cell_type": "code",
   "execution_count": 51,
   "id": "c2998a02",
   "metadata": {},
   "outputs": [],
   "source": [
    "df_temp['business_apps'] = df_temp['business_apps'].astype(int) "
   ]
  },
  {
   "cell_type": "code",
   "execution_count": 52,
   "id": "c578536c",
   "metadata": {},
   "outputs": [
    {
     "data": {
      "text/plain": [
       "Name              object\n",
       "State             object\n",
       "tax_rate         float64\n",
       "business_apps      int64\n",
       "pop                int64\n",
       "dtype: object"
      ]
     },
     "execution_count": 52,
     "metadata": {},
     "output_type": "execute_result"
    }
   ],
   "source": [
    "df_temp.dtypes"
   ]
  },
  {
   "cell_type": "code",
   "execution_count": 53,
   "id": "1af0b2da",
   "metadata": {},
   "outputs": [
    {
     "data": {
      "application/vnd.plotly.v1+json": {
       "config": {
        "plotlyServerURL": "https://plot.ly"
       },
       "data": [
        {
         "hovertemplate": "States=Alabama<br>Tax Rate=%{x}<br>Business Apps=%{y}<br>pop=%{marker.size}<extra></extra>",
         "legendgroup": "Alabama",
         "marker": {
          "color": "#636efa",
          "size": [
           5074296
          ],
          "sizemode": "area",
          "sizeref": 10841.483888888888,
          "symbol": "circle"
         },
         "mode": "markers",
         "name": "Alabama",
         "orientation": "v",
         "showlegend": true,
         "type": "scatter",
         "x": [
          6.5
         ],
         "xaxis": "x",
         "y": [
          70750
         ],
         "yaxis": "y"
        },
        {
         "hovertemplate": "States=Alaska<br>Tax Rate=%{x}<br>Business Apps=%{y}<br>pop=%{marker.size}<extra></extra>",
         "legendgroup": "Alaska",
         "marker": {
          "color": "#EF553B",
          "size": [
           733583
          ],
          "sizemode": "area",
          "sizeref": 10841.483888888888,
          "symbol": "circle"
         },
         "mode": "markers",
         "name": "Alaska",
         "orientation": "v",
         "showlegend": true,
         "type": "scatter",
         "x": [
          5.34
         ],
         "xaxis": "x",
         "y": [
          8456
         ],
         "yaxis": "y"
        },
        {
         "hovertemplate": "States=Arizona<br>Tax Rate=%{x}<br>Business Apps=%{y}<br>pop=%{marker.size}<extra></extra>",
         "legendgroup": "Arizona",
         "marker": {
          "color": "#00cc96",
          "size": [
           7359197
          ],
          "sizemode": "area",
          "sizeref": 10841.483888888888,
          "symbol": "circle"
         },
         "mode": "markers",
         "name": "Arizona",
         "orientation": "v",
         "showlegend": true,
         "type": "scatter",
         "x": [
          4.9
         ],
         "xaxis": "x",
         "y": [
          115080
         ],
         "yaxis": "y"
        },
        {
         "hovertemplate": "States=Arkansas<br>Tax Rate=%{x}<br>Business Apps=%{y}<br>pop=%{marker.size}<extra></extra>",
         "legendgroup": "Arkansas",
         "marker": {
          "color": "#ab63fa",
          "size": [
           3045637
          ],
          "sizemode": "area",
          "sizeref": 10841.483888888888,
          "symbol": "circle"
         },
         "mode": "markers",
         "name": "Arkansas",
         "orientation": "v",
         "showlegend": true,
         "type": "scatter",
         "x": [
          3.65
         ],
         "xaxis": "x",
         "y": [
          37562
         ],
         "yaxis": "y"
        },
        {
         "hovertemplate": "States=California<br>Tax Rate=%{x}<br>Business Apps=%{y}<br>pop=%{marker.size}<extra></extra>",
         "legendgroup": "California",
         "marker": {
          "color": "#FFA15A",
          "size": [
           39029342
          ],
          "sizemode": "area",
          "sizeref": 10841.483888888888,
          "symbol": "circle"
         },
         "mode": "markers",
         "name": "California",
         "orientation": "v",
         "showlegend": true,
         "type": "scatter",
         "x": [
          8.84
         ],
         "xaxis": "x",
         "y": [
          485954
         ],
         "yaxis": "y"
        },
        {
         "hovertemplate": "States=Colorado<br>Tax Rate=%{x}<br>Business Apps=%{y}<br>pop=%{marker.size}<extra></extra>",
         "legendgroup": "Colorado",
         "marker": {
          "color": "#19d3f3",
          "size": [
           5839926
          ],
          "sizemode": "area",
          "sizeref": 10841.483888888888,
          "symbol": "circle"
         },
         "mode": "markers",
         "name": "Colorado",
         "orientation": "v",
         "showlegend": true,
         "type": "scatter",
         "x": [
          4.55
         ],
         "xaxis": "x",
         "y": [
          115689
         ],
         "yaxis": "y"
        },
        {
         "hovertemplate": "States=Connecticut<br>Tax Rate=%{x}<br>Business Apps=%{y}<br>pop=%{marker.size}<extra></extra>",
         "legendgroup": "Connecticut",
         "marker": {
          "color": "#FF6692",
          "size": [
           3626205
          ],
          "sizemode": "area",
          "sizeref": 10841.483888888888,
          "symbol": "circle"
         },
         "mode": "markers",
         "name": "Connecticut",
         "orientation": "v",
         "showlegend": true,
         "type": "scatter",
         "x": [
          7.5
         ],
         "xaxis": "x",
         "y": [
          44568
         ],
         "yaxis": "y"
        },
        {
         "hovertemplate": "States=Delaware<br>Tax Rate=%{x}<br>Business Apps=%{y}<br>pop=%{marker.size}<extra></extra>",
         "legendgroup": "Delaware",
         "marker": {
          "color": "#B6E880",
          "size": [
           1018396
          ],
          "sizemode": "area",
          "sizeref": 10841.483888888888,
          "symbol": "circle"
         },
         "mode": "markers",
         "name": "Delaware",
         "orientation": "v",
         "showlegend": true,
         "type": "scatter",
         "x": [
          8.7
         ],
         "xaxis": "x",
         "y": [
          45471
         ],
         "yaxis": "y"
        },
        {
         "hovertemplate": "States=Florida<br>Tax Rate=%{x}<br>Business Apps=%{y}<br>pop=%{marker.size}<extra></extra>",
         "legendgroup": "Florida",
         "marker": {
          "color": "#FF97FF",
          "size": [
           671803
          ],
          "sizemode": "area",
          "sizeref": 10841.483888888888,
          "symbol": "circle"
         },
         "mode": "markers",
         "name": "Florida",
         "orientation": "v",
         "showlegend": true,
         "type": "scatter",
         "x": [
          5.5
         ],
         "xaxis": "x",
         "y": [
          14286
         ],
         "yaxis": "y"
        },
        {
         "hovertemplate": "States=Georgia<br>Tax Rate=%{x}<br>Business Apps=%{y}<br>pop=%{marker.size}<extra></extra>",
         "legendgroup": "Georgia",
         "marker": {
          "color": "#FECB52",
          "size": [
           22244823
          ],
          "sizemode": "area",
          "sizeref": 10841.483888888888,
          "symbol": "circle"
         },
         "mode": "markers",
         "name": "Georgia",
         "orientation": "v",
         "showlegend": true,
         "type": "scatter",
         "x": [
          5.75
         ],
         "xaxis": "x",
         "y": [
          607279
         ],
         "yaxis": "y"
        },
        {
         "hovertemplate": "States=Hawaii<br>Tax Rate=%{x}<br>Business Apps=%{y}<br>pop=%{marker.size}<extra></extra>",
         "legendgroup": "Hawaii",
         "marker": {
          "color": "#636efa",
          "size": [
           10912876
          ],
          "sizemode": "area",
          "sizeref": 10841.483888888888,
          "symbol": "circle"
         },
         "mode": "markers",
         "name": "Hawaii",
         "orientation": "v",
         "showlegend": true,
         "type": "scatter",
         "x": [
          5.4
         ],
         "xaxis": "x",
         "y": [
          272636
         ],
         "yaxis": "y"
        },
        {
         "hovertemplate": "States=Idaho<br>Tax Rate=%{x}<br>Business Apps=%{y}<br>pop=%{marker.size}<extra></extra>",
         "legendgroup": "Idaho",
         "marker": {
          "color": "#EF553B",
          "size": [
           1440196
          ],
          "sizemode": "area",
          "sizeref": 10841.483888888888,
          "symbol": "circle"
         },
         "mode": "markers",
         "name": "Idaho",
         "orientation": "v",
         "showlegend": true,
         "type": "scatter",
         "x": [
          6
         ],
         "xaxis": "x",
         "y": [
          18469
         ],
         "yaxis": "y"
        },
        {
         "hovertemplate": "States=Illinois<br>Tax Rate=%{x}<br>Business Apps=%{y}<br>pop=%{marker.size}<extra></extra>",
         "legendgroup": "Illinois",
         "marker": {
          "color": "#00cc96",
          "size": [
           1939033
          ],
          "sizemode": "area",
          "sizeref": 10841.483888888888,
          "symbol": "circle"
         },
         "mode": "markers",
         "name": "Illinois",
         "orientation": "v",
         "showlegend": true,
         "type": "scatter",
         "x": [
          9.5
         ],
         "xaxis": "x",
         "y": [
          29683
         ],
         "yaxis": "y"
        },
        {
         "hovertemplate": "States=Indiana<br>Tax Rate=%{x}<br>Business Apps=%{y}<br>pop=%{marker.size}<extra></extra>",
         "legendgroup": "Indiana",
         "marker": {
          "color": "#ab63fa",
          "size": [
           12582032
          ],
          "sizemode": "area",
          "sizeref": 10841.483888888888,
          "symbol": "circle"
         },
         "mode": "markers",
         "name": "Indiana",
         "orientation": "v",
         "showlegend": true,
         "type": "scatter",
         "x": [
          4.9
         ],
         "xaxis": "x",
         "y": [
          169449
         ],
         "yaxis": "y"
        },
        {
         "hovertemplate": "States=Iowa<br>Tax Rate=%{x}<br>Business Apps=%{y}<br>pop=%{marker.size}<extra></extra>",
         "legendgroup": "Iowa",
         "marker": {
          "color": "#FFA15A",
          "size": [
           6833037
          ],
          "sizemode": "area",
          "sizeref": 10841.483888888888,
          "symbol": "circle"
         },
         "mode": "markers",
         "name": "Iowa",
         "orientation": "v",
         "showlegend": true,
         "type": "scatter",
         "x": [
          8.1
         ],
         "xaxis": "x",
         "y": [
          82971
         ],
         "yaxis": "y"
        },
        {
         "hovertemplate": "States=Kansas<br>Tax Rate=%{x}<br>Business Apps=%{y}<br>pop=%{marker.size}<extra></extra>",
         "legendgroup": "Kansas",
         "marker": {
          "color": "#19d3f3",
          "size": [
           3200517
          ],
          "sizemode": "area",
          "sizeref": 10841.483888888888,
          "symbol": "circle"
         },
         "mode": "markers",
         "name": "Kansas",
         "orientation": "v",
         "showlegend": true,
         "type": "scatter",
         "x": [
          5.5
         ],
         "xaxis": "x",
         "y": [
          29762
         ],
         "yaxis": "y"
        },
        {
         "hovertemplate": "States=Kentucky<br>Tax Rate=%{x}<br>Business Apps=%{y}<br>pop=%{marker.size}<extra></extra>",
         "legendgroup": "Kentucky",
         "marker": {
          "color": "#FF6692",
          "size": [
           2937150
          ],
          "sizemode": "area",
          "sizeref": 10841.483888888888,
          "symbol": "circle"
         },
         "mode": "markers",
         "name": "Kentucky",
         "orientation": "v",
         "showlegend": true,
         "type": "scatter",
         "x": [
          5
         ],
         "xaxis": "x",
         "y": [
          30861
         ],
         "yaxis": "y"
        },
        {
         "hovertemplate": "States=Louisiana<br>Tax Rate=%{x}<br>Business Apps=%{y}<br>pop=%{marker.size}<extra></extra>",
         "legendgroup": "Louisiana",
         "marker": {
          "color": "#B6E880",
          "size": [
           4512310
          ],
          "sizemode": "area",
          "sizeref": 10841.483888888888,
          "symbol": "circle"
         },
         "mode": "markers",
         "name": "Louisiana",
         "orientation": "v",
         "showlegend": true,
         "type": "scatter",
         "x": [
          5.33
         ],
         "xaxis": "x",
         "y": [
          46553
         ],
         "yaxis": "y"
        },
        {
         "hovertemplate": "States=Maine<br>Tax Rate=%{x}<br>Business Apps=%{y}<br>pop=%{marker.size}<extra></extra>",
         "legendgroup": "Maine",
         "marker": {
          "color": "#FF97FF",
          "size": [
           4590241
          ],
          "sizemode": "area",
          "sizeref": 10841.483888888888,
          "symbol": "circle"
         },
         "mode": "markers",
         "name": "Maine",
         "orientation": "v",
         "showlegend": true,
         "type": "scatter",
         "x": [
          7.17
         ],
         "xaxis": "x",
         "y": [
          80385
         ],
         "yaxis": "y"
        },
        {
         "hovertemplate": "States=Maryland<br>Tax Rate=%{x}<br>Business Apps=%{y}<br>pop=%{marker.size}<extra></extra>",
         "legendgroup": "Maryland",
         "marker": {
          "color": "#FECB52",
          "size": [
           1385340
          ],
          "sizemode": "area",
          "sizeref": 10841.483888888888,
          "symbol": "circle"
         },
         "mode": "markers",
         "name": "Maryland",
         "orientation": "v",
         "showlegend": true,
         "type": "scatter",
         "x": [
          8.25
         ],
         "xaxis": "x",
         "y": [
          12917
         ],
         "yaxis": "y"
        },
        {
         "hovertemplate": "States=Massachusetts<br>Tax Rate=%{x}<br>Business Apps=%{y}<br>pop=%{marker.size}<extra></extra>",
         "legendgroup": "Massachusetts",
         "marker": {
          "color": "#636efa",
          "size": [
           6164660
          ],
          "sizemode": "area",
          "sizeref": 10841.483888888888,
          "symbol": "circle"
         },
         "mode": "markers",
         "name": "Massachusetts",
         "orientation": "v",
         "showlegend": true,
         "type": "scatter",
         "x": [
          8
         ],
         "xaxis": "x",
         "y": [
          99078
         ],
         "yaxis": "y"
        },
        {
         "hovertemplate": "States=Michigan<br>Tax Rate=%{x}<br>Business Apps=%{y}<br>pop=%{marker.size}<extra></extra>",
         "legendgroup": "Michigan",
         "marker": {
          "color": "#EF553B",
          "size": [
           6981974
          ],
          "sizemode": "area",
          "sizeref": 10841.483888888888,
          "symbol": "circle"
         },
         "mode": "markers",
         "name": "Michigan",
         "orientation": "v",
         "showlegend": true,
         "type": "scatter",
         "x": [
          6
         ],
         "xaxis": "x",
         "y": [
          71112
         ],
         "yaxis": "y"
        },
        {
         "hovertemplate": "States=Minnesota<br>Tax Rate=%{x}<br>Business Apps=%{y}<br>pop=%{marker.size}<extra></extra>",
         "legendgroup": "Minnesota",
         "marker": {
          "color": "#00cc96",
          "size": [
           10034113
          ],
          "sizemode": "area",
          "sizeref": 10841.483888888888,
          "symbol": "circle"
         },
         "mode": "markers",
         "name": "Minnesota",
         "orientation": "v",
         "showlegend": true,
         "type": "scatter",
         "x": [
          9.8
         ],
         "xaxis": "x",
         "y": [
          136794
         ],
         "yaxis": "y"
        },
        {
         "hovertemplate": "States=Mississippi<br>Tax Rate=%{x}<br>Business Apps=%{y}<br>pop=%{marker.size}<extra></extra>",
         "legendgroup": "Mississippi",
         "marker": {
          "color": "#ab63fa",
          "size": [
           5717184
          ],
          "sizemode": "area",
          "sizeref": 10841.483888888888,
          "symbol": "circle"
         },
         "mode": "markers",
         "name": "Mississippi",
         "orientation": "v",
         "showlegend": true,
         "type": "scatter",
         "x": [
          3
         ],
         "xaxis": "x",
         "y": [
          60878
         ],
         "yaxis": "y"
        },
        {
         "hovertemplate": "States=Missouri<br>Tax Rate=%{x}<br>Business Apps=%{y}<br>pop=%{marker.size}<extra></extra>",
         "legendgroup": "Missouri",
         "marker": {
          "color": "#FFA15A",
          "size": [
           2940057
          ],
          "sizemode": "area",
          "sizeref": 10841.483888888888,
          "symbol": "circle"
         },
         "mode": "markers",
         "name": "Missouri",
         "orientation": "v",
         "showlegend": true,
         "type": "scatter",
         "x": [
          4
         ],
         "xaxis": "x",
         "y": [
          55663
         ],
         "yaxis": "y"
        },
        {
         "hovertemplate": "States=Montana<br>Tax Rate=%{x}<br>Business Apps=%{y}<br>pop=%{marker.size}<extra></extra>",
         "legendgroup": "Montana",
         "marker": {
          "color": "#19d3f3",
          "size": [
           6177957
          ],
          "sizemode": "area",
          "sizeref": 10841.483888888888,
          "symbol": "circle"
         },
         "mode": "markers",
         "name": "Montana",
         "orientation": "v",
         "showlegend": true,
         "type": "scatter",
         "x": [
          6.75
         ],
         "xaxis": "x",
         "y": [
          80770
         ],
         "yaxis": "y"
        },
        {
         "hovertemplate": "States=Nebraska<br>Tax Rate=%{x}<br>Business Apps=%{y}<br>pop=%{marker.size}<extra></extra>",
         "legendgroup": "Nebraska",
         "marker": {
          "color": "#FF6692",
          "size": [
           1122867
          ],
          "sizemode": "area",
          "sizeref": 10841.483888888888,
          "symbol": "circle"
         },
         "mode": "markers",
         "name": "Nebraska",
         "orientation": "v",
         "showlegend": true,
         "type": "scatter",
         "x": [
          6.7
         ],
         "xaxis": "x",
         "y": [
          20527
         ],
         "yaxis": "y"
        },
        {
         "hovertemplate": "States=Nevada<br>Tax Rate=%{x}<br>Business Apps=%{y}<br>pop=%{marker.size}<extra></extra>",
         "legendgroup": "Nevada",
         "marker": {
          "color": "#B6E880",
          "size": [
           1967923
          ],
          "sizemode": "area",
          "sizeref": 10841.483888888888,
          "symbol": "circle"
         },
         "mode": "markers",
         "name": "Nevada",
         "orientation": "v",
         "showlegend": true,
         "type": "scatter",
         "x": [
          0
         ],
         "xaxis": "x",
         "y": [
          20386
         ],
         "yaxis": "y"
        },
        {
         "hovertemplate": "States=New Hampshire<br>Tax Rate=%{x}<br>Business Apps=%{y}<br>pop=%{marker.size}<extra></extra>",
         "legendgroup": "New Hampshire",
         "marker": {
          "color": "#FF97FF",
          "size": [
           3177772
          ],
          "sizemode": "area",
          "sizeref": 10841.483888888888,
          "symbol": "circle"
         },
         "mode": "markers",
         "name": "New Hampshire",
         "orientation": "v",
         "showlegend": true,
         "type": "scatter",
         "x": [
          7.6
         ],
         "xaxis": "x",
         "y": [
          61820
         ],
         "yaxis": "y"
        },
        {
         "hovertemplate": "States=New Jersey<br>Tax Rate=%{x}<br>Business Apps=%{y}<br>pop=%{marker.size}<extra></extra>",
         "legendgroup": "New Jersey",
         "marker": {
          "color": "#FECB52",
          "size": [
           1395231
          ],
          "sizemode": "area",
          "sizeref": 10841.483888888888,
          "symbol": "circle"
         },
         "mode": "markers",
         "name": "New Jersey",
         "orientation": "v",
         "showlegend": true,
         "type": "scatter",
         "x": [
          8.62
         ],
         "xaxis": "x",
         "y": [
          13893
         ],
         "yaxis": "y"
        },
        {
         "hovertemplate": "States=New Mexico<br>Tax Rate=%{x}<br>Business Apps=%{y}<br>pop=%{marker.size}<extra></extra>",
         "legendgroup": "New Mexico",
         "marker": {
          "color": "#636efa",
          "size": [
           9261699
          ],
          "sizemode": "area",
          "sizeref": 10841.483888888888,
          "symbol": "circle"
         },
         "mode": "markers",
         "name": "New Mexico",
         "orientation": "v",
         "showlegend": true,
         "type": "scatter",
         "x": [
          5.35
         ],
         "xaxis": "x",
         "y": [
          154032
         ],
         "yaxis": "y"
        },
        {
         "hovertemplate": "States=New York<br>Tax Rate=%{x}<br>Business Apps=%{y}<br>pop=%{marker.size}<extra></extra>",
         "legendgroup": "New York",
         "marker": {
          "color": "#EF553B",
          "size": [
           2113344
          ],
          "sizemode": "area",
          "sizeref": 10841.483888888888,
          "symbol": "circle"
         },
         "mode": "markers",
         "name": "New York",
         "orientation": "v",
         "showlegend": true,
         "type": "scatter",
         "x": [
          6.88
         ],
         "xaxis": "x",
         "y": [
          26969
         ],
         "yaxis": "y"
        },
        {
         "hovertemplate": "States=North Carolina <br>Tax Rate=%{x}<br>Business Apps=%{y}<br>pop=%{marker.size}<extra></extra>",
         "legendgroup": "North Carolina ",
         "marker": {
          "color": "#00cc96",
          "size": [
           19677151
          ],
          "sizemode": "area",
          "sizeref": 10841.483888888888,
          "symbol": "circle"
         },
         "mode": "markers",
         "name": "North Carolina ",
         "orientation": "v",
         "showlegend": true,
         "type": "scatter",
         "x": [
          2.5
         ],
         "xaxis": "x",
         "y": [
          298059
         ],
         "yaxis": "y"
        },
        {
         "hovertemplate": "States=North Dakota<br>Tax Rate=%{x}<br>Business Apps=%{y}<br>pop=%{marker.size}<extra></extra>",
         "legendgroup": "North Dakota",
         "marker": {
          "color": "#ab63fa",
          "size": [
           10698973
          ],
          "sizemode": "area",
          "sizeref": 10841.483888888888,
          "symbol": "circle"
         },
         "mode": "markers",
         "name": "North Dakota",
         "orientation": "v",
         "showlegend": true,
         "type": "scatter",
         "x": [
          3.09
         ],
         "xaxis": "x",
         "y": [
          163763
         ],
         "yaxis": "y"
        },
        {
         "hovertemplate": "States=Ohio <br>Tax Rate=%{x}<br>Business Apps=%{y}<br>pop=%{marker.size}<extra></extra>",
         "legendgroup": "Ohio ",
         "marker": {
          "color": "#FFA15A",
          "size": [
           779261
          ],
          "sizemode": "area",
          "sizeref": 10841.483888888888,
          "symbol": "circle"
         },
         "mode": "markers",
         "name": "Ohio ",
         "orientation": "v",
         "showlegend": true,
         "type": "scatter",
         "x": [
          0
         ],
         "xaxis": "x",
         "y": [
          7940
         ],
         "yaxis": "y"
        },
        {
         "hovertemplate": "States=Oklahoma<br>Tax Rate=%{x}<br>Business Apps=%{y}<br>pop=%{marker.size}<extra></extra>",
         "legendgroup": "Oklahoma",
         "marker": {
          "color": "#19d3f3",
          "size": [
           11756058
          ],
          "sizemode": "area",
          "sizeref": 10841.483888888888,
          "symbol": "circle"
         },
         "mode": "markers",
         "name": "Oklahoma",
         "orientation": "v",
         "showlegend": true,
         "type": "scatter",
         "x": [
          4
         ],
         "xaxis": "x",
         "y": [
          139706
         ],
         "yaxis": "y"
        },
        {
         "hovertemplate": "States=Oregon<br>Tax Rate=%{x}<br>Business Apps=%{y}<br>pop=%{marker.size}<extra></extra>",
         "legendgroup": "Oregon",
         "marker": {
          "color": "#FF6692",
          "size": [
           4019800
          ],
          "sizemode": "area",
          "sizeref": 10841.483888888888,
          "symbol": "circle"
         },
         "mode": "markers",
         "name": "Oregon",
         "orientation": "v",
         "showlegend": true,
         "type": "scatter",
         "x": [
          7.1
         ],
         "xaxis": "x",
         "y": [
          55020
         ],
         "yaxis": "y"
        },
        {
         "hovertemplate": "States=Pennsylvania<br>Tax Rate=%{x}<br>Business Apps=%{y}<br>pop=%{marker.size}<extra></extra>",
         "legendgroup": "Pennsylvania",
         "marker": {
          "color": "#B6E880",
          "size": [
           4240137
          ],
          "sizemode": "area",
          "sizeref": 10841.483888888888,
          "symbol": "circle"
         },
         "mode": "markers",
         "name": "Pennsylvania",
         "orientation": "v",
         "showlegend": true,
         "type": "scatter",
         "x": [
          9.99
         ],
         "xaxis": "x",
         "y": [
          49277
         ],
         "yaxis": "y"
        },
        {
         "hovertemplate": "States=Rhode Island<br>Tax Rate=%{x}<br>Business Apps=%{y}<br>pop=%{marker.size}<extra></extra>",
         "legendgroup": "Rhode Island",
         "marker": {
          "color": "#FF97FF",
          "size": [
           12972008
          ],
          "sizemode": "area",
          "sizeref": 10841.483888888888,
          "symbol": "circle"
         },
         "mode": "markers",
         "name": "Rhode Island",
         "orientation": "v",
         "showlegend": true,
         "type": "scatter",
         "x": [
          7
         ],
         "xaxis": "x",
         "y": [
          138402
         ],
         "yaxis": "y"
        },
        {
         "hovertemplate": "States=South Carolina<br>Tax Rate=%{x}<br>Business Apps=%{y}<br>pop=%{marker.size}<extra></extra>",
         "legendgroup": "South Carolina",
         "marker": {
          "color": "#FECB52",
          "size": [
           1093734
          ],
          "sizemode": "area",
          "sizeref": 10841.483888888888,
          "symbol": "circle"
         },
         "mode": "markers",
         "name": "South Carolina",
         "orientation": "v",
         "showlegend": true,
         "type": "scatter",
         "x": [
          5
         ],
         "xaxis": "x",
         "y": [
          10876
         ],
         "yaxis": "y"
        },
        {
         "hovertemplate": "States=South Dakota<br>Tax Rate=%{x}<br>Business Apps=%{y}<br>pop=%{marker.size}<extra></extra>",
         "legendgroup": "South Dakota",
         "marker": {
          "color": "#636efa",
          "size": [
           5282634
          ],
          "sizemode": "area",
          "sizeref": 10841.483888888888,
          "symbol": "circle"
         },
         "mode": "markers",
         "name": "South Dakota",
         "orientation": "v",
         "showlegend": true,
         "type": "scatter",
         "x": [
          0
         ],
         "xaxis": "x",
         "y": [
          90534
         ],
         "yaxis": "y"
        },
        {
         "hovertemplate": "States=Tennessee<br>Tax Rate=%{x}<br>Business Apps=%{y}<br>pop=%{marker.size}<extra></extra>",
         "legendgroup": "Tennessee",
         "marker": {
          "color": "#EF553B",
          "size": [
           909824
          ],
          "sizemode": "area",
          "sizeref": 10841.483888888888,
          "symbol": "circle"
         },
         "mode": "markers",
         "name": "Tennessee",
         "orientation": "v",
         "showlegend": true,
         "type": "scatter",
         "x": [
          6.5
         ],
         "xaxis": "x",
         "y": [
          10365
         ],
         "yaxis": "y"
        },
        {
         "hovertemplate": "States=Texas<br>Tax Rate=%{x}<br>Business Apps=%{y}<br>pop=%{marker.size}<extra></extra>",
         "legendgroup": "Texas",
         "marker": {
          "color": "#00cc96",
          "size": [
           7051339
          ],
          "sizemode": "area",
          "sizeref": 10841.483888888888,
          "symbol": "circle"
         },
         "mode": "markers",
         "name": "Texas",
         "orientation": "v",
         "showlegend": true,
         "type": "scatter",
         "x": [
          0
         ],
         "xaxis": "x",
         "y": [
          91283
         ],
         "yaxis": "y"
        },
        {
         "hovertemplate": "States=Utah<br>Tax Rate=%{x}<br>Business Apps=%{y}<br>pop=%{marker.size}<extra></extra>",
         "legendgroup": "Utah",
         "marker": {
          "color": "#ab63fa",
          "size": [
           30029572
          ],
          "sizemode": "area",
          "sizeref": 10841.483888888888,
          "symbol": "circle"
         },
         "mode": "markers",
         "name": "Utah",
         "orientation": "v",
         "showlegend": true,
         "type": "scatter",
         "x": [
          4.85
         ],
         "xaxis": "x",
         "y": [
          464959
         ],
         "yaxis": "y"
        },
        {
         "hovertemplate": "States=Vermont<br>Tax Rate=%{x}<br>Business Apps=%{y}<br>pop=%{marker.size}<extra></extra>",
         "legendgroup": "Vermont",
         "marker": {
          "color": "#FFA15A",
          "size": [
           3380800
          ],
          "sizemode": "area",
          "sizeref": 10841.483888888888,
          "symbol": "circle"
         },
         "mode": "markers",
         "name": "Vermont",
         "orientation": "v",
         "showlegend": true,
         "type": "scatter",
         "x": [
          7.17
         ],
         "xaxis": "x",
         "y": [
          65064
         ],
         "yaxis": "y"
        },
        {
         "hovertemplate": "States=Virginia<br>Tax Rate=%{x}<br>Business Apps=%{y}<br>pop=%{marker.size}<extra></extra>",
         "legendgroup": "Virginia",
         "marker": {
          "color": "#19d3f3",
          "size": [
           647064
          ],
          "sizemode": "area",
          "sizeref": 10841.483888888888,
          "symbol": "circle"
         },
         "mode": "markers",
         "name": "Virginia",
         "orientation": "v",
         "showlegend": true,
         "type": "scatter",
         "x": [
          6
         ],
         "xaxis": "x",
         "y": [
          7461
         ],
         "yaxis": "y"
        },
        {
         "hovertemplate": "States=Washington<br>Tax Rate=%{x}<br>Business Apps=%{y}<br>pop=%{marker.size}<extra></extra>",
         "legendgroup": "Washington",
         "marker": {
          "color": "#FF6692",
          "size": [
           8683619
          ],
          "sizemode": "area",
          "sizeref": 10841.483888888888,
          "symbol": "circle"
         },
         "mode": "markers",
         "name": "Washington",
         "orientation": "v",
         "showlegend": true,
         "type": "scatter",
         "x": [
          0
         ],
         "xaxis": "x",
         "y": [
          123426
         ],
         "yaxis": "y"
        },
        {
         "hovertemplate": "States=West Virginia<br>Tax Rate=%{x}<br>Business Apps=%{y}<br>pop=%{marker.size}<extra></extra>",
         "legendgroup": "West Virginia",
         "marker": {
          "color": "#B6E880",
          "size": [
           7785786
          ],
          "sizemode": "area",
          "sizeref": 10841.483888888888,
          "symbol": "circle"
         },
         "mode": "markers",
         "name": "West Virginia",
         "orientation": "v",
         "showlegend": true,
         "type": "scatter",
         "x": [
          6.5
         ],
         "xaxis": "x",
         "y": [
          88376
         ],
         "yaxis": "y"
        },
        {
         "hovertemplate": "States=Wisconsin <br>Tax Rate=%{x}<br>Business Apps=%{y}<br>pop=%{marker.size}<extra></extra>",
         "legendgroup": "Wisconsin ",
         "marker": {
          "color": "#FF97FF",
          "size": [
           1775156
          ],
          "sizemode": "area",
          "sizeref": 10841.483888888888,
          "symbol": "circle"
         },
         "mode": "markers",
         "name": "Wisconsin ",
         "orientation": "v",
         "showlegend": true,
         "type": "scatter",
         "x": [
          7.9
         ],
         "xaxis": "x",
         "y": [
          13770
         ],
         "yaxis": "y"
        },
        {
         "hovertemplate": "States=Wyoming<br>Tax Rate=%{x}<br>Business Apps=%{y}<br>pop=%{marker.size}<extra></extra>",
         "legendgroup": "Wyoming",
         "marker": {
          "color": "#FECB52",
          "size": [
           5892539
          ],
          "sizemode": "area",
          "sizeref": 10841.483888888888,
          "symbol": "circle"
         },
         "mode": "markers",
         "name": "Wyoming",
         "orientation": "v",
         "showlegend": true,
         "type": "scatter",
         "x": [
          0
         ],
         "xaxis": "x",
         "y": [
          64151
         ],
         "yaxis": "y"
        },
        {
         "hovertemplate": "States=District of Columbia<br>Tax Rate=%{x}<br>Business Apps=%{y}<br>pop=%{marker.size}<extra></extra>",
         "legendgroup": "District of Columbia",
         "marker": {
          "color": "#636efa",
          "size": [
           581381
          ],
          "sizemode": "area",
          "sizeref": 10841.483888888888,
          "symbol": "circle"
         },
         "mode": "markers",
         "name": "District of Columbia",
         "orientation": "v",
         "showlegend": true,
         "type": "scatter",
         "x": [
          8.25
         ],
         "xaxis": "x",
         "y": [
          41561
         ],
         "yaxis": "y"
        }
       ],
       "layout": {
        "legend": {
         "itemsizing": "constant",
         "title": {
          "text": "States"
         },
         "tracegroupgap": 0
        },
        "template": {
         "data": {
          "bar": [
           {
            "error_x": {
             "color": "#2a3f5f"
            },
            "error_y": {
             "color": "#2a3f5f"
            },
            "marker": {
             "line": {
              "color": "#E5ECF6",
              "width": 0.5
             },
             "pattern": {
              "fillmode": "overlay",
              "size": 10,
              "solidity": 0.2
             }
            },
            "type": "bar"
           }
          ],
          "barpolar": [
           {
            "marker": {
             "line": {
              "color": "#E5ECF6",
              "width": 0.5
             },
             "pattern": {
              "fillmode": "overlay",
              "size": 10,
              "solidity": 0.2
             }
            },
            "type": "barpolar"
           }
          ],
          "carpet": [
           {
            "aaxis": {
             "endlinecolor": "#2a3f5f",
             "gridcolor": "white",
             "linecolor": "white",
             "minorgridcolor": "white",
             "startlinecolor": "#2a3f5f"
            },
            "baxis": {
             "endlinecolor": "#2a3f5f",
             "gridcolor": "white",
             "linecolor": "white",
             "minorgridcolor": "white",
             "startlinecolor": "#2a3f5f"
            },
            "type": "carpet"
           }
          ],
          "choropleth": [
           {
            "colorbar": {
             "outlinewidth": 0,
             "ticks": ""
            },
            "type": "choropleth"
           }
          ],
          "contour": [
           {
            "colorbar": {
             "outlinewidth": 0,
             "ticks": ""
            },
            "colorscale": [
             [
              0,
              "#0d0887"
             ],
             [
              0.1111111111111111,
              "#46039f"
             ],
             [
              0.2222222222222222,
              "#7201a8"
             ],
             [
              0.3333333333333333,
              "#9c179e"
             ],
             [
              0.4444444444444444,
              "#bd3786"
             ],
             [
              0.5555555555555556,
              "#d8576b"
             ],
             [
              0.6666666666666666,
              "#ed7953"
             ],
             [
              0.7777777777777778,
              "#fb9f3a"
             ],
             [
              0.8888888888888888,
              "#fdca26"
             ],
             [
              1,
              "#f0f921"
             ]
            ],
            "type": "contour"
           }
          ],
          "contourcarpet": [
           {
            "colorbar": {
             "outlinewidth": 0,
             "ticks": ""
            },
            "type": "contourcarpet"
           }
          ],
          "heatmap": [
           {
            "colorbar": {
             "outlinewidth": 0,
             "ticks": ""
            },
            "colorscale": [
             [
              0,
              "#0d0887"
             ],
             [
              0.1111111111111111,
              "#46039f"
             ],
             [
              0.2222222222222222,
              "#7201a8"
             ],
             [
              0.3333333333333333,
              "#9c179e"
             ],
             [
              0.4444444444444444,
              "#bd3786"
             ],
             [
              0.5555555555555556,
              "#d8576b"
             ],
             [
              0.6666666666666666,
              "#ed7953"
             ],
             [
              0.7777777777777778,
              "#fb9f3a"
             ],
             [
              0.8888888888888888,
              "#fdca26"
             ],
             [
              1,
              "#f0f921"
             ]
            ],
            "type": "heatmap"
           }
          ],
          "heatmapgl": [
           {
            "colorbar": {
             "outlinewidth": 0,
             "ticks": ""
            },
            "colorscale": [
             [
              0,
              "#0d0887"
             ],
             [
              0.1111111111111111,
              "#46039f"
             ],
             [
              0.2222222222222222,
              "#7201a8"
             ],
             [
              0.3333333333333333,
              "#9c179e"
             ],
             [
              0.4444444444444444,
              "#bd3786"
             ],
             [
              0.5555555555555556,
              "#d8576b"
             ],
             [
              0.6666666666666666,
              "#ed7953"
             ],
             [
              0.7777777777777778,
              "#fb9f3a"
             ],
             [
              0.8888888888888888,
              "#fdca26"
             ],
             [
              1,
              "#f0f921"
             ]
            ],
            "type": "heatmapgl"
           }
          ],
          "histogram": [
           {
            "marker": {
             "pattern": {
              "fillmode": "overlay",
              "size": 10,
              "solidity": 0.2
             }
            },
            "type": "histogram"
           }
          ],
          "histogram2d": [
           {
            "colorbar": {
             "outlinewidth": 0,
             "ticks": ""
            },
            "colorscale": [
             [
              0,
              "#0d0887"
             ],
             [
              0.1111111111111111,
              "#46039f"
             ],
             [
              0.2222222222222222,
              "#7201a8"
             ],
             [
              0.3333333333333333,
              "#9c179e"
             ],
             [
              0.4444444444444444,
              "#bd3786"
             ],
             [
              0.5555555555555556,
              "#d8576b"
             ],
             [
              0.6666666666666666,
              "#ed7953"
             ],
             [
              0.7777777777777778,
              "#fb9f3a"
             ],
             [
              0.8888888888888888,
              "#fdca26"
             ],
             [
              1,
              "#f0f921"
             ]
            ],
            "type": "histogram2d"
           }
          ],
          "histogram2dcontour": [
           {
            "colorbar": {
             "outlinewidth": 0,
             "ticks": ""
            },
            "colorscale": [
             [
              0,
              "#0d0887"
             ],
             [
              0.1111111111111111,
              "#46039f"
             ],
             [
              0.2222222222222222,
              "#7201a8"
             ],
             [
              0.3333333333333333,
              "#9c179e"
             ],
             [
              0.4444444444444444,
              "#bd3786"
             ],
             [
              0.5555555555555556,
              "#d8576b"
             ],
             [
              0.6666666666666666,
              "#ed7953"
             ],
             [
              0.7777777777777778,
              "#fb9f3a"
             ],
             [
              0.8888888888888888,
              "#fdca26"
             ],
             [
              1,
              "#f0f921"
             ]
            ],
            "type": "histogram2dcontour"
           }
          ],
          "mesh3d": [
           {
            "colorbar": {
             "outlinewidth": 0,
             "ticks": ""
            },
            "type": "mesh3d"
           }
          ],
          "parcoords": [
           {
            "line": {
             "colorbar": {
              "outlinewidth": 0,
              "ticks": ""
             }
            },
            "type": "parcoords"
           }
          ],
          "pie": [
           {
            "automargin": true,
            "type": "pie"
           }
          ],
          "scatter": [
           {
            "fillpattern": {
             "fillmode": "overlay",
             "size": 10,
             "solidity": 0.2
            },
            "type": "scatter"
           }
          ],
          "scatter3d": [
           {
            "line": {
             "colorbar": {
              "outlinewidth": 0,
              "ticks": ""
             }
            },
            "marker": {
             "colorbar": {
              "outlinewidth": 0,
              "ticks": ""
             }
            },
            "type": "scatter3d"
           }
          ],
          "scattercarpet": [
           {
            "marker": {
             "colorbar": {
              "outlinewidth": 0,
              "ticks": ""
             }
            },
            "type": "scattercarpet"
           }
          ],
          "scattergeo": [
           {
            "marker": {
             "colorbar": {
              "outlinewidth": 0,
              "ticks": ""
             }
            },
            "type": "scattergeo"
           }
          ],
          "scattergl": [
           {
            "marker": {
             "colorbar": {
              "outlinewidth": 0,
              "ticks": ""
             }
            },
            "type": "scattergl"
           }
          ],
          "scattermapbox": [
           {
            "marker": {
             "colorbar": {
              "outlinewidth": 0,
              "ticks": ""
             }
            },
            "type": "scattermapbox"
           }
          ],
          "scatterpolar": [
           {
            "marker": {
             "colorbar": {
              "outlinewidth": 0,
              "ticks": ""
             }
            },
            "type": "scatterpolar"
           }
          ],
          "scatterpolargl": [
           {
            "marker": {
             "colorbar": {
              "outlinewidth": 0,
              "ticks": ""
             }
            },
            "type": "scatterpolargl"
           }
          ],
          "scatterternary": [
           {
            "marker": {
             "colorbar": {
              "outlinewidth": 0,
              "ticks": ""
             }
            },
            "type": "scatterternary"
           }
          ],
          "surface": [
           {
            "colorbar": {
             "outlinewidth": 0,
             "ticks": ""
            },
            "colorscale": [
             [
              0,
              "#0d0887"
             ],
             [
              0.1111111111111111,
              "#46039f"
             ],
             [
              0.2222222222222222,
              "#7201a8"
             ],
             [
              0.3333333333333333,
              "#9c179e"
             ],
             [
              0.4444444444444444,
              "#bd3786"
             ],
             [
              0.5555555555555556,
              "#d8576b"
             ],
             [
              0.6666666666666666,
              "#ed7953"
             ],
             [
              0.7777777777777778,
              "#fb9f3a"
             ],
             [
              0.8888888888888888,
              "#fdca26"
             ],
             [
              1,
              "#f0f921"
             ]
            ],
            "type": "surface"
           }
          ],
          "table": [
           {
            "cells": {
             "fill": {
              "color": "#EBF0F8"
             },
             "line": {
              "color": "white"
             }
            },
            "header": {
             "fill": {
              "color": "#C8D4E3"
             },
             "line": {
              "color": "white"
             }
            },
            "type": "table"
           }
          ]
         },
         "layout": {
          "annotationdefaults": {
           "arrowcolor": "#2a3f5f",
           "arrowhead": 0,
           "arrowwidth": 1
          },
          "autotypenumbers": "strict",
          "coloraxis": {
           "colorbar": {
            "outlinewidth": 0,
            "ticks": ""
           }
          },
          "colorscale": {
           "diverging": [
            [
             0,
             "#8e0152"
            ],
            [
             0.1,
             "#c51b7d"
            ],
            [
             0.2,
             "#de77ae"
            ],
            [
             0.3,
             "#f1b6da"
            ],
            [
             0.4,
             "#fde0ef"
            ],
            [
             0.5,
             "#f7f7f7"
            ],
            [
             0.6,
             "#e6f5d0"
            ],
            [
             0.7,
             "#b8e186"
            ],
            [
             0.8,
             "#7fbc41"
            ],
            [
             0.9,
             "#4d9221"
            ],
            [
             1,
             "#276419"
            ]
           ],
           "sequential": [
            [
             0,
             "#0d0887"
            ],
            [
             0.1111111111111111,
             "#46039f"
            ],
            [
             0.2222222222222222,
             "#7201a8"
            ],
            [
             0.3333333333333333,
             "#9c179e"
            ],
            [
             0.4444444444444444,
             "#bd3786"
            ],
            [
             0.5555555555555556,
             "#d8576b"
            ],
            [
             0.6666666666666666,
             "#ed7953"
            ],
            [
             0.7777777777777778,
             "#fb9f3a"
            ],
            [
             0.8888888888888888,
             "#fdca26"
            ],
            [
             1,
             "#f0f921"
            ]
           ],
           "sequentialminus": [
            [
             0,
             "#0d0887"
            ],
            [
             0.1111111111111111,
             "#46039f"
            ],
            [
             0.2222222222222222,
             "#7201a8"
            ],
            [
             0.3333333333333333,
             "#9c179e"
            ],
            [
             0.4444444444444444,
             "#bd3786"
            ],
            [
             0.5555555555555556,
             "#d8576b"
            ],
            [
             0.6666666666666666,
             "#ed7953"
            ],
            [
             0.7777777777777778,
             "#fb9f3a"
            ],
            [
             0.8888888888888888,
             "#fdca26"
            ],
            [
             1,
             "#f0f921"
            ]
           ]
          },
          "colorway": [
           "#636efa",
           "#EF553B",
           "#00cc96",
           "#ab63fa",
           "#FFA15A",
           "#19d3f3",
           "#FF6692",
           "#B6E880",
           "#FF97FF",
           "#FECB52"
          ],
          "font": {
           "color": "#2a3f5f"
          },
          "geo": {
           "bgcolor": "white",
           "lakecolor": "white",
           "landcolor": "#E5ECF6",
           "showlakes": true,
           "showland": true,
           "subunitcolor": "white"
          },
          "hoverlabel": {
           "align": "left"
          },
          "hovermode": "closest",
          "mapbox": {
           "style": "light"
          },
          "paper_bgcolor": "white",
          "plot_bgcolor": "#E5ECF6",
          "polar": {
           "angularaxis": {
            "gridcolor": "white",
            "linecolor": "white",
            "ticks": ""
           },
           "bgcolor": "#E5ECF6",
           "radialaxis": {
            "gridcolor": "white",
            "linecolor": "white",
            "ticks": ""
           }
          },
          "scene": {
           "xaxis": {
            "backgroundcolor": "#E5ECF6",
            "gridcolor": "white",
            "gridwidth": 2,
            "linecolor": "white",
            "showbackground": true,
            "ticks": "",
            "zerolinecolor": "white"
           },
           "yaxis": {
            "backgroundcolor": "#E5ECF6",
            "gridcolor": "white",
            "gridwidth": 2,
            "linecolor": "white",
            "showbackground": true,
            "ticks": "",
            "zerolinecolor": "white"
           },
           "zaxis": {
            "backgroundcolor": "#E5ECF6",
            "gridcolor": "white",
            "gridwidth": 2,
            "linecolor": "white",
            "showbackground": true,
            "ticks": "",
            "zerolinecolor": "white"
           }
          },
          "shapedefaults": {
           "line": {
            "color": "#2a3f5f"
           }
          },
          "ternary": {
           "aaxis": {
            "gridcolor": "white",
            "linecolor": "white",
            "ticks": ""
           },
           "baxis": {
            "gridcolor": "white",
            "linecolor": "white",
            "ticks": ""
           },
           "bgcolor": "#E5ECF6",
           "caxis": {
            "gridcolor": "white",
            "linecolor": "white",
            "ticks": ""
           }
          },
          "title": {
           "x": 0.05
          },
          "xaxis": {
           "automargin": true,
           "gridcolor": "white",
           "linecolor": "white",
           "ticks": "",
           "title": {
            "standoff": 15
           },
           "zerolinecolor": "white",
           "zerolinewidth": 2
          },
          "yaxis": {
           "automargin": true,
           "gridcolor": "white",
           "linecolor": "white",
           "ticks": "",
           "title": {
            "standoff": 15
           },
           "zerolinecolor": "white",
           "zerolinewidth": 2
          }
         }
        },
        "title": {
         "text": "State-wise business applications and tax rates in 2021"
        },
        "xaxis": {
         "anchor": "y",
         "domain": [
          0,
          1
         ],
         "title": {
          "text": "Tax Rate"
         }
        },
        "yaxis": {
         "anchor": "x",
         "domain": [
          0,
          1
         ],
         "title": {
          "text": "Business Apps"
         }
        }
       }
      },
      "text/html": [
       "<div>                            <div id=\"c6f40b0a-8367-4fae-8d78-1b5d42c54db8\" class=\"plotly-graph-div\" style=\"height:525px; width:100%;\"></div>            <script type=\"text/javascript\">                require([\"plotly\"], function(Plotly) {                    window.PLOTLYENV=window.PLOTLYENV || {};                                    if (document.getElementById(\"c6f40b0a-8367-4fae-8d78-1b5d42c54db8\")) {                    Plotly.newPlot(                        \"c6f40b0a-8367-4fae-8d78-1b5d42c54db8\",                        [{\"hovertemplate\":\"States=Alabama\\u003cbr\\u003eTax Rate=%{x}\\u003cbr\\u003eBusiness Apps=%{y}\\u003cbr\\u003epop=%{marker.size}\\u003cextra\\u003e\\u003c\\u002fextra\\u003e\",\"legendgroup\":\"Alabama\",\"marker\":{\"color\":\"#636efa\",\"size\":[5074296],\"sizemode\":\"area\",\"sizeref\":10841.483888888888,\"symbol\":\"circle\"},\"mode\":\"markers\",\"name\":\"Alabama\",\"orientation\":\"v\",\"showlegend\":true,\"x\":[6.5],\"xaxis\":\"x\",\"y\":[70750],\"yaxis\":\"y\",\"type\":\"scatter\"},{\"hovertemplate\":\"States=Alaska\\u003cbr\\u003eTax Rate=%{x}\\u003cbr\\u003eBusiness Apps=%{y}\\u003cbr\\u003epop=%{marker.size}\\u003cextra\\u003e\\u003c\\u002fextra\\u003e\",\"legendgroup\":\"Alaska\",\"marker\":{\"color\":\"#EF553B\",\"size\":[733583],\"sizemode\":\"area\",\"sizeref\":10841.483888888888,\"symbol\":\"circle\"},\"mode\":\"markers\",\"name\":\"Alaska\",\"orientation\":\"v\",\"showlegend\":true,\"x\":[5.34],\"xaxis\":\"x\",\"y\":[8456],\"yaxis\":\"y\",\"type\":\"scatter\"},{\"hovertemplate\":\"States=Arizona\\u003cbr\\u003eTax Rate=%{x}\\u003cbr\\u003eBusiness Apps=%{y}\\u003cbr\\u003epop=%{marker.size}\\u003cextra\\u003e\\u003c\\u002fextra\\u003e\",\"legendgroup\":\"Arizona\",\"marker\":{\"color\":\"#00cc96\",\"size\":[7359197],\"sizemode\":\"area\",\"sizeref\":10841.483888888888,\"symbol\":\"circle\"},\"mode\":\"markers\",\"name\":\"Arizona\",\"orientation\":\"v\",\"showlegend\":true,\"x\":[4.9],\"xaxis\":\"x\",\"y\":[115080],\"yaxis\":\"y\",\"type\":\"scatter\"},{\"hovertemplate\":\"States=Arkansas\\u003cbr\\u003eTax Rate=%{x}\\u003cbr\\u003eBusiness Apps=%{y}\\u003cbr\\u003epop=%{marker.size}\\u003cextra\\u003e\\u003c\\u002fextra\\u003e\",\"legendgroup\":\"Arkansas\",\"marker\":{\"color\":\"#ab63fa\",\"size\":[3045637],\"sizemode\":\"area\",\"sizeref\":10841.483888888888,\"symbol\":\"circle\"},\"mode\":\"markers\",\"name\":\"Arkansas\",\"orientation\":\"v\",\"showlegend\":true,\"x\":[3.65],\"xaxis\":\"x\",\"y\":[37562],\"yaxis\":\"y\",\"type\":\"scatter\"},{\"hovertemplate\":\"States=California\\u003cbr\\u003eTax Rate=%{x}\\u003cbr\\u003eBusiness Apps=%{y}\\u003cbr\\u003epop=%{marker.size}\\u003cextra\\u003e\\u003c\\u002fextra\\u003e\",\"legendgroup\":\"California\",\"marker\":{\"color\":\"#FFA15A\",\"size\":[39029342],\"sizemode\":\"area\",\"sizeref\":10841.483888888888,\"symbol\":\"circle\"},\"mode\":\"markers\",\"name\":\"California\",\"orientation\":\"v\",\"showlegend\":true,\"x\":[8.84],\"xaxis\":\"x\",\"y\":[485954],\"yaxis\":\"y\",\"type\":\"scatter\"},{\"hovertemplate\":\"States=Colorado\\u003cbr\\u003eTax Rate=%{x}\\u003cbr\\u003eBusiness Apps=%{y}\\u003cbr\\u003epop=%{marker.size}\\u003cextra\\u003e\\u003c\\u002fextra\\u003e\",\"legendgroup\":\"Colorado\",\"marker\":{\"color\":\"#19d3f3\",\"size\":[5839926],\"sizemode\":\"area\",\"sizeref\":10841.483888888888,\"symbol\":\"circle\"},\"mode\":\"markers\",\"name\":\"Colorado\",\"orientation\":\"v\",\"showlegend\":true,\"x\":[4.55],\"xaxis\":\"x\",\"y\":[115689],\"yaxis\":\"y\",\"type\":\"scatter\"},{\"hovertemplate\":\"States=Connecticut\\u003cbr\\u003eTax Rate=%{x}\\u003cbr\\u003eBusiness Apps=%{y}\\u003cbr\\u003epop=%{marker.size}\\u003cextra\\u003e\\u003c\\u002fextra\\u003e\",\"legendgroup\":\"Connecticut\",\"marker\":{\"color\":\"#FF6692\",\"size\":[3626205],\"sizemode\":\"area\",\"sizeref\":10841.483888888888,\"symbol\":\"circle\"},\"mode\":\"markers\",\"name\":\"Connecticut\",\"orientation\":\"v\",\"showlegend\":true,\"x\":[7.5],\"xaxis\":\"x\",\"y\":[44568],\"yaxis\":\"y\",\"type\":\"scatter\"},{\"hovertemplate\":\"States=Delaware\\u003cbr\\u003eTax Rate=%{x}\\u003cbr\\u003eBusiness Apps=%{y}\\u003cbr\\u003epop=%{marker.size}\\u003cextra\\u003e\\u003c\\u002fextra\\u003e\",\"legendgroup\":\"Delaware\",\"marker\":{\"color\":\"#B6E880\",\"size\":[1018396],\"sizemode\":\"area\",\"sizeref\":10841.483888888888,\"symbol\":\"circle\"},\"mode\":\"markers\",\"name\":\"Delaware\",\"orientation\":\"v\",\"showlegend\":true,\"x\":[8.7],\"xaxis\":\"x\",\"y\":[45471],\"yaxis\":\"y\",\"type\":\"scatter\"},{\"hovertemplate\":\"States=Florida\\u003cbr\\u003eTax Rate=%{x}\\u003cbr\\u003eBusiness Apps=%{y}\\u003cbr\\u003epop=%{marker.size}\\u003cextra\\u003e\\u003c\\u002fextra\\u003e\",\"legendgroup\":\"Florida\",\"marker\":{\"color\":\"#FF97FF\",\"size\":[671803],\"sizemode\":\"area\",\"sizeref\":10841.483888888888,\"symbol\":\"circle\"},\"mode\":\"markers\",\"name\":\"Florida\",\"orientation\":\"v\",\"showlegend\":true,\"x\":[5.5],\"xaxis\":\"x\",\"y\":[14286],\"yaxis\":\"y\",\"type\":\"scatter\"},{\"hovertemplate\":\"States=Georgia\\u003cbr\\u003eTax Rate=%{x}\\u003cbr\\u003eBusiness Apps=%{y}\\u003cbr\\u003epop=%{marker.size}\\u003cextra\\u003e\\u003c\\u002fextra\\u003e\",\"legendgroup\":\"Georgia\",\"marker\":{\"color\":\"#FECB52\",\"size\":[22244823],\"sizemode\":\"area\",\"sizeref\":10841.483888888888,\"symbol\":\"circle\"},\"mode\":\"markers\",\"name\":\"Georgia\",\"orientation\":\"v\",\"showlegend\":true,\"x\":[5.75],\"xaxis\":\"x\",\"y\":[607279],\"yaxis\":\"y\",\"type\":\"scatter\"},{\"hovertemplate\":\"States=Hawaii\\u003cbr\\u003eTax Rate=%{x}\\u003cbr\\u003eBusiness Apps=%{y}\\u003cbr\\u003epop=%{marker.size}\\u003cextra\\u003e\\u003c\\u002fextra\\u003e\",\"legendgroup\":\"Hawaii\",\"marker\":{\"color\":\"#636efa\",\"size\":[10912876],\"sizemode\":\"area\",\"sizeref\":10841.483888888888,\"symbol\":\"circle\"},\"mode\":\"markers\",\"name\":\"Hawaii\",\"orientation\":\"v\",\"showlegend\":true,\"x\":[5.4],\"xaxis\":\"x\",\"y\":[272636],\"yaxis\":\"y\",\"type\":\"scatter\"},{\"hovertemplate\":\"States=Idaho\\u003cbr\\u003eTax Rate=%{x}\\u003cbr\\u003eBusiness Apps=%{y}\\u003cbr\\u003epop=%{marker.size}\\u003cextra\\u003e\\u003c\\u002fextra\\u003e\",\"legendgroup\":\"Idaho\",\"marker\":{\"color\":\"#EF553B\",\"size\":[1440196],\"sizemode\":\"area\",\"sizeref\":10841.483888888888,\"symbol\":\"circle\"},\"mode\":\"markers\",\"name\":\"Idaho\",\"orientation\":\"v\",\"showlegend\":true,\"x\":[6.0],\"xaxis\":\"x\",\"y\":[18469],\"yaxis\":\"y\",\"type\":\"scatter\"},{\"hovertemplate\":\"States=Illinois\\u003cbr\\u003eTax Rate=%{x}\\u003cbr\\u003eBusiness Apps=%{y}\\u003cbr\\u003epop=%{marker.size}\\u003cextra\\u003e\\u003c\\u002fextra\\u003e\",\"legendgroup\":\"Illinois\",\"marker\":{\"color\":\"#00cc96\",\"size\":[1939033],\"sizemode\":\"area\",\"sizeref\":10841.483888888888,\"symbol\":\"circle\"},\"mode\":\"markers\",\"name\":\"Illinois\",\"orientation\":\"v\",\"showlegend\":true,\"x\":[9.5],\"xaxis\":\"x\",\"y\":[29683],\"yaxis\":\"y\",\"type\":\"scatter\"},{\"hovertemplate\":\"States=Indiana\\u003cbr\\u003eTax Rate=%{x}\\u003cbr\\u003eBusiness Apps=%{y}\\u003cbr\\u003epop=%{marker.size}\\u003cextra\\u003e\\u003c\\u002fextra\\u003e\",\"legendgroup\":\"Indiana\",\"marker\":{\"color\":\"#ab63fa\",\"size\":[12582032],\"sizemode\":\"area\",\"sizeref\":10841.483888888888,\"symbol\":\"circle\"},\"mode\":\"markers\",\"name\":\"Indiana\",\"orientation\":\"v\",\"showlegend\":true,\"x\":[4.9],\"xaxis\":\"x\",\"y\":[169449],\"yaxis\":\"y\",\"type\":\"scatter\"},{\"hovertemplate\":\"States=Iowa\\u003cbr\\u003eTax Rate=%{x}\\u003cbr\\u003eBusiness Apps=%{y}\\u003cbr\\u003epop=%{marker.size}\\u003cextra\\u003e\\u003c\\u002fextra\\u003e\",\"legendgroup\":\"Iowa\",\"marker\":{\"color\":\"#FFA15A\",\"size\":[6833037],\"sizemode\":\"area\",\"sizeref\":10841.483888888888,\"symbol\":\"circle\"},\"mode\":\"markers\",\"name\":\"Iowa\",\"orientation\":\"v\",\"showlegend\":true,\"x\":[8.1],\"xaxis\":\"x\",\"y\":[82971],\"yaxis\":\"y\",\"type\":\"scatter\"},{\"hovertemplate\":\"States=Kansas\\u003cbr\\u003eTax Rate=%{x}\\u003cbr\\u003eBusiness Apps=%{y}\\u003cbr\\u003epop=%{marker.size}\\u003cextra\\u003e\\u003c\\u002fextra\\u003e\",\"legendgroup\":\"Kansas\",\"marker\":{\"color\":\"#19d3f3\",\"size\":[3200517],\"sizemode\":\"area\",\"sizeref\":10841.483888888888,\"symbol\":\"circle\"},\"mode\":\"markers\",\"name\":\"Kansas\",\"orientation\":\"v\",\"showlegend\":true,\"x\":[5.5],\"xaxis\":\"x\",\"y\":[29762],\"yaxis\":\"y\",\"type\":\"scatter\"},{\"hovertemplate\":\"States=Kentucky\\u003cbr\\u003eTax Rate=%{x}\\u003cbr\\u003eBusiness Apps=%{y}\\u003cbr\\u003epop=%{marker.size}\\u003cextra\\u003e\\u003c\\u002fextra\\u003e\",\"legendgroup\":\"Kentucky\",\"marker\":{\"color\":\"#FF6692\",\"size\":[2937150],\"sizemode\":\"area\",\"sizeref\":10841.483888888888,\"symbol\":\"circle\"},\"mode\":\"markers\",\"name\":\"Kentucky\",\"orientation\":\"v\",\"showlegend\":true,\"x\":[5.0],\"xaxis\":\"x\",\"y\":[30861],\"yaxis\":\"y\",\"type\":\"scatter\"},{\"hovertemplate\":\"States=Louisiana\\u003cbr\\u003eTax Rate=%{x}\\u003cbr\\u003eBusiness Apps=%{y}\\u003cbr\\u003epop=%{marker.size}\\u003cextra\\u003e\\u003c\\u002fextra\\u003e\",\"legendgroup\":\"Louisiana\",\"marker\":{\"color\":\"#B6E880\",\"size\":[4512310],\"sizemode\":\"area\",\"sizeref\":10841.483888888888,\"symbol\":\"circle\"},\"mode\":\"markers\",\"name\":\"Louisiana\",\"orientation\":\"v\",\"showlegend\":true,\"x\":[5.33],\"xaxis\":\"x\",\"y\":[46553],\"yaxis\":\"y\",\"type\":\"scatter\"},{\"hovertemplate\":\"States=Maine\\u003cbr\\u003eTax Rate=%{x}\\u003cbr\\u003eBusiness Apps=%{y}\\u003cbr\\u003epop=%{marker.size}\\u003cextra\\u003e\\u003c\\u002fextra\\u003e\",\"legendgroup\":\"Maine\",\"marker\":{\"color\":\"#FF97FF\",\"size\":[4590241],\"sizemode\":\"area\",\"sizeref\":10841.483888888888,\"symbol\":\"circle\"},\"mode\":\"markers\",\"name\":\"Maine\",\"orientation\":\"v\",\"showlegend\":true,\"x\":[7.17],\"xaxis\":\"x\",\"y\":[80385],\"yaxis\":\"y\",\"type\":\"scatter\"},{\"hovertemplate\":\"States=Maryland\\u003cbr\\u003eTax Rate=%{x}\\u003cbr\\u003eBusiness Apps=%{y}\\u003cbr\\u003epop=%{marker.size}\\u003cextra\\u003e\\u003c\\u002fextra\\u003e\",\"legendgroup\":\"Maryland\",\"marker\":{\"color\":\"#FECB52\",\"size\":[1385340],\"sizemode\":\"area\",\"sizeref\":10841.483888888888,\"symbol\":\"circle\"},\"mode\":\"markers\",\"name\":\"Maryland\",\"orientation\":\"v\",\"showlegend\":true,\"x\":[8.25],\"xaxis\":\"x\",\"y\":[12917],\"yaxis\":\"y\",\"type\":\"scatter\"},{\"hovertemplate\":\"States=Massachusetts\\u003cbr\\u003eTax Rate=%{x}\\u003cbr\\u003eBusiness Apps=%{y}\\u003cbr\\u003epop=%{marker.size}\\u003cextra\\u003e\\u003c\\u002fextra\\u003e\",\"legendgroup\":\"Massachusetts\",\"marker\":{\"color\":\"#636efa\",\"size\":[6164660],\"sizemode\":\"area\",\"sizeref\":10841.483888888888,\"symbol\":\"circle\"},\"mode\":\"markers\",\"name\":\"Massachusetts\",\"orientation\":\"v\",\"showlegend\":true,\"x\":[8.0],\"xaxis\":\"x\",\"y\":[99078],\"yaxis\":\"y\",\"type\":\"scatter\"},{\"hovertemplate\":\"States=Michigan\\u003cbr\\u003eTax Rate=%{x}\\u003cbr\\u003eBusiness Apps=%{y}\\u003cbr\\u003epop=%{marker.size}\\u003cextra\\u003e\\u003c\\u002fextra\\u003e\",\"legendgroup\":\"Michigan\",\"marker\":{\"color\":\"#EF553B\",\"size\":[6981974],\"sizemode\":\"area\",\"sizeref\":10841.483888888888,\"symbol\":\"circle\"},\"mode\":\"markers\",\"name\":\"Michigan\",\"orientation\":\"v\",\"showlegend\":true,\"x\":[6.0],\"xaxis\":\"x\",\"y\":[71112],\"yaxis\":\"y\",\"type\":\"scatter\"},{\"hovertemplate\":\"States=Minnesota\\u003cbr\\u003eTax Rate=%{x}\\u003cbr\\u003eBusiness Apps=%{y}\\u003cbr\\u003epop=%{marker.size}\\u003cextra\\u003e\\u003c\\u002fextra\\u003e\",\"legendgroup\":\"Minnesota\",\"marker\":{\"color\":\"#00cc96\",\"size\":[10034113],\"sizemode\":\"area\",\"sizeref\":10841.483888888888,\"symbol\":\"circle\"},\"mode\":\"markers\",\"name\":\"Minnesota\",\"orientation\":\"v\",\"showlegend\":true,\"x\":[9.8],\"xaxis\":\"x\",\"y\":[136794],\"yaxis\":\"y\",\"type\":\"scatter\"},{\"hovertemplate\":\"States=Mississippi\\u003cbr\\u003eTax Rate=%{x}\\u003cbr\\u003eBusiness Apps=%{y}\\u003cbr\\u003epop=%{marker.size}\\u003cextra\\u003e\\u003c\\u002fextra\\u003e\",\"legendgroup\":\"Mississippi\",\"marker\":{\"color\":\"#ab63fa\",\"size\":[5717184],\"sizemode\":\"area\",\"sizeref\":10841.483888888888,\"symbol\":\"circle\"},\"mode\":\"markers\",\"name\":\"Mississippi\",\"orientation\":\"v\",\"showlegend\":true,\"x\":[3.0],\"xaxis\":\"x\",\"y\":[60878],\"yaxis\":\"y\",\"type\":\"scatter\"},{\"hovertemplate\":\"States=Missouri\\u003cbr\\u003eTax Rate=%{x}\\u003cbr\\u003eBusiness Apps=%{y}\\u003cbr\\u003epop=%{marker.size}\\u003cextra\\u003e\\u003c\\u002fextra\\u003e\",\"legendgroup\":\"Missouri\",\"marker\":{\"color\":\"#FFA15A\",\"size\":[2940057],\"sizemode\":\"area\",\"sizeref\":10841.483888888888,\"symbol\":\"circle\"},\"mode\":\"markers\",\"name\":\"Missouri\",\"orientation\":\"v\",\"showlegend\":true,\"x\":[4.0],\"xaxis\":\"x\",\"y\":[55663],\"yaxis\":\"y\",\"type\":\"scatter\"},{\"hovertemplate\":\"States=Montana\\u003cbr\\u003eTax Rate=%{x}\\u003cbr\\u003eBusiness Apps=%{y}\\u003cbr\\u003epop=%{marker.size}\\u003cextra\\u003e\\u003c\\u002fextra\\u003e\",\"legendgroup\":\"Montana\",\"marker\":{\"color\":\"#19d3f3\",\"size\":[6177957],\"sizemode\":\"area\",\"sizeref\":10841.483888888888,\"symbol\":\"circle\"},\"mode\":\"markers\",\"name\":\"Montana\",\"orientation\":\"v\",\"showlegend\":true,\"x\":[6.75],\"xaxis\":\"x\",\"y\":[80770],\"yaxis\":\"y\",\"type\":\"scatter\"},{\"hovertemplate\":\"States=Nebraska\\u003cbr\\u003eTax Rate=%{x}\\u003cbr\\u003eBusiness Apps=%{y}\\u003cbr\\u003epop=%{marker.size}\\u003cextra\\u003e\\u003c\\u002fextra\\u003e\",\"legendgroup\":\"Nebraska\",\"marker\":{\"color\":\"#FF6692\",\"size\":[1122867],\"sizemode\":\"area\",\"sizeref\":10841.483888888888,\"symbol\":\"circle\"},\"mode\":\"markers\",\"name\":\"Nebraska\",\"orientation\":\"v\",\"showlegend\":true,\"x\":[6.7],\"xaxis\":\"x\",\"y\":[20527],\"yaxis\":\"y\",\"type\":\"scatter\"},{\"hovertemplate\":\"States=Nevada\\u003cbr\\u003eTax Rate=%{x}\\u003cbr\\u003eBusiness Apps=%{y}\\u003cbr\\u003epop=%{marker.size}\\u003cextra\\u003e\\u003c\\u002fextra\\u003e\",\"legendgroup\":\"Nevada\",\"marker\":{\"color\":\"#B6E880\",\"size\":[1967923],\"sizemode\":\"area\",\"sizeref\":10841.483888888888,\"symbol\":\"circle\"},\"mode\":\"markers\",\"name\":\"Nevada\",\"orientation\":\"v\",\"showlegend\":true,\"x\":[0.0],\"xaxis\":\"x\",\"y\":[20386],\"yaxis\":\"y\",\"type\":\"scatter\"},{\"hovertemplate\":\"States=New Hampshire\\u003cbr\\u003eTax Rate=%{x}\\u003cbr\\u003eBusiness Apps=%{y}\\u003cbr\\u003epop=%{marker.size}\\u003cextra\\u003e\\u003c\\u002fextra\\u003e\",\"legendgroup\":\"New Hampshire\",\"marker\":{\"color\":\"#FF97FF\",\"size\":[3177772],\"sizemode\":\"area\",\"sizeref\":10841.483888888888,\"symbol\":\"circle\"},\"mode\":\"markers\",\"name\":\"New Hampshire\",\"orientation\":\"v\",\"showlegend\":true,\"x\":[7.6],\"xaxis\":\"x\",\"y\":[61820],\"yaxis\":\"y\",\"type\":\"scatter\"},{\"hovertemplate\":\"States=New Jersey\\u003cbr\\u003eTax Rate=%{x}\\u003cbr\\u003eBusiness Apps=%{y}\\u003cbr\\u003epop=%{marker.size}\\u003cextra\\u003e\\u003c\\u002fextra\\u003e\",\"legendgroup\":\"New Jersey\",\"marker\":{\"color\":\"#FECB52\",\"size\":[1395231],\"sizemode\":\"area\",\"sizeref\":10841.483888888888,\"symbol\":\"circle\"},\"mode\":\"markers\",\"name\":\"New Jersey\",\"orientation\":\"v\",\"showlegend\":true,\"x\":[8.62],\"xaxis\":\"x\",\"y\":[13893],\"yaxis\":\"y\",\"type\":\"scatter\"},{\"hovertemplate\":\"States=New Mexico\\u003cbr\\u003eTax Rate=%{x}\\u003cbr\\u003eBusiness Apps=%{y}\\u003cbr\\u003epop=%{marker.size}\\u003cextra\\u003e\\u003c\\u002fextra\\u003e\",\"legendgroup\":\"New Mexico\",\"marker\":{\"color\":\"#636efa\",\"size\":[9261699],\"sizemode\":\"area\",\"sizeref\":10841.483888888888,\"symbol\":\"circle\"},\"mode\":\"markers\",\"name\":\"New Mexico\",\"orientation\":\"v\",\"showlegend\":true,\"x\":[5.35],\"xaxis\":\"x\",\"y\":[154032],\"yaxis\":\"y\",\"type\":\"scatter\"},{\"hovertemplate\":\"States=New York\\u003cbr\\u003eTax Rate=%{x}\\u003cbr\\u003eBusiness Apps=%{y}\\u003cbr\\u003epop=%{marker.size}\\u003cextra\\u003e\\u003c\\u002fextra\\u003e\",\"legendgroup\":\"New York\",\"marker\":{\"color\":\"#EF553B\",\"size\":[2113344],\"sizemode\":\"area\",\"sizeref\":10841.483888888888,\"symbol\":\"circle\"},\"mode\":\"markers\",\"name\":\"New York\",\"orientation\":\"v\",\"showlegend\":true,\"x\":[6.88],\"xaxis\":\"x\",\"y\":[26969],\"yaxis\":\"y\",\"type\":\"scatter\"},{\"hovertemplate\":\"States=North Carolina \\u003cbr\\u003eTax Rate=%{x}\\u003cbr\\u003eBusiness Apps=%{y}\\u003cbr\\u003epop=%{marker.size}\\u003cextra\\u003e\\u003c\\u002fextra\\u003e\",\"legendgroup\":\"North Carolina \",\"marker\":{\"color\":\"#00cc96\",\"size\":[19677151],\"sizemode\":\"area\",\"sizeref\":10841.483888888888,\"symbol\":\"circle\"},\"mode\":\"markers\",\"name\":\"North Carolina \",\"orientation\":\"v\",\"showlegend\":true,\"x\":[2.5],\"xaxis\":\"x\",\"y\":[298059],\"yaxis\":\"y\",\"type\":\"scatter\"},{\"hovertemplate\":\"States=North Dakota\\u003cbr\\u003eTax Rate=%{x}\\u003cbr\\u003eBusiness Apps=%{y}\\u003cbr\\u003epop=%{marker.size}\\u003cextra\\u003e\\u003c\\u002fextra\\u003e\",\"legendgroup\":\"North Dakota\",\"marker\":{\"color\":\"#ab63fa\",\"size\":[10698973],\"sizemode\":\"area\",\"sizeref\":10841.483888888888,\"symbol\":\"circle\"},\"mode\":\"markers\",\"name\":\"North Dakota\",\"orientation\":\"v\",\"showlegend\":true,\"x\":[3.09],\"xaxis\":\"x\",\"y\":[163763],\"yaxis\":\"y\",\"type\":\"scatter\"},{\"hovertemplate\":\"States=Ohio \\u003cbr\\u003eTax Rate=%{x}\\u003cbr\\u003eBusiness Apps=%{y}\\u003cbr\\u003epop=%{marker.size}\\u003cextra\\u003e\\u003c\\u002fextra\\u003e\",\"legendgroup\":\"Ohio \",\"marker\":{\"color\":\"#FFA15A\",\"size\":[779261],\"sizemode\":\"area\",\"sizeref\":10841.483888888888,\"symbol\":\"circle\"},\"mode\":\"markers\",\"name\":\"Ohio \",\"orientation\":\"v\",\"showlegend\":true,\"x\":[0.0],\"xaxis\":\"x\",\"y\":[7940],\"yaxis\":\"y\",\"type\":\"scatter\"},{\"hovertemplate\":\"States=Oklahoma\\u003cbr\\u003eTax Rate=%{x}\\u003cbr\\u003eBusiness Apps=%{y}\\u003cbr\\u003epop=%{marker.size}\\u003cextra\\u003e\\u003c\\u002fextra\\u003e\",\"legendgroup\":\"Oklahoma\",\"marker\":{\"color\":\"#19d3f3\",\"size\":[11756058],\"sizemode\":\"area\",\"sizeref\":10841.483888888888,\"symbol\":\"circle\"},\"mode\":\"markers\",\"name\":\"Oklahoma\",\"orientation\":\"v\",\"showlegend\":true,\"x\":[4.0],\"xaxis\":\"x\",\"y\":[139706],\"yaxis\":\"y\",\"type\":\"scatter\"},{\"hovertemplate\":\"States=Oregon\\u003cbr\\u003eTax Rate=%{x}\\u003cbr\\u003eBusiness Apps=%{y}\\u003cbr\\u003epop=%{marker.size}\\u003cextra\\u003e\\u003c\\u002fextra\\u003e\",\"legendgroup\":\"Oregon\",\"marker\":{\"color\":\"#FF6692\",\"size\":[4019800],\"sizemode\":\"area\",\"sizeref\":10841.483888888888,\"symbol\":\"circle\"},\"mode\":\"markers\",\"name\":\"Oregon\",\"orientation\":\"v\",\"showlegend\":true,\"x\":[7.1],\"xaxis\":\"x\",\"y\":[55020],\"yaxis\":\"y\",\"type\":\"scatter\"},{\"hovertemplate\":\"States=Pennsylvania\\u003cbr\\u003eTax Rate=%{x}\\u003cbr\\u003eBusiness Apps=%{y}\\u003cbr\\u003epop=%{marker.size}\\u003cextra\\u003e\\u003c\\u002fextra\\u003e\",\"legendgroup\":\"Pennsylvania\",\"marker\":{\"color\":\"#B6E880\",\"size\":[4240137],\"sizemode\":\"area\",\"sizeref\":10841.483888888888,\"symbol\":\"circle\"},\"mode\":\"markers\",\"name\":\"Pennsylvania\",\"orientation\":\"v\",\"showlegend\":true,\"x\":[9.99],\"xaxis\":\"x\",\"y\":[49277],\"yaxis\":\"y\",\"type\":\"scatter\"},{\"hovertemplate\":\"States=Rhode Island\\u003cbr\\u003eTax Rate=%{x}\\u003cbr\\u003eBusiness Apps=%{y}\\u003cbr\\u003epop=%{marker.size}\\u003cextra\\u003e\\u003c\\u002fextra\\u003e\",\"legendgroup\":\"Rhode Island\",\"marker\":{\"color\":\"#FF97FF\",\"size\":[12972008],\"sizemode\":\"area\",\"sizeref\":10841.483888888888,\"symbol\":\"circle\"},\"mode\":\"markers\",\"name\":\"Rhode Island\",\"orientation\":\"v\",\"showlegend\":true,\"x\":[7.0],\"xaxis\":\"x\",\"y\":[138402],\"yaxis\":\"y\",\"type\":\"scatter\"},{\"hovertemplate\":\"States=South Carolina\\u003cbr\\u003eTax Rate=%{x}\\u003cbr\\u003eBusiness Apps=%{y}\\u003cbr\\u003epop=%{marker.size}\\u003cextra\\u003e\\u003c\\u002fextra\\u003e\",\"legendgroup\":\"South Carolina\",\"marker\":{\"color\":\"#FECB52\",\"size\":[1093734],\"sizemode\":\"area\",\"sizeref\":10841.483888888888,\"symbol\":\"circle\"},\"mode\":\"markers\",\"name\":\"South Carolina\",\"orientation\":\"v\",\"showlegend\":true,\"x\":[5.0],\"xaxis\":\"x\",\"y\":[10876],\"yaxis\":\"y\",\"type\":\"scatter\"},{\"hovertemplate\":\"States=South Dakota\\u003cbr\\u003eTax Rate=%{x}\\u003cbr\\u003eBusiness Apps=%{y}\\u003cbr\\u003epop=%{marker.size}\\u003cextra\\u003e\\u003c\\u002fextra\\u003e\",\"legendgroup\":\"South Dakota\",\"marker\":{\"color\":\"#636efa\",\"size\":[5282634],\"sizemode\":\"area\",\"sizeref\":10841.483888888888,\"symbol\":\"circle\"},\"mode\":\"markers\",\"name\":\"South Dakota\",\"orientation\":\"v\",\"showlegend\":true,\"x\":[0.0],\"xaxis\":\"x\",\"y\":[90534],\"yaxis\":\"y\",\"type\":\"scatter\"},{\"hovertemplate\":\"States=Tennessee\\u003cbr\\u003eTax Rate=%{x}\\u003cbr\\u003eBusiness Apps=%{y}\\u003cbr\\u003epop=%{marker.size}\\u003cextra\\u003e\\u003c\\u002fextra\\u003e\",\"legendgroup\":\"Tennessee\",\"marker\":{\"color\":\"#EF553B\",\"size\":[909824],\"sizemode\":\"area\",\"sizeref\":10841.483888888888,\"symbol\":\"circle\"},\"mode\":\"markers\",\"name\":\"Tennessee\",\"orientation\":\"v\",\"showlegend\":true,\"x\":[6.5],\"xaxis\":\"x\",\"y\":[10365],\"yaxis\":\"y\",\"type\":\"scatter\"},{\"hovertemplate\":\"States=Texas\\u003cbr\\u003eTax Rate=%{x}\\u003cbr\\u003eBusiness Apps=%{y}\\u003cbr\\u003epop=%{marker.size}\\u003cextra\\u003e\\u003c\\u002fextra\\u003e\",\"legendgroup\":\"Texas\",\"marker\":{\"color\":\"#00cc96\",\"size\":[7051339],\"sizemode\":\"area\",\"sizeref\":10841.483888888888,\"symbol\":\"circle\"},\"mode\":\"markers\",\"name\":\"Texas\",\"orientation\":\"v\",\"showlegend\":true,\"x\":[0.0],\"xaxis\":\"x\",\"y\":[91283],\"yaxis\":\"y\",\"type\":\"scatter\"},{\"hovertemplate\":\"States=Utah\\u003cbr\\u003eTax Rate=%{x}\\u003cbr\\u003eBusiness Apps=%{y}\\u003cbr\\u003epop=%{marker.size}\\u003cextra\\u003e\\u003c\\u002fextra\\u003e\",\"legendgroup\":\"Utah\",\"marker\":{\"color\":\"#ab63fa\",\"size\":[30029572],\"sizemode\":\"area\",\"sizeref\":10841.483888888888,\"symbol\":\"circle\"},\"mode\":\"markers\",\"name\":\"Utah\",\"orientation\":\"v\",\"showlegend\":true,\"x\":[4.85],\"xaxis\":\"x\",\"y\":[464959],\"yaxis\":\"y\",\"type\":\"scatter\"},{\"hovertemplate\":\"States=Vermont\\u003cbr\\u003eTax Rate=%{x}\\u003cbr\\u003eBusiness Apps=%{y}\\u003cbr\\u003epop=%{marker.size}\\u003cextra\\u003e\\u003c\\u002fextra\\u003e\",\"legendgroup\":\"Vermont\",\"marker\":{\"color\":\"#FFA15A\",\"size\":[3380800],\"sizemode\":\"area\",\"sizeref\":10841.483888888888,\"symbol\":\"circle\"},\"mode\":\"markers\",\"name\":\"Vermont\",\"orientation\":\"v\",\"showlegend\":true,\"x\":[7.17],\"xaxis\":\"x\",\"y\":[65064],\"yaxis\":\"y\",\"type\":\"scatter\"},{\"hovertemplate\":\"States=Virginia\\u003cbr\\u003eTax Rate=%{x}\\u003cbr\\u003eBusiness Apps=%{y}\\u003cbr\\u003epop=%{marker.size}\\u003cextra\\u003e\\u003c\\u002fextra\\u003e\",\"legendgroup\":\"Virginia\",\"marker\":{\"color\":\"#19d3f3\",\"size\":[647064],\"sizemode\":\"area\",\"sizeref\":10841.483888888888,\"symbol\":\"circle\"},\"mode\":\"markers\",\"name\":\"Virginia\",\"orientation\":\"v\",\"showlegend\":true,\"x\":[6.0],\"xaxis\":\"x\",\"y\":[7461],\"yaxis\":\"y\",\"type\":\"scatter\"},{\"hovertemplate\":\"States=Washington\\u003cbr\\u003eTax Rate=%{x}\\u003cbr\\u003eBusiness Apps=%{y}\\u003cbr\\u003epop=%{marker.size}\\u003cextra\\u003e\\u003c\\u002fextra\\u003e\",\"legendgroup\":\"Washington\",\"marker\":{\"color\":\"#FF6692\",\"size\":[8683619],\"sizemode\":\"area\",\"sizeref\":10841.483888888888,\"symbol\":\"circle\"},\"mode\":\"markers\",\"name\":\"Washington\",\"orientation\":\"v\",\"showlegend\":true,\"x\":[0.0],\"xaxis\":\"x\",\"y\":[123426],\"yaxis\":\"y\",\"type\":\"scatter\"},{\"hovertemplate\":\"States=West Virginia\\u003cbr\\u003eTax Rate=%{x}\\u003cbr\\u003eBusiness Apps=%{y}\\u003cbr\\u003epop=%{marker.size}\\u003cextra\\u003e\\u003c\\u002fextra\\u003e\",\"legendgroup\":\"West Virginia\",\"marker\":{\"color\":\"#B6E880\",\"size\":[7785786],\"sizemode\":\"area\",\"sizeref\":10841.483888888888,\"symbol\":\"circle\"},\"mode\":\"markers\",\"name\":\"West Virginia\",\"orientation\":\"v\",\"showlegend\":true,\"x\":[6.5],\"xaxis\":\"x\",\"y\":[88376],\"yaxis\":\"y\",\"type\":\"scatter\"},{\"hovertemplate\":\"States=Wisconsin \\u003cbr\\u003eTax Rate=%{x}\\u003cbr\\u003eBusiness Apps=%{y}\\u003cbr\\u003epop=%{marker.size}\\u003cextra\\u003e\\u003c\\u002fextra\\u003e\",\"legendgroup\":\"Wisconsin \",\"marker\":{\"color\":\"#FF97FF\",\"size\":[1775156],\"sizemode\":\"area\",\"sizeref\":10841.483888888888,\"symbol\":\"circle\"},\"mode\":\"markers\",\"name\":\"Wisconsin \",\"orientation\":\"v\",\"showlegend\":true,\"x\":[7.9],\"xaxis\":\"x\",\"y\":[13770],\"yaxis\":\"y\",\"type\":\"scatter\"},{\"hovertemplate\":\"States=Wyoming\\u003cbr\\u003eTax Rate=%{x}\\u003cbr\\u003eBusiness Apps=%{y}\\u003cbr\\u003epop=%{marker.size}\\u003cextra\\u003e\\u003c\\u002fextra\\u003e\",\"legendgroup\":\"Wyoming\",\"marker\":{\"color\":\"#FECB52\",\"size\":[5892539],\"sizemode\":\"area\",\"sizeref\":10841.483888888888,\"symbol\":\"circle\"},\"mode\":\"markers\",\"name\":\"Wyoming\",\"orientation\":\"v\",\"showlegend\":true,\"x\":[0.0],\"xaxis\":\"x\",\"y\":[64151],\"yaxis\":\"y\",\"type\":\"scatter\"},{\"hovertemplate\":\"States=District of Columbia\\u003cbr\\u003eTax Rate=%{x}\\u003cbr\\u003eBusiness Apps=%{y}\\u003cbr\\u003epop=%{marker.size}\\u003cextra\\u003e\\u003c\\u002fextra\\u003e\",\"legendgroup\":\"District of Columbia\",\"marker\":{\"color\":\"#636efa\",\"size\":[581381],\"sizemode\":\"area\",\"sizeref\":10841.483888888888,\"symbol\":\"circle\"},\"mode\":\"markers\",\"name\":\"District of Columbia\",\"orientation\":\"v\",\"showlegend\":true,\"x\":[8.25],\"xaxis\":\"x\",\"y\":[41561],\"yaxis\":\"y\",\"type\":\"scatter\"}],                        {\"template\":{\"data\":{\"histogram2dcontour\":[{\"type\":\"histogram2dcontour\",\"colorbar\":{\"outlinewidth\":0,\"ticks\":\"\"},\"colorscale\":[[0.0,\"#0d0887\"],[0.1111111111111111,\"#46039f\"],[0.2222222222222222,\"#7201a8\"],[0.3333333333333333,\"#9c179e\"],[0.4444444444444444,\"#bd3786\"],[0.5555555555555556,\"#d8576b\"],[0.6666666666666666,\"#ed7953\"],[0.7777777777777778,\"#fb9f3a\"],[0.8888888888888888,\"#fdca26\"],[1.0,\"#f0f921\"]]}],\"choropleth\":[{\"type\":\"choropleth\",\"colorbar\":{\"outlinewidth\":0,\"ticks\":\"\"}}],\"histogram2d\":[{\"type\":\"histogram2d\",\"colorbar\":{\"outlinewidth\":0,\"ticks\":\"\"},\"colorscale\":[[0.0,\"#0d0887\"],[0.1111111111111111,\"#46039f\"],[0.2222222222222222,\"#7201a8\"],[0.3333333333333333,\"#9c179e\"],[0.4444444444444444,\"#bd3786\"],[0.5555555555555556,\"#d8576b\"],[0.6666666666666666,\"#ed7953\"],[0.7777777777777778,\"#fb9f3a\"],[0.8888888888888888,\"#fdca26\"],[1.0,\"#f0f921\"]]}],\"heatmap\":[{\"type\":\"heatmap\",\"colorbar\":{\"outlinewidth\":0,\"ticks\":\"\"},\"colorscale\":[[0.0,\"#0d0887\"],[0.1111111111111111,\"#46039f\"],[0.2222222222222222,\"#7201a8\"],[0.3333333333333333,\"#9c179e\"],[0.4444444444444444,\"#bd3786\"],[0.5555555555555556,\"#d8576b\"],[0.6666666666666666,\"#ed7953\"],[0.7777777777777778,\"#fb9f3a\"],[0.8888888888888888,\"#fdca26\"],[1.0,\"#f0f921\"]]}],\"heatmapgl\":[{\"type\":\"heatmapgl\",\"colorbar\":{\"outlinewidth\":0,\"ticks\":\"\"},\"colorscale\":[[0.0,\"#0d0887\"],[0.1111111111111111,\"#46039f\"],[0.2222222222222222,\"#7201a8\"],[0.3333333333333333,\"#9c179e\"],[0.4444444444444444,\"#bd3786\"],[0.5555555555555556,\"#d8576b\"],[0.6666666666666666,\"#ed7953\"],[0.7777777777777778,\"#fb9f3a\"],[0.8888888888888888,\"#fdca26\"],[1.0,\"#f0f921\"]]}],\"contourcarpet\":[{\"type\":\"contourcarpet\",\"colorbar\":{\"outlinewidth\":0,\"ticks\":\"\"}}],\"contour\":[{\"type\":\"contour\",\"colorbar\":{\"outlinewidth\":0,\"ticks\":\"\"},\"colorscale\":[[0.0,\"#0d0887\"],[0.1111111111111111,\"#46039f\"],[0.2222222222222222,\"#7201a8\"],[0.3333333333333333,\"#9c179e\"],[0.4444444444444444,\"#bd3786\"],[0.5555555555555556,\"#d8576b\"],[0.6666666666666666,\"#ed7953\"],[0.7777777777777778,\"#fb9f3a\"],[0.8888888888888888,\"#fdca26\"],[1.0,\"#f0f921\"]]}],\"surface\":[{\"type\":\"surface\",\"colorbar\":{\"outlinewidth\":0,\"ticks\":\"\"},\"colorscale\":[[0.0,\"#0d0887\"],[0.1111111111111111,\"#46039f\"],[0.2222222222222222,\"#7201a8\"],[0.3333333333333333,\"#9c179e\"],[0.4444444444444444,\"#bd3786\"],[0.5555555555555556,\"#d8576b\"],[0.6666666666666666,\"#ed7953\"],[0.7777777777777778,\"#fb9f3a\"],[0.8888888888888888,\"#fdca26\"],[1.0,\"#f0f921\"]]}],\"mesh3d\":[{\"type\":\"mesh3d\",\"colorbar\":{\"outlinewidth\":0,\"ticks\":\"\"}}],\"scatter\":[{\"fillpattern\":{\"fillmode\":\"overlay\",\"size\":10,\"solidity\":0.2},\"type\":\"scatter\"}],\"parcoords\":[{\"type\":\"parcoords\",\"line\":{\"colorbar\":{\"outlinewidth\":0,\"ticks\":\"\"}}}],\"scatterpolargl\":[{\"type\":\"scatterpolargl\",\"marker\":{\"colorbar\":{\"outlinewidth\":0,\"ticks\":\"\"}}}],\"bar\":[{\"error_x\":{\"color\":\"#2a3f5f\"},\"error_y\":{\"color\":\"#2a3f5f\"},\"marker\":{\"line\":{\"color\":\"#E5ECF6\",\"width\":0.5},\"pattern\":{\"fillmode\":\"overlay\",\"size\":10,\"solidity\":0.2}},\"type\":\"bar\"}],\"scattergeo\":[{\"type\":\"scattergeo\",\"marker\":{\"colorbar\":{\"outlinewidth\":0,\"ticks\":\"\"}}}],\"scatterpolar\":[{\"type\":\"scatterpolar\",\"marker\":{\"colorbar\":{\"outlinewidth\":0,\"ticks\":\"\"}}}],\"histogram\":[{\"marker\":{\"pattern\":{\"fillmode\":\"overlay\",\"size\":10,\"solidity\":0.2}},\"type\":\"histogram\"}],\"scattergl\":[{\"type\":\"scattergl\",\"marker\":{\"colorbar\":{\"outlinewidth\":0,\"ticks\":\"\"}}}],\"scatter3d\":[{\"type\":\"scatter3d\",\"line\":{\"colorbar\":{\"outlinewidth\":0,\"ticks\":\"\"}},\"marker\":{\"colorbar\":{\"outlinewidth\":0,\"ticks\":\"\"}}}],\"scattermapbox\":[{\"type\":\"scattermapbox\",\"marker\":{\"colorbar\":{\"outlinewidth\":0,\"ticks\":\"\"}}}],\"scatterternary\":[{\"type\":\"scatterternary\",\"marker\":{\"colorbar\":{\"outlinewidth\":0,\"ticks\":\"\"}}}],\"scattercarpet\":[{\"type\":\"scattercarpet\",\"marker\":{\"colorbar\":{\"outlinewidth\":0,\"ticks\":\"\"}}}],\"carpet\":[{\"aaxis\":{\"endlinecolor\":\"#2a3f5f\",\"gridcolor\":\"white\",\"linecolor\":\"white\",\"minorgridcolor\":\"white\",\"startlinecolor\":\"#2a3f5f\"},\"baxis\":{\"endlinecolor\":\"#2a3f5f\",\"gridcolor\":\"white\",\"linecolor\":\"white\",\"minorgridcolor\":\"white\",\"startlinecolor\":\"#2a3f5f\"},\"type\":\"carpet\"}],\"table\":[{\"cells\":{\"fill\":{\"color\":\"#EBF0F8\"},\"line\":{\"color\":\"white\"}},\"header\":{\"fill\":{\"color\":\"#C8D4E3\"},\"line\":{\"color\":\"white\"}},\"type\":\"table\"}],\"barpolar\":[{\"marker\":{\"line\":{\"color\":\"#E5ECF6\",\"width\":0.5},\"pattern\":{\"fillmode\":\"overlay\",\"size\":10,\"solidity\":0.2}},\"type\":\"barpolar\"}],\"pie\":[{\"automargin\":true,\"type\":\"pie\"}]},\"layout\":{\"autotypenumbers\":\"strict\",\"colorway\":[\"#636efa\",\"#EF553B\",\"#00cc96\",\"#ab63fa\",\"#FFA15A\",\"#19d3f3\",\"#FF6692\",\"#B6E880\",\"#FF97FF\",\"#FECB52\"],\"font\":{\"color\":\"#2a3f5f\"},\"hovermode\":\"closest\",\"hoverlabel\":{\"align\":\"left\"},\"paper_bgcolor\":\"white\",\"plot_bgcolor\":\"#E5ECF6\",\"polar\":{\"bgcolor\":\"#E5ECF6\",\"angularaxis\":{\"gridcolor\":\"white\",\"linecolor\":\"white\",\"ticks\":\"\"},\"radialaxis\":{\"gridcolor\":\"white\",\"linecolor\":\"white\",\"ticks\":\"\"}},\"ternary\":{\"bgcolor\":\"#E5ECF6\",\"aaxis\":{\"gridcolor\":\"white\",\"linecolor\":\"white\",\"ticks\":\"\"},\"baxis\":{\"gridcolor\":\"white\",\"linecolor\":\"white\",\"ticks\":\"\"},\"caxis\":{\"gridcolor\":\"white\",\"linecolor\":\"white\",\"ticks\":\"\"}},\"coloraxis\":{\"colorbar\":{\"outlinewidth\":0,\"ticks\":\"\"}},\"colorscale\":{\"sequential\":[[0.0,\"#0d0887\"],[0.1111111111111111,\"#46039f\"],[0.2222222222222222,\"#7201a8\"],[0.3333333333333333,\"#9c179e\"],[0.4444444444444444,\"#bd3786\"],[0.5555555555555556,\"#d8576b\"],[0.6666666666666666,\"#ed7953\"],[0.7777777777777778,\"#fb9f3a\"],[0.8888888888888888,\"#fdca26\"],[1.0,\"#f0f921\"]],\"sequentialminus\":[[0.0,\"#0d0887\"],[0.1111111111111111,\"#46039f\"],[0.2222222222222222,\"#7201a8\"],[0.3333333333333333,\"#9c179e\"],[0.4444444444444444,\"#bd3786\"],[0.5555555555555556,\"#d8576b\"],[0.6666666666666666,\"#ed7953\"],[0.7777777777777778,\"#fb9f3a\"],[0.8888888888888888,\"#fdca26\"],[1.0,\"#f0f921\"]],\"diverging\":[[0,\"#8e0152\"],[0.1,\"#c51b7d\"],[0.2,\"#de77ae\"],[0.3,\"#f1b6da\"],[0.4,\"#fde0ef\"],[0.5,\"#f7f7f7\"],[0.6,\"#e6f5d0\"],[0.7,\"#b8e186\"],[0.8,\"#7fbc41\"],[0.9,\"#4d9221\"],[1,\"#276419\"]]},\"xaxis\":{\"gridcolor\":\"white\",\"linecolor\":\"white\",\"ticks\":\"\",\"title\":{\"standoff\":15},\"zerolinecolor\":\"white\",\"automargin\":true,\"zerolinewidth\":2},\"yaxis\":{\"gridcolor\":\"white\",\"linecolor\":\"white\",\"ticks\":\"\",\"title\":{\"standoff\":15},\"zerolinecolor\":\"white\",\"automargin\":true,\"zerolinewidth\":2},\"scene\":{\"xaxis\":{\"backgroundcolor\":\"#E5ECF6\",\"gridcolor\":\"white\",\"linecolor\":\"white\",\"showbackground\":true,\"ticks\":\"\",\"zerolinecolor\":\"white\",\"gridwidth\":2},\"yaxis\":{\"backgroundcolor\":\"#E5ECF6\",\"gridcolor\":\"white\",\"linecolor\":\"white\",\"showbackground\":true,\"ticks\":\"\",\"zerolinecolor\":\"white\",\"gridwidth\":2},\"zaxis\":{\"backgroundcolor\":\"#E5ECF6\",\"gridcolor\":\"white\",\"linecolor\":\"white\",\"showbackground\":true,\"ticks\":\"\",\"zerolinecolor\":\"white\",\"gridwidth\":2}},\"shapedefaults\":{\"line\":{\"color\":\"#2a3f5f\"}},\"annotationdefaults\":{\"arrowcolor\":\"#2a3f5f\",\"arrowhead\":0,\"arrowwidth\":1},\"geo\":{\"bgcolor\":\"white\",\"landcolor\":\"#E5ECF6\",\"subunitcolor\":\"white\",\"showland\":true,\"showlakes\":true,\"lakecolor\":\"white\"},\"title\":{\"x\":0.05},\"mapbox\":{\"style\":\"light\"}}},\"xaxis\":{\"anchor\":\"y\",\"domain\":[0.0,1.0],\"title\":{\"text\":\"Tax Rate\"}},\"yaxis\":{\"anchor\":\"x\",\"domain\":[0.0,1.0],\"title\":{\"text\":\"Business Apps\"}},\"legend\":{\"title\":{\"text\":\"States\"},\"tracegroupgap\":0,\"itemsizing\":\"constant\"},\"title\":{\"text\":\"State-wise business applications and tax rates in 2021\"}},                        {\"responsive\": true}                    ).then(function(){\n",
       "                            \n",
       "var gd = document.getElementById('c6f40b0a-8367-4fae-8d78-1b5d42c54db8');\n",
       "var x = new MutationObserver(function (mutations, observer) {{\n",
       "        var display = window.getComputedStyle(gd).display;\n",
       "        if (!display || display === 'none') {{\n",
       "            console.log([gd, 'removed!']);\n",
       "            Plotly.purge(gd);\n",
       "            observer.disconnect();\n",
       "        }}\n",
       "}});\n",
       "\n",
       "// Listen for the removal of the full notebook cells\n",
       "var notebookContainer = gd.closest('#notebook-container');\n",
       "if (notebookContainer) {{\n",
       "    x.observe(notebookContainer, {childList: true});\n",
       "}}\n",
       "\n",
       "// Listen for the clearing of the current output cell\n",
       "var outputEl = gd.closest('.output');\n",
       "if (outputEl) {{\n",
       "    x.observe(outputEl, {childList: true});\n",
       "}}\n",
       "\n",
       "                        })                };                });            </script>        </div>"
      ]
     },
     "metadata": {},
     "output_type": "display_data"
    }
   ],
   "source": [
    "fig = px.scatter(df_temp, x=\"tax_rate\", y=\"business_apps\", size=\"pop\", color=\"Name\", size_max=60,\n",
    "                 title=\"State-wise business applications and tax rates in 2021\", \n",
    "                 labels={\n",
    "                     \"tax_rate\": \"Tax Rate\",\n",
    "                     \"business_apps\": \"Business Apps\",\n",
    "                     \"Name\": \"States\"})\n",
    "\n",
    "fig.show()"
   ]
  },
  {
   "cell_type": "code",
   "execution_count": 55,
   "id": "d4069314",
   "metadata": {},
   "outputs": [
    {
     "name": "stderr",
     "output_type": "stream",
     "text": [
      "/var/folders/h_/t7j5x_l10kg4zbr6vvxlqx5h0000gn/T/ipykernel_87646/3567061948.py:5: SettingWithCopyWarning:\n",
      "\n",
      "\n",
      "A value is trying to be set on a copy of a slice from a DataFrame.\n",
      "Try using .loc[row_indexer,col_indexer] = value instead\n",
      "\n",
      "See the caveats in the documentation: https://pandas.pydata.org/pandas-docs/stable/user_guide/indexing.html#returning-a-view-versus-a-copy\n",
      "\n"
     ]
    },
    {
     "data": {
      "text/html": [
       "<div>\n",
       "<style scoped>\n",
       "    .dataframe tbody tr th:only-of-type {\n",
       "        vertical-align: middle;\n",
       "    }\n",
       "\n",
       "    .dataframe tbody tr th {\n",
       "        vertical-align: top;\n",
       "    }\n",
       "\n",
       "    .dataframe thead th {\n",
       "        text-align: right;\n",
       "    }\n",
       "</style>\n",
       "<table border=\"1\" class=\"dataframe\">\n",
       "  <thead>\n",
       "    <tr style=\"text-align: right;\">\n",
       "      <th></th>\n",
       "      <th>Name</th>\n",
       "      <th>State</th>\n",
       "      <th>change</th>\n",
       "    </tr>\n",
       "  </thead>\n",
       "  <tbody>\n",
       "    <tr>\n",
       "      <th>0</th>\n",
       "      <td>Alabama</td>\n",
       "      <td>AL</td>\n",
       "      <td>0.00</td>\n",
       "    </tr>\n",
       "    <tr>\n",
       "      <th>1</th>\n",
       "      <td>Alaska</td>\n",
       "      <td>AK</td>\n",
       "      <td>-0.10</td>\n",
       "    </tr>\n",
       "    <tr>\n",
       "      <th>2</th>\n",
       "      <td>Arizona</td>\n",
       "      <td>AZ</td>\n",
       "      <td>-2.07</td>\n",
       "    </tr>\n",
       "    <tr>\n",
       "      <th>3</th>\n",
       "      <td>Arkansas</td>\n",
       "      <td>AR</td>\n",
       "      <td>-0.27</td>\n",
       "    </tr>\n",
       "    <tr>\n",
       "      <th>4</th>\n",
       "      <td>California</td>\n",
       "      <td>CA</td>\n",
       "      <td>0.00</td>\n",
       "    </tr>\n",
       "  </tbody>\n",
       "</table>\n",
       "</div>"
      ],
      "text/plain": [
       "         Name State  change\n",
       "0     Alabama    AL    0.00\n",
       "1      Alaska    AK   -0.10\n",
       "2     Arizona    AZ   -2.07\n",
       "3    Arkansas    AR   -0.27\n",
       "4  California    CA    0.00"
      ]
     },
     "execution_count": 55,
     "metadata": {},
     "output_type": "execute_result"
    }
   ],
   "source": [
    "#creating a bubble chart to show change- \n",
    "\n",
    "df_change = df[[\"Name\", \"State\"]]\n",
    "df_change.head()\n",
    "df_change[\"change\"] = df[\"2022\"] - df[\"2005\"]\n",
    "df_change.head()"
   ]
  },
  {
   "cell_type": "code",
   "execution_count": 65,
   "id": "aaac9c1d",
   "metadata": {},
   "outputs": [
    {
     "data": {
      "text/html": [
       "<div>\n",
       "<style scoped>\n",
       "    .dataframe tbody tr th:only-of-type {\n",
       "        vertical-align: middle;\n",
       "    }\n",
       "\n",
       "    .dataframe tbody tr th {\n",
       "        vertical-align: top;\n",
       "    }\n",
       "\n",
       "    .dataframe thead th {\n",
       "        text-align: right;\n",
       "    }\n",
       "</style>\n",
       "<table border=\"1\" class=\"dataframe\">\n",
       "  <thead>\n",
       "    <tr style=\"text-align: right;\">\n",
       "      <th></th>\n",
       "      <th>Name</th>\n",
       "      <th>State</th>\n",
       "      <th>tax_rate</th>\n",
       "      <th>business_apps</th>\n",
       "      <th>pop</th>\n",
       "    </tr>\n",
       "  </thead>\n",
       "  <tbody>\n",
       "    <tr>\n",
       "      <th>0</th>\n",
       "      <td>Alabama</td>\n",
       "      <td>AL</td>\n",
       "      <td>0.00</td>\n",
       "      <td>39672</td>\n",
       "      <td>504491</td>\n",
       "    </tr>\n",
       "    <tr>\n",
       "      <th>1</th>\n",
       "      <td>Alaska</td>\n",
       "      <td>AK</td>\n",
       "      <td>-0.10</td>\n",
       "      <td>3726</td>\n",
       "      <td>66637</td>\n",
       "    </tr>\n",
       "    <tr>\n",
       "      <th>2</th>\n",
       "      <td>Arizona</td>\n",
       "      <td>AZ</td>\n",
       "      <td>-2.07</td>\n",
       "      <td>58533</td>\n",
       "      <td>1520120</td>\n",
       "    </tr>\n",
       "    <tr>\n",
       "      <th>3</th>\n",
       "      <td>Arkansas</td>\n",
       "      <td>AR</td>\n",
       "      <td>-0.27</td>\n",
       "      <td>18429</td>\n",
       "      <td>264540</td>\n",
       "    </tr>\n",
       "    <tr>\n",
       "      <th>4</th>\n",
       "      <td>California</td>\n",
       "      <td>CA</td>\n",
       "      <td>0.00</td>\n",
       "      <td>214318</td>\n",
       "      <td>3201399</td>\n",
       "    </tr>\n",
       "  </tbody>\n",
       "</table>\n",
       "</div>"
      ],
      "text/plain": [
       "         Name State  tax_rate  business_apps      pop\n",
       "0     Alabama    AL      0.00          39672   504491\n",
       "1      Alaska    AK     -0.10           3726    66637\n",
       "2     Arizona    AZ     -2.07          58533  1520120\n",
       "3    Arkansas    AR     -0.27          18429   264540\n",
       "4  California    CA      0.00         214318  3201399"
      ]
     },
     "execution_count": 65,
     "metadata": {},
     "output_type": "execute_result"
    }
   ],
   "source": [
    "df_change = df_change.rename(columns={\"change\":\"tax_rate\"})\n",
    "df_change[\"business_apps\"] = df_biz['2022'] - df_biz['2005']\n",
    "df_change[\"pop\"] = df_pop['2022'] - df_pop['2005']\n",
    "df_change.head()"
   ]
  },
  {
   "cell_type": "code",
   "execution_count": 74,
   "id": "e5b3f4ca",
   "metadata": {},
   "outputs": [
    {
     "data": {
      "text/plain": [
       "0      504491\n",
       "1       66637\n",
       "2     1520120\n",
       "3      264540\n",
       "4     3201399\n",
       "5     1208038\n",
       "6      119249\n",
       "7      173246\n",
       "8      104667\n",
       "9     4402785\n",
       "10    1986954\n",
       "11     147467\n",
       "12     510792\n",
       "13     -27871\n",
       "14     554421\n",
       "15     236063\n",
       "16     191851\n",
       "17     329568\n",
       "18      13613\n",
       "19      66553\n",
       "20     572281\n",
       "21     578684\n",
       "22     -17024\n",
       "23     597586\n",
       "24      34114\n",
       "25     387657\n",
       "26     182765\n",
       "27     206426\n",
       "28     745629\n",
       "29      96739\n",
       "30     609725\n",
       "31     181070\n",
       "32     544541\n",
       "33    1993566\n",
       "34     133172\n",
       "35     292738\n",
       "36     471203\n",
       "37     626935\n",
       "38     522018\n",
       "39      25818\n",
       "40    1012484\n",
       "41     134331\n",
       "42    1060282\n",
       "43    7251449\n",
       "44     923081\n",
       "45      25849\n",
       "46    1106514\n",
       "47    1528481\n",
       "48     -45336\n",
       "49     346373\n",
       "50      67224\n",
       "Name: pop, dtype: int64"
      ]
     },
     "execution_count": 74,
     "metadata": {},
     "output_type": "execute_result"
    }
   ],
   "source": [
    "df_change['pop']"
   ]
  },
  {
   "cell_type": "code",
   "execution_count": 70,
   "id": "5f006b7e",
   "metadata": {},
   "outputs": [
    {
     "data": {
      "text/plain": [
       "Name              object\n",
       "State             object\n",
       "tax_rate         float64\n",
       "business_apps      int64\n",
       "pop                int64\n",
       "dtype: object"
      ]
     },
     "execution_count": 70,
     "metadata": {},
     "output_type": "execute_result"
    }
   ],
   "source": [
    "df_change.dtypes"
   ]
  },
  {
   "cell_type": "code",
   "execution_count": 72,
   "id": "bfd7389f",
   "metadata": {},
   "outputs": [
    {
     "ename": "ValueError",
     "evalue": "\n    Invalid element(s) received for the 'size' property of scatter.marker\n        Invalid elements include: [-27871]\n\n    The 'size' property is a number and may be specified as:\n      - An int or float in the interval [0, inf]\n      - A tuple, list, or one-dimensional numpy array of the above",
     "output_type": "error",
     "traceback": [
      "\u001b[0;31m---------------------------------------------------------------------------\u001b[0m",
      "\u001b[0;31mValueError\u001b[0m                                Traceback (most recent call last)",
      "Cell \u001b[0;32mIn[72], line 1\u001b[0m\n\u001b[0;32m----> 1\u001b[0m fig \u001b[38;5;241m=\u001b[39m px\u001b[38;5;241m.\u001b[39mscatter(df_change, x\u001b[38;5;241m=\u001b[39m\u001b[38;5;124m\"\u001b[39m\u001b[38;5;124mtax_rate\u001b[39m\u001b[38;5;124m\"\u001b[39m, y\u001b[38;5;241m=\u001b[39m\u001b[38;5;124m\"\u001b[39m\u001b[38;5;124mbusiness_apps\u001b[39m\u001b[38;5;124m\"\u001b[39m, size\u001b[38;5;241m=\u001b[39m\u001b[38;5;124m\"\u001b[39m\u001b[38;5;124mpop\u001b[39m\u001b[38;5;124m\"\u001b[39m, color\u001b[38;5;241m=\u001b[39m\u001b[38;5;124m\"\u001b[39m\u001b[38;5;124mName\u001b[39m\u001b[38;5;124m\"\u001b[39m, size_max\u001b[38;5;241m=\u001b[39m\u001b[38;5;241m60\u001b[39m,\n\u001b[1;32m      2\u001b[0m                  title\u001b[38;5;241m=\u001b[39m\u001b[38;5;124m\"\u001b[39m\u001b[38;5;124mState-wise business applications and tax rates in 2021\u001b[39m\u001b[38;5;124m\"\u001b[39m, \n\u001b[1;32m      3\u001b[0m                  labels\u001b[38;5;241m=\u001b[39m{\n\u001b[1;32m      4\u001b[0m                      \u001b[38;5;124m\"\u001b[39m\u001b[38;5;124mtax_rate\u001b[39m\u001b[38;5;124m\"\u001b[39m: \u001b[38;5;124m\"\u001b[39m\u001b[38;5;124mTax Rate\u001b[39m\u001b[38;5;124m\"\u001b[39m,\n\u001b[1;32m      5\u001b[0m                      \u001b[38;5;124m\"\u001b[39m\u001b[38;5;124mbusiness_apps\u001b[39m\u001b[38;5;124m\"\u001b[39m: \u001b[38;5;124m\"\u001b[39m\u001b[38;5;124mBusiness Apps\u001b[39m\u001b[38;5;124m\"\u001b[39m,\n\u001b[1;32m      6\u001b[0m                      \u001b[38;5;124m\"\u001b[39m\u001b[38;5;124mName\u001b[39m\u001b[38;5;124m\"\u001b[39m: \u001b[38;5;124m\"\u001b[39m\u001b[38;5;124mStates\u001b[39m\u001b[38;5;124m\"\u001b[39m})\n\u001b[1;32m      8\u001b[0m fig\u001b[38;5;241m.\u001b[39mshow()\n",
      "File \u001b[0;32m~/anaconda3/lib/python3.11/site-packages/plotly/express/_chart_types.py:66\u001b[0m, in \u001b[0;36mscatter\u001b[0;34m(data_frame, x, y, color, symbol, size, hover_name, hover_data, custom_data, text, facet_row, facet_col, facet_col_wrap, facet_row_spacing, facet_col_spacing, error_x, error_x_minus, error_y, error_y_minus, animation_frame, animation_group, category_orders, labels, orientation, color_discrete_sequence, color_discrete_map, color_continuous_scale, range_color, color_continuous_midpoint, symbol_sequence, symbol_map, opacity, size_max, marginal_x, marginal_y, trendline, trendline_options, trendline_color_override, trendline_scope, log_x, log_y, range_x, range_y, render_mode, title, template, width, height)\u001b[0m\n\u001b[1;32m     12\u001b[0m \u001b[38;5;28;01mdef\u001b[39;00m \u001b[38;5;21mscatter\u001b[39m(\n\u001b[1;32m     13\u001b[0m     data_frame\u001b[38;5;241m=\u001b[39m\u001b[38;5;28;01mNone\u001b[39;00m,\n\u001b[1;32m     14\u001b[0m     x\u001b[38;5;241m=\u001b[39m\u001b[38;5;28;01mNone\u001b[39;00m,\n\u001b[0;32m   (...)\u001b[0m\n\u001b[1;32m     60\u001b[0m     height\u001b[38;5;241m=\u001b[39m\u001b[38;5;28;01mNone\u001b[39;00m,\n\u001b[1;32m     61\u001b[0m ) \u001b[38;5;241m-\u001b[39m\u001b[38;5;241m>\u001b[39m go\u001b[38;5;241m.\u001b[39mFigure:\n\u001b[1;32m     62\u001b[0m \u001b[38;5;250m    \u001b[39m\u001b[38;5;124;03m\"\"\"\u001b[39;00m\n\u001b[1;32m     63\u001b[0m \u001b[38;5;124;03m    In a scatter plot, each row of `data_frame` is represented by a symbol\u001b[39;00m\n\u001b[1;32m     64\u001b[0m \u001b[38;5;124;03m    mark in 2D space.\u001b[39;00m\n\u001b[1;32m     65\u001b[0m \u001b[38;5;124;03m    \"\"\"\u001b[39;00m\n\u001b[0;32m---> 66\u001b[0m     \u001b[38;5;28;01mreturn\u001b[39;00m make_figure(args\u001b[38;5;241m=\u001b[39m\u001b[38;5;28mlocals\u001b[39m(), constructor\u001b[38;5;241m=\u001b[39mgo\u001b[38;5;241m.\u001b[39mScatter)\n",
      "File \u001b[0;32m~/anaconda3/lib/python3.11/site-packages/plotly/express/_core.py:2256\u001b[0m, in \u001b[0;36mmake_figure\u001b[0;34m(args, constructor, trace_patch, layout_patch)\u001b[0m\n\u001b[1;32m   2251\u001b[0m         group[var] \u001b[38;5;241m=\u001b[39m \u001b[38;5;241m100.0\u001b[39m \u001b[38;5;241m*\u001b[39m group[var] \u001b[38;5;241m/\u001b[39m group_sum\n\u001b[1;32m   2253\u001b[0m patch, fit_results \u001b[38;5;241m=\u001b[39m make_trace_kwargs(\n\u001b[1;32m   2254\u001b[0m     args, trace_spec, group, mapping_labels\u001b[38;5;241m.\u001b[39mcopy(), sizeref\n\u001b[1;32m   2255\u001b[0m )\n\u001b[0;32m-> 2256\u001b[0m trace\u001b[38;5;241m.\u001b[39mupdate(patch)\n\u001b[1;32m   2257\u001b[0m \u001b[38;5;28;01mif\u001b[39;00m fit_results \u001b[38;5;129;01mis\u001b[39;00m \u001b[38;5;129;01mnot\u001b[39;00m \u001b[38;5;28;01mNone\u001b[39;00m:\n\u001b[1;32m   2258\u001b[0m     trendline_rows\u001b[38;5;241m.\u001b[39mappend(mapping_labels\u001b[38;5;241m.\u001b[39mcopy())\n",
      "File \u001b[0;32m~/anaconda3/lib/python3.11/site-packages/plotly/basedatatypes.py:5139\u001b[0m, in \u001b[0;36mBasePlotlyType.update\u001b[0;34m(self, dict1, overwrite, **kwargs)\u001b[0m\n\u001b[1;32m   5137\u001b[0m         BaseFigure\u001b[38;5;241m.\u001b[39m_perform_update(\u001b[38;5;28mself\u001b[39m, kwargs, overwrite\u001b[38;5;241m=\u001b[39moverwrite)\n\u001b[1;32m   5138\u001b[0m \u001b[38;5;28;01melse\u001b[39;00m:\n\u001b[0;32m-> 5139\u001b[0m     BaseFigure\u001b[38;5;241m.\u001b[39m_perform_update(\u001b[38;5;28mself\u001b[39m, dict1, overwrite\u001b[38;5;241m=\u001b[39moverwrite)\n\u001b[1;32m   5140\u001b[0m     BaseFigure\u001b[38;5;241m.\u001b[39m_perform_update(\u001b[38;5;28mself\u001b[39m, kwargs, overwrite\u001b[38;5;241m=\u001b[39moverwrite)\n\u001b[1;32m   5142\u001b[0m \u001b[38;5;28;01mreturn\u001b[39;00m \u001b[38;5;28mself\u001b[39m\n",
      "File \u001b[0;32m~/anaconda3/lib/python3.11/site-packages/plotly/basedatatypes.py:3919\u001b[0m, in \u001b[0;36mBaseFigure._perform_update\u001b[0;34m(plotly_obj, update_obj, overwrite)\u001b[0m\n\u001b[1;32m   3913\u001b[0m validator \u001b[38;5;241m=\u001b[39m plotly_obj\u001b[38;5;241m.\u001b[39m_get_prop_validator(key)\n\u001b[1;32m   3915\u001b[0m \u001b[38;5;28;01mif\u001b[39;00m \u001b[38;5;28misinstance\u001b[39m(validator, CompoundValidator) \u001b[38;5;129;01mand\u001b[39;00m \u001b[38;5;28misinstance\u001b[39m(val, \u001b[38;5;28mdict\u001b[39m):\n\u001b[1;32m   3916\u001b[0m \n\u001b[1;32m   3917\u001b[0m     \u001b[38;5;66;03m# Update compound objects recursively\u001b[39;00m\n\u001b[1;32m   3918\u001b[0m     \u001b[38;5;66;03m# plotly_obj[key].update(val)\u001b[39;00m\n\u001b[0;32m-> 3919\u001b[0m     BaseFigure\u001b[38;5;241m.\u001b[39m_perform_update(plotly_obj[key], val)\n\u001b[1;32m   3920\u001b[0m \u001b[38;5;28;01melif\u001b[39;00m \u001b[38;5;28misinstance\u001b[39m(validator, CompoundArrayValidator):\n\u001b[1;32m   3921\u001b[0m     \u001b[38;5;28;01mif\u001b[39;00m plotly_obj[key]:\n\u001b[1;32m   3922\u001b[0m         \u001b[38;5;66;03m# plotly_obj has an existing non-empty array for key\u001b[39;00m\n\u001b[1;32m   3923\u001b[0m         \u001b[38;5;66;03m# In this case we merge val into the existing elements\u001b[39;00m\n",
      "File \u001b[0;32m~/anaconda3/lib/python3.11/site-packages/plotly/basedatatypes.py:3940\u001b[0m, in \u001b[0;36mBaseFigure._perform_update\u001b[0;34m(plotly_obj, update_obj, overwrite)\u001b[0m\n\u001b[1;32m   3937\u001b[0m                 plotly_obj[key] \u001b[38;5;241m=\u001b[39m val\n\u001b[1;32m   3938\u001b[0m         \u001b[38;5;28;01melse\u001b[39;00m:\n\u001b[1;32m   3939\u001b[0m             \u001b[38;5;66;03m# Assign non-compound value\u001b[39;00m\n\u001b[0;32m-> 3940\u001b[0m             plotly_obj[key] \u001b[38;5;241m=\u001b[39m val\n\u001b[1;32m   3942\u001b[0m \u001b[38;5;28;01melif\u001b[39;00m \u001b[38;5;28misinstance\u001b[39m(plotly_obj, \u001b[38;5;28mtuple\u001b[39m):\n\u001b[1;32m   3944\u001b[0m     \u001b[38;5;28;01mif\u001b[39;00m \u001b[38;5;28mlen\u001b[39m(update_obj) \u001b[38;5;241m==\u001b[39m \u001b[38;5;241m0\u001b[39m:\n\u001b[1;32m   3945\u001b[0m         \u001b[38;5;66;03m# Nothing to do\u001b[39;00m\n",
      "File \u001b[0;32m~/anaconda3/lib/python3.11/site-packages/plotly/basedatatypes.py:4874\u001b[0m, in \u001b[0;36mBasePlotlyType.__setitem__\u001b[0;34m(self, prop, value)\u001b[0m\n\u001b[1;32m   4870\u001b[0m         \u001b[38;5;28mself\u001b[39m\u001b[38;5;241m.\u001b[39m_set_array_prop(prop, value)\n\u001b[1;32m   4872\u001b[0m     \u001b[38;5;66;03m# ### Handle simple property ###\u001b[39;00m\n\u001b[1;32m   4873\u001b[0m     \u001b[38;5;28;01melse\u001b[39;00m:\n\u001b[0;32m-> 4874\u001b[0m         \u001b[38;5;28mself\u001b[39m\u001b[38;5;241m.\u001b[39m_set_prop(prop, value)\n\u001b[1;32m   4875\u001b[0m \u001b[38;5;28;01melse\u001b[39;00m:\n\u001b[1;32m   4876\u001b[0m     \u001b[38;5;66;03m# Make sure properties dict is initialized\u001b[39;00m\n\u001b[1;32m   4877\u001b[0m     \u001b[38;5;28mself\u001b[39m\u001b[38;5;241m.\u001b[39m_init_props()\n",
      "File \u001b[0;32m~/anaconda3/lib/python3.11/site-packages/plotly/basedatatypes.py:5218\u001b[0m, in \u001b[0;36mBasePlotlyType._set_prop\u001b[0;34m(self, prop, val)\u001b[0m\n\u001b[1;32m   5216\u001b[0m         \u001b[38;5;28;01mreturn\u001b[39;00m\n\u001b[1;32m   5217\u001b[0m     \u001b[38;5;28;01melse\u001b[39;00m:\n\u001b[0;32m-> 5218\u001b[0m         \u001b[38;5;28;01mraise\u001b[39;00m err\n\u001b[1;32m   5220\u001b[0m \u001b[38;5;66;03m# val is None\u001b[39;00m\n\u001b[1;32m   5221\u001b[0m \u001b[38;5;66;03m# -----------\u001b[39;00m\n\u001b[1;32m   5222\u001b[0m \u001b[38;5;28;01mif\u001b[39;00m val \u001b[38;5;129;01mis\u001b[39;00m \u001b[38;5;28;01mNone\u001b[39;00m:\n\u001b[1;32m   5223\u001b[0m     \u001b[38;5;66;03m# Check if we should send null update\u001b[39;00m\n",
      "File \u001b[0;32m~/anaconda3/lib/python3.11/site-packages/plotly/basedatatypes.py:5213\u001b[0m, in \u001b[0;36mBasePlotlyType._set_prop\u001b[0;34m(self, prop, val)\u001b[0m\n\u001b[1;32m   5210\u001b[0m validator \u001b[38;5;241m=\u001b[39m \u001b[38;5;28mself\u001b[39m\u001b[38;5;241m.\u001b[39m_get_validator(prop)\n\u001b[1;32m   5212\u001b[0m \u001b[38;5;28;01mtry\u001b[39;00m:\n\u001b[0;32m-> 5213\u001b[0m     val \u001b[38;5;241m=\u001b[39m validator\u001b[38;5;241m.\u001b[39mvalidate_coerce(val)\n\u001b[1;32m   5214\u001b[0m \u001b[38;5;28;01mexcept\u001b[39;00m \u001b[38;5;167;01mValueError\u001b[39;00m \u001b[38;5;28;01mas\u001b[39;00m err:\n\u001b[1;32m   5215\u001b[0m     \u001b[38;5;28;01mif\u001b[39;00m \u001b[38;5;28mself\u001b[39m\u001b[38;5;241m.\u001b[39m_skip_invalid:\n",
      "File \u001b[0;32m~/anaconda3/lib/python3.11/site-packages/_plotly_utils/basevalidators.py:786\u001b[0m, in \u001b[0;36mNumberValidator.validate_coerce\u001b[0;34m(self, v)\u001b[0m\n\u001b[1;32m    781\u001b[0m             v_invalid \u001b[38;5;241m=\u001b[39m np\u001b[38;5;241m.\u001b[39mlogical_not(v_valid)\n\u001b[1;32m    782\u001b[0m             some_invalid_els \u001b[38;5;241m=\u001b[39m np\u001b[38;5;241m.\u001b[39marray(v, dtype\u001b[38;5;241m=\u001b[39m\u001b[38;5;124m\"\u001b[39m\u001b[38;5;124mobject\u001b[39m\u001b[38;5;124m\"\u001b[39m)[v_invalid][\n\u001b[1;32m    783\u001b[0m                 :\u001b[38;5;241m10\u001b[39m\n\u001b[1;32m    784\u001b[0m             ]\u001b[38;5;241m.\u001b[39mtolist()\n\u001b[0;32m--> 786\u001b[0m             \u001b[38;5;28mself\u001b[39m\u001b[38;5;241m.\u001b[39mraise_invalid_elements(some_invalid_els)\n\u001b[1;32m    788\u001b[0m     v \u001b[38;5;241m=\u001b[39m v_array  \u001b[38;5;66;03m# Always numeric numpy array\u001b[39;00m\n\u001b[1;32m    789\u001b[0m \u001b[38;5;28;01melif\u001b[39;00m \u001b[38;5;28mself\u001b[39m\u001b[38;5;241m.\u001b[39marray_ok \u001b[38;5;129;01mand\u001b[39;00m is_simple_array(v):\n\u001b[1;32m    790\u001b[0m     \u001b[38;5;66;03m# Check numeric\u001b[39;00m\n",
      "File \u001b[0;32m~/anaconda3/lib/python3.11/site-packages/_plotly_utils/basevalidators.py:312\u001b[0m, in \u001b[0;36mBaseValidator.raise_invalid_elements\u001b[0;34m(self, invalid_els)\u001b[0m\n\u001b[1;32m    310\u001b[0m     \u001b[38;5;28;01mdef\u001b[39;00m \u001b[38;5;21mraise_invalid_elements\u001b[39m(\u001b[38;5;28mself\u001b[39m, invalid_els):\n\u001b[1;32m    311\u001b[0m         \u001b[38;5;28;01mif\u001b[39;00m invalid_els:\n\u001b[0;32m--> 312\u001b[0m             \u001b[38;5;28;01mraise\u001b[39;00m \u001b[38;5;167;01mValueError\u001b[39;00m(\n\u001b[1;32m    313\u001b[0m \u001b[38;5;250m                \u001b[39m\u001b[38;5;124;03m\"\"\"\u001b[39;00m\n\u001b[1;32m    314\u001b[0m \u001b[38;5;124;03m    Invalid element(s) received for the '{name}' property of {pname}\u001b[39;00m\n\u001b[1;32m    315\u001b[0m \u001b[38;5;124;03m        Invalid elements include: {invalid}\u001b[39;00m\n\u001b[1;32m    316\u001b[0m \n\u001b[1;32m    317\u001b[0m \u001b[38;5;124;03m{valid_clr_desc}\"\"\"\u001b[39;00m\u001b[38;5;241m.\u001b[39mformat(\n\u001b[1;32m    318\u001b[0m                     name\u001b[38;5;241m=\u001b[39m\u001b[38;5;28mself\u001b[39m\u001b[38;5;241m.\u001b[39mplotly_name,\n\u001b[1;32m    319\u001b[0m                     pname\u001b[38;5;241m=\u001b[39m\u001b[38;5;28mself\u001b[39m\u001b[38;5;241m.\u001b[39mparent_name,\n\u001b[1;32m    320\u001b[0m                     invalid\u001b[38;5;241m=\u001b[39minvalid_els[:\u001b[38;5;241m10\u001b[39m],\n\u001b[1;32m    321\u001b[0m                     valid_clr_desc\u001b[38;5;241m=\u001b[39m\u001b[38;5;28mself\u001b[39m\u001b[38;5;241m.\u001b[39mdescription(),\n\u001b[1;32m    322\u001b[0m                 )\n\u001b[1;32m    323\u001b[0m             )\n",
      "\u001b[0;31mValueError\u001b[0m: \n    Invalid element(s) received for the 'size' property of scatter.marker\n        Invalid elements include: [-27871]\n\n    The 'size' property is a number and may be specified as:\n      - An int or float in the interval [0, inf]\n      - A tuple, list, or one-dimensional numpy array of the above"
     ]
    }
   ],
   "source": [
    "fig = px.scatter(df_change, x=\"tax_rate\", y=\"business_apps\", size=\"pop\", color=\"Name\", size_max=60,\n",
    "                 title=\"State-wise business applications and tax rates in 2021\", \n",
    "                 labels={\n",
    "                     \"tax_rate\": \"Tax Rate\",\n",
    "                     \"business_apps\": \"Business Apps\",\n",
    "                     \"Name\": \"States\"})\n",
    "\n",
    "fig.show()"
   ]
  },
  {
   "cell_type": "code",
   "execution_count": 75,
   "id": "03a35f49",
   "metadata": {},
   "outputs": [
    {
     "data": {
      "text/html": [
       "<div>\n",
       "<style scoped>\n",
       "    .dataframe tbody tr th:only-of-type {\n",
       "        vertical-align: middle;\n",
       "    }\n",
       "\n",
       "    .dataframe tbody tr th {\n",
       "        vertical-align: top;\n",
       "    }\n",
       "\n",
       "    .dataframe thead th {\n",
       "        text-align: right;\n",
       "    }\n",
       "</style>\n",
       "<table border=\"1\" class=\"dataframe\">\n",
       "  <thead>\n",
       "    <tr style=\"text-align: right;\">\n",
       "      <th></th>\n",
       "      <th>State</th>\n",
       "      <th>2005</th>\n",
       "      <th>2006</th>\n",
       "      <th>2007</th>\n",
       "      <th>2008</th>\n",
       "      <th>2009</th>\n",
       "      <th>2010</th>\n",
       "      <th>2011</th>\n",
       "      <th>2012</th>\n",
       "      <th>2013</th>\n",
       "      <th>2014</th>\n",
       "      <th>2015</th>\n",
       "      <th>2016</th>\n",
       "      <th>2017</th>\n",
       "      <th>2018</th>\n",
       "      <th>2019</th>\n",
       "      <th>2020</th>\n",
       "      <th>2021</th>\n",
       "      <th>2022</th>\n",
       "    </tr>\n",
       "  </thead>\n",
       "  <tbody>\n",
       "    <tr>\n",
       "      <th>0</th>\n",
       "      <td>Alabama</td>\n",
       "      <td>158846.8</td>\n",
       "      <td>166469.0</td>\n",
       "      <td>172975.2</td>\n",
       "      <td>174526.3</td>\n",
       "      <td>170930.9</td>\n",
       "      <td>177249.2</td>\n",
       "      <td>183916.6</td>\n",
       "      <td>189245.5</td>\n",
       "      <td>194786.9</td>\n",
       "      <td>197406.9</td>\n",
       "      <td>202372.4</td>\n",
       "      <td>207368.4</td>\n",
       "      <td>214606.3</td>\n",
       "      <td>223859.3</td>\n",
       "      <td>231561.9</td>\n",
       "      <td>230892.1</td>\n",
       "      <td>254109.7</td>\n",
       "      <td>277817.5</td>\n",
       "    </tr>\n",
       "    <tr>\n",
       "      <th>1</th>\n",
       "      <td>Alaska</td>\n",
       "      <td>40356.6</td>\n",
       "      <td>45094.1</td>\n",
       "      <td>49583.7</td>\n",
       "      <td>55122.5</td>\n",
       "      <td>49957.8</td>\n",
       "      <td>53331.6</td>\n",
       "      <td>56896.3</td>\n",
       "      <td>58283.6</td>\n",
       "      <td>57247.7</td>\n",
       "      <td>56484.9</td>\n",
       "      <td>51490.9</td>\n",
       "      <td>50727.7</td>\n",
       "      <td>53301.5</td>\n",
       "      <td>54899.6</td>\n",
       "      <td>54728.2</td>\n",
       "      <td>50475.2</td>\n",
       "      <td>57349.4</td>\n",
       "      <td>63618.0</td>\n",
       "    </tr>\n",
       "    <tr>\n",
       "      <th>2</th>\n",
       "      <td>Arizona</td>\n",
       "      <td>227915.9</td>\n",
       "      <td>245957.0</td>\n",
       "      <td>261392.0</td>\n",
       "      <td>262926.0</td>\n",
       "      <td>246424.3</td>\n",
       "      <td>251153.0</td>\n",
       "      <td>260915.7</td>\n",
       "      <td>271440.0</td>\n",
       "      <td>278591.6</td>\n",
       "      <td>287666.6</td>\n",
       "      <td>299393.3</td>\n",
       "      <td>313081.4</td>\n",
       "      <td>332001.8</td>\n",
       "      <td>351879.5</td>\n",
       "      <td>372393.5</td>\n",
       "      <td>382072.3</td>\n",
       "      <td>420026.7</td>\n",
       "      <td>458949.8</td>\n",
       "    </tr>\n",
       "    <tr>\n",
       "      <th>3</th>\n",
       "      <td>Arkansas</td>\n",
       "      <td>90887.7</td>\n",
       "      <td>95875.1</td>\n",
       "      <td>98381.6</td>\n",
       "      <td>99706.8</td>\n",
       "      <td>97508.1</td>\n",
       "      <td>101486.5</td>\n",
       "      <td>105768.1</td>\n",
       "      <td>108492.1</td>\n",
       "      <td>113227.3</td>\n",
       "      <td>116139.4</td>\n",
       "      <td>117786.8</td>\n",
       "      <td>119152.4</td>\n",
       "      <td>122466.7</td>\n",
       "      <td>127535.7</td>\n",
       "      <td>131578.3</td>\n",
       "      <td>133969.1</td>\n",
       "      <td>148676.1</td>\n",
       "      <td>165220.6</td>\n",
       "    </tr>\n",
       "    <tr>\n",
       "      <th>4</th>\n",
       "      <td>California</td>\n",
       "      <td>1698560.4</td>\n",
       "      <td>1812210.0</td>\n",
       "      <td>1898902.0</td>\n",
       "      <td>1944695.3</td>\n",
       "      <td>1890165.9</td>\n",
       "      <td>1954092.7</td>\n",
       "      <td>2023500.0</td>\n",
       "      <td>2113096.4</td>\n",
       "      <td>2220389.9</td>\n",
       "      <td>2335286.5</td>\n",
       "      <td>2473555.9</td>\n",
       "      <td>2569634.0</td>\n",
       "      <td>2728743.1</td>\n",
       "      <td>2897200.7</td>\n",
       "      <td>3042694.1</td>\n",
       "      <td>3020173.4</td>\n",
       "      <td>3373240.7</td>\n",
       "      <td>3598102.7</td>\n",
       "    </tr>\n",
       "  </tbody>\n",
       "</table>\n",
       "</div>"
      ],
      "text/plain": [
       "        State       2005       2006       2007       2008       2009  \\\n",
       "0     Alabama   158846.8   166469.0   172975.2   174526.3   170930.9   \n",
       "1      Alaska    40356.6    45094.1    49583.7    55122.5    49957.8   \n",
       "2     Arizona   227915.9   245957.0   261392.0   262926.0   246424.3   \n",
       "3    Arkansas    90887.7    95875.1    98381.6    99706.8    97508.1   \n",
       "4  California  1698560.4  1812210.0  1898902.0  1944695.3  1890165.9   \n",
       "\n",
       "        2010       2011       2012       2013       2014       2015  \\\n",
       "0   177249.2   183916.6   189245.5   194786.9   197406.9   202372.4   \n",
       "1    53331.6    56896.3    58283.6    57247.7    56484.9    51490.9   \n",
       "2   251153.0   260915.7   271440.0   278591.6   287666.6   299393.3   \n",
       "3   101486.5   105768.1   108492.1   113227.3   116139.4   117786.8   \n",
       "4  1954092.7  2023500.0  2113096.4  2220389.9  2335286.5  2473555.9   \n",
       "\n",
       "        2016       2017       2018       2019       2020       2021       2022  \n",
       "0   207368.4   214606.3   223859.3   231561.9   230892.1   254109.7   277817.5  \n",
       "1    50727.7    53301.5    54899.6    54728.2    50475.2    57349.4    63618.0  \n",
       "2   313081.4   332001.8   351879.5   372393.5   382072.3   420026.7   458949.8  \n",
       "3   119152.4   122466.7   127535.7   131578.3   133969.1   148676.1   165220.6  \n",
       "4  2569634.0  2728743.1  2897200.7  3042694.1  3020173.4  3373240.7  3598102.7  "
      ]
     },
     "execution_count": 75,
     "metadata": {},
     "output_type": "execute_result"
    }
   ],
   "source": [
    "df_gdp = pd.read_csv(\"GDP_bystate.csv\")\n",
    "df_gdp.head()"
   ]
  }
 ],
 "metadata": {
  "kernelspec": {
   "display_name": "Python 3 (ipykernel)",
   "language": "python",
   "name": "python3"
  },
  "language_info": {
   "codemirror_mode": {
    "name": "ipython",
    "version": 3
   },
   "file_extension": ".py",
   "mimetype": "text/x-python",
   "name": "python",
   "nbconvert_exporter": "python",
   "pygments_lexer": "ipython3",
   "version": "3.11.3"
  }
 },
 "nbformat": 4,
 "nbformat_minor": 5
}
