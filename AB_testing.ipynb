{
 "cells": [
  {
   "cell_type": "code",
   "execution_count": 2,
   "id": "e418bb9e",
   "metadata": {},
   "outputs": [],
   "source": [
    "import numpy as np\n",
    "import pandas as pd\n",
    "import matplotlib.pyplot as plt\n",
    "import geopandas as gpd\n",
    "import plotly.express as px"
   ]
  },
  {
   "cell_type": "markdown",
   "id": "e2de5d8a",
   "metadata": {},
   "source": [
    "### Tax"
   ]
  },
  {
   "cell_type": "markdown",
   "id": "a6299b47",
   "metadata": {},
   "source": [
    "We compiled the US States (and Washington DC) tax rates into one single dataset from 2005-2023 based on the available information from the US Government Tax Organization. Then we added added it as a pandas DataFrame and rounded the numbers. "
   ]
  },
  {
   "cell_type": "code",
   "execution_count": 6,
   "id": "27c69845",
   "metadata": {
    "scrolled": true
   },
   "outputs": [
    {
     "data": {
      "text/plain": [
       "(51, 20)"
      ]
     },
     "execution_count": 6,
     "metadata": {},
     "output_type": "execute_result"
    }
   ],
   "source": [
    "df_tax = pd.read_csv(\"taxrates.csv\")\n",
    "df_tax = df_tax.round(2)\n",
    "df_tax.shape"
   ]
  },
  {
   "cell_type": "code",
   "execution_count": 7,
   "id": "80d9cc94",
   "metadata": {
    "scrolled": false
   },
   "outputs": [
    {
     "data": {
      "text/html": [
       "<div>\n",
       "<style scoped>\n",
       "    .dataframe tbody tr th:only-of-type {\n",
       "        vertical-align: middle;\n",
       "    }\n",
       "\n",
       "    .dataframe tbody tr th {\n",
       "        vertical-align: top;\n",
       "    }\n",
       "\n",
       "    .dataframe thead th {\n",
       "        text-align: right;\n",
       "    }\n",
       "</style>\n",
       "<table border=\"1\" class=\"dataframe\">\n",
       "  <thead>\n",
       "    <tr style=\"text-align: right;\">\n",
       "      <th></th>\n",
       "      <th>State</th>\n",
       "      <th>2005</th>\n",
       "      <th>2006</th>\n",
       "      <th>2007</th>\n",
       "      <th>2008</th>\n",
       "      <th>2009</th>\n",
       "      <th>2010</th>\n",
       "      <th>2011</th>\n",
       "      <th>2012</th>\n",
       "      <th>2013</th>\n",
       "      <th>2014</th>\n",
       "      <th>2015</th>\n",
       "      <th>2016</th>\n",
       "      <th>2017</th>\n",
       "      <th>2018</th>\n",
       "      <th>2019</th>\n",
       "      <th>2020</th>\n",
       "      <th>2021</th>\n",
       "      <th>2022</th>\n",
       "      <th>2023</th>\n",
       "    </tr>\n",
       "  </thead>\n",
       "  <tbody>\n",
       "    <tr>\n",
       "      <th>0</th>\n",
       "      <td>Alabama</td>\n",
       "      <td>6.50</td>\n",
       "      <td>6.50</td>\n",
       "      <td>6.50</td>\n",
       "      <td>6.50</td>\n",
       "      <td>6.50</td>\n",
       "      <td>6.50</td>\n",
       "      <td>6.50</td>\n",
       "      <td>6.50</td>\n",
       "      <td>6.50</td>\n",
       "      <td>6.50</td>\n",
       "      <td>6.50</td>\n",
       "      <td>6.50</td>\n",
       "      <td>6.50</td>\n",
       "      <td>6.50</td>\n",
       "      <td>6.50</td>\n",
       "      <td>6.50</td>\n",
       "      <td>6.50</td>\n",
       "      <td>6.50</td>\n",
       "      <td>6.50</td>\n",
       "    </tr>\n",
       "    <tr>\n",
       "      <th>1</th>\n",
       "      <td>Alaska</td>\n",
       "      <td>5.44</td>\n",
       "      <td>5.44</td>\n",
       "      <td>5.44</td>\n",
       "      <td>5.44</td>\n",
       "      <td>5.44</td>\n",
       "      <td>5.44</td>\n",
       "      <td>5.44</td>\n",
       "      <td>5.44</td>\n",
       "      <td>5.44</td>\n",
       "      <td>5.44</td>\n",
       "      <td>5.34</td>\n",
       "      <td>5.34</td>\n",
       "      <td>5.34</td>\n",
       "      <td>5.34</td>\n",
       "      <td>5.34</td>\n",
       "      <td>5.34</td>\n",
       "      <td>5.34</td>\n",
       "      <td>5.34</td>\n",
       "      <td>5.34</td>\n",
       "    </tr>\n",
       "    <tr>\n",
       "      <th>2</th>\n",
       "      <td>Arizona</td>\n",
       "      <td>6.97</td>\n",
       "      <td>6.97</td>\n",
       "      <td>6.97</td>\n",
       "      <td>6.97</td>\n",
       "      <td>6.97</td>\n",
       "      <td>6.97</td>\n",
       "      <td>6.97</td>\n",
       "      <td>6.97</td>\n",
       "      <td>6.97</td>\n",
       "      <td>6.50</td>\n",
       "      <td>5.50</td>\n",
       "      <td>5.50</td>\n",
       "      <td>4.90</td>\n",
       "      <td>4.90</td>\n",
       "      <td>4.90</td>\n",
       "      <td>4.90</td>\n",
       "      <td>4.90</td>\n",
       "      <td>4.90</td>\n",
       "      <td>4.90</td>\n",
       "    </tr>\n",
       "    <tr>\n",
       "      <th>3</th>\n",
       "      <td>Arkansas</td>\n",
       "      <td>3.92</td>\n",
       "      <td>3.92</td>\n",
       "      <td>3.92</td>\n",
       "      <td>3.92</td>\n",
       "      <td>3.92</td>\n",
       "      <td>3.92</td>\n",
       "      <td>3.92</td>\n",
       "      <td>3.92</td>\n",
       "      <td>3.92</td>\n",
       "      <td>3.92</td>\n",
       "      <td>3.92</td>\n",
       "      <td>3.92</td>\n",
       "      <td>3.92</td>\n",
       "      <td>3.92</td>\n",
       "      <td>3.92</td>\n",
       "      <td>3.92</td>\n",
       "      <td>3.87</td>\n",
       "      <td>3.65</td>\n",
       "      <td>3.55</td>\n",
       "    </tr>\n",
       "    <tr>\n",
       "      <th>4</th>\n",
       "      <td>California</td>\n",
       "      <td>8.84</td>\n",
       "      <td>8.84</td>\n",
       "      <td>8.84</td>\n",
       "      <td>8.84</td>\n",
       "      <td>8.84</td>\n",
       "      <td>8.84</td>\n",
       "      <td>8.84</td>\n",
       "      <td>8.84</td>\n",
       "      <td>8.84</td>\n",
       "      <td>8.84</td>\n",
       "      <td>8.84</td>\n",
       "      <td>8.84</td>\n",
       "      <td>8.84</td>\n",
       "      <td>8.84</td>\n",
       "      <td>8.84</td>\n",
       "      <td>8.84</td>\n",
       "      <td>8.84</td>\n",
       "      <td>8.84</td>\n",
       "      <td>8.84</td>\n",
       "    </tr>\n",
       "  </tbody>\n",
       "</table>\n",
       "</div>"
      ],
      "text/plain": [
       "        State  2005  2006  2007  2008  2009  2010  2011  2012  2013  2014  \\\n",
       "0     Alabama  6.50  6.50  6.50  6.50  6.50  6.50  6.50  6.50  6.50  6.50   \n",
       "1      Alaska  5.44  5.44  5.44  5.44  5.44  5.44  5.44  5.44  5.44  5.44   \n",
       "2     Arizona  6.97  6.97  6.97  6.97  6.97  6.97  6.97  6.97  6.97  6.50   \n",
       "3    Arkansas  3.92  3.92  3.92  3.92  3.92  3.92  3.92  3.92  3.92  3.92   \n",
       "4  California  8.84  8.84  8.84  8.84  8.84  8.84  8.84  8.84  8.84  8.84   \n",
       "\n",
       "   2015  2016  2017  2018  2019  2020  2021  2022  2023  \n",
       "0  6.50  6.50  6.50  6.50  6.50  6.50  6.50  6.50  6.50  \n",
       "1  5.34  5.34  5.34  5.34  5.34  5.34  5.34  5.34  5.34  \n",
       "2  5.50  5.50  4.90  4.90  4.90  4.90  4.90  4.90  4.90  \n",
       "3  3.92  3.92  3.92  3.92  3.92  3.92  3.87  3.65  3.55  \n",
       "4  8.84  8.84  8.84  8.84  8.84  8.84  8.84  8.84  8.84  "
      ]
     },
     "execution_count": 7,
     "metadata": {},
     "output_type": "execute_result"
    }
   ],
   "source": [
    "df_tax = df_tax.sort_values(by=['State'])\n",
    "df_tax = df_tax.reset_index(drop=True)\n",
    "df_tax.head()"
   ]
  },
  {
   "cell_type": "code",
   "execution_count": 8,
   "id": "65ec3505",
   "metadata": {},
   "outputs": [
    {
     "data": {
      "text/html": [
       "<div>\n",
       "<style scoped>\n",
       "    .dataframe tbody tr th:only-of-type {\n",
       "        vertical-align: middle;\n",
       "    }\n",
       "\n",
       "    .dataframe tbody tr th {\n",
       "        vertical-align: top;\n",
       "    }\n",
       "\n",
       "    .dataframe thead th {\n",
       "        text-align: right;\n",
       "    }\n",
       "</style>\n",
       "<table border=\"1\" class=\"dataframe\">\n",
       "  <thead>\n",
       "    <tr style=\"text-align: right;\">\n",
       "      <th></th>\n",
       "      <th>State</th>\n",
       "      <th>2005</th>\n",
       "      <th>2006</th>\n",
       "      <th>2007</th>\n",
       "      <th>2008</th>\n",
       "      <th>2009</th>\n",
       "      <th>2010</th>\n",
       "      <th>2011</th>\n",
       "      <th>2012</th>\n",
       "      <th>2013</th>\n",
       "      <th>2014</th>\n",
       "      <th>2015</th>\n",
       "      <th>2016</th>\n",
       "      <th>2017</th>\n",
       "      <th>2018</th>\n",
       "      <th>2019</th>\n",
       "      <th>2020</th>\n",
       "      <th>2021</th>\n",
       "      <th>2022</th>\n",
       "    </tr>\n",
       "  </thead>\n",
       "  <tbody>\n",
       "    <tr>\n",
       "      <th>0</th>\n",
       "      <td>Alabama</td>\n",
       "      <td>6.50</td>\n",
       "      <td>6.50</td>\n",
       "      <td>6.50</td>\n",
       "      <td>6.50</td>\n",
       "      <td>6.50</td>\n",
       "      <td>6.50</td>\n",
       "      <td>6.50</td>\n",
       "      <td>6.50</td>\n",
       "      <td>6.50</td>\n",
       "      <td>6.50</td>\n",
       "      <td>6.50</td>\n",
       "      <td>6.50</td>\n",
       "      <td>6.50</td>\n",
       "      <td>6.50</td>\n",
       "      <td>6.50</td>\n",
       "      <td>6.50</td>\n",
       "      <td>6.50</td>\n",
       "      <td>6.50</td>\n",
       "    </tr>\n",
       "    <tr>\n",
       "      <th>1</th>\n",
       "      <td>Alaska</td>\n",
       "      <td>5.44</td>\n",
       "      <td>5.44</td>\n",
       "      <td>5.44</td>\n",
       "      <td>5.44</td>\n",
       "      <td>5.44</td>\n",
       "      <td>5.44</td>\n",
       "      <td>5.44</td>\n",
       "      <td>5.44</td>\n",
       "      <td>5.44</td>\n",
       "      <td>5.44</td>\n",
       "      <td>5.34</td>\n",
       "      <td>5.34</td>\n",
       "      <td>5.34</td>\n",
       "      <td>5.34</td>\n",
       "      <td>5.34</td>\n",
       "      <td>5.34</td>\n",
       "      <td>5.34</td>\n",
       "      <td>5.34</td>\n",
       "    </tr>\n",
       "    <tr>\n",
       "      <th>2</th>\n",
       "      <td>Arizona</td>\n",
       "      <td>6.97</td>\n",
       "      <td>6.97</td>\n",
       "      <td>6.97</td>\n",
       "      <td>6.97</td>\n",
       "      <td>6.97</td>\n",
       "      <td>6.97</td>\n",
       "      <td>6.97</td>\n",
       "      <td>6.97</td>\n",
       "      <td>6.97</td>\n",
       "      <td>6.50</td>\n",
       "      <td>5.50</td>\n",
       "      <td>5.50</td>\n",
       "      <td>4.90</td>\n",
       "      <td>4.90</td>\n",
       "      <td>4.90</td>\n",
       "      <td>4.90</td>\n",
       "      <td>4.90</td>\n",
       "      <td>4.90</td>\n",
       "    </tr>\n",
       "    <tr>\n",
       "      <th>3</th>\n",
       "      <td>Arkansas</td>\n",
       "      <td>3.92</td>\n",
       "      <td>3.92</td>\n",
       "      <td>3.92</td>\n",
       "      <td>3.92</td>\n",
       "      <td>3.92</td>\n",
       "      <td>3.92</td>\n",
       "      <td>3.92</td>\n",
       "      <td>3.92</td>\n",
       "      <td>3.92</td>\n",
       "      <td>3.92</td>\n",
       "      <td>3.92</td>\n",
       "      <td>3.92</td>\n",
       "      <td>3.92</td>\n",
       "      <td>3.92</td>\n",
       "      <td>3.92</td>\n",
       "      <td>3.92</td>\n",
       "      <td>3.87</td>\n",
       "      <td>3.65</td>\n",
       "    </tr>\n",
       "    <tr>\n",
       "      <th>4</th>\n",
       "      <td>California</td>\n",
       "      <td>8.84</td>\n",
       "      <td>8.84</td>\n",
       "      <td>8.84</td>\n",
       "      <td>8.84</td>\n",
       "      <td>8.84</td>\n",
       "      <td>8.84</td>\n",
       "      <td>8.84</td>\n",
       "      <td>8.84</td>\n",
       "      <td>8.84</td>\n",
       "      <td>8.84</td>\n",
       "      <td>8.84</td>\n",
       "      <td>8.84</td>\n",
       "      <td>8.84</td>\n",
       "      <td>8.84</td>\n",
       "      <td>8.84</td>\n",
       "      <td>8.84</td>\n",
       "      <td>8.84</td>\n",
       "      <td>8.84</td>\n",
       "    </tr>\n",
       "  </tbody>\n",
       "</table>\n",
       "</div>"
      ],
      "text/plain": [
       "        State  2005  2006  2007  2008  2009  2010  2011  2012  2013  2014  \\\n",
       "0     Alabama  6.50  6.50  6.50  6.50  6.50  6.50  6.50  6.50  6.50  6.50   \n",
       "1      Alaska  5.44  5.44  5.44  5.44  5.44  5.44  5.44  5.44  5.44  5.44   \n",
       "2     Arizona  6.97  6.97  6.97  6.97  6.97  6.97  6.97  6.97  6.97  6.50   \n",
       "3    Arkansas  3.92  3.92  3.92  3.92  3.92  3.92  3.92  3.92  3.92  3.92   \n",
       "4  California  8.84  8.84  8.84  8.84  8.84  8.84  8.84  8.84  8.84  8.84   \n",
       "\n",
       "   2015  2016  2017  2018  2019  2020  2021  2022  \n",
       "0  6.50  6.50  6.50  6.50  6.50  6.50  6.50  6.50  \n",
       "1  5.34  5.34  5.34  5.34  5.34  5.34  5.34  5.34  \n",
       "2  5.50  5.50  4.90  4.90  4.90  4.90  4.90  4.90  \n",
       "3  3.92  3.92  3.92  3.92  3.92  3.92  3.87  3.65  \n",
       "4  8.84  8.84  8.84  8.84  8.84  8.84  8.84  8.84  "
      ]
     },
     "execution_count": 8,
     "metadata": {},
     "output_type": "execute_result"
    }
   ],
   "source": [
    "df_tax_2022 = df_tax.drop(columns=['2023'])\n",
    "df_tax_2022.head()"
   ]
  },
  {
   "cell_type": "markdown",
   "id": "b3a806d6",
   "metadata": {},
   "source": [
    "Let us create another dataframe that calculates the changes in the tax rate from 2005-2023"
   ]
  },
  {
   "cell_type": "code",
   "execution_count": 117,
   "id": "0970cdca",
   "metadata": {},
   "outputs": [
    {
     "name": "stderr",
     "output_type": "stream",
     "text": [
      "/var/folders/h_/t7j5x_l10kg4zbr6vvxlqx5h0000gn/T/ipykernel_87646/1305777326.py:3: SettingWithCopyWarning:\n",
      "\n",
      "\n",
      "A value is trying to be set on a copy of a slice from a DataFrame.\n",
      "Try using .loc[row_indexer,col_indexer] = value instead\n",
      "\n",
      "See the caveats in the documentation: https://pandas.pydata.org/pandas-docs/stable/user_guide/indexing.html#returning-a-view-versus-a-copy\n",
      "\n"
     ]
    },
    {
     "data": {
      "text/html": [
       "<div>\n",
       "<style scoped>\n",
       "    .dataframe tbody tr th:only-of-type {\n",
       "        vertical-align: middle;\n",
       "    }\n",
       "\n",
       "    .dataframe tbody tr th {\n",
       "        vertical-align: top;\n",
       "    }\n",
       "\n",
       "    .dataframe thead th {\n",
       "        text-align: right;\n",
       "    }\n",
       "</style>\n",
       "<table border=\"1\" class=\"dataframe\">\n",
       "  <thead>\n",
       "    <tr style=\"text-align: right;\">\n",
       "      <th></th>\n",
       "      <th>Name</th>\n",
       "      <th>change</th>\n",
       "    </tr>\n",
       "  </thead>\n",
       "  <tbody>\n",
       "    <tr>\n",
       "      <th>0</th>\n",
       "      <td>Alabama</td>\n",
       "      <td>0.00</td>\n",
       "    </tr>\n",
       "    <tr>\n",
       "      <th>1</th>\n",
       "      <td>Alaska</td>\n",
       "      <td>-0.10</td>\n",
       "    </tr>\n",
       "    <tr>\n",
       "      <th>2</th>\n",
       "      <td>Arizona</td>\n",
       "      <td>-2.07</td>\n",
       "    </tr>\n",
       "    <tr>\n",
       "      <th>3</th>\n",
       "      <td>Arkansas</td>\n",
       "      <td>-0.27</td>\n",
       "    </tr>\n",
       "    <tr>\n",
       "      <th>4</th>\n",
       "      <td>California</td>\n",
       "      <td>0.00</td>\n",
       "    </tr>\n",
       "    <tr>\n",
       "      <th>5</th>\n",
       "      <td>Colorado</td>\n",
       "      <td>-0.08</td>\n",
       "    </tr>\n",
       "    <tr>\n",
       "      <th>6</th>\n",
       "      <td>Connecticut</td>\n",
       "      <td>0.00</td>\n",
       "    </tr>\n",
       "    <tr>\n",
       "      <th>7</th>\n",
       "      <td>Delaware</td>\n",
       "      <td>0.00</td>\n",
       "    </tr>\n",
       "    <tr>\n",
       "      <th>8</th>\n",
       "      <td>Florida</td>\n",
       "      <td>0.00</td>\n",
       "    </tr>\n",
       "    <tr>\n",
       "      <th>9</th>\n",
       "      <td>Georgia</td>\n",
       "      <td>-0.25</td>\n",
       "    </tr>\n",
       "    <tr>\n",
       "      <th>10</th>\n",
       "      <td>Hawaii</td>\n",
       "      <td>0.00</td>\n",
       "    </tr>\n",
       "    <tr>\n",
       "      <th>11</th>\n",
       "      <td>Idaho</td>\n",
       "      <td>-1.60</td>\n",
       "    </tr>\n",
       "    <tr>\n",
       "      <th>12</th>\n",
       "      <td>Illinois</td>\n",
       "      <td>2.20</td>\n",
       "    </tr>\n",
       "    <tr>\n",
       "      <th>13</th>\n",
       "      <td>Indiana</td>\n",
       "      <td>-3.60</td>\n",
       "    </tr>\n",
       "    <tr>\n",
       "      <th>14</th>\n",
       "      <td>Iowa</td>\n",
       "      <td>-0.90</td>\n",
       "    </tr>\n",
       "    <tr>\n",
       "      <th>15</th>\n",
       "      <td>Kansas</td>\n",
       "      <td>1.50</td>\n",
       "    </tr>\n",
       "    <tr>\n",
       "      <th>16</th>\n",
       "      <td>Kentucky</td>\n",
       "      <td>-1.05</td>\n",
       "    </tr>\n",
       "    <tr>\n",
       "      <th>17</th>\n",
       "      <td>Louisiana</td>\n",
       "      <td>-0.67</td>\n",
       "    </tr>\n",
       "    <tr>\n",
       "      <th>18</th>\n",
       "      <td>Maine</td>\n",
       "      <td>0.00</td>\n",
       "    </tr>\n",
       "    <tr>\n",
       "      <th>19</th>\n",
       "      <td>Maryland</td>\n",
       "      <td>1.25</td>\n",
       "    </tr>\n",
       "    <tr>\n",
       "      <th>20</th>\n",
       "      <td>Massachusetts</td>\n",
       "      <td>-1.50</td>\n",
       "    </tr>\n",
       "    <tr>\n",
       "      <th>21</th>\n",
       "      <td>Michigan</td>\n",
       "      <td>4.10</td>\n",
       "    </tr>\n",
       "    <tr>\n",
       "      <th>22</th>\n",
       "      <td>Minnesota</td>\n",
       "      <td>0.00</td>\n",
       "    </tr>\n",
       "    <tr>\n",
       "      <th>23</th>\n",
       "      <td>Mississippi</td>\n",
       "      <td>-1.00</td>\n",
       "    </tr>\n",
       "    <tr>\n",
       "      <th>24</th>\n",
       "      <td>Missouri</td>\n",
       "      <td>-2.25</td>\n",
       "    </tr>\n",
       "    <tr>\n",
       "      <th>25</th>\n",
       "      <td>Montana</td>\n",
       "      <td>0.00</td>\n",
       "    </tr>\n",
       "    <tr>\n",
       "      <th>26</th>\n",
       "      <td>Nebraska</td>\n",
       "      <td>0.00</td>\n",
       "    </tr>\n",
       "    <tr>\n",
       "      <th>27</th>\n",
       "      <td>Nevada</td>\n",
       "      <td>0.00</td>\n",
       "    </tr>\n",
       "    <tr>\n",
       "      <th>28</th>\n",
       "      <td>New Hampshire</td>\n",
       "      <td>-1.28</td>\n",
       "    </tr>\n",
       "    <tr>\n",
       "      <th>29</th>\n",
       "      <td>New Jersey</td>\n",
       "      <td>0.95</td>\n",
       "    </tr>\n",
       "    <tr>\n",
       "      <th>30</th>\n",
       "      <td>New Mexico</td>\n",
       "      <td>-0.92</td>\n",
       "    </tr>\n",
       "    <tr>\n",
       "      <th>31</th>\n",
       "      <td>New York</td>\n",
       "      <td>-0.62</td>\n",
       "    </tr>\n",
       "    <tr>\n",
       "      <th>32</th>\n",
       "      <td>North Carolina</td>\n",
       "      <td>-4.40</td>\n",
       "    </tr>\n",
       "    <tr>\n",
       "      <th>33</th>\n",
       "      <td>North Dakota</td>\n",
       "      <td>-2.05</td>\n",
       "    </tr>\n",
       "    <tr>\n",
       "      <th>34</th>\n",
       "      <td>Ohio</td>\n",
       "      <td>-6.80</td>\n",
       "    </tr>\n",
       "    <tr>\n",
       "      <th>35</th>\n",
       "      <td>Oklahoma</td>\n",
       "      <td>-2.00</td>\n",
       "    </tr>\n",
       "    <tr>\n",
       "      <th>36</th>\n",
       "      <td>Oregon</td>\n",
       "      <td>0.50</td>\n",
       "    </tr>\n",
       "    <tr>\n",
       "      <th>37</th>\n",
       "      <td>Pennsylvania</td>\n",
       "      <td>0.00</td>\n",
       "    </tr>\n",
       "    <tr>\n",
       "      <th>38</th>\n",
       "      <td>Rhode Island</td>\n",
       "      <td>-2.00</td>\n",
       "    </tr>\n",
       "    <tr>\n",
       "      <th>39</th>\n",
       "      <td>South Carolina</td>\n",
       "      <td>0.00</td>\n",
       "    </tr>\n",
       "    <tr>\n",
       "      <th>40</th>\n",
       "      <td>South Dakota</td>\n",
       "      <td>0.00</td>\n",
       "    </tr>\n",
       "    <tr>\n",
       "      <th>41</th>\n",
       "      <td>Tennessee</td>\n",
       "      <td>0.00</td>\n",
       "    </tr>\n",
       "    <tr>\n",
       "      <th>42</th>\n",
       "      <td>Texas</td>\n",
       "      <td>0.00</td>\n",
       "    </tr>\n",
       "    <tr>\n",
       "      <th>43</th>\n",
       "      <td>Utah</td>\n",
       "      <td>-0.15</td>\n",
       "    </tr>\n",
       "    <tr>\n",
       "      <th>44</th>\n",
       "      <td>Vermont</td>\n",
       "      <td>-1.34</td>\n",
       "    </tr>\n",
       "    <tr>\n",
       "      <th>45</th>\n",
       "      <td>Virginia</td>\n",
       "      <td>0.00</td>\n",
       "    </tr>\n",
       "    <tr>\n",
       "      <th>46</th>\n",
       "      <td>Washington</td>\n",
       "      <td>0.00</td>\n",
       "    </tr>\n",
       "    <tr>\n",
       "      <th>47</th>\n",
       "      <td>West Virginia</td>\n",
       "      <td>-2.50</td>\n",
       "    </tr>\n",
       "    <tr>\n",
       "      <th>48</th>\n",
       "      <td>Wisconsin</td>\n",
       "      <td>0.00</td>\n",
       "    </tr>\n",
       "    <tr>\n",
       "      <th>49</th>\n",
       "      <td>Wyoming</td>\n",
       "      <td>0.00</td>\n",
       "    </tr>\n",
       "    <tr>\n",
       "      <th>50</th>\n",
       "      <td>District of Columbia</td>\n",
       "      <td>-1.73</td>\n",
       "    </tr>\n",
       "  </tbody>\n",
       "</table>\n",
       "</div>"
      ],
      "text/plain": [
       "                    Name  change\n",
       "0                Alabama    0.00\n",
       "1                 Alaska   -0.10\n",
       "2                Arizona   -2.07\n",
       "3               Arkansas   -0.27\n",
       "4             California    0.00\n",
       "5               Colorado   -0.08\n",
       "6            Connecticut    0.00\n",
       "7               Delaware    0.00\n",
       "8                Florida    0.00\n",
       "9                Georgia   -0.25\n",
       "10                Hawaii    0.00\n",
       "11                 Idaho   -1.60\n",
       "12              Illinois    2.20\n",
       "13               Indiana   -3.60\n",
       "14                  Iowa   -0.90\n",
       "15                Kansas    1.50\n",
       "16              Kentucky   -1.05\n",
       "17             Louisiana   -0.67\n",
       "18                 Maine    0.00\n",
       "19              Maryland    1.25\n",
       "20         Massachusetts   -1.50\n",
       "21              Michigan    4.10\n",
       "22             Minnesota    0.00\n",
       "23           Mississippi   -1.00\n",
       "24              Missouri   -2.25\n",
       "25               Montana    0.00\n",
       "26              Nebraska    0.00\n",
       "27                Nevada    0.00\n",
       "28         New Hampshire   -1.28\n",
       "29            New Jersey    0.95\n",
       "30            New Mexico   -0.92\n",
       "31              New York   -0.62\n",
       "32       North Carolina    -4.40\n",
       "33          North Dakota   -2.05\n",
       "34                 Ohio    -6.80\n",
       "35              Oklahoma   -2.00\n",
       "36                Oregon    0.50\n",
       "37          Pennsylvania    0.00\n",
       "38          Rhode Island   -2.00\n",
       "39        South Carolina    0.00\n",
       "40          South Dakota    0.00\n",
       "41             Tennessee    0.00\n",
       "42                 Texas    0.00\n",
       "43                  Utah   -0.15\n",
       "44               Vermont   -1.34\n",
       "45              Virginia    0.00\n",
       "46            Washington    0.00\n",
       "47         West Virginia   -2.50\n",
       "48            Wisconsin     0.00\n",
       "49               Wyoming    0.00\n",
       "50  District of Columbia   -1.73"
      ]
     },
     "execution_count": 117,
     "metadata": {},
     "output_type": "execute_result"
    }
   ],
   "source": [
    "df_change = df[[\"Name\"]]\n",
    "df_change.head()\n",
    "df_change[\"change\"] = df[\"2022\"] - df[\"2005\"]\n",
    "df_change"
   ]
  },
  {
   "cell_type": "markdown",
   "id": "b61e33d3",
   "metadata": {},
   "source": [
    "To get an idea of the changes in the tax rates of each state, we transpose the data and plot a line graph using matplotlib."
   ]
  },
  {
   "cell_type": "code",
   "execution_count": null,
   "id": "322a5d5b",
   "metadata": {},
   "outputs": [],
   "source": [
    "df_t = df.T \n",
    "df_t.columns=df_t.iloc[0]\n",
    "df_t = df_t.tail(-2)\n",
    "df_t.head()\n"
   ]
  },
  {
   "cell_type": "code",
   "execution_count": null,
   "id": "f6750c24",
   "metadata": {},
   "outputs": [],
   "source": [
    "# plot the data\n",
    "ax = df_t.plot(figsize=(40,15))\n",
    "\n",
    "# set x-axis label and values\n",
    "ax.set_xlabel(\"Time\")\n",
    "ax.set_ylabel(\"Tax rate(%)\")\n",
    "\n",
    "plt.show()"
   ]
  },
  {
   "cell_type": "code",
   "execution_count": null,
   "id": "1120f67e",
   "metadata": {
    "scrolled": true
   },
   "outputs": [],
   "source": [
    "shapefile = 's_08mr23/s_08mr23.shp'\n",
    "gdf = gpd.read_file(shapefile)\n",
    "gdf"
   ]
  },
  {
   "cell_type": "code",
   "execution_count": null,
   "id": "0b1df434",
   "metadata": {
    "scrolled": false
   },
   "outputs": [],
   "source": [
    "#drop Puerto rico, Fed States of Micronesia, American Samoa, US Virgin Islands, Guam, Commonwealth of the northern mariana islands from file\n",
    "gdf = gdf.drop(index=[2,37,44,52,54,55,56,57])\n",
    "gdf = gdf.reset_index(drop=True)"
   ]
  },
  {
   "cell_type": "code",
   "execution_count": null,
   "id": "4c65a3e8",
   "metadata": {
    "scrolled": true
   },
   "outputs": [],
   "source": [
    "len(gdf)"
   ]
  },
  {
   "cell_type": "markdown",
   "id": "7dda1e57",
   "metadata": {},
   "source": [
    "Creating the merged dataset that will include the Tax rate as a column"
   ]
  },
  {
   "cell_type": "code",
   "execution_count": null,
   "id": "e0a92d54",
   "metadata": {},
   "outputs": [],
   "source": [
    "df_test = df_change[['STATE','change']].copy()\n",
    "df_test.head()"
   ]
  },
  {
   "cell_type": "code",
   "execution_count": null,
   "id": "46dc9c86",
   "metadata": {
    "scrolled": true
   },
   "outputs": [],
   "source": [
    "gdf.plot()"
   ]
  },
  {
   "cell_type": "markdown",
   "id": "18cbbb2c",
   "metadata": {},
   "source": [
    "We are going to clip Hawaii and Alaska and add them separately. "
   ]
  },
  {
   "cell_type": "code",
   "execution_count": null,
   "id": "e41cc48b",
   "metadata": {},
   "outputs": [],
   "source": [
    "alaska_gdf = gdf[gdf.STATE=='AK']\n",
    "alaska_gdf = alaska_gdf.merge(df_test, on=\"STATE\")\n",
    "#clipping some of the western islands to make it fit better\n",
    "polygon = Polygon([(-170,50),(-170,72),(-140, 72),(-140,50)])\n",
    "alaska_gdf = alaska_gdf.clip(polygon)\n",
    "alaska_gdf\n",
    "alaska_gdf.plot()"
   ]
  },
  {
   "cell_type": "code",
   "execution_count": null,
   "id": "69180f81",
   "metadata": {},
   "outputs": [],
   "source": [
    "polygon = Polygon([(-170,50),(-170,72),(-140, 72),(-140,40)])\n",
    "gdf_tester = gdf.clip(polygon)\n",
    "gdf.plot()"
   ]
  },
  {
   "cell_type": "code",
   "execution_count": null,
   "id": "7abcff30",
   "metadata": {
    "scrolled": false
   },
   "outputs": [],
   "source": [
    "hawaii_gdf = gdf[gdf.STATE=='HI']\n",
    "hawaii_gdf = hawaii_gdf.merge(df_test, on=\"STATE\")\n",
    "hawaii_gdf"
   ]
  },
  {
   "cell_type": "markdown",
   "id": "b73be452",
   "metadata": {},
   "source": [
    "Removing Alaska and Hawaii from the table due to mapping errors. Will add back later separately."
   ]
  },
  {
   "cell_type": "code",
   "execution_count": null,
   "id": "ec0083cc",
   "metadata": {},
   "outputs": [],
   "source": [
    "gdf_test = gdf.drop(gdf[gdf['STATE'] == 'AK'].index)\n",
    "gdf_test = gdf_test.drop(gdf_test[gdf_test['STATE'] == 'HI'].index)\n",
    "len(gdf_test)"
   ]
  },
  {
   "cell_type": "code",
   "execution_count": null,
   "id": "9555a90e",
   "metadata": {},
   "outputs": [],
   "source": [
    "from bokeh.models import GeoJSONDataSource, LinearColorMapper, ColorBar"
   ]
  },
  {
   "cell_type": "code",
   "execution_count": null,
   "id": "887f87c6",
   "metadata": {
    "scrolled": true
   },
   "outputs": [],
   "source": [
    "gdf_new = gdf_test.merge(df_test, on=\"STATE\")\n",
    "gdf_new"
   ]
  },
  {
   "cell_type": "markdown",
   "id": "e3cbae17",
   "metadata": {},
   "source": [
    "Plotting the values on a geographical map we get a heatmap:"
   ]
  },
  {
   "cell_type": "code",
   "execution_count": null,
   "id": "7a559b19",
   "metadata": {
    "scrolled": false
   },
   "outputs": [],
   "source": [
    "# Print the map\n",
    "# Set the range for the choropleth\n",
    "title = 'Changes in the corporate state tax from 2005-2023'\n",
    "col = 'change'\n",
    "vmin = gdf_new[col].min()\n",
    "vmax = gdf_new[col].max()\n",
    "cmap = 'RdYlGn_r'\n",
    "# Create figure and axes for Matplotlib\n",
    "fig, ax = plt.subplots(1, figsize=(20, 8))\n",
    "# Remove the axis\n",
    "ax.axis('off')\n",
    "gdf_new.plot(column=col, ax=ax, edgecolor='0.8', linewidth=0.5, cmap=cmap, legend=True)\n",
    "# Add a title\n",
    "ax.set_title(title, fontdict={'fontname': 'Times New Roman','fontsize': '25', 'fontweight': '3'})\n",
    "# Create an annotation for the data source\n",
    "\n",
    "#Add Alaska\n",
    "akax = fig.add_axes([0.1, 0.17, 0.2, 0.19])   \n",
    "akax.axis('off')\n",
    "alaska_gdf.plot(column=alaska_gdf[\"change\"], cmap=\"RdYlGn_r\", ax=akax, linewidth=0.5, edgecolor='0.8')\n",
    "\n",
    "#Add Hawaii\n",
    "hiax = fig.add_axes([.28, 0.20, 0.1, 0.1])      \n",
    "hiax.axis('off')\n",
    "hawaii_gdf.plot(column=hawaii_gdf[\"change\"], cmap=\"RdYlGn_r\", ax=hiax, linewidth=0.5, edgecolor='0.8')\n",
    "\n"
   ]
  },
  {
   "cell_type": "markdown",
   "id": "1afcd885",
   "metadata": {},
   "source": [
    "#### NOtes: \n",
    "1. if the state is 0- it should be white indicating no change. Currently it is confusing since its a redder hue\n",
    "2. "
   ]
  },
  {
   "cell_type": "code",
   "execution_count": null,
   "id": "3561e742",
   "metadata": {},
   "outputs": [],
   "source": []
  },
  {
   "cell_type": "code",
   "execution_count": null,
   "id": "831d1160",
   "metadata": {
    "scrolled": true
   },
   "outputs": [],
   "source": [
    "df_change"
   ]
  },
  {
   "cell_type": "code",
   "execution_count": null,
   "id": "6311e66f",
   "metadata": {},
   "outputs": [],
   "source": [
    "import matplotlib.pyplot as plt\n",
    "from mpl_toolkits.mplot3d import Axes3D\n",
    "\n",
    "# Sample data\n",
    "years = [2010, 2011, 2012, 2013, 2014, 2015, 2016]\n",
    "business_applications = [100, 120, 140, 160, 180, 200, 220]\n",
    "tax_rates = [10, 9, 8, 7, 6, 5, 4]\n",
    "\n",
    "# Create a 3D plot\n",
    "fig = plt.figure()\n",
    "ax = fig.add_subplot(111, projection='3d')\n",
    "\n",
    "# Plot the data\n",
    "ax.scatter(years, business_applications, tax_rates, c='b', marker='o')\n",
    "\n",
    "# Set labels for the axes\n",
    "ax.set_xlabel('Year')\n",
    "ax.set_ylabel('Number of Business Applications')\n",
    "ax.set_zlabel('Tax Rate')\n",
    "\n",
    "plt.title('3D Graph: Business Applications vs. Year vs. Tax Rate')\n",
    "\n",
    "plt.show()\n",
    "\n",
    "\n",
    "\n"
   ]
  },
  {
   "cell_type": "code",
   "execution_count": null,
   "id": "306b6782",
   "metadata": {
    "scrolled": true
   },
   "outputs": [],
   "source": [
    "import plotly.express as px\n",
    "\n",
    "# Sample data\n",
    "years = [2010, 2011, 2012, 2013, 2014, 2015, 2016]\n",
    "business_applications = [100, 120, 140, 160, 180, 200, 220]\n",
    "tax_rates = [10, 9, 8, 7, 6, 5, 4]\n",
    "\n",
    "# Create a DataFrame with the data\n",
    "import pandas as pd\n",
    "df = pd.DataFrame({'Year': years, 'Business Applications': business_applications, 'Tax Rate': tax_rates})\n",
    "\n",
    "# Create an interactive 3D scatter plot\n",
    "fig = px.scatter_3d(df, x='Year', y='Business Applications', z='Tax Rate', title='3D Scatter Plot')\n",
    "\n",
    "# Show the plot\n",
    "fig.show()"
   ]
  },
  {
   "cell_type": "code",
   "execution_count": null,
   "id": "c6e1dc43",
   "metadata": {},
   "outputs": [],
   "source": [
    "import pandas as pd\n",
    "import matplotlib.pyplot as plt\n",
    "\n",
    "# Sample data\n",
    "years = [2010, 2011, 2012, 2013, 2014, 2015, 2016]\n",
    "number_of_businesses = [100, 120, 140, 160, 180, 200, 220]\n",
    "tax_rate = [10, 9, 8, 7, 6, 5, 4]\n",
    "\n",
    "# Create a DataFrame\n",
    "df = pd.DataFrame({'Year': years, 'Number of Businesses': number_of_businesses, 'Tax Rate': tax_rate})\n",
    "\n",
    "# Calculate the correlation\n",
    "correlation = df['Number of Businesses'].corr(df['Tax Rate'])\n",
    "\n",
    "# Create the bubble plot\n",
    "plt.figure(figsize=(10, 6))\n",
    "plt.scatter(df['Number of Businesses'], df['Tax Rate'], s=correlation * 1000, alpha=0.6, c='blue', label='Correlation Bubble Plot')\n",
    "plt.title('Bubble Plot: Number of Businesses vs. Tax Rate')\n",
    "plt.xlabel('Number of Businesses')\n",
    "plt.ylabel('Tax Rate')\n",
    "\n",
    "# Annotate the correlation value\n",
    "plt.annotate(f'Correlation: {correlation:.2f}', xy=(150, 7.5), fontsize=12, color='red')\n",
    "\n",
    "plt.show()\n"
   ]
  },
  {
   "cell_type": "markdown",
   "id": "0538548e",
   "metadata": {},
   "source": [
    "#### Idea\n",
    "\n",
    "ANOUSHKA'S PENDING WORK: \n",
    "\n",
    "Bubble chart - \n",
    "<br>size of bubble - GDP or population of the state\n",
    "<br>x axis is tax rate\n",
    "<br>y axis is # of businesses \n",
    "\n",
    "ALEX: (Graph 1)\n",
    "First chart - \n",
    "<br>change the absolute values to share of # of business applications and see change in the shares for top 5 states\n",
    "<br>keep existing charts as well so we can see which is giving better result"
   ]
  },
  {
   "cell_type": "code",
   "execution_count": null,
   "id": "89136e15",
   "metadata": {
    "scrolled": true
   },
   "outputs": [],
   "source": [
    "df.head()"
   ]
  },
  {
   "cell_type": "code",
   "execution_count": null,
   "id": "8ca623d1",
   "metadata": {
    "scrolled": true
   },
   "outputs": [],
   "source": [
    "pip install plotly==5.18.0"
   ]
  },
  {
   "cell_type": "code",
   "execution_count": null,
   "id": "6e588b15",
   "metadata": {},
   "outputs": [],
   "source": [
    "import plotly.express as px\n",
    "\n",
    "df = px.data.gapminder()\n",
    "\n",
    "fig = px.scatter(df.query(\"year==2007\"), x=\"gdpPercap\", y=\"lifeExp\",\n",
    "\t         size=\"pop\", color=\"continent\",\n",
    "                 hover_name=\"country\", log_x=True, size_max=60)\n",
    "fig.show()\n",
    "df.head()"
   ]
  },
  {
   "cell_type": "code",
   "execution_count": null,
   "id": "9b2016fe",
   "metadata": {},
   "outputs": [],
   "source": [
    "df.head()"
   ]
  },
  {
   "cell_type": "code",
   "execution_count": 206,
   "id": "60967542",
   "metadata": {},
   "outputs": [
    {
     "data": {
      "text/plain": [
       "(51, 20)"
      ]
     },
     "execution_count": 206,
     "metadata": {},
     "output_type": "execute_result"
    }
   ],
   "source": [
    "df_biz.shape"
   ]
  },
  {
   "cell_type": "markdown",
   "id": "54ec5e01",
   "metadata": {},
   "source": [
    "for bubble chart, i would need a new df that is state, tax rate, population, # of business applications where \n",
    "x= tax rate\n",
    "y = # of business registrations \n",
    "size = population \n",
    "color = 1 color or can decide \n",
    "download population \n",
    "\n",
    "make another that is all change - 2005-2021 "
   ]
  },
  {
   "cell_type": "code",
   "execution_count": 99,
   "id": "35d1cfac",
   "metadata": {},
   "outputs": [
    {
     "data": {
      "text/html": [
       "<div>\n",
       "<style scoped>\n",
       "    .dataframe tbody tr th:only-of-type {\n",
       "        vertical-align: middle;\n",
       "    }\n",
       "\n",
       "    .dataframe tbody tr th {\n",
       "        vertical-align: top;\n",
       "    }\n",
       "\n",
       "    .dataframe thead th {\n",
       "        text-align: right;\n",
       "    }\n",
       "</style>\n",
       "<table border=\"1\" class=\"dataframe\">\n",
       "  <thead>\n",
       "    <tr style=\"text-align: right;\">\n",
       "      <th></th>\n",
       "      <th>Name</th>\n",
       "      <th>State</th>\n",
       "      <th>2022</th>\n",
       "    </tr>\n",
       "  </thead>\n",
       "  <tbody>\n",
       "    <tr>\n",
       "      <th>0</th>\n",
       "      <td>Alabama</td>\n",
       "      <td>AL</td>\n",
       "      <td>6.50</td>\n",
       "    </tr>\n",
       "    <tr>\n",
       "      <th>1</th>\n",
       "      <td>Alaska</td>\n",
       "      <td>AK</td>\n",
       "      <td>5.34</td>\n",
       "    </tr>\n",
       "    <tr>\n",
       "      <th>2</th>\n",
       "      <td>Arizona</td>\n",
       "      <td>AZ</td>\n",
       "      <td>4.90</td>\n",
       "    </tr>\n",
       "    <tr>\n",
       "      <th>3</th>\n",
       "      <td>Arkansas</td>\n",
       "      <td>AR</td>\n",
       "      <td>3.65</td>\n",
       "    </tr>\n",
       "    <tr>\n",
       "      <th>4</th>\n",
       "      <td>California</td>\n",
       "      <td>CA</td>\n",
       "      <td>8.84</td>\n",
       "    </tr>\n",
       "  </tbody>\n",
       "</table>\n",
       "</div>"
      ],
      "text/plain": [
       "         Name State  2022\n",
       "0     Alabama    AL  6.50\n",
       "1      Alaska    AK  5.34\n",
       "2     Arizona    AZ  4.90\n",
       "3    Arkansas    AR  3.65\n",
       "4  California    CA  8.84"
      ]
     },
     "execution_count": 99,
     "metadata": {},
     "output_type": "execute_result"
    }
   ],
   "source": [
    "df_temp = pd.DataFrame(index=df.index)\n",
    "df_temp['tax_rate'] = df['2022']\n",
    "df_temp.head()"
   ]
  },
  {
   "cell_type": "code",
   "execution_count": 9,
   "id": "2a8a62d3",
   "metadata": {
    "scrolled": true
   },
   "outputs": [
    {
     "data": {
      "text/html": [
       "<div>\n",
       "<style scoped>\n",
       "    .dataframe tbody tr th:only-of-type {\n",
       "        vertical-align: middle;\n",
       "    }\n",
       "\n",
       "    .dataframe tbody tr th {\n",
       "        vertical-align: top;\n",
       "    }\n",
       "\n",
       "    .dataframe thead th {\n",
       "        text-align: right;\n",
       "    }\n",
       "</style>\n",
       "<table border=\"1\" class=\"dataframe\">\n",
       "  <thead>\n",
       "    <tr style=\"text-align: right;\">\n",
       "      <th></th>\n",
       "      <th>Name</th>\n",
       "      <th>State</th>\n",
       "      <th>2005</th>\n",
       "      <th>2006</th>\n",
       "      <th>2007</th>\n",
       "      <th>2008</th>\n",
       "      <th>2009</th>\n",
       "      <th>2010</th>\n",
       "      <th>2011</th>\n",
       "      <th>2012</th>\n",
       "      <th>2013</th>\n",
       "      <th>2014</th>\n",
       "      <th>2015</th>\n",
       "      <th>2016</th>\n",
       "      <th>2017</th>\n",
       "      <th>2018</th>\n",
       "      <th>2019</th>\n",
       "      <th>2020</th>\n",
       "      <th>2021</th>\n",
       "      <th>2022</th>\n",
       "    </tr>\n",
       "  </thead>\n",
       "  <tbody>\n",
       "    <tr>\n",
       "      <th>0</th>\n",
       "      <td>Alabama</td>\n",
       "      <td>AL</td>\n",
       "      <td>31078</td>\n",
       "      <td>33918</td>\n",
       "      <td>33701</td>\n",
       "      <td>32222</td>\n",
       "      <td>29221</td>\n",
       "      <td>29916</td>\n",
       "      <td>28994</td>\n",
       "      <td>29694</td>\n",
       "      <td>29331</td>\n",
       "      <td>29574</td>\n",
       "      <td>31506</td>\n",
       "      <td>34286</td>\n",
       "      <td>36760</td>\n",
       "      <td>41948</td>\n",
       "      <td>41478</td>\n",
       "      <td>58557</td>\n",
       "      <td>75443</td>\n",
       "      <td>70750</td>\n",
       "    </tr>\n",
       "    <tr>\n",
       "      <th>1</th>\n",
       "      <td>Alaska</td>\n",
       "      <td>AK</td>\n",
       "      <td>4730</td>\n",
       "      <td>5229</td>\n",
       "      <td>5138</td>\n",
       "      <td>4979</td>\n",
       "      <td>4396</td>\n",
       "      <td>4661</td>\n",
       "      <td>5083</td>\n",
       "      <td>5210</td>\n",
       "      <td>5383</td>\n",
       "      <td>5447</td>\n",
       "      <td>5901</td>\n",
       "      <td>6358</td>\n",
       "      <td>7263</td>\n",
       "      <td>9238</td>\n",
       "      <td>8118</td>\n",
       "      <td>8063</td>\n",
       "      <td>8063</td>\n",
       "      <td>8456</td>\n",
       "    </tr>\n",
       "    <tr>\n",
       "      <th>2</th>\n",
       "      <td>Arizona</td>\n",
       "      <td>AZ</td>\n",
       "      <td>56547</td>\n",
       "      <td>63067</td>\n",
       "      <td>64673</td>\n",
       "      <td>62972</td>\n",
       "      <td>58279</td>\n",
       "      <td>57926</td>\n",
       "      <td>57837</td>\n",
       "      <td>55305</td>\n",
       "      <td>55516</td>\n",
       "      <td>56401</td>\n",
       "      <td>57176</td>\n",
       "      <td>61448</td>\n",
       "      <td>67833</td>\n",
       "      <td>73424</td>\n",
       "      <td>76539</td>\n",
       "      <td>89957</td>\n",
       "      <td>113142</td>\n",
       "      <td>115080</td>\n",
       "    </tr>\n",
       "    <tr>\n",
       "      <th>3</th>\n",
       "      <td>Arkansas</td>\n",
       "      <td>AR</td>\n",
       "      <td>19133</td>\n",
       "      <td>20400</td>\n",
       "      <td>19630</td>\n",
       "      <td>18707</td>\n",
       "      <td>17927</td>\n",
       "      <td>17843</td>\n",
       "      <td>17939</td>\n",
       "      <td>17812</td>\n",
       "      <td>17551</td>\n",
       "      <td>18445</td>\n",
       "      <td>19033</td>\n",
       "      <td>20445</td>\n",
       "      <td>23135</td>\n",
       "      <td>25678</td>\n",
       "      <td>25473</td>\n",
       "      <td>32314</td>\n",
       "      <td>41599</td>\n",
       "      <td>37562</td>\n",
       "    </tr>\n",
       "    <tr>\n",
       "      <th>4</th>\n",
       "      <td>California</td>\n",
       "      <td>CA</td>\n",
       "      <td>271636</td>\n",
       "      <td>286652</td>\n",
       "      <td>286737</td>\n",
       "      <td>271606</td>\n",
       "      <td>249246</td>\n",
       "      <td>256436</td>\n",
       "      <td>270057</td>\n",
       "      <td>268103</td>\n",
       "      <td>278014</td>\n",
       "      <td>293443</td>\n",
       "      <td>303657</td>\n",
       "      <td>312636</td>\n",
       "      <td>326592</td>\n",
       "      <td>364807</td>\n",
       "      <td>364924</td>\n",
       "      <td>438554</td>\n",
       "      <td>519236</td>\n",
       "      <td>485954</td>\n",
       "    </tr>\n",
       "    <tr>\n",
       "      <th>5</th>\n",
       "      <td>Colorado</td>\n",
       "      <td>CO</td>\n",
       "      <td>55916</td>\n",
       "      <td>59202</td>\n",
       "      <td>60869</td>\n",
       "      <td>60008</td>\n",
       "      <td>58510</td>\n",
       "      <td>61196</td>\n",
       "      <td>59275</td>\n",
       "      <td>60454</td>\n",
       "      <td>63559</td>\n",
       "      <td>69410</td>\n",
       "      <td>71605</td>\n",
       "      <td>74807</td>\n",
       "      <td>80174</td>\n",
       "      <td>87686</td>\n",
       "      <td>86401</td>\n",
       "      <td>93461</td>\n",
       "      <td>111028</td>\n",
       "      <td>115689</td>\n",
       "    </tr>\n",
       "    <tr>\n",
       "      <th>6</th>\n",
       "      <td>Connecticut</td>\n",
       "      <td>CT</td>\n",
       "      <td>28378</td>\n",
       "      <td>30682</td>\n",
       "      <td>29812</td>\n",
       "      <td>28378</td>\n",
       "      <td>25851</td>\n",
       "      <td>26231</td>\n",
       "      <td>25979</td>\n",
       "      <td>26870</td>\n",
       "      <td>26117</td>\n",
       "      <td>26561</td>\n",
       "      <td>26196</td>\n",
       "      <td>27581</td>\n",
       "      <td>30105</td>\n",
       "      <td>33990</td>\n",
       "      <td>32869</td>\n",
       "      <td>37252</td>\n",
       "      <td>47244</td>\n",
       "      <td>44568</td>\n",
       "    </tr>\n",
       "    <tr>\n",
       "      <th>7</th>\n",
       "      <td>Delaware</td>\n",
       "      <td>DE</td>\n",
       "      <td>11333</td>\n",
       "      <td>11698</td>\n",
       "      <td>13202</td>\n",
       "      <td>13468</td>\n",
       "      <td>12724</td>\n",
       "      <td>13029</td>\n",
       "      <td>14610</td>\n",
       "      <td>15436</td>\n",
       "      <td>15586</td>\n",
       "      <td>16829</td>\n",
       "      <td>16981</td>\n",
       "      <td>19468</td>\n",
       "      <td>23043</td>\n",
       "      <td>26295</td>\n",
       "      <td>25874</td>\n",
       "      <td>30994</td>\n",
       "      <td>44754</td>\n",
       "      <td>45471</td>\n",
       "    </tr>\n",
       "    <tr>\n",
       "      <th>8</th>\n",
       "      <td>District of Columbia</td>\n",
       "      <td>DC</td>\n",
       "      <td>7293</td>\n",
       "      <td>7978</td>\n",
       "      <td>7840</td>\n",
       "      <td>8082</td>\n",
       "      <td>7659</td>\n",
       "      <td>7920</td>\n",
       "      <td>8472</td>\n",
       "      <td>8425</td>\n",
       "      <td>8514</td>\n",
       "      <td>9377</td>\n",
       "      <td>9976</td>\n",
       "      <td>9795</td>\n",
       "      <td>10667</td>\n",
       "      <td>11881</td>\n",
       "      <td>12244</td>\n",
       "      <td>14636</td>\n",
       "      <td>16806</td>\n",
       "      <td>14286</td>\n",
       "    </tr>\n",
       "    <tr>\n",
       "      <th>9</th>\n",
       "      <td>Florida</td>\n",
       "      <td>FL</td>\n",
       "      <td>281702</td>\n",
       "      <td>290268</td>\n",
       "      <td>279459</td>\n",
       "      <td>258082</td>\n",
       "      <td>243920</td>\n",
       "      <td>252217</td>\n",
       "      <td>267246</td>\n",
       "      <td>269100</td>\n",
       "      <td>280413</td>\n",
       "      <td>299324</td>\n",
       "      <td>318823</td>\n",
       "      <td>339529</td>\n",
       "      <td>360105</td>\n",
       "      <td>393516</td>\n",
       "      <td>391658</td>\n",
       "      <td>497288</td>\n",
       "      <td>633654</td>\n",
       "      <td>607279</td>\n",
       "    </tr>\n",
       "    <tr>\n",
       "      <th>10</th>\n",
       "      <td>Georgia</td>\n",
       "      <td>GA</td>\n",
       "      <td>97214</td>\n",
       "      <td>109627</td>\n",
       "      <td>115128</td>\n",
       "      <td>112521</td>\n",
       "      <td>107275</td>\n",
       "      <td>108040</td>\n",
       "      <td>110542</td>\n",
       "      <td>110873</td>\n",
       "      <td>106961</td>\n",
       "      <td>115636</td>\n",
       "      <td>121120</td>\n",
       "      <td>132593</td>\n",
       "      <td>144553</td>\n",
       "      <td>160084</td>\n",
       "      <td>172020</td>\n",
       "      <td>269850</td>\n",
       "      <td>327144</td>\n",
       "      <td>272636</td>\n",
       "    </tr>\n",
       "    <tr>\n",
       "      <th>11</th>\n",
       "      <td>Hawaii</td>\n",
       "      <td>HI</td>\n",
       "      <td>9609</td>\n",
       "      <td>10534</td>\n",
       "      <td>10819</td>\n",
       "      <td>11029</td>\n",
       "      <td>9725</td>\n",
       "      <td>10020</td>\n",
       "      <td>10667</td>\n",
       "      <td>10934</td>\n",
       "      <td>10913</td>\n",
       "      <td>11236</td>\n",
       "      <td>11753</td>\n",
       "      <td>11935</td>\n",
       "      <td>12676</td>\n",
       "      <td>15393</td>\n",
       "      <td>14504</td>\n",
       "      <td>15745</td>\n",
       "      <td>19145</td>\n",
       "      <td>18469</td>\n",
       "    </tr>\n",
       "    <tr>\n",
       "      <th>12</th>\n",
       "      <td>Idaho</td>\n",
       "      <td>ID</td>\n",
       "      <td>15013</td>\n",
       "      <td>17146</td>\n",
       "      <td>16718</td>\n",
       "      <td>14818</td>\n",
       "      <td>12787</td>\n",
       "      <td>12833</td>\n",
       "      <td>13210</td>\n",
       "      <td>13238</td>\n",
       "      <td>13270</td>\n",
       "      <td>13870</td>\n",
       "      <td>14787</td>\n",
       "      <td>17305</td>\n",
       "      <td>17866</td>\n",
       "      <td>22611</td>\n",
       "      <td>21603</td>\n",
       "      <td>22233</td>\n",
       "      <td>28612</td>\n",
       "      <td>29683</td>\n",
       "    </tr>\n",
       "    <tr>\n",
       "      <th>13</th>\n",
       "      <td>Illinois</td>\n",
       "      <td>IL</td>\n",
       "      <td>95482</td>\n",
       "      <td>98379</td>\n",
       "      <td>99688</td>\n",
       "      <td>106666</td>\n",
       "      <td>95952</td>\n",
       "      <td>98430</td>\n",
       "      <td>99249</td>\n",
       "      <td>95604</td>\n",
       "      <td>95308</td>\n",
       "      <td>98226</td>\n",
       "      <td>98701</td>\n",
       "      <td>100022</td>\n",
       "      <td>104197</td>\n",
       "      <td>116355</td>\n",
       "      <td>117402</td>\n",
       "      <td>170502</td>\n",
       "      <td>199344</td>\n",
       "      <td>169449</td>\n",
       "    </tr>\n",
       "    <tr>\n",
       "      <th>14</th>\n",
       "      <td>Indiana</td>\n",
       "      <td>IN</td>\n",
       "      <td>37943</td>\n",
       "      <td>39399</td>\n",
       "      <td>40140</td>\n",
       "      <td>43343</td>\n",
       "      <td>48961</td>\n",
       "      <td>45021</td>\n",
       "      <td>44776</td>\n",
       "      <td>43896</td>\n",
       "      <td>42663</td>\n",
       "      <td>42394</td>\n",
       "      <td>43482</td>\n",
       "      <td>44739</td>\n",
       "      <td>48058</td>\n",
       "      <td>52144</td>\n",
       "      <td>53820</td>\n",
       "      <td>69041</td>\n",
       "      <td>86971</td>\n",
       "      <td>82971</td>\n",
       "    </tr>\n",
       "    <tr>\n",
       "      <th>15</th>\n",
       "      <td>Iowa</td>\n",
       "      <td>IA</td>\n",
       "      <td>17890</td>\n",
       "      <td>18630</td>\n",
       "      <td>18308</td>\n",
       "      <td>17969</td>\n",
       "      <td>17072</td>\n",
       "      <td>17834</td>\n",
       "      <td>18357</td>\n",
       "      <td>18283</td>\n",
       "      <td>17991</td>\n",
       "      <td>17956</td>\n",
       "      <td>18702</td>\n",
       "      <td>19894</td>\n",
       "      <td>22527</td>\n",
       "      <td>24365</td>\n",
       "      <td>22035</td>\n",
       "      <td>24022</td>\n",
       "      <td>29784</td>\n",
       "      <td>29762</td>\n",
       "    </tr>\n",
       "    <tr>\n",
       "      <th>16</th>\n",
       "      <td>Kansas</td>\n",
       "      <td>KS</td>\n",
       "      <td>18927</td>\n",
       "      <td>19570</td>\n",
       "      <td>18913</td>\n",
       "      <td>18525</td>\n",
       "      <td>18414</td>\n",
       "      <td>18816</td>\n",
       "      <td>19591</td>\n",
       "      <td>19476</td>\n",
       "      <td>19357</td>\n",
       "      <td>19084</td>\n",
       "      <td>20277</td>\n",
       "      <td>21185</td>\n",
       "      <td>21861</td>\n",
       "      <td>24413</td>\n",
       "      <td>22524</td>\n",
       "      <td>24566</td>\n",
       "      <td>30401</td>\n",
       "      <td>30861</td>\n",
       "    </tr>\n",
       "    <tr>\n",
       "      <th>17</th>\n",
       "      <td>Kentucky</td>\n",
       "      <td>KY</td>\n",
       "      <td>25430</td>\n",
       "      <td>25883</td>\n",
       "      <td>24993</td>\n",
       "      <td>25109</td>\n",
       "      <td>23401</td>\n",
       "      <td>24641</td>\n",
       "      <td>24775</td>\n",
       "      <td>24937</td>\n",
       "      <td>24958</td>\n",
       "      <td>25241</td>\n",
       "      <td>25069</td>\n",
       "      <td>27035</td>\n",
       "      <td>30423</td>\n",
       "      <td>33807</td>\n",
       "      <td>32902</td>\n",
       "      <td>37356</td>\n",
       "      <td>47167</td>\n",
       "      <td>46553</td>\n",
       "    </tr>\n",
       "    <tr>\n",
       "      <th>18</th>\n",
       "      <td>Louisiana</td>\n",
       "      <td>LA</td>\n",
       "      <td>36006</td>\n",
       "      <td>41127</td>\n",
       "      <td>39597</td>\n",
       "      <td>39122</td>\n",
       "      <td>36442</td>\n",
       "      <td>39386</td>\n",
       "      <td>40172</td>\n",
       "      <td>38978</td>\n",
       "      <td>39101</td>\n",
       "      <td>39596</td>\n",
       "      <td>44302</td>\n",
       "      <td>49110</td>\n",
       "      <td>52482</td>\n",
       "      <td>53966</td>\n",
       "      <td>54114</td>\n",
       "      <td>84035</td>\n",
       "      <td>100372</td>\n",
       "      <td>80385</td>\n",
       "    </tr>\n",
       "    <tr>\n",
       "      <th>19</th>\n",
       "      <td>Maine</td>\n",
       "      <td>ME</td>\n",
       "      <td>9150</td>\n",
       "      <td>9250</td>\n",
       "      <td>8655</td>\n",
       "      <td>7863</td>\n",
       "      <td>7046</td>\n",
       "      <td>7466</td>\n",
       "      <td>7313</td>\n",
       "      <td>7334</td>\n",
       "      <td>7269</td>\n",
       "      <td>7452</td>\n",
       "      <td>7744</td>\n",
       "      <td>8021</td>\n",
       "      <td>8818</td>\n",
       "      <td>10885</td>\n",
       "      <td>9973</td>\n",
       "      <td>10576</td>\n",
       "      <td>13465</td>\n",
       "      <td>12917</td>\n",
       "    </tr>\n",
       "    <tr>\n",
       "      <th>20</th>\n",
       "      <td>Maryland</td>\n",
       "      <td>MD</td>\n",
       "      <td>54307</td>\n",
       "      <td>58362</td>\n",
       "      <td>58322</td>\n",
       "      <td>55525</td>\n",
       "      <td>48882</td>\n",
       "      <td>50975</td>\n",
       "      <td>51737</td>\n",
       "      <td>53058</td>\n",
       "      <td>56531</td>\n",
       "      <td>57793</td>\n",
       "      <td>58752</td>\n",
       "      <td>61753</td>\n",
       "      <td>68239</td>\n",
       "      <td>75050</td>\n",
       "      <td>75446</td>\n",
       "      <td>97294</td>\n",
       "      <td>114990</td>\n",
       "      <td>99078</td>\n",
       "    </tr>\n",
       "    <tr>\n",
       "      <th>21</th>\n",
       "      <td>Massachusetts</td>\n",
       "      <td>MA</td>\n",
       "      <td>46848</td>\n",
       "      <td>48510</td>\n",
       "      <td>46587</td>\n",
       "      <td>43814</td>\n",
       "      <td>43176</td>\n",
       "      <td>47043</td>\n",
       "      <td>46737</td>\n",
       "      <td>46821</td>\n",
       "      <td>47710</td>\n",
       "      <td>49402</td>\n",
       "      <td>49879</td>\n",
       "      <td>51440</td>\n",
       "      <td>54860</td>\n",
       "      <td>59198</td>\n",
       "      <td>57256</td>\n",
       "      <td>61801</td>\n",
       "      <td>75665</td>\n",
       "      <td>71112</td>\n",
       "    </tr>\n",
       "    <tr>\n",
       "      <th>22</th>\n",
       "      <td>Michigan</td>\n",
       "      <td>MI</td>\n",
       "      <td>76018</td>\n",
       "      <td>78336</td>\n",
       "      <td>79253</td>\n",
       "      <td>77894</td>\n",
       "      <td>73228</td>\n",
       "      <td>75717</td>\n",
       "      <td>75329</td>\n",
       "      <td>74134</td>\n",
       "      <td>72498</td>\n",
       "      <td>73849</td>\n",
       "      <td>74641</td>\n",
       "      <td>79164</td>\n",
       "      <td>84081</td>\n",
       "      <td>94121</td>\n",
       "      <td>94441</td>\n",
       "      <td>130253</td>\n",
       "      <td>150826</td>\n",
       "      <td>136794</td>\n",
       "    </tr>\n",
       "    <tr>\n",
       "      <th>23</th>\n",
       "      <td>Minnesota</td>\n",
       "      <td>MN</td>\n",
       "      <td>39685</td>\n",
       "      <td>40117</td>\n",
       "      <td>40336</td>\n",
       "      <td>39482</td>\n",
       "      <td>44214</td>\n",
       "      <td>39637</td>\n",
       "      <td>38704</td>\n",
       "      <td>39557</td>\n",
       "      <td>38939</td>\n",
       "      <td>39356</td>\n",
       "      <td>39577</td>\n",
       "      <td>40108</td>\n",
       "      <td>43434</td>\n",
       "      <td>47368</td>\n",
       "      <td>46028</td>\n",
       "      <td>53192</td>\n",
       "      <td>64880</td>\n",
       "      <td>60878</td>\n",
       "    </tr>\n",
       "    <tr>\n",
       "      <th>24</th>\n",
       "      <td>Mississippi</td>\n",
       "      <td>MS</td>\n",
       "      <td>19508</td>\n",
       "      <td>22362</td>\n",
       "      <td>22214</td>\n",
       "      <td>20717</td>\n",
       "      <td>19546</td>\n",
       "      <td>19723</td>\n",
       "      <td>20383</td>\n",
       "      <td>19929</td>\n",
       "      <td>20433</td>\n",
       "      <td>21461</td>\n",
       "      <td>22786</td>\n",
       "      <td>24586</td>\n",
       "      <td>28178</td>\n",
       "      <td>30290</td>\n",
       "      <td>31383</td>\n",
       "      <td>50703</td>\n",
       "      <td>66315</td>\n",
       "      <td>55663</td>\n",
       "    </tr>\n",
       "    <tr>\n",
       "      <th>25</th>\n",
       "      <td>Missouri</td>\n",
       "      <td>MO</td>\n",
       "      <td>44731</td>\n",
       "      <td>47386</td>\n",
       "      <td>45547</td>\n",
       "      <td>43895</td>\n",
       "      <td>41192</td>\n",
       "      <td>43043</td>\n",
       "      <td>43616</td>\n",
       "      <td>44508</td>\n",
       "      <td>43847</td>\n",
       "      <td>44159</td>\n",
       "      <td>47213</td>\n",
       "      <td>51503</td>\n",
       "      <td>54950</td>\n",
       "      <td>58690</td>\n",
       "      <td>58803</td>\n",
       "      <td>69989</td>\n",
       "      <td>84377</td>\n",
       "      <td>80770</td>\n",
       "    </tr>\n",
       "    <tr>\n",
       "      <th>26</th>\n",
       "      <td>Montana</td>\n",
       "      <td>MT</td>\n",
       "      <td>11190</td>\n",
       "      <td>11492</td>\n",
       "      <td>10858</td>\n",
       "      <td>10570</td>\n",
       "      <td>8765</td>\n",
       "      <td>9445</td>\n",
       "      <td>9681</td>\n",
       "      <td>9694</td>\n",
       "      <td>9631</td>\n",
       "      <td>10173</td>\n",
       "      <td>10581</td>\n",
       "      <td>11125</td>\n",
       "      <td>12140</td>\n",
       "      <td>15422</td>\n",
       "      <td>14125</td>\n",
       "      <td>14953</td>\n",
       "      <td>19098</td>\n",
       "      <td>20527</td>\n",
       "    </tr>\n",
       "    <tr>\n",
       "      <th>27</th>\n",
       "      <td>Nebraska</td>\n",
       "      <td>NE</td>\n",
       "      <td>10735</td>\n",
       "      <td>11216</td>\n",
       "      <td>10951</td>\n",
       "      <td>10953</td>\n",
       "      <td>10383</td>\n",
       "      <td>10858</td>\n",
       "      <td>11650</td>\n",
       "      <td>12086</td>\n",
       "      <td>12042</td>\n",
       "      <td>12498</td>\n",
       "      <td>12744</td>\n",
       "      <td>12826</td>\n",
       "      <td>14544</td>\n",
       "      <td>16425</td>\n",
       "      <td>14938</td>\n",
       "      <td>16101</td>\n",
       "      <td>19391</td>\n",
       "      <td>20386</td>\n",
       "    </tr>\n",
       "    <tr>\n",
       "      <th>28</th>\n",
       "      <td>Nevada</td>\n",
       "      <td>NV</td>\n",
       "      <td>43656</td>\n",
       "      <td>44365</td>\n",
       "      <td>42912</td>\n",
       "      <td>43692</td>\n",
       "      <td>37404</td>\n",
       "      <td>36111</td>\n",
       "      <td>38997</td>\n",
       "      <td>38370</td>\n",
       "      <td>39495</td>\n",
       "      <td>41673</td>\n",
       "      <td>40051</td>\n",
       "      <td>40031</td>\n",
       "      <td>43329</td>\n",
       "      <td>45819</td>\n",
       "      <td>42210</td>\n",
       "      <td>51786</td>\n",
       "      <td>67786</td>\n",
       "      <td>61820</td>\n",
       "    </tr>\n",
       "    <tr>\n",
       "      <th>29</th>\n",
       "      <td>New Hampshire</td>\n",
       "      <td>NH</td>\n",
       "      <td>10660</td>\n",
       "      <td>10573</td>\n",
       "      <td>10299</td>\n",
       "      <td>9760</td>\n",
       "      <td>8819</td>\n",
       "      <td>8307</td>\n",
       "      <td>8653</td>\n",
       "      <td>8736</td>\n",
       "      <td>8413</td>\n",
       "      <td>8451</td>\n",
       "      <td>8630</td>\n",
       "      <td>9129</td>\n",
       "      <td>11166</td>\n",
       "      <td>12835</td>\n",
       "      <td>11117</td>\n",
       "      <td>11400</td>\n",
       "      <td>13743</td>\n",
       "      <td>13893</td>\n",
       "    </tr>\n",
       "    <tr>\n",
       "      <th>30</th>\n",
       "      <td>New Jersey</td>\n",
       "      <td>NJ</td>\n",
       "      <td>87235</td>\n",
       "      <td>90496</td>\n",
       "      <td>92609</td>\n",
       "      <td>89414</td>\n",
       "      <td>83277</td>\n",
       "      <td>86361</td>\n",
       "      <td>89536</td>\n",
       "      <td>88736</td>\n",
       "      <td>91207</td>\n",
       "      <td>89754</td>\n",
       "      <td>92206</td>\n",
       "      <td>95040</td>\n",
       "      <td>101395</td>\n",
       "      <td>109227</td>\n",
       "      <td>112352</td>\n",
       "      <td>134305</td>\n",
       "      <td>162798</td>\n",
       "      <td>154032</td>\n",
       "    </tr>\n",
       "    <tr>\n",
       "      <th>31</th>\n",
       "      <td>New Mexico</td>\n",
       "      <td>NM</td>\n",
       "      <td>11498</td>\n",
       "      <td>13276</td>\n",
       "      <td>14097</td>\n",
       "      <td>13810</td>\n",
       "      <td>11827</td>\n",
       "      <td>12090</td>\n",
       "      <td>12486</td>\n",
       "      <td>12348</td>\n",
       "      <td>11987</td>\n",
       "      <td>13247</td>\n",
       "      <td>12767</td>\n",
       "      <td>13003</td>\n",
       "      <td>16131</td>\n",
       "      <td>17953</td>\n",
       "      <td>17447</td>\n",
       "      <td>18186</td>\n",
       "      <td>24444</td>\n",
       "      <td>26969</td>\n",
       "    </tr>\n",
       "    <tr>\n",
       "      <th>32</th>\n",
       "      <td>New York</td>\n",
       "      <td>NY</td>\n",
       "      <td>173019</td>\n",
       "      <td>179132</td>\n",
       "      <td>182101</td>\n",
       "      <td>176082</td>\n",
       "      <td>169482</td>\n",
       "      <td>184317</td>\n",
       "      <td>189082</td>\n",
       "      <td>187118</td>\n",
       "      <td>193132</td>\n",
       "      <td>195021</td>\n",
       "      <td>199023</td>\n",
       "      <td>202399</td>\n",
       "      <td>214523</td>\n",
       "      <td>226804</td>\n",
       "      <td>229007</td>\n",
       "      <td>253660</td>\n",
       "      <td>309684</td>\n",
       "      <td>298059</td>\n",
       "    </tr>\n",
       "    <tr>\n",
       "      <th>33</th>\n",
       "      <td>North Carolina</td>\n",
       "      <td>NC</td>\n",
       "      <td>71732</td>\n",
       "      <td>77018</td>\n",
       "      <td>79050</td>\n",
       "      <td>73766</td>\n",
       "      <td>67812</td>\n",
       "      <td>68170</td>\n",
       "      <td>70242</td>\n",
       "      <td>70172</td>\n",
       "      <td>70918</td>\n",
       "      <td>73031</td>\n",
       "      <td>78767</td>\n",
       "      <td>82521</td>\n",
       "      <td>91186</td>\n",
       "      <td>98325</td>\n",
       "      <td>103481</td>\n",
       "      <td>133885</td>\n",
       "      <td>171913</td>\n",
       "      <td>163763</td>\n",
       "    </tr>\n",
       "    <tr>\n",
       "      <th>34</th>\n",
       "      <td>North Dakota</td>\n",
       "      <td>ND</td>\n",
       "      <td>4191</td>\n",
       "      <td>4483</td>\n",
       "      <td>4359</td>\n",
       "      <td>4637</td>\n",
       "      <td>4210</td>\n",
       "      <td>4848</td>\n",
       "      <td>6116</td>\n",
       "      <td>6579</td>\n",
       "      <td>6422</td>\n",
       "      <td>6759</td>\n",
       "      <td>6125</td>\n",
       "      <td>5746</td>\n",
       "      <td>7332</td>\n",
       "      <td>8593</td>\n",
       "      <td>6863</td>\n",
       "      <td>6619</td>\n",
       "      <td>8048</td>\n",
       "      <td>7940</td>\n",
       "    </tr>\n",
       "    <tr>\n",
       "      <th>35</th>\n",
       "      <td>Ohio</td>\n",
       "      <td>OH</td>\n",
       "      <td>66112</td>\n",
       "      <td>66932</td>\n",
       "      <td>67894</td>\n",
       "      <td>68287</td>\n",
       "      <td>67582</td>\n",
       "      <td>69578</td>\n",
       "      <td>72454</td>\n",
       "      <td>71971</td>\n",
       "      <td>70503</td>\n",
       "      <td>71121</td>\n",
       "      <td>73257</td>\n",
       "      <td>76671</td>\n",
       "      <td>85135</td>\n",
       "      <td>90856</td>\n",
       "      <td>94932</td>\n",
       "      <td>127113</td>\n",
       "      <td>155255</td>\n",
       "      <td>139706</td>\n",
       "    </tr>\n",
       "    <tr>\n",
       "      <th>36</th>\n",
       "      <td>Oklahoma</td>\n",
       "      <td>OK</td>\n",
       "      <td>26792</td>\n",
       "      <td>27866</td>\n",
       "      <td>27929</td>\n",
       "      <td>29192</td>\n",
       "      <td>26512</td>\n",
       "      <td>27439</td>\n",
       "      <td>27797</td>\n",
       "      <td>28169</td>\n",
       "      <td>28655</td>\n",
       "      <td>29402</td>\n",
       "      <td>29691</td>\n",
       "      <td>32671</td>\n",
       "      <td>35569</td>\n",
       "      <td>39807</td>\n",
       "      <td>40931</td>\n",
       "      <td>45659</td>\n",
       "      <td>57833</td>\n",
       "      <td>55020</td>\n",
       "    </tr>\n",
       "    <tr>\n",
       "      <th>37</th>\n",
       "      <td>Oregon</td>\n",
       "      <td>OR</td>\n",
       "      <td>29470</td>\n",
       "      <td>32718</td>\n",
       "      <td>33070</td>\n",
       "      <td>31932</td>\n",
       "      <td>28823</td>\n",
       "      <td>29082</td>\n",
       "      <td>29018</td>\n",
       "      <td>28501</td>\n",
       "      <td>29272</td>\n",
       "      <td>30306</td>\n",
       "      <td>34206</td>\n",
       "      <td>35948</td>\n",
       "      <td>38137</td>\n",
       "      <td>41312</td>\n",
       "      <td>39172</td>\n",
       "      <td>40396</td>\n",
       "      <td>49731</td>\n",
       "      <td>49277</td>\n",
       "    </tr>\n",
       "    <tr>\n",
       "      <th>38</th>\n",
       "      <td>Pennsylvania</td>\n",
       "      <td>PA</td>\n",
       "      <td>75425</td>\n",
       "      <td>78374</td>\n",
       "      <td>77582</td>\n",
       "      <td>74321</td>\n",
       "      <td>69982</td>\n",
       "      <td>71692</td>\n",
       "      <td>74223</td>\n",
       "      <td>74492</td>\n",
       "      <td>75639</td>\n",
       "      <td>76668</td>\n",
       "      <td>79975</td>\n",
       "      <td>83636</td>\n",
       "      <td>91445</td>\n",
       "      <td>98306</td>\n",
       "      <td>102657</td>\n",
       "      <td>127178</td>\n",
       "      <td>158315</td>\n",
       "      <td>138402</td>\n",
       "    </tr>\n",
       "    <tr>\n",
       "      <th>39</th>\n",
       "      <td>Rhode Island</td>\n",
       "      <td>RI</td>\n",
       "      <td>7233</td>\n",
       "      <td>7313</td>\n",
       "      <td>7132</td>\n",
       "      <td>6616</td>\n",
       "      <td>6134</td>\n",
       "      <td>6349</td>\n",
       "      <td>6355</td>\n",
       "      <td>6285</td>\n",
       "      <td>6142</td>\n",
       "      <td>6602</td>\n",
       "      <td>6615</td>\n",
       "      <td>6745</td>\n",
       "      <td>8200</td>\n",
       "      <td>10227</td>\n",
       "      <td>8482</td>\n",
       "      <td>8973</td>\n",
       "      <td>11414</td>\n",
       "      <td>10876</td>\n",
       "    </tr>\n",
       "    <tr>\n",
       "      <th>40</th>\n",
       "      <td>South Carolina</td>\n",
       "      <td>SC</td>\n",
       "      <td>33219</td>\n",
       "      <td>36189</td>\n",
       "      <td>37494</td>\n",
       "      <td>36316</td>\n",
       "      <td>32495</td>\n",
       "      <td>31605</td>\n",
       "      <td>31675</td>\n",
       "      <td>32141</td>\n",
       "      <td>33160</td>\n",
       "      <td>34962</td>\n",
       "      <td>37473</td>\n",
       "      <td>41311</td>\n",
       "      <td>45294</td>\n",
       "      <td>49144</td>\n",
       "      <td>51469</td>\n",
       "      <td>70997</td>\n",
       "      <td>96158</td>\n",
       "      <td>90534</td>\n",
       "    </tr>\n",
       "    <tr>\n",
       "      <th>41</th>\n",
       "      <td>South Dakota</td>\n",
       "      <td>SD</td>\n",
       "      <td>5506</td>\n",
       "      <td>5816</td>\n",
       "      <td>5550</td>\n",
       "      <td>5588</td>\n",
       "      <td>5332</td>\n",
       "      <td>5562</td>\n",
       "      <td>5953</td>\n",
       "      <td>5960</td>\n",
       "      <td>6148</td>\n",
       "      <td>6442</td>\n",
       "      <td>6477</td>\n",
       "      <td>6312</td>\n",
       "      <td>8438</td>\n",
       "      <td>9711</td>\n",
       "      <td>7789</td>\n",
       "      <td>7760</td>\n",
       "      <td>10158</td>\n",
       "      <td>10365</td>\n",
       "    </tr>\n",
       "    <tr>\n",
       "      <th>42</th>\n",
       "      <td>Tennessee</td>\n",
       "      <td>TN</td>\n",
       "      <td>36952</td>\n",
       "      <td>40634</td>\n",
       "      <td>41741</td>\n",
       "      <td>39107</td>\n",
       "      <td>36242</td>\n",
       "      <td>36740</td>\n",
       "      <td>42903</td>\n",
       "      <td>40018</td>\n",
       "      <td>40281</td>\n",
       "      <td>42194</td>\n",
       "      <td>44264</td>\n",
       "      <td>46449</td>\n",
       "      <td>51125</td>\n",
       "      <td>56918</td>\n",
       "      <td>58670</td>\n",
       "      <td>75273</td>\n",
       "      <td>94194</td>\n",
       "      <td>91283</td>\n",
       "    </tr>\n",
       "    <tr>\n",
       "      <th>43</th>\n",
       "      <td>Texas</td>\n",
       "      <td>TX</td>\n",
       "      <td>174117</td>\n",
       "      <td>186725</td>\n",
       "      <td>190621</td>\n",
       "      <td>191123</td>\n",
       "      <td>184426</td>\n",
       "      <td>196205</td>\n",
       "      <td>205197</td>\n",
       "      <td>207042</td>\n",
       "      <td>212102</td>\n",
       "      <td>224670</td>\n",
       "      <td>237389</td>\n",
       "      <td>258546</td>\n",
       "      <td>275271</td>\n",
       "      <td>298257</td>\n",
       "      <td>305036</td>\n",
       "      <td>386181</td>\n",
       "      <td>494210</td>\n",
       "      <td>464959</td>\n",
       "    </tr>\n",
       "    <tr>\n",
       "      <th>44</th>\n",
       "      <td>Utah</td>\n",
       "      <td>UT</td>\n",
       "      <td>29025</td>\n",
       "      <td>34314</td>\n",
       "      <td>35927</td>\n",
       "      <td>34607</td>\n",
       "      <td>32372</td>\n",
       "      <td>31132</td>\n",
       "      <td>31159</td>\n",
       "      <td>34263</td>\n",
       "      <td>37041</td>\n",
       "      <td>39003</td>\n",
       "      <td>40998</td>\n",
       "      <td>43316</td>\n",
       "      <td>47057</td>\n",
       "      <td>49651</td>\n",
       "      <td>49675</td>\n",
       "      <td>51210</td>\n",
       "      <td>63124</td>\n",
       "      <td>65064</td>\n",
       "    </tr>\n",
       "    <tr>\n",
       "      <th>45</th>\n",
       "      <td>Vermont</td>\n",
       "      <td>VT</td>\n",
       "      <td>4516</td>\n",
       "      <td>4564</td>\n",
       "      <td>4549</td>\n",
       "      <td>4289</td>\n",
       "      <td>3818</td>\n",
       "      <td>4086</td>\n",
       "      <td>3883</td>\n",
       "      <td>4084</td>\n",
       "      <td>3883</td>\n",
       "      <td>4157</td>\n",
       "      <td>4503</td>\n",
       "      <td>4581</td>\n",
       "      <td>5312</td>\n",
       "      <td>6597</td>\n",
       "      <td>5608</td>\n",
       "      <td>5654</td>\n",
       "      <td>7471</td>\n",
       "      <td>7461</td>\n",
       "    </tr>\n",
       "    <tr>\n",
       "      <th>46</th>\n",
       "      <td>Virginia</td>\n",
       "      <td>VA</td>\n",
       "      <td>63870</td>\n",
       "      <td>68151</td>\n",
       "      <td>67781</td>\n",
       "      <td>65987</td>\n",
       "      <td>62778</td>\n",
       "      <td>61178</td>\n",
       "      <td>64330</td>\n",
       "      <td>67311</td>\n",
       "      <td>68501</td>\n",
       "      <td>70563</td>\n",
       "      <td>72416</td>\n",
       "      <td>75226</td>\n",
       "      <td>81074</td>\n",
       "      <td>86462</td>\n",
       "      <td>87932</td>\n",
       "      <td>106991</td>\n",
       "      <td>130908</td>\n",
       "      <td>123426</td>\n",
       "    </tr>\n",
       "    <tr>\n",
       "      <th>47</th>\n",
       "      <td>Washington</td>\n",
       "      <td>WA</td>\n",
       "      <td>49488</td>\n",
       "      <td>52131</td>\n",
       "      <td>53333</td>\n",
       "      <td>50110</td>\n",
       "      <td>45095</td>\n",
       "      <td>46675</td>\n",
       "      <td>48365</td>\n",
       "      <td>47661</td>\n",
       "      <td>48558</td>\n",
       "      <td>50370</td>\n",
       "      <td>53530</td>\n",
       "      <td>57923</td>\n",
       "      <td>61992</td>\n",
       "      <td>68902</td>\n",
       "      <td>70306</td>\n",
       "      <td>76273</td>\n",
       "      <td>92328</td>\n",
       "      <td>88376</td>\n",
       "    </tr>\n",
       "    <tr>\n",
       "      <th>48</th>\n",
       "      <td>West Virginia</td>\n",
       "      <td>WV</td>\n",
       "      <td>9085</td>\n",
       "      <td>9438</td>\n",
       "      <td>9314</td>\n",
       "      <td>9077</td>\n",
       "      <td>7985</td>\n",
       "      <td>8245</td>\n",
       "      <td>8159</td>\n",
       "      <td>8515</td>\n",
       "      <td>8245</td>\n",
       "      <td>8587</td>\n",
       "      <td>8590</td>\n",
       "      <td>9285</td>\n",
       "      <td>10235</td>\n",
       "      <td>11197</td>\n",
       "      <td>9945</td>\n",
       "      <td>10889</td>\n",
       "      <td>13261</td>\n",
       "      <td>13770</td>\n",
       "    </tr>\n",
       "    <tr>\n",
       "      <th>49</th>\n",
       "      <td>Wisconsin</td>\n",
       "      <td>WI</td>\n",
       "      <td>37633</td>\n",
       "      <td>37997</td>\n",
       "      <td>37388</td>\n",
       "      <td>37311</td>\n",
       "      <td>34923</td>\n",
       "      <td>36578</td>\n",
       "      <td>36052</td>\n",
       "      <td>36032</td>\n",
       "      <td>35492</td>\n",
       "      <td>36028</td>\n",
       "      <td>37155</td>\n",
       "      <td>37548</td>\n",
       "      <td>41005</td>\n",
       "      <td>45246</td>\n",
       "      <td>43717</td>\n",
       "      <td>52766</td>\n",
       "      <td>65074</td>\n",
       "      <td>64151</td>\n",
       "    </tr>\n",
       "    <tr>\n",
       "      <th>50</th>\n",
       "      <td>Wyoming</td>\n",
       "      <td>WY</td>\n",
       "      <td>5442</td>\n",
       "      <td>6100</td>\n",
       "      <td>6451</td>\n",
       "      <td>7940</td>\n",
       "      <td>6937</td>\n",
       "      <td>7554</td>\n",
       "      <td>7848</td>\n",
       "      <td>7929</td>\n",
       "      <td>8409</td>\n",
       "      <td>8890</td>\n",
       "      <td>9728</td>\n",
       "      <td>13844</td>\n",
       "      <td>17399</td>\n",
       "      <td>19712</td>\n",
       "      <td>18796</td>\n",
       "      <td>24646</td>\n",
       "      <td>33741</td>\n",
       "      <td>41561</td>\n",
       "    </tr>\n",
       "  </tbody>\n",
       "</table>\n",
       "</div>"
      ],
      "text/plain": [
       "                    Name State    2005    2006    2007    2008    2009  \\\n",
       "0                Alabama    AL   31078   33918   33701   32222   29221   \n",
       "1                 Alaska    AK    4730    5229    5138    4979    4396   \n",
       "2                Arizona    AZ   56547   63067   64673   62972   58279   \n",
       "3               Arkansas    AR   19133   20400   19630   18707   17927   \n",
       "4             California    CA  271636  286652  286737  271606  249246   \n",
       "5               Colorado    CO   55916   59202   60869   60008   58510   \n",
       "6            Connecticut    CT   28378   30682   29812   28378   25851   \n",
       "7               Delaware    DE   11333   11698   13202   13468   12724   \n",
       "8   District of Columbia    DC    7293    7978    7840    8082    7659   \n",
       "9                Florida    FL  281702  290268  279459  258082  243920   \n",
       "10               Georgia    GA   97214  109627  115128  112521  107275   \n",
       "11                Hawaii    HI    9609   10534   10819   11029    9725   \n",
       "12                 Idaho    ID   15013   17146   16718   14818   12787   \n",
       "13              Illinois    IL   95482   98379   99688  106666   95952   \n",
       "14               Indiana    IN   37943   39399   40140   43343   48961   \n",
       "15                  Iowa    IA   17890   18630   18308   17969   17072   \n",
       "16                Kansas    KS   18927   19570   18913   18525   18414   \n",
       "17              Kentucky    KY   25430   25883   24993   25109   23401   \n",
       "18             Louisiana    LA   36006   41127   39597   39122   36442   \n",
       "19                 Maine    ME    9150    9250    8655    7863    7046   \n",
       "20              Maryland    MD   54307   58362   58322   55525   48882   \n",
       "21         Massachusetts    MA   46848   48510   46587   43814   43176   \n",
       "22              Michigan    MI   76018   78336   79253   77894   73228   \n",
       "23             Minnesota    MN   39685   40117   40336   39482   44214   \n",
       "24           Mississippi    MS   19508   22362   22214   20717   19546   \n",
       "25              Missouri    MO   44731   47386   45547   43895   41192   \n",
       "26               Montana    MT   11190   11492   10858   10570    8765   \n",
       "27              Nebraska    NE   10735   11216   10951   10953   10383   \n",
       "28                Nevada    NV   43656   44365   42912   43692   37404   \n",
       "29         New Hampshire    NH   10660   10573   10299    9760    8819   \n",
       "30            New Jersey    NJ   87235   90496   92609   89414   83277   \n",
       "31            New Mexico    NM   11498   13276   14097   13810   11827   \n",
       "32              New York    NY  173019  179132  182101  176082  169482   \n",
       "33        North Carolina    NC   71732   77018   79050   73766   67812   \n",
       "34          North Dakota    ND    4191    4483    4359    4637    4210   \n",
       "35                  Ohio    OH   66112   66932   67894   68287   67582   \n",
       "36              Oklahoma    OK   26792   27866   27929   29192   26512   \n",
       "37                Oregon    OR   29470   32718   33070   31932   28823   \n",
       "38          Pennsylvania    PA   75425   78374   77582   74321   69982   \n",
       "39          Rhode Island    RI    7233    7313    7132    6616    6134   \n",
       "40        South Carolina    SC   33219   36189   37494   36316   32495   \n",
       "41          South Dakota    SD    5506    5816    5550    5588    5332   \n",
       "42             Tennessee    TN   36952   40634   41741   39107   36242   \n",
       "43                 Texas    TX  174117  186725  190621  191123  184426   \n",
       "44                  Utah    UT   29025   34314   35927   34607   32372   \n",
       "45               Vermont    VT    4516    4564    4549    4289    3818   \n",
       "46              Virginia    VA   63870   68151   67781   65987   62778   \n",
       "47            Washington    WA   49488   52131   53333   50110   45095   \n",
       "48         West Virginia    WV    9085    9438    9314    9077    7985   \n",
       "49             Wisconsin    WI   37633   37997   37388   37311   34923   \n",
       "50               Wyoming    WY    5442    6100    6451    7940    6937   \n",
       "\n",
       "      2010    2011    2012    2013    2014    2015    2016    2017    2018  \\\n",
       "0    29916   28994   29694   29331   29574   31506   34286   36760   41948   \n",
       "1     4661    5083    5210    5383    5447    5901    6358    7263    9238   \n",
       "2    57926   57837   55305   55516   56401   57176   61448   67833   73424   \n",
       "3    17843   17939   17812   17551   18445   19033   20445   23135   25678   \n",
       "4   256436  270057  268103  278014  293443  303657  312636  326592  364807   \n",
       "5    61196   59275   60454   63559   69410   71605   74807   80174   87686   \n",
       "6    26231   25979   26870   26117   26561   26196   27581   30105   33990   \n",
       "7    13029   14610   15436   15586   16829   16981   19468   23043   26295   \n",
       "8     7920    8472    8425    8514    9377    9976    9795   10667   11881   \n",
       "9   252217  267246  269100  280413  299324  318823  339529  360105  393516   \n",
       "10  108040  110542  110873  106961  115636  121120  132593  144553  160084   \n",
       "11   10020   10667   10934   10913   11236   11753   11935   12676   15393   \n",
       "12   12833   13210   13238   13270   13870   14787   17305   17866   22611   \n",
       "13   98430   99249   95604   95308   98226   98701  100022  104197  116355   \n",
       "14   45021   44776   43896   42663   42394   43482   44739   48058   52144   \n",
       "15   17834   18357   18283   17991   17956   18702   19894   22527   24365   \n",
       "16   18816   19591   19476   19357   19084   20277   21185   21861   24413   \n",
       "17   24641   24775   24937   24958   25241   25069   27035   30423   33807   \n",
       "18   39386   40172   38978   39101   39596   44302   49110   52482   53966   \n",
       "19    7466    7313    7334    7269    7452    7744    8021    8818   10885   \n",
       "20   50975   51737   53058   56531   57793   58752   61753   68239   75050   \n",
       "21   47043   46737   46821   47710   49402   49879   51440   54860   59198   \n",
       "22   75717   75329   74134   72498   73849   74641   79164   84081   94121   \n",
       "23   39637   38704   39557   38939   39356   39577   40108   43434   47368   \n",
       "24   19723   20383   19929   20433   21461   22786   24586   28178   30290   \n",
       "25   43043   43616   44508   43847   44159   47213   51503   54950   58690   \n",
       "26    9445    9681    9694    9631   10173   10581   11125   12140   15422   \n",
       "27   10858   11650   12086   12042   12498   12744   12826   14544   16425   \n",
       "28   36111   38997   38370   39495   41673   40051   40031   43329   45819   \n",
       "29    8307    8653    8736    8413    8451    8630    9129   11166   12835   \n",
       "30   86361   89536   88736   91207   89754   92206   95040  101395  109227   \n",
       "31   12090   12486   12348   11987   13247   12767   13003   16131   17953   \n",
       "32  184317  189082  187118  193132  195021  199023  202399  214523  226804   \n",
       "33   68170   70242   70172   70918   73031   78767   82521   91186   98325   \n",
       "34    4848    6116    6579    6422    6759    6125    5746    7332    8593   \n",
       "35   69578   72454   71971   70503   71121   73257   76671   85135   90856   \n",
       "36   27439   27797   28169   28655   29402   29691   32671   35569   39807   \n",
       "37   29082   29018   28501   29272   30306   34206   35948   38137   41312   \n",
       "38   71692   74223   74492   75639   76668   79975   83636   91445   98306   \n",
       "39    6349    6355    6285    6142    6602    6615    6745    8200   10227   \n",
       "40   31605   31675   32141   33160   34962   37473   41311   45294   49144   \n",
       "41    5562    5953    5960    6148    6442    6477    6312    8438    9711   \n",
       "42   36740   42903   40018   40281   42194   44264   46449   51125   56918   \n",
       "43  196205  205197  207042  212102  224670  237389  258546  275271  298257   \n",
       "44   31132   31159   34263   37041   39003   40998   43316   47057   49651   \n",
       "45    4086    3883    4084    3883    4157    4503    4581    5312    6597   \n",
       "46   61178   64330   67311   68501   70563   72416   75226   81074   86462   \n",
       "47   46675   48365   47661   48558   50370   53530   57923   61992   68902   \n",
       "48    8245    8159    8515    8245    8587    8590    9285   10235   11197   \n",
       "49   36578   36052   36032   35492   36028   37155   37548   41005   45246   \n",
       "50    7554    7848    7929    8409    8890    9728   13844   17399   19712   \n",
       "\n",
       "      2019    2020    2021    2022  \n",
       "0    41478   58557   75443   70750  \n",
       "1     8118    8063    8063    8456  \n",
       "2    76539   89957  113142  115080  \n",
       "3    25473   32314   41599   37562  \n",
       "4   364924  438554  519236  485954  \n",
       "5    86401   93461  111028  115689  \n",
       "6    32869   37252   47244   44568  \n",
       "7    25874   30994   44754   45471  \n",
       "8    12244   14636   16806   14286  \n",
       "9   391658  497288  633654  607279  \n",
       "10  172020  269850  327144  272636  \n",
       "11   14504   15745   19145   18469  \n",
       "12   21603   22233   28612   29683  \n",
       "13  117402  170502  199344  169449  \n",
       "14   53820   69041   86971   82971  \n",
       "15   22035   24022   29784   29762  \n",
       "16   22524   24566   30401   30861  \n",
       "17   32902   37356   47167   46553  \n",
       "18   54114   84035  100372   80385  \n",
       "19    9973   10576   13465   12917  \n",
       "20   75446   97294  114990   99078  \n",
       "21   57256   61801   75665   71112  \n",
       "22   94441  130253  150826  136794  \n",
       "23   46028   53192   64880   60878  \n",
       "24   31383   50703   66315   55663  \n",
       "25   58803   69989   84377   80770  \n",
       "26   14125   14953   19098   20527  \n",
       "27   14938   16101   19391   20386  \n",
       "28   42210   51786   67786   61820  \n",
       "29   11117   11400   13743   13893  \n",
       "30  112352  134305  162798  154032  \n",
       "31   17447   18186   24444   26969  \n",
       "32  229007  253660  309684  298059  \n",
       "33  103481  133885  171913  163763  \n",
       "34    6863    6619    8048    7940  \n",
       "35   94932  127113  155255  139706  \n",
       "36   40931   45659   57833   55020  \n",
       "37   39172   40396   49731   49277  \n",
       "38  102657  127178  158315  138402  \n",
       "39    8482    8973   11414   10876  \n",
       "40   51469   70997   96158   90534  \n",
       "41    7789    7760   10158   10365  \n",
       "42   58670   75273   94194   91283  \n",
       "43  305036  386181  494210  464959  \n",
       "44   49675   51210   63124   65064  \n",
       "45    5608    5654    7471    7461  \n",
       "46   87932  106991  130908  123426  \n",
       "47   70306   76273   92328   88376  \n",
       "48    9945   10889   13261   13770  \n",
       "49   43717   52766   65074   64151  \n",
       "50   18796   24646   33741   41561  "
      ]
     },
     "execution_count": 9,
     "metadata": {},
     "output_type": "execute_result"
    }
   ],
   "source": [
    "df_biz = pd.read_csv('biz_apps_new.csv')\n",
    "\n",
    "# Drop columns excluded from analyses (2022)\n",
    "# These years were selected to take different datasets into account\n",
    "df_biz"
   ]
  },
  {
   "cell_type": "code",
   "execution_count": 101,
   "id": "e563f205",
   "metadata": {},
   "outputs": [
    {
     "data": {
      "text/html": [
       "<div>\n",
       "<style scoped>\n",
       "    .dataframe tbody tr th:only-of-type {\n",
       "        vertical-align: middle;\n",
       "    }\n",
       "\n",
       "    .dataframe tbody tr th {\n",
       "        vertical-align: top;\n",
       "    }\n",
       "\n",
       "    .dataframe thead th {\n",
       "        text-align: right;\n",
       "    }\n",
       "</style>\n",
       "<table border=\"1\" class=\"dataframe\">\n",
       "  <thead>\n",
       "    <tr style=\"text-align: right;\">\n",
       "      <th></th>\n",
       "      <th>Name</th>\n",
       "      <th>State</th>\n",
       "      <th>tax_rate</th>\n",
       "      <th>business_apps</th>\n",
       "    </tr>\n",
       "  </thead>\n",
       "  <tbody>\n",
       "    <tr>\n",
       "      <th>0</th>\n",
       "      <td>Alabama</td>\n",
       "      <td>AL</td>\n",
       "      <td>6.50</td>\n",
       "      <td>70750</td>\n",
       "    </tr>\n",
       "    <tr>\n",
       "      <th>1</th>\n",
       "      <td>Alaska</td>\n",
       "      <td>AK</td>\n",
       "      <td>5.34</td>\n",
       "      <td>8456</td>\n",
       "    </tr>\n",
       "    <tr>\n",
       "      <th>2</th>\n",
       "      <td>Arizona</td>\n",
       "      <td>AZ</td>\n",
       "      <td>4.90</td>\n",
       "      <td>115080</td>\n",
       "    </tr>\n",
       "    <tr>\n",
       "      <th>3</th>\n",
       "      <td>Arkansas</td>\n",
       "      <td>AR</td>\n",
       "      <td>3.65</td>\n",
       "      <td>37562</td>\n",
       "    </tr>\n",
       "    <tr>\n",
       "      <th>4</th>\n",
       "      <td>California</td>\n",
       "      <td>CA</td>\n",
       "      <td>8.84</td>\n",
       "      <td>485954</td>\n",
       "    </tr>\n",
       "  </tbody>\n",
       "</table>\n",
       "</div>"
      ],
      "text/plain": [
       "         Name State  tax_rate  business_apps\n",
       "0     Alabama    AL      6.50          70750\n",
       "1      Alaska    AK      5.34           8456\n",
       "2     Arizona    AZ      4.90         115080\n",
       "3    Arkansas    AR      3.65          37562\n",
       "4  California    CA      8.84         485954"
      ]
     },
     "execution_count": 101,
     "metadata": {},
     "output_type": "execute_result"
    }
   ],
   "source": [
    "df_temp = df_temp.rename(columns={\"2022\":\"tax_rate\"})\n",
    "df_temp[\"business_apps\"] = df_biz['2022']\n",
    "df_temp.head()"
   ]
  },
  {
   "cell_type": "code",
   "execution_count": 4,
   "id": "77bc9769",
   "metadata": {
    "scrolled": true
   },
   "outputs": [
    {
     "data": {
      "text/html": [
       "<div>\n",
       "<style scoped>\n",
       "    .dataframe tbody tr th:only-of-type {\n",
       "        vertical-align: middle;\n",
       "    }\n",
       "\n",
       "    .dataframe tbody tr th {\n",
       "        vertical-align: top;\n",
       "    }\n",
       "\n",
       "    .dataframe thead th {\n",
       "        text-align: right;\n",
       "    }\n",
       "</style>\n",
       "<table border=\"1\" class=\"dataframe\">\n",
       "  <thead>\n",
       "    <tr style=\"text-align: right;\">\n",
       "      <th></th>\n",
       "      <th>State</th>\n",
       "      <th>2005</th>\n",
       "      <th>2006</th>\n",
       "      <th>2007</th>\n",
       "      <th>2008</th>\n",
       "      <th>2009</th>\n",
       "      <th>2010</th>\n",
       "      <th>2011</th>\n",
       "      <th>2012</th>\n",
       "      <th>2013</th>\n",
       "      <th>2014</th>\n",
       "      <th>2015</th>\n",
       "      <th>2016</th>\n",
       "      <th>2017</th>\n",
       "      <th>2018</th>\n",
       "      <th>2019</th>\n",
       "      <th>2020</th>\n",
       "      <th>2021</th>\n",
       "      <th>2022</th>\n",
       "    </tr>\n",
       "  </thead>\n",
       "  <tbody>\n",
       "    <tr>\n",
       "      <th>0</th>\n",
       "      <td>Alabama</td>\n",
       "      <td>4569805</td>\n",
       "      <td>4628981</td>\n",
       "      <td>4672840</td>\n",
       "      <td>4718206</td>\n",
       "      <td>4757938</td>\n",
       "      <td>4785514</td>\n",
       "      <td>4799642</td>\n",
       "      <td>4816632</td>\n",
       "      <td>4831586</td>\n",
       "      <td>4843737</td>\n",
       "      <td>4854803</td>\n",
       "      <td>4866824</td>\n",
       "      <td>4877989</td>\n",
       "      <td>4891628</td>\n",
       "      <td>4907965</td>\n",
       "      <td>5031362</td>\n",
       "      <td>5049846</td>\n",
       "      <td>5074296</td>\n",
       "    </tr>\n",
       "    <tr>\n",
       "      <th>1</th>\n",
       "      <td>Alaska</td>\n",
       "      <td>666946</td>\n",
       "      <td>675302</td>\n",
       "      <td>680300</td>\n",
       "      <td>687455</td>\n",
       "      <td>698895</td>\n",
       "      <td>713982</td>\n",
       "      <td>722349</td>\n",
       "      <td>730810</td>\n",
       "      <td>737626</td>\n",
       "      <td>737075</td>\n",
       "      <td>738430</td>\n",
       "      <td>742575</td>\n",
       "      <td>740983</td>\n",
       "      <td>736624</td>\n",
       "      <td>733603</td>\n",
       "      <td>732923</td>\n",
       "      <td>734182</td>\n",
       "      <td>733583</td>\n",
       "    </tr>\n",
       "    <tr>\n",
       "      <th>2</th>\n",
       "      <td>Arizona</td>\n",
       "      <td>5839077</td>\n",
       "      <td>6029141</td>\n",
       "      <td>6167681</td>\n",
       "      <td>6280362</td>\n",
       "      <td>6343154</td>\n",
       "      <td>6407342</td>\n",
       "      <td>6473416</td>\n",
       "      <td>6556344</td>\n",
       "      <td>6634690</td>\n",
       "      <td>6732873</td>\n",
       "      <td>6832810</td>\n",
       "      <td>6944767</td>\n",
       "      <td>7048088</td>\n",
       "      <td>7164228</td>\n",
       "      <td>7291843</td>\n",
       "      <td>7179943</td>\n",
       "      <td>7264877</td>\n",
       "      <td>7359197</td>\n",
       "    </tr>\n",
       "    <tr>\n",
       "      <th>3</th>\n",
       "      <td>Arkansas</td>\n",
       "      <td>2781097</td>\n",
       "      <td>2821761</td>\n",
       "      <td>2848650</td>\n",
       "      <td>2874554</td>\n",
       "      <td>2896843</td>\n",
       "      <td>2921998</td>\n",
       "      <td>2941038</td>\n",
       "      <td>2952876</td>\n",
       "      <td>2960459</td>\n",
       "      <td>2968759</td>\n",
       "      <td>2979732</td>\n",
       "      <td>2991815</td>\n",
       "      <td>3003855</td>\n",
       "      <td>3012161</td>\n",
       "      <td>3020985</td>\n",
       "      <td>3014195</td>\n",
       "      <td>3028122</td>\n",
       "      <td>3045637</td>\n",
       "    </tr>\n",
       "    <tr>\n",
       "      <th>4</th>\n",
       "      <td>California</td>\n",
       "      <td>35827943</td>\n",
       "      <td>36021202</td>\n",
       "      <td>36250311</td>\n",
       "      <td>36604337</td>\n",
       "      <td>36961229</td>\n",
       "      <td>37319550</td>\n",
       "      <td>37636311</td>\n",
       "      <td>37944551</td>\n",
       "      <td>38253768</td>\n",
       "      <td>38586706</td>\n",
       "      <td>38904296</td>\n",
       "      <td>39149186</td>\n",
       "      <td>39337785</td>\n",
       "      <td>39437463</td>\n",
       "      <td>39437610</td>\n",
       "      <td>39501653</td>\n",
       "      <td>39142991</td>\n",
       "      <td>39029342</td>\n",
       "    </tr>\n",
       "  </tbody>\n",
       "</table>\n",
       "</div>"
      ],
      "text/plain": [
       "        State      2005      2006      2007      2008      2009      2010  \\\n",
       "0     Alabama   4569805   4628981   4672840   4718206   4757938   4785514   \n",
       "1      Alaska    666946    675302    680300    687455    698895    713982   \n",
       "2     Arizona   5839077   6029141   6167681   6280362   6343154   6407342   \n",
       "3    Arkansas   2781097   2821761   2848650   2874554   2896843   2921998   \n",
       "4  California  35827943  36021202  36250311  36604337  36961229  37319550   \n",
       "\n",
       "       2011      2012      2013      2014      2015      2016      2017  \\\n",
       "0   4799642   4816632   4831586   4843737   4854803   4866824   4877989   \n",
       "1    722349    730810    737626    737075    738430    742575    740983   \n",
       "2   6473416   6556344   6634690   6732873   6832810   6944767   7048088   \n",
       "3   2941038   2952876   2960459   2968759   2979732   2991815   3003855   \n",
       "4  37636311  37944551  38253768  38586706  38904296  39149186  39337785   \n",
       "\n",
       "       2018      2019      2020      2021      2022  \n",
       "0   4891628   4907965   5031362   5049846   5074296  \n",
       "1    736624    733603    732923    734182    733583  \n",
       "2   7164228   7291843   7179943   7264877   7359197  \n",
       "3   3012161   3020985   3014195   3028122   3045637  \n",
       "4  39437463  39437610  39501653  39142991  39029342  "
      ]
     },
     "execution_count": 4,
     "metadata": {},
     "output_type": "execute_result"
    }
   ],
   "source": [
    "df_pop = pd.read_csv(\"NST-EST2022-POP.csv\")\n",
    "df_pop.head()"
   ]
  },
  {
   "cell_type": "code",
   "execution_count": 10,
   "id": "c1c69af9",
   "metadata": {},
   "outputs": [
    {
     "ename": "NameError",
     "evalue": "name 'df_temp' is not defined",
     "output_type": "error",
     "traceback": [
      "\u001b[0;31m---------------------------------------------------------------------------\u001b[0m",
      "\u001b[0;31mNameError\u001b[0m                                 Traceback (most recent call last)",
      "Cell \u001b[0;32mIn[10], line 1\u001b[0m\n\u001b[0;32m----> 1\u001b[0m df_temp[\u001b[38;5;124m\"\u001b[39m\u001b[38;5;124mpop\u001b[39m\u001b[38;5;124m\"\u001b[39m] \u001b[38;5;241m=\u001b[39m df_pop[\u001b[38;5;124m'\u001b[39m\u001b[38;5;124m2022\u001b[39m\u001b[38;5;124m'\u001b[39m]\n\u001b[1;32m      2\u001b[0m df_temp[\u001b[38;5;124m\"\u001b[39m\u001b[38;5;124mgdp\u001b[39m\u001b[38;5;124m\"\u001b[39m] \u001b[38;5;241m=\u001b[39m df_gdp[\u001b[38;5;124m\"\u001b[39m\u001b[38;5;124m2022\u001b[39m\u001b[38;5;124m\"\u001b[39m]\n",
      "\u001b[0;31mNameError\u001b[0m: name 'df_temp' is not defined"
     ]
    }
   ],
   "source": [
    "df_temp[\"pop\"] = df_pop['2022']\n",
    "df_temp[\"gdp\"] = df_gdp[\"2022\"]"
   ]
  },
  {
   "cell_type": "code",
   "execution_count": 104,
   "id": "4070f66a",
   "metadata": {},
   "outputs": [],
   "source": [
    "df_temp['business_apps'] = df_temp['business_apps'].astype(int) "
   ]
  },
  {
   "cell_type": "code",
   "execution_count": 220,
   "id": "1d841014",
   "metadata": {
    "scrolled": true
   },
   "outputs": [
    {
     "data": {
      "text/html": [
       "<div>\n",
       "<style scoped>\n",
       "    .dataframe tbody tr th:only-of-type {\n",
       "        vertical-align: middle;\n",
       "    }\n",
       "\n",
       "    .dataframe tbody tr th {\n",
       "        vertical-align: top;\n",
       "    }\n",
       "\n",
       "    .dataframe thead th {\n",
       "        text-align: right;\n",
       "    }\n",
       "</style>\n",
       "<table border=\"1\" class=\"dataframe\">\n",
       "  <thead>\n",
       "    <tr style=\"text-align: right;\">\n",
       "      <th></th>\n",
       "      <th>Name</th>\n",
       "      <th>State</th>\n",
       "      <th>tax_rate</th>\n",
       "      <th>business_apps</th>\n",
       "      <th>pop</th>\n",
       "      <th>gdp</th>\n",
       "      <th>min_wage</th>\n",
       "    </tr>\n",
       "  </thead>\n",
       "  <tbody>\n",
       "    <tr>\n",
       "      <th>0</th>\n",
       "      <td>Alabama</td>\n",
       "      <td>AL</td>\n",
       "      <td>6.50</td>\n",
       "      <td>70750</td>\n",
       "      <td>5074296</td>\n",
       "      <td>277817.5</td>\n",
       "      <td>7.25</td>\n",
       "    </tr>\n",
       "    <tr>\n",
       "      <th>1</th>\n",
       "      <td>Alaska</td>\n",
       "      <td>AK</td>\n",
       "      <td>5.34</td>\n",
       "      <td>8456</td>\n",
       "      <td>733583</td>\n",
       "      <td>63618.0</td>\n",
       "      <td>10.34</td>\n",
       "    </tr>\n",
       "    <tr>\n",
       "      <th>2</th>\n",
       "      <td>Arizona</td>\n",
       "      <td>AZ</td>\n",
       "      <td>4.90</td>\n",
       "      <td>115080</td>\n",
       "      <td>7359197</td>\n",
       "      <td>458949.8</td>\n",
       "      <td>12.80</td>\n",
       "    </tr>\n",
       "    <tr>\n",
       "      <th>3</th>\n",
       "      <td>Arkansas</td>\n",
       "      <td>AR</td>\n",
       "      <td>3.65</td>\n",
       "      <td>37562</td>\n",
       "      <td>3045637</td>\n",
       "      <td>165220.6</td>\n",
       "      <td>11.00</td>\n",
       "    </tr>\n",
       "    <tr>\n",
       "      <th>4</th>\n",
       "      <td>California</td>\n",
       "      <td>CA</td>\n",
       "      <td>8.84</td>\n",
       "      <td>485954</td>\n",
       "      <td>39029342</td>\n",
       "      <td>3598102.7</td>\n",
       "      <td>15.00</td>\n",
       "    </tr>\n",
       "    <tr>\n",
       "      <th>5</th>\n",
       "      <td>Colorado</td>\n",
       "      <td>CO</td>\n",
       "      <td>4.55</td>\n",
       "      <td>115689</td>\n",
       "      <td>5839926</td>\n",
       "      <td>484371.5</td>\n",
       "      <td>12.56</td>\n",
       "    </tr>\n",
       "    <tr>\n",
       "      <th>6</th>\n",
       "      <td>Connecticut</td>\n",
       "      <td>CT</td>\n",
       "      <td>7.50</td>\n",
       "      <td>44568</td>\n",
       "      <td>3626205</td>\n",
       "      <td>321844.6</td>\n",
       "      <td>14.00</td>\n",
       "    </tr>\n",
       "    <tr>\n",
       "      <th>7</th>\n",
       "      <td>Delaware</td>\n",
       "      <td>DE</td>\n",
       "      <td>8.70</td>\n",
       "      <td>45471</td>\n",
       "      <td>1018396</td>\n",
       "      <td>87524.8</td>\n",
       "      <td>10.50</td>\n",
       "    </tr>\n",
       "    <tr>\n",
       "      <th>8</th>\n",
       "      <td>District of Columbia</td>\n",
       "      <td>DC</td>\n",
       "      <td>8.25</td>\n",
       "      <td>14286</td>\n",
       "      <td>671803</td>\n",
       "      <td>162314.4</td>\n",
       "      <td>16.10</td>\n",
       "    </tr>\n",
       "    <tr>\n",
       "      <th>9</th>\n",
       "      <td>Florida</td>\n",
       "      <td>FL</td>\n",
       "      <td>5.50</td>\n",
       "      <td>607279</td>\n",
       "      <td>22244823</td>\n",
       "      <td>1389069.7</td>\n",
       "      <td>11.00</td>\n",
       "    </tr>\n",
       "    <tr>\n",
       "      <th>10</th>\n",
       "      <td>Georgia</td>\n",
       "      <td>GA</td>\n",
       "      <td>5.75</td>\n",
       "      <td>272636</td>\n",
       "      <td>10912876</td>\n",
       "      <td>755697.9</td>\n",
       "      <td>7.25</td>\n",
       "    </tr>\n",
       "    <tr>\n",
       "      <th>11</th>\n",
       "      <td>Hawaii</td>\n",
       "      <td>HI</td>\n",
       "      <td>5.40</td>\n",
       "      <td>18469</td>\n",
       "      <td>1440196</td>\n",
       "      <td>98218.8</td>\n",
       "      <td>12.00</td>\n",
       "    </tr>\n",
       "    <tr>\n",
       "      <th>12</th>\n",
       "      <td>Idaho</td>\n",
       "      <td>ID</td>\n",
       "      <td>6.00</td>\n",
       "      <td>29683</td>\n",
       "      <td>1939033</td>\n",
       "      <td>109546.5</td>\n",
       "      <td>7.25</td>\n",
       "    </tr>\n",
       "    <tr>\n",
       "      <th>13</th>\n",
       "      <td>Illinois</td>\n",
       "      <td>IL</td>\n",
       "      <td>9.50</td>\n",
       "      <td>169449</td>\n",
       "      <td>12582032</td>\n",
       "      <td>1033310.1</td>\n",
       "      <td>12.00</td>\n",
       "    </tr>\n",
       "    <tr>\n",
       "      <th>14</th>\n",
       "      <td>Indiana</td>\n",
       "      <td>IN</td>\n",
       "      <td>4.90</td>\n",
       "      <td>82971</td>\n",
       "      <td>6833037</td>\n",
       "      <td>455750.2</td>\n",
       "      <td>7.25</td>\n",
       "    </tr>\n",
       "    <tr>\n",
       "      <th>15</th>\n",
       "      <td>Iowa</td>\n",
       "      <td>IA</td>\n",
       "      <td>8.10</td>\n",
       "      <td>29762</td>\n",
       "      <td>3200517</td>\n",
       "      <td>231107.8</td>\n",
       "      <td>7.25</td>\n",
       "    </tr>\n",
       "    <tr>\n",
       "      <th>16</th>\n",
       "      <td>Kansas</td>\n",
       "      <td>KS</td>\n",
       "      <td>5.50</td>\n",
       "      <td>30861</td>\n",
       "      <td>2937150</td>\n",
       "      <td>210670.5</td>\n",
       "      <td>7.25</td>\n",
       "    </tr>\n",
       "    <tr>\n",
       "      <th>17</th>\n",
       "      <td>Kentucky</td>\n",
       "      <td>KY</td>\n",
       "      <td>5.00</td>\n",
       "      <td>46553</td>\n",
       "      <td>4512310</td>\n",
       "      <td>260304.1</td>\n",
       "      <td>7.25</td>\n",
       "    </tr>\n",
       "    <tr>\n",
       "      <th>18</th>\n",
       "      <td>Louisiana</td>\n",
       "      <td>LA</td>\n",
       "      <td>5.33</td>\n",
       "      <td>80385</td>\n",
       "      <td>4590241</td>\n",
       "      <td>281429.3</td>\n",
       "      <td>7.25</td>\n",
       "    </tr>\n",
       "    <tr>\n",
       "      <th>19</th>\n",
       "      <td>Maine</td>\n",
       "      <td>ME</td>\n",
       "      <td>7.17</td>\n",
       "      <td>12917</td>\n",
       "      <td>1385340</td>\n",
       "      <td>84497.5</td>\n",
       "      <td>12.75</td>\n",
       "    </tr>\n",
       "    <tr>\n",
       "      <th>20</th>\n",
       "      <td>Maryland</td>\n",
       "      <td>MD</td>\n",
       "      <td>8.25</td>\n",
       "      <td>99078</td>\n",
       "      <td>6164660</td>\n",
       "      <td>470187.1</td>\n",
       "      <td>12.50</td>\n",
       "    </tr>\n",
       "    <tr>\n",
       "      <th>21</th>\n",
       "      <td>Massachusetts</td>\n",
       "      <td>MA</td>\n",
       "      <td>8.00</td>\n",
       "      <td>71112</td>\n",
       "      <td>6981974</td>\n",
       "      <td>688391.6</td>\n",
       "      <td>14.25</td>\n",
       "    </tr>\n",
       "    <tr>\n",
       "      <th>22</th>\n",
       "      <td>Michigan</td>\n",
       "      <td>MI</td>\n",
       "      <td>6.00</td>\n",
       "      <td>136794</td>\n",
       "      <td>10034113</td>\n",
       "      <td>620695.6</td>\n",
       "      <td>9.87</td>\n",
       "    </tr>\n",
       "    <tr>\n",
       "      <th>23</th>\n",
       "      <td>Minnesota</td>\n",
       "      <td>MN</td>\n",
       "      <td>9.80</td>\n",
       "      <td>60878</td>\n",
       "      <td>5717184</td>\n",
       "      <td>446499.5</td>\n",
       "      <td>10.33</td>\n",
       "    </tr>\n",
       "    <tr>\n",
       "      <th>24</th>\n",
       "      <td>Mississippi</td>\n",
       "      <td>MS</td>\n",
       "      <td>3.00</td>\n",
       "      <td>55663</td>\n",
       "      <td>2940057</td>\n",
       "      <td>138739.7</td>\n",
       "      <td>7.25</td>\n",
       "    </tr>\n",
       "    <tr>\n",
       "      <th>25</th>\n",
       "      <td>Missouri</td>\n",
       "      <td>MO</td>\n",
       "      <td>4.00</td>\n",
       "      <td>80770</td>\n",
       "      <td>6177957</td>\n",
       "      <td>389931.2</td>\n",
       "      <td>11.15</td>\n",
       "    </tr>\n",
       "    <tr>\n",
       "      <th>26</th>\n",
       "      <td>Montana</td>\n",
       "      <td>MT</td>\n",
       "      <td>6.75</td>\n",
       "      <td>20527</td>\n",
       "      <td>1122867</td>\n",
       "      <td>65014.5</td>\n",
       "      <td>9.20</td>\n",
       "    </tr>\n",
       "    <tr>\n",
       "      <th>27</th>\n",
       "      <td>Nebraska</td>\n",
       "      <td>NE</td>\n",
       "      <td>6.70</td>\n",
       "      <td>20386</td>\n",
       "      <td>1967923</td>\n",
       "      <td>161702.0</td>\n",
       "      <td>9.00</td>\n",
       "    </tr>\n",
       "    <tr>\n",
       "      <th>28</th>\n",
       "      <td>Nevada</td>\n",
       "      <td>NV</td>\n",
       "      <td>0.00</td>\n",
       "      <td>61820</td>\n",
       "      <td>3177772</td>\n",
       "      <td>215917.8</td>\n",
       "      <td>10.50</td>\n",
       "    </tr>\n",
       "    <tr>\n",
       "      <th>29</th>\n",
       "      <td>New Hampshire</td>\n",
       "      <td>NH</td>\n",
       "      <td>7.60</td>\n",
       "      <td>13893</td>\n",
       "      <td>1395231</td>\n",
       "      <td>105414.4</td>\n",
       "      <td>7.25</td>\n",
       "    </tr>\n",
       "    <tr>\n",
       "      <th>30</th>\n",
       "      <td>New Jersey</td>\n",
       "      <td>NJ</td>\n",
       "      <td>8.62</td>\n",
       "      <td>154032</td>\n",
       "      <td>9261699</td>\n",
       "      <td>745422.2</td>\n",
       "      <td>13.00</td>\n",
       "    </tr>\n",
       "    <tr>\n",
       "      <th>31</th>\n",
       "      <td>New Mexico</td>\n",
       "      <td>NM</td>\n",
       "      <td>5.35</td>\n",
       "      <td>26969</td>\n",
       "      <td>2113344</td>\n",
       "      <td>122114.8</td>\n",
       "      <td>11.50</td>\n",
       "    </tr>\n",
       "    <tr>\n",
       "      <th>32</th>\n",
       "      <td>New York</td>\n",
       "      <td>NY</td>\n",
       "      <td>6.88</td>\n",
       "      <td>298059</td>\n",
       "      <td>19677151</td>\n",
       "      <td>2053179.7</td>\n",
       "      <td>13.20</td>\n",
       "    </tr>\n",
       "    <tr>\n",
       "      <th>33</th>\n",
       "      <td>North Carolina</td>\n",
       "      <td>NC</td>\n",
       "      <td>2.50</td>\n",
       "      <td>163763</td>\n",
       "      <td>10698973</td>\n",
       "      <td>730072.4</td>\n",
       "      <td>7.25</td>\n",
       "    </tr>\n",
       "    <tr>\n",
       "      <th>34</th>\n",
       "      <td>North Dakota</td>\n",
       "      <td>ND</td>\n",
       "      <td>3.09</td>\n",
       "      <td>7940</td>\n",
       "      <td>779261</td>\n",
       "      <td>73267.1</td>\n",
       "      <td>7.25</td>\n",
       "    </tr>\n",
       "    <tr>\n",
       "      <th>35</th>\n",
       "      <td>Ohio</td>\n",
       "      <td>OH</td>\n",
       "      <td>0.00</td>\n",
       "      <td>139706</td>\n",
       "      <td>11756058</td>\n",
       "      <td>822669.7</td>\n",
       "      <td>9.30</td>\n",
       "    </tr>\n",
       "    <tr>\n",
       "      <th>36</th>\n",
       "      <td>Oklahoma</td>\n",
       "      <td>OK</td>\n",
       "      <td>4.00</td>\n",
       "      <td>55020</td>\n",
       "      <td>4019800</td>\n",
       "      <td>240534.3</td>\n",
       "      <td>7.25</td>\n",
       "    </tr>\n",
       "    <tr>\n",
       "      <th>37</th>\n",
       "      <td>Oregon</td>\n",
       "      <td>OR</td>\n",
       "      <td>7.10</td>\n",
       "      <td>49277</td>\n",
       "      <td>4240137</td>\n",
       "      <td>299125.5</td>\n",
       "      <td>13.50</td>\n",
       "    </tr>\n",
       "    <tr>\n",
       "      <th>38</th>\n",
       "      <td>Pennsylvania</td>\n",
       "      <td>PA</td>\n",
       "      <td>9.99</td>\n",
       "      <td>138402</td>\n",
       "      <td>12972008</td>\n",
       "      <td>923088.8</td>\n",
       "      <td>7.25</td>\n",
       "    </tr>\n",
       "    <tr>\n",
       "      <th>39</th>\n",
       "      <td>Rhode Island</td>\n",
       "      <td>RI</td>\n",
       "      <td>7.00</td>\n",
       "      <td>10876</td>\n",
       "      <td>1093734</td>\n",
       "      <td>71402.2</td>\n",
       "      <td>12.25</td>\n",
       "    </tr>\n",
       "    <tr>\n",
       "      <th>40</th>\n",
       "      <td>South Carolina</td>\n",
       "      <td>SC</td>\n",
       "      <td>5.00</td>\n",
       "      <td>90534</td>\n",
       "      <td>5282634</td>\n",
       "      <td>295880.5</td>\n",
       "      <td>7.25</td>\n",
       "    </tr>\n",
       "    <tr>\n",
       "      <th>41</th>\n",
       "      <td>South Dakota</td>\n",
       "      <td>SD</td>\n",
       "      <td>0.00</td>\n",
       "      <td>10365</td>\n",
       "      <td>909824</td>\n",
       "      <td>67570.7</td>\n",
       "      <td>9.95</td>\n",
       "    </tr>\n",
       "    <tr>\n",
       "      <th>42</th>\n",
       "      <td>Tennessee</td>\n",
       "      <td>TN</td>\n",
       "      <td>6.50</td>\n",
       "      <td>91283</td>\n",
       "      <td>7051339</td>\n",
       "      <td>475755.1</td>\n",
       "      <td>7.25</td>\n",
       "    </tr>\n",
       "    <tr>\n",
       "      <th>43</th>\n",
       "      <td>Texas</td>\n",
       "      <td>TX</td>\n",
       "      <td>0.00</td>\n",
       "      <td>464959</td>\n",
       "      <td>30029572</td>\n",
       "      <td>2355959.7</td>\n",
       "      <td>7.25</td>\n",
       "    </tr>\n",
       "    <tr>\n",
       "      <th>44</th>\n",
       "      <td>Utah</td>\n",
       "      <td>UT</td>\n",
       "      <td>4.85</td>\n",
       "      <td>65064</td>\n",
       "      <td>3380800</td>\n",
       "      <td>248176.3</td>\n",
       "      <td>7.25</td>\n",
       "    </tr>\n",
       "    <tr>\n",
       "      <th>45</th>\n",
       "      <td>Vermont</td>\n",
       "      <td>VT</td>\n",
       "      <td>7.17</td>\n",
       "      <td>7461</td>\n",
       "      <td>647064</td>\n",
       "      <td>40617.1</td>\n",
       "      <td>12.55</td>\n",
       "    </tr>\n",
       "    <tr>\n",
       "      <th>46</th>\n",
       "      <td>Virginia</td>\n",
       "      <td>VA</td>\n",
       "      <td>6.00</td>\n",
       "      <td>123426</td>\n",
       "      <td>8683619</td>\n",
       "      <td>649392.6</td>\n",
       "      <td>11.00</td>\n",
       "    </tr>\n",
       "    <tr>\n",
       "      <th>47</th>\n",
       "      <td>Washington</td>\n",
       "      <td>WA</td>\n",
       "      <td>0.00</td>\n",
       "      <td>88376</td>\n",
       "      <td>7785786</td>\n",
       "      <td>725513.5</td>\n",
       "      <td>14.49</td>\n",
       "    </tr>\n",
       "    <tr>\n",
       "      <th>48</th>\n",
       "      <td>West Virginia</td>\n",
       "      <td>WV</td>\n",
       "      <td>6.50</td>\n",
       "      <td>13770</td>\n",
       "      <td>1775156</td>\n",
       "      <td>95588.4</td>\n",
       "      <td>8.75</td>\n",
       "    </tr>\n",
       "    <tr>\n",
       "      <th>49</th>\n",
       "      <td>Wisconsin</td>\n",
       "      <td>WI</td>\n",
       "      <td>7.90</td>\n",
       "      <td>64151</td>\n",
       "      <td>5892539</td>\n",
       "      <td>401791.5</td>\n",
       "      <td>7.25</td>\n",
       "    </tr>\n",
       "    <tr>\n",
       "      <th>50</th>\n",
       "      <td>Wyoming</td>\n",
       "      <td>WY</td>\n",
       "      <td>0.00</td>\n",
       "      <td>41561</td>\n",
       "      <td>581381</td>\n",
       "      <td>47432.5</td>\n",
       "      <td>7.25</td>\n",
       "    </tr>\n",
       "  </tbody>\n",
       "</table>\n",
       "</div>"
      ],
      "text/plain": [
       "                    Name State  tax_rate  business_apps       pop        gdp  \\\n",
       "0                Alabama    AL      6.50          70750   5074296   277817.5   \n",
       "1                 Alaska    AK      5.34           8456    733583    63618.0   \n",
       "2                Arizona    AZ      4.90         115080   7359197   458949.8   \n",
       "3               Arkansas    AR      3.65          37562   3045637   165220.6   \n",
       "4             California    CA      8.84         485954  39029342  3598102.7   \n",
       "5               Colorado    CO      4.55         115689   5839926   484371.5   \n",
       "6            Connecticut    CT      7.50          44568   3626205   321844.6   \n",
       "7               Delaware    DE      8.70          45471   1018396    87524.8   \n",
       "8   District of Columbia    DC      8.25          14286    671803   162314.4   \n",
       "9                Florida    FL      5.50         607279  22244823  1389069.7   \n",
       "10               Georgia    GA      5.75         272636  10912876   755697.9   \n",
       "11                Hawaii    HI      5.40          18469   1440196    98218.8   \n",
       "12                 Idaho    ID      6.00          29683   1939033   109546.5   \n",
       "13              Illinois    IL      9.50         169449  12582032  1033310.1   \n",
       "14               Indiana    IN      4.90          82971   6833037   455750.2   \n",
       "15                  Iowa    IA      8.10          29762   3200517   231107.8   \n",
       "16                Kansas    KS      5.50          30861   2937150   210670.5   \n",
       "17              Kentucky    KY      5.00          46553   4512310   260304.1   \n",
       "18             Louisiana    LA      5.33          80385   4590241   281429.3   \n",
       "19                 Maine    ME      7.17          12917   1385340    84497.5   \n",
       "20              Maryland    MD      8.25          99078   6164660   470187.1   \n",
       "21         Massachusetts    MA      8.00          71112   6981974   688391.6   \n",
       "22              Michigan    MI      6.00         136794  10034113   620695.6   \n",
       "23             Minnesota    MN      9.80          60878   5717184   446499.5   \n",
       "24           Mississippi    MS      3.00          55663   2940057   138739.7   \n",
       "25              Missouri    MO      4.00          80770   6177957   389931.2   \n",
       "26               Montana    MT      6.75          20527   1122867    65014.5   \n",
       "27              Nebraska    NE      6.70          20386   1967923   161702.0   \n",
       "28                Nevada    NV      0.00          61820   3177772   215917.8   \n",
       "29         New Hampshire    NH      7.60          13893   1395231   105414.4   \n",
       "30            New Jersey    NJ      8.62         154032   9261699   745422.2   \n",
       "31            New Mexico    NM      5.35          26969   2113344   122114.8   \n",
       "32              New York    NY      6.88         298059  19677151  2053179.7   \n",
       "33       North Carolina     NC      2.50         163763  10698973   730072.4   \n",
       "34          North Dakota    ND      3.09           7940    779261    73267.1   \n",
       "35                 Ohio     OH      0.00         139706  11756058   822669.7   \n",
       "36              Oklahoma    OK      4.00          55020   4019800   240534.3   \n",
       "37                Oregon    OR      7.10          49277   4240137   299125.5   \n",
       "38          Pennsylvania    PA      9.99         138402  12972008   923088.8   \n",
       "39          Rhode Island    RI      7.00          10876   1093734    71402.2   \n",
       "40        South Carolina    SC      5.00          90534   5282634   295880.5   \n",
       "41          South Dakota    SD      0.00          10365    909824    67570.7   \n",
       "42             Tennessee    TN      6.50          91283   7051339   475755.1   \n",
       "43                 Texas    TX      0.00         464959  30029572  2355959.7   \n",
       "44                  Utah    UT      4.85          65064   3380800   248176.3   \n",
       "45               Vermont    VT      7.17           7461    647064    40617.1   \n",
       "46              Virginia    VA      6.00         123426   8683619   649392.6   \n",
       "47            Washington    WA      0.00          88376   7785786   725513.5   \n",
       "48         West Virginia    WV      6.50          13770   1775156    95588.4   \n",
       "49            Wisconsin     WI      7.90          64151   5892539   401791.5   \n",
       "50               Wyoming    WY      0.00          41561    581381    47432.5   \n",
       "\n",
       "    min_wage  \n",
       "0       7.25  \n",
       "1      10.34  \n",
       "2      12.80  \n",
       "3      11.00  \n",
       "4      15.00  \n",
       "5      12.56  \n",
       "6      14.00  \n",
       "7      10.50  \n",
       "8      16.10  \n",
       "9      11.00  \n",
       "10      7.25  \n",
       "11     12.00  \n",
       "12      7.25  \n",
       "13     12.00  \n",
       "14      7.25  \n",
       "15      7.25  \n",
       "16      7.25  \n",
       "17      7.25  \n",
       "18      7.25  \n",
       "19     12.75  \n",
       "20     12.50  \n",
       "21     14.25  \n",
       "22      9.87  \n",
       "23     10.33  \n",
       "24      7.25  \n",
       "25     11.15  \n",
       "26      9.20  \n",
       "27      9.00  \n",
       "28     10.50  \n",
       "29      7.25  \n",
       "30     13.00  \n",
       "31     11.50  \n",
       "32     13.20  \n",
       "33      7.25  \n",
       "34      7.25  \n",
       "35      9.30  \n",
       "36      7.25  \n",
       "37     13.50  \n",
       "38      7.25  \n",
       "39     12.25  \n",
       "40      7.25  \n",
       "41      9.95  \n",
       "42      7.25  \n",
       "43      7.25  \n",
       "44      7.25  \n",
       "45     12.55  \n",
       "46     11.00  \n",
       "47     14.49  \n",
       "48      8.75  \n",
       "49      7.25  \n",
       "50      7.25  "
      ]
     },
     "execution_count": 220,
     "metadata": {},
     "output_type": "execute_result"
    }
   ],
   "source": [
    "df_temp['min_wage'] = df_mw['2022']\n",
    "df_temp"
   ]
  },
  {
   "cell_type": "code",
   "execution_count": 144,
   "id": "d978e8f1",
   "metadata": {},
   "outputs": [
    {
     "data": {
      "application/vnd.plotly.v1+json": {
       "config": {
        "plotlyServerURL": "https://plot.ly"
       },
       "data": [
        {
         "hovertemplate": "States=Alabama<br>gdp=%{x}<br>min_wage=%{y}<br>Business Apps=%{marker.size}<extra></extra>",
         "legendgroup": "Alabama",
         "marker": {
          "color": "#636efa",
          "size": [
           70750
          ],
          "sizemode": "area",
          "sizeref": 168.6886111111111,
          "symbol": "circle"
         },
         "mode": "markers",
         "name": "Alabama",
         "orientation": "v",
         "showlegend": true,
         "type": "scatter",
         "x": [
          277817.5
         ],
         "xaxis": "x",
         "y": [
          7.25
         ],
         "yaxis": "y"
        },
        {
         "hovertemplate": "States=Alaska<br>gdp=%{x}<br>min_wage=%{y}<br>Business Apps=%{marker.size}<extra></extra>",
         "legendgroup": "Alaska",
         "marker": {
          "color": "#EF553B",
          "size": [
           8456
          ],
          "sizemode": "area",
          "sizeref": 168.6886111111111,
          "symbol": "circle"
         },
         "mode": "markers",
         "name": "Alaska",
         "orientation": "v",
         "showlegend": true,
         "type": "scatter",
         "x": [
          63618
         ],
         "xaxis": "x",
         "y": [
          10.34
         ],
         "yaxis": "y"
        },
        {
         "hovertemplate": "States=Arizona<br>gdp=%{x}<br>min_wage=%{y}<br>Business Apps=%{marker.size}<extra></extra>",
         "legendgroup": "Arizona",
         "marker": {
          "color": "#00cc96",
          "size": [
           115080
          ],
          "sizemode": "area",
          "sizeref": 168.6886111111111,
          "symbol": "circle"
         },
         "mode": "markers",
         "name": "Arizona",
         "orientation": "v",
         "showlegend": true,
         "type": "scatter",
         "x": [
          458949.8
         ],
         "xaxis": "x",
         "y": [
          12.8
         ],
         "yaxis": "y"
        },
        {
         "hovertemplate": "States=Arkansas<br>gdp=%{x}<br>min_wage=%{y}<br>Business Apps=%{marker.size}<extra></extra>",
         "legendgroup": "Arkansas",
         "marker": {
          "color": "#ab63fa",
          "size": [
           37562
          ],
          "sizemode": "area",
          "sizeref": 168.6886111111111,
          "symbol": "circle"
         },
         "mode": "markers",
         "name": "Arkansas",
         "orientation": "v",
         "showlegend": true,
         "type": "scatter",
         "x": [
          165220.6
         ],
         "xaxis": "x",
         "y": [
          11
         ],
         "yaxis": "y"
        },
        {
         "hovertemplate": "States=California<br>gdp=%{x}<br>min_wage=%{y}<br>Business Apps=%{marker.size}<extra></extra>",
         "legendgroup": "California",
         "marker": {
          "color": "#FFA15A",
          "size": [
           485954
          ],
          "sizemode": "area",
          "sizeref": 168.6886111111111,
          "symbol": "circle"
         },
         "mode": "markers",
         "name": "California",
         "orientation": "v",
         "showlegend": true,
         "type": "scatter",
         "x": [
          3598102.7
         ],
         "xaxis": "x",
         "y": [
          15
         ],
         "yaxis": "y"
        },
        {
         "hovertemplate": "States=Colorado<br>gdp=%{x}<br>min_wage=%{y}<br>Business Apps=%{marker.size}<extra></extra>",
         "legendgroup": "Colorado",
         "marker": {
          "color": "#19d3f3",
          "size": [
           115689
          ],
          "sizemode": "area",
          "sizeref": 168.6886111111111,
          "symbol": "circle"
         },
         "mode": "markers",
         "name": "Colorado",
         "orientation": "v",
         "showlegend": true,
         "type": "scatter",
         "x": [
          484371.5
         ],
         "xaxis": "x",
         "y": [
          12.56
         ],
         "yaxis": "y"
        },
        {
         "hovertemplate": "States=Connecticut<br>gdp=%{x}<br>min_wage=%{y}<br>Business Apps=%{marker.size}<extra></extra>",
         "legendgroup": "Connecticut",
         "marker": {
          "color": "#FF6692",
          "size": [
           44568
          ],
          "sizemode": "area",
          "sizeref": 168.6886111111111,
          "symbol": "circle"
         },
         "mode": "markers",
         "name": "Connecticut",
         "orientation": "v",
         "showlegend": true,
         "type": "scatter",
         "x": [
          321844.6
         ],
         "xaxis": "x",
         "y": [
          14
         ],
         "yaxis": "y"
        },
        {
         "hovertemplate": "States=Delaware<br>gdp=%{x}<br>min_wage=%{y}<br>Business Apps=%{marker.size}<extra></extra>",
         "legendgroup": "Delaware",
         "marker": {
          "color": "#B6E880",
          "size": [
           45471
          ],
          "sizemode": "area",
          "sizeref": 168.6886111111111,
          "symbol": "circle"
         },
         "mode": "markers",
         "name": "Delaware",
         "orientation": "v",
         "showlegend": true,
         "type": "scatter",
         "x": [
          87524.8
         ],
         "xaxis": "x",
         "y": [
          10.5
         ],
         "yaxis": "y"
        },
        {
         "hovertemplate": "States=District of Columbia<br>gdp=%{x}<br>min_wage=%{y}<br>Business Apps=%{marker.size}<extra></extra>",
         "legendgroup": "District of Columbia",
         "marker": {
          "color": "#FF97FF",
          "size": [
           14286
          ],
          "sizemode": "area",
          "sizeref": 168.6886111111111,
          "symbol": "circle"
         },
         "mode": "markers",
         "name": "District of Columbia",
         "orientation": "v",
         "showlegend": true,
         "type": "scatter",
         "x": [
          162314.4
         ],
         "xaxis": "x",
         "y": [
          16.1
         ],
         "yaxis": "y"
        },
        {
         "hovertemplate": "States=Florida<br>gdp=%{x}<br>min_wage=%{y}<br>Business Apps=%{marker.size}<extra></extra>",
         "legendgroup": "Florida",
         "marker": {
          "color": "#FECB52",
          "size": [
           607279
          ],
          "sizemode": "area",
          "sizeref": 168.6886111111111,
          "symbol": "circle"
         },
         "mode": "markers",
         "name": "Florida",
         "orientation": "v",
         "showlegend": true,
         "type": "scatter",
         "x": [
          1389069.7
         ],
         "xaxis": "x",
         "y": [
          11
         ],
         "yaxis": "y"
        },
        {
         "hovertemplate": "States=Georgia<br>gdp=%{x}<br>min_wage=%{y}<br>Business Apps=%{marker.size}<extra></extra>",
         "legendgroup": "Georgia",
         "marker": {
          "color": "#636efa",
          "size": [
           272636
          ],
          "sizemode": "area",
          "sizeref": 168.6886111111111,
          "symbol": "circle"
         },
         "mode": "markers",
         "name": "Georgia",
         "orientation": "v",
         "showlegend": true,
         "type": "scatter",
         "x": [
          755697.9
         ],
         "xaxis": "x",
         "y": [
          7.25
         ],
         "yaxis": "y"
        },
        {
         "hovertemplate": "States=Hawaii<br>gdp=%{x}<br>min_wage=%{y}<br>Business Apps=%{marker.size}<extra></extra>",
         "legendgroup": "Hawaii",
         "marker": {
          "color": "#EF553B",
          "size": [
           18469
          ],
          "sizemode": "area",
          "sizeref": 168.6886111111111,
          "symbol": "circle"
         },
         "mode": "markers",
         "name": "Hawaii",
         "orientation": "v",
         "showlegend": true,
         "type": "scatter",
         "x": [
          98218.8
         ],
         "xaxis": "x",
         "y": [
          12
         ],
         "yaxis": "y"
        },
        {
         "hovertemplate": "States=Idaho<br>gdp=%{x}<br>min_wage=%{y}<br>Business Apps=%{marker.size}<extra></extra>",
         "legendgroup": "Idaho",
         "marker": {
          "color": "#00cc96",
          "size": [
           29683
          ],
          "sizemode": "area",
          "sizeref": 168.6886111111111,
          "symbol": "circle"
         },
         "mode": "markers",
         "name": "Idaho",
         "orientation": "v",
         "showlegend": true,
         "type": "scatter",
         "x": [
          109546.5
         ],
         "xaxis": "x",
         "y": [
          7.25
         ],
         "yaxis": "y"
        },
        {
         "hovertemplate": "States=Illinois<br>gdp=%{x}<br>min_wage=%{y}<br>Business Apps=%{marker.size}<extra></extra>",
         "legendgroup": "Illinois",
         "marker": {
          "color": "#ab63fa",
          "size": [
           169449
          ],
          "sizemode": "area",
          "sizeref": 168.6886111111111,
          "symbol": "circle"
         },
         "mode": "markers",
         "name": "Illinois",
         "orientation": "v",
         "showlegend": true,
         "type": "scatter",
         "x": [
          1033310.1
         ],
         "xaxis": "x",
         "y": [
          12
         ],
         "yaxis": "y"
        },
        {
         "hovertemplate": "States=Indiana<br>gdp=%{x}<br>min_wage=%{y}<br>Business Apps=%{marker.size}<extra></extra>",
         "legendgroup": "Indiana",
         "marker": {
          "color": "#FFA15A",
          "size": [
           82971
          ],
          "sizemode": "area",
          "sizeref": 168.6886111111111,
          "symbol": "circle"
         },
         "mode": "markers",
         "name": "Indiana",
         "orientation": "v",
         "showlegend": true,
         "type": "scatter",
         "x": [
          455750.2
         ],
         "xaxis": "x",
         "y": [
          7.25
         ],
         "yaxis": "y"
        },
        {
         "hovertemplate": "States=Iowa<br>gdp=%{x}<br>min_wage=%{y}<br>Business Apps=%{marker.size}<extra></extra>",
         "legendgroup": "Iowa",
         "marker": {
          "color": "#19d3f3",
          "size": [
           29762
          ],
          "sizemode": "area",
          "sizeref": 168.6886111111111,
          "symbol": "circle"
         },
         "mode": "markers",
         "name": "Iowa",
         "orientation": "v",
         "showlegend": true,
         "type": "scatter",
         "x": [
          231107.8
         ],
         "xaxis": "x",
         "y": [
          7.25
         ],
         "yaxis": "y"
        },
        {
         "hovertemplate": "States=Kansas<br>gdp=%{x}<br>min_wage=%{y}<br>Business Apps=%{marker.size}<extra></extra>",
         "legendgroup": "Kansas",
         "marker": {
          "color": "#FF6692",
          "size": [
           30861
          ],
          "sizemode": "area",
          "sizeref": 168.6886111111111,
          "symbol": "circle"
         },
         "mode": "markers",
         "name": "Kansas",
         "orientation": "v",
         "showlegend": true,
         "type": "scatter",
         "x": [
          210670.5
         ],
         "xaxis": "x",
         "y": [
          7.25
         ],
         "yaxis": "y"
        },
        {
         "hovertemplate": "States=Kentucky<br>gdp=%{x}<br>min_wage=%{y}<br>Business Apps=%{marker.size}<extra></extra>",
         "legendgroup": "Kentucky",
         "marker": {
          "color": "#B6E880",
          "size": [
           46553
          ],
          "sizemode": "area",
          "sizeref": 168.6886111111111,
          "symbol": "circle"
         },
         "mode": "markers",
         "name": "Kentucky",
         "orientation": "v",
         "showlegend": true,
         "type": "scatter",
         "x": [
          260304.1
         ],
         "xaxis": "x",
         "y": [
          7.25
         ],
         "yaxis": "y"
        },
        {
         "hovertemplate": "States=Louisiana<br>gdp=%{x}<br>min_wage=%{y}<br>Business Apps=%{marker.size}<extra></extra>",
         "legendgroup": "Louisiana",
         "marker": {
          "color": "#FF97FF",
          "size": [
           80385
          ],
          "sizemode": "area",
          "sizeref": 168.6886111111111,
          "symbol": "circle"
         },
         "mode": "markers",
         "name": "Louisiana",
         "orientation": "v",
         "showlegend": true,
         "type": "scatter",
         "x": [
          281429.3
         ],
         "xaxis": "x",
         "y": [
          7.25
         ],
         "yaxis": "y"
        },
        {
         "hovertemplate": "States=Maine<br>gdp=%{x}<br>min_wage=%{y}<br>Business Apps=%{marker.size}<extra></extra>",
         "legendgroup": "Maine",
         "marker": {
          "color": "#FECB52",
          "size": [
           12917
          ],
          "sizemode": "area",
          "sizeref": 168.6886111111111,
          "symbol": "circle"
         },
         "mode": "markers",
         "name": "Maine",
         "orientation": "v",
         "showlegend": true,
         "type": "scatter",
         "x": [
          84497.5
         ],
         "xaxis": "x",
         "y": [
          12.75
         ],
         "yaxis": "y"
        },
        {
         "hovertemplate": "States=Maryland<br>gdp=%{x}<br>min_wage=%{y}<br>Business Apps=%{marker.size}<extra></extra>",
         "legendgroup": "Maryland",
         "marker": {
          "color": "#636efa",
          "size": [
           99078
          ],
          "sizemode": "area",
          "sizeref": 168.6886111111111,
          "symbol": "circle"
         },
         "mode": "markers",
         "name": "Maryland",
         "orientation": "v",
         "showlegend": true,
         "type": "scatter",
         "x": [
          470187.1
         ],
         "xaxis": "x",
         "y": [
          12.5
         ],
         "yaxis": "y"
        },
        {
         "hovertemplate": "States=Massachusetts<br>gdp=%{x}<br>min_wage=%{y}<br>Business Apps=%{marker.size}<extra></extra>",
         "legendgroup": "Massachusetts",
         "marker": {
          "color": "#EF553B",
          "size": [
           71112
          ],
          "sizemode": "area",
          "sizeref": 168.6886111111111,
          "symbol": "circle"
         },
         "mode": "markers",
         "name": "Massachusetts",
         "orientation": "v",
         "showlegend": true,
         "type": "scatter",
         "x": [
          688391.6
         ],
         "xaxis": "x",
         "y": [
          14.25
         ],
         "yaxis": "y"
        },
        {
         "hovertemplate": "States=Michigan<br>gdp=%{x}<br>min_wage=%{y}<br>Business Apps=%{marker.size}<extra></extra>",
         "legendgroup": "Michigan",
         "marker": {
          "color": "#00cc96",
          "size": [
           136794
          ],
          "sizemode": "area",
          "sizeref": 168.6886111111111,
          "symbol": "circle"
         },
         "mode": "markers",
         "name": "Michigan",
         "orientation": "v",
         "showlegend": true,
         "type": "scatter",
         "x": [
          620695.6
         ],
         "xaxis": "x",
         "y": [
          9.87
         ],
         "yaxis": "y"
        },
        {
         "hovertemplate": "States=Minnesota<br>gdp=%{x}<br>min_wage=%{y}<br>Business Apps=%{marker.size}<extra></extra>",
         "legendgroup": "Minnesota",
         "marker": {
          "color": "#ab63fa",
          "size": [
           60878
          ],
          "sizemode": "area",
          "sizeref": 168.6886111111111,
          "symbol": "circle"
         },
         "mode": "markers",
         "name": "Minnesota",
         "orientation": "v",
         "showlegend": true,
         "type": "scatter",
         "x": [
          446499.5
         ],
         "xaxis": "x",
         "y": [
          10.33
         ],
         "yaxis": "y"
        },
        {
         "hovertemplate": "States=Mississippi<br>gdp=%{x}<br>min_wage=%{y}<br>Business Apps=%{marker.size}<extra></extra>",
         "legendgroup": "Mississippi",
         "marker": {
          "color": "#FFA15A",
          "size": [
           55663
          ],
          "sizemode": "area",
          "sizeref": 168.6886111111111,
          "symbol": "circle"
         },
         "mode": "markers",
         "name": "Mississippi",
         "orientation": "v",
         "showlegend": true,
         "type": "scatter",
         "x": [
          138739.7
         ],
         "xaxis": "x",
         "y": [
          7.25
         ],
         "yaxis": "y"
        },
        {
         "hovertemplate": "States=Missouri<br>gdp=%{x}<br>min_wage=%{y}<br>Business Apps=%{marker.size}<extra></extra>",
         "legendgroup": "Missouri",
         "marker": {
          "color": "#19d3f3",
          "size": [
           80770
          ],
          "sizemode": "area",
          "sizeref": 168.6886111111111,
          "symbol": "circle"
         },
         "mode": "markers",
         "name": "Missouri",
         "orientation": "v",
         "showlegend": true,
         "type": "scatter",
         "x": [
          389931.2
         ],
         "xaxis": "x",
         "y": [
          11.15
         ],
         "yaxis": "y"
        },
        {
         "hovertemplate": "States=Montana<br>gdp=%{x}<br>min_wage=%{y}<br>Business Apps=%{marker.size}<extra></extra>",
         "legendgroup": "Montana",
         "marker": {
          "color": "#FF6692",
          "size": [
           20527
          ],
          "sizemode": "area",
          "sizeref": 168.6886111111111,
          "symbol": "circle"
         },
         "mode": "markers",
         "name": "Montana",
         "orientation": "v",
         "showlegend": true,
         "type": "scatter",
         "x": [
          65014.5
         ],
         "xaxis": "x",
         "y": [
          9.2
         ],
         "yaxis": "y"
        },
        {
         "hovertemplate": "States=Nebraska<br>gdp=%{x}<br>min_wage=%{y}<br>Business Apps=%{marker.size}<extra></extra>",
         "legendgroup": "Nebraska",
         "marker": {
          "color": "#B6E880",
          "size": [
           20386
          ],
          "sizemode": "area",
          "sizeref": 168.6886111111111,
          "symbol": "circle"
         },
         "mode": "markers",
         "name": "Nebraska",
         "orientation": "v",
         "showlegend": true,
         "type": "scatter",
         "x": [
          161702
         ],
         "xaxis": "x",
         "y": [
          9
         ],
         "yaxis": "y"
        },
        {
         "hovertemplate": "States=Nevada<br>gdp=%{x}<br>min_wage=%{y}<br>Business Apps=%{marker.size}<extra></extra>",
         "legendgroup": "Nevada",
         "marker": {
          "color": "#FF97FF",
          "size": [
           61820
          ],
          "sizemode": "area",
          "sizeref": 168.6886111111111,
          "symbol": "circle"
         },
         "mode": "markers",
         "name": "Nevada",
         "orientation": "v",
         "showlegend": true,
         "type": "scatter",
         "x": [
          215917.8
         ],
         "xaxis": "x",
         "y": [
          10.5
         ],
         "yaxis": "y"
        },
        {
         "hovertemplate": "States=New Hampshire<br>gdp=%{x}<br>min_wage=%{y}<br>Business Apps=%{marker.size}<extra></extra>",
         "legendgroup": "New Hampshire",
         "marker": {
          "color": "#FECB52",
          "size": [
           13893
          ],
          "sizemode": "area",
          "sizeref": 168.6886111111111,
          "symbol": "circle"
         },
         "mode": "markers",
         "name": "New Hampshire",
         "orientation": "v",
         "showlegend": true,
         "type": "scatter",
         "x": [
          105414.4
         ],
         "xaxis": "x",
         "y": [
          7.25
         ],
         "yaxis": "y"
        },
        {
         "hovertemplate": "States=New Jersey<br>gdp=%{x}<br>min_wage=%{y}<br>Business Apps=%{marker.size}<extra></extra>",
         "legendgroup": "New Jersey",
         "marker": {
          "color": "#636efa",
          "size": [
           154032
          ],
          "sizemode": "area",
          "sizeref": 168.6886111111111,
          "symbol": "circle"
         },
         "mode": "markers",
         "name": "New Jersey",
         "orientation": "v",
         "showlegend": true,
         "type": "scatter",
         "x": [
          745422.2
         ],
         "xaxis": "x",
         "y": [
          13
         ],
         "yaxis": "y"
        },
        {
         "hovertemplate": "States=New Mexico<br>gdp=%{x}<br>min_wage=%{y}<br>Business Apps=%{marker.size}<extra></extra>",
         "legendgroup": "New Mexico",
         "marker": {
          "color": "#EF553B",
          "size": [
           26969
          ],
          "sizemode": "area",
          "sizeref": 168.6886111111111,
          "symbol": "circle"
         },
         "mode": "markers",
         "name": "New Mexico",
         "orientation": "v",
         "showlegend": true,
         "type": "scatter",
         "x": [
          122114.8
         ],
         "xaxis": "x",
         "y": [
          11.5
         ],
         "yaxis": "y"
        },
        {
         "hovertemplate": "States=New York<br>gdp=%{x}<br>min_wage=%{y}<br>Business Apps=%{marker.size}<extra></extra>",
         "legendgroup": "New York",
         "marker": {
          "color": "#00cc96",
          "size": [
           298059
          ],
          "sizemode": "area",
          "sizeref": 168.6886111111111,
          "symbol": "circle"
         },
         "mode": "markers",
         "name": "New York",
         "orientation": "v",
         "showlegend": true,
         "type": "scatter",
         "x": [
          2053179.7
         ],
         "xaxis": "x",
         "y": [
          13.2
         ],
         "yaxis": "y"
        },
        {
         "hovertemplate": "States=North Carolina <br>gdp=%{x}<br>min_wage=%{y}<br>Business Apps=%{marker.size}<extra></extra>",
         "legendgroup": "North Carolina ",
         "marker": {
          "color": "#ab63fa",
          "size": [
           163763
          ],
          "sizemode": "area",
          "sizeref": 168.6886111111111,
          "symbol": "circle"
         },
         "mode": "markers",
         "name": "North Carolina ",
         "orientation": "v",
         "showlegend": true,
         "type": "scatter",
         "x": [
          730072.4
         ],
         "xaxis": "x",
         "y": [
          7.25
         ],
         "yaxis": "y"
        },
        {
         "hovertemplate": "States=North Dakota<br>gdp=%{x}<br>min_wage=%{y}<br>Business Apps=%{marker.size}<extra></extra>",
         "legendgroup": "North Dakota",
         "marker": {
          "color": "#FFA15A",
          "size": [
           7940
          ],
          "sizemode": "area",
          "sizeref": 168.6886111111111,
          "symbol": "circle"
         },
         "mode": "markers",
         "name": "North Dakota",
         "orientation": "v",
         "showlegend": true,
         "type": "scatter",
         "x": [
          73267.1
         ],
         "xaxis": "x",
         "y": [
          7.25
         ],
         "yaxis": "y"
        },
        {
         "hovertemplate": "States=Ohio <br>gdp=%{x}<br>min_wage=%{y}<br>Business Apps=%{marker.size}<extra></extra>",
         "legendgroup": "Ohio ",
         "marker": {
          "color": "#19d3f3",
          "size": [
           139706
          ],
          "sizemode": "area",
          "sizeref": 168.6886111111111,
          "symbol": "circle"
         },
         "mode": "markers",
         "name": "Ohio ",
         "orientation": "v",
         "showlegend": true,
         "type": "scatter",
         "x": [
          822669.7
         ],
         "xaxis": "x",
         "y": [
          9.3
         ],
         "yaxis": "y"
        },
        {
         "hovertemplate": "States=Oklahoma<br>gdp=%{x}<br>min_wage=%{y}<br>Business Apps=%{marker.size}<extra></extra>",
         "legendgroup": "Oklahoma",
         "marker": {
          "color": "#FF6692",
          "size": [
           55020
          ],
          "sizemode": "area",
          "sizeref": 168.6886111111111,
          "symbol": "circle"
         },
         "mode": "markers",
         "name": "Oklahoma",
         "orientation": "v",
         "showlegend": true,
         "type": "scatter",
         "x": [
          240534.3
         ],
         "xaxis": "x",
         "y": [
          7.25
         ],
         "yaxis": "y"
        },
        {
         "hovertemplate": "States=Oregon<br>gdp=%{x}<br>min_wage=%{y}<br>Business Apps=%{marker.size}<extra></extra>",
         "legendgroup": "Oregon",
         "marker": {
          "color": "#B6E880",
          "size": [
           49277
          ],
          "sizemode": "area",
          "sizeref": 168.6886111111111,
          "symbol": "circle"
         },
         "mode": "markers",
         "name": "Oregon",
         "orientation": "v",
         "showlegend": true,
         "type": "scatter",
         "x": [
          299125.5
         ],
         "xaxis": "x",
         "y": [
          13.5
         ],
         "yaxis": "y"
        },
        {
         "hovertemplate": "States=Pennsylvania<br>gdp=%{x}<br>min_wage=%{y}<br>Business Apps=%{marker.size}<extra></extra>",
         "legendgroup": "Pennsylvania",
         "marker": {
          "color": "#FF97FF",
          "size": [
           138402
          ],
          "sizemode": "area",
          "sizeref": 168.6886111111111,
          "symbol": "circle"
         },
         "mode": "markers",
         "name": "Pennsylvania",
         "orientation": "v",
         "showlegend": true,
         "type": "scatter",
         "x": [
          923088.8
         ],
         "xaxis": "x",
         "y": [
          7.25
         ],
         "yaxis": "y"
        },
        {
         "hovertemplate": "States=Rhode Island<br>gdp=%{x}<br>min_wage=%{y}<br>Business Apps=%{marker.size}<extra></extra>",
         "legendgroup": "Rhode Island",
         "marker": {
          "color": "#FECB52",
          "size": [
           10876
          ],
          "sizemode": "area",
          "sizeref": 168.6886111111111,
          "symbol": "circle"
         },
         "mode": "markers",
         "name": "Rhode Island",
         "orientation": "v",
         "showlegend": true,
         "type": "scatter",
         "x": [
          71402.2
         ],
         "xaxis": "x",
         "y": [
          12.25
         ],
         "yaxis": "y"
        },
        {
         "hovertemplate": "States=South Carolina<br>gdp=%{x}<br>min_wage=%{y}<br>Business Apps=%{marker.size}<extra></extra>",
         "legendgroup": "South Carolina",
         "marker": {
          "color": "#636efa",
          "size": [
           90534
          ],
          "sizemode": "area",
          "sizeref": 168.6886111111111,
          "symbol": "circle"
         },
         "mode": "markers",
         "name": "South Carolina",
         "orientation": "v",
         "showlegend": true,
         "type": "scatter",
         "x": [
          295880.5
         ],
         "xaxis": "x",
         "y": [
          7.25
         ],
         "yaxis": "y"
        },
        {
         "hovertemplate": "States=South Dakota<br>gdp=%{x}<br>min_wage=%{y}<br>Business Apps=%{marker.size}<extra></extra>",
         "legendgroup": "South Dakota",
         "marker": {
          "color": "#EF553B",
          "size": [
           10365
          ],
          "sizemode": "area",
          "sizeref": 168.6886111111111,
          "symbol": "circle"
         },
         "mode": "markers",
         "name": "South Dakota",
         "orientation": "v",
         "showlegend": true,
         "type": "scatter",
         "x": [
          67570.7
         ],
         "xaxis": "x",
         "y": [
          9.95
         ],
         "yaxis": "y"
        },
        {
         "hovertemplate": "States=Tennessee<br>gdp=%{x}<br>min_wage=%{y}<br>Business Apps=%{marker.size}<extra></extra>",
         "legendgroup": "Tennessee",
         "marker": {
          "color": "#00cc96",
          "size": [
           91283
          ],
          "sizemode": "area",
          "sizeref": 168.6886111111111,
          "symbol": "circle"
         },
         "mode": "markers",
         "name": "Tennessee",
         "orientation": "v",
         "showlegend": true,
         "type": "scatter",
         "x": [
          475755.1
         ],
         "xaxis": "x",
         "y": [
          7.25
         ],
         "yaxis": "y"
        },
        {
         "hovertemplate": "States=Texas<br>gdp=%{x}<br>min_wage=%{y}<br>Business Apps=%{marker.size}<extra></extra>",
         "legendgroup": "Texas",
         "marker": {
          "color": "#ab63fa",
          "size": [
           464959
          ],
          "sizemode": "area",
          "sizeref": 168.6886111111111,
          "symbol": "circle"
         },
         "mode": "markers",
         "name": "Texas",
         "orientation": "v",
         "showlegend": true,
         "type": "scatter",
         "x": [
          2355959.7
         ],
         "xaxis": "x",
         "y": [
          7.25
         ],
         "yaxis": "y"
        },
        {
         "hovertemplate": "States=Utah<br>gdp=%{x}<br>min_wage=%{y}<br>Business Apps=%{marker.size}<extra></extra>",
         "legendgroup": "Utah",
         "marker": {
          "color": "#FFA15A",
          "size": [
           65064
          ],
          "sizemode": "area",
          "sizeref": 168.6886111111111,
          "symbol": "circle"
         },
         "mode": "markers",
         "name": "Utah",
         "orientation": "v",
         "showlegend": true,
         "type": "scatter",
         "x": [
          248176.3
         ],
         "xaxis": "x",
         "y": [
          7.25
         ],
         "yaxis": "y"
        },
        {
         "hovertemplate": "States=Vermont<br>gdp=%{x}<br>min_wage=%{y}<br>Business Apps=%{marker.size}<extra></extra>",
         "legendgroup": "Vermont",
         "marker": {
          "color": "#19d3f3",
          "size": [
           7461
          ],
          "sizemode": "area",
          "sizeref": 168.6886111111111,
          "symbol": "circle"
         },
         "mode": "markers",
         "name": "Vermont",
         "orientation": "v",
         "showlegend": true,
         "type": "scatter",
         "x": [
          40617.1
         ],
         "xaxis": "x",
         "y": [
          12.55
         ],
         "yaxis": "y"
        },
        {
         "hovertemplate": "States=Virginia<br>gdp=%{x}<br>min_wage=%{y}<br>Business Apps=%{marker.size}<extra></extra>",
         "legendgroup": "Virginia",
         "marker": {
          "color": "#FF6692",
          "size": [
           123426
          ],
          "sizemode": "area",
          "sizeref": 168.6886111111111,
          "symbol": "circle"
         },
         "mode": "markers",
         "name": "Virginia",
         "orientation": "v",
         "showlegend": true,
         "type": "scatter",
         "x": [
          649392.6
         ],
         "xaxis": "x",
         "y": [
          11
         ],
         "yaxis": "y"
        },
        {
         "hovertemplate": "States=Washington<br>gdp=%{x}<br>min_wage=%{y}<br>Business Apps=%{marker.size}<extra></extra>",
         "legendgroup": "Washington",
         "marker": {
          "color": "#B6E880",
          "size": [
           88376
          ],
          "sizemode": "area",
          "sizeref": 168.6886111111111,
          "symbol": "circle"
         },
         "mode": "markers",
         "name": "Washington",
         "orientation": "v",
         "showlegend": true,
         "type": "scatter",
         "x": [
          725513.5
         ],
         "xaxis": "x",
         "y": [
          14.49
         ],
         "yaxis": "y"
        },
        {
         "hovertemplate": "States=West Virginia<br>gdp=%{x}<br>min_wage=%{y}<br>Business Apps=%{marker.size}<extra></extra>",
         "legendgroup": "West Virginia",
         "marker": {
          "color": "#FF97FF",
          "size": [
           13770
          ],
          "sizemode": "area",
          "sizeref": 168.6886111111111,
          "symbol": "circle"
         },
         "mode": "markers",
         "name": "West Virginia",
         "orientation": "v",
         "showlegend": true,
         "type": "scatter",
         "x": [
          95588.4
         ],
         "xaxis": "x",
         "y": [
          8.75
         ],
         "yaxis": "y"
        },
        {
         "hovertemplate": "States=Wisconsin <br>gdp=%{x}<br>min_wage=%{y}<br>Business Apps=%{marker.size}<extra></extra>",
         "legendgroup": "Wisconsin ",
         "marker": {
          "color": "#FECB52",
          "size": [
           64151
          ],
          "sizemode": "area",
          "sizeref": 168.6886111111111,
          "symbol": "circle"
         },
         "mode": "markers",
         "name": "Wisconsin ",
         "orientation": "v",
         "showlegend": true,
         "type": "scatter",
         "x": [
          401791.5
         ],
         "xaxis": "x",
         "y": [
          7.25
         ],
         "yaxis": "y"
        },
        {
         "hovertemplate": "States=Wyoming<br>gdp=%{x}<br>min_wage=%{y}<br>Business Apps=%{marker.size}<extra></extra>",
         "legendgroup": "Wyoming",
         "marker": {
          "color": "#636efa",
          "size": [
           41561
          ],
          "sizemode": "area",
          "sizeref": 168.6886111111111,
          "symbol": "circle"
         },
         "mode": "markers",
         "name": "Wyoming",
         "orientation": "v",
         "showlegend": true,
         "type": "scatter",
         "x": [
          47432.5
         ],
         "xaxis": "x",
         "y": [
          7.25
         ],
         "yaxis": "y"
        }
       ],
       "layout": {
        "legend": {
         "itemsizing": "constant",
         "title": {
          "text": "States"
         },
         "tracegroupgap": 0
        },
        "template": {
         "data": {
          "bar": [
           {
            "error_x": {
             "color": "#2a3f5f"
            },
            "error_y": {
             "color": "#2a3f5f"
            },
            "marker": {
             "line": {
              "color": "#E5ECF6",
              "width": 0.5
             },
             "pattern": {
              "fillmode": "overlay",
              "size": 10,
              "solidity": 0.2
             }
            },
            "type": "bar"
           }
          ],
          "barpolar": [
           {
            "marker": {
             "line": {
              "color": "#E5ECF6",
              "width": 0.5
             },
             "pattern": {
              "fillmode": "overlay",
              "size": 10,
              "solidity": 0.2
             }
            },
            "type": "barpolar"
           }
          ],
          "carpet": [
           {
            "aaxis": {
             "endlinecolor": "#2a3f5f",
             "gridcolor": "white",
             "linecolor": "white",
             "minorgridcolor": "white",
             "startlinecolor": "#2a3f5f"
            },
            "baxis": {
             "endlinecolor": "#2a3f5f",
             "gridcolor": "white",
             "linecolor": "white",
             "minorgridcolor": "white",
             "startlinecolor": "#2a3f5f"
            },
            "type": "carpet"
           }
          ],
          "choropleth": [
           {
            "colorbar": {
             "outlinewidth": 0,
             "ticks": ""
            },
            "type": "choropleth"
           }
          ],
          "contour": [
           {
            "colorbar": {
             "outlinewidth": 0,
             "ticks": ""
            },
            "colorscale": [
             [
              0,
              "#0d0887"
             ],
             [
              0.1111111111111111,
              "#46039f"
             ],
             [
              0.2222222222222222,
              "#7201a8"
             ],
             [
              0.3333333333333333,
              "#9c179e"
             ],
             [
              0.4444444444444444,
              "#bd3786"
             ],
             [
              0.5555555555555556,
              "#d8576b"
             ],
             [
              0.6666666666666666,
              "#ed7953"
             ],
             [
              0.7777777777777778,
              "#fb9f3a"
             ],
             [
              0.8888888888888888,
              "#fdca26"
             ],
             [
              1,
              "#f0f921"
             ]
            ],
            "type": "contour"
           }
          ],
          "contourcarpet": [
           {
            "colorbar": {
             "outlinewidth": 0,
             "ticks": ""
            },
            "type": "contourcarpet"
           }
          ],
          "heatmap": [
           {
            "colorbar": {
             "outlinewidth": 0,
             "ticks": ""
            },
            "colorscale": [
             [
              0,
              "#0d0887"
             ],
             [
              0.1111111111111111,
              "#46039f"
             ],
             [
              0.2222222222222222,
              "#7201a8"
             ],
             [
              0.3333333333333333,
              "#9c179e"
             ],
             [
              0.4444444444444444,
              "#bd3786"
             ],
             [
              0.5555555555555556,
              "#d8576b"
             ],
             [
              0.6666666666666666,
              "#ed7953"
             ],
             [
              0.7777777777777778,
              "#fb9f3a"
             ],
             [
              0.8888888888888888,
              "#fdca26"
             ],
             [
              1,
              "#f0f921"
             ]
            ],
            "type": "heatmap"
           }
          ],
          "heatmapgl": [
           {
            "colorbar": {
             "outlinewidth": 0,
             "ticks": ""
            },
            "colorscale": [
             [
              0,
              "#0d0887"
             ],
             [
              0.1111111111111111,
              "#46039f"
             ],
             [
              0.2222222222222222,
              "#7201a8"
             ],
             [
              0.3333333333333333,
              "#9c179e"
             ],
             [
              0.4444444444444444,
              "#bd3786"
             ],
             [
              0.5555555555555556,
              "#d8576b"
             ],
             [
              0.6666666666666666,
              "#ed7953"
             ],
             [
              0.7777777777777778,
              "#fb9f3a"
             ],
             [
              0.8888888888888888,
              "#fdca26"
             ],
             [
              1,
              "#f0f921"
             ]
            ],
            "type": "heatmapgl"
           }
          ],
          "histogram": [
           {
            "marker": {
             "pattern": {
              "fillmode": "overlay",
              "size": 10,
              "solidity": 0.2
             }
            },
            "type": "histogram"
           }
          ],
          "histogram2d": [
           {
            "colorbar": {
             "outlinewidth": 0,
             "ticks": ""
            },
            "colorscale": [
             [
              0,
              "#0d0887"
             ],
             [
              0.1111111111111111,
              "#46039f"
             ],
             [
              0.2222222222222222,
              "#7201a8"
             ],
             [
              0.3333333333333333,
              "#9c179e"
             ],
             [
              0.4444444444444444,
              "#bd3786"
             ],
             [
              0.5555555555555556,
              "#d8576b"
             ],
             [
              0.6666666666666666,
              "#ed7953"
             ],
             [
              0.7777777777777778,
              "#fb9f3a"
             ],
             [
              0.8888888888888888,
              "#fdca26"
             ],
             [
              1,
              "#f0f921"
             ]
            ],
            "type": "histogram2d"
           }
          ],
          "histogram2dcontour": [
           {
            "colorbar": {
             "outlinewidth": 0,
             "ticks": ""
            },
            "colorscale": [
             [
              0,
              "#0d0887"
             ],
             [
              0.1111111111111111,
              "#46039f"
             ],
             [
              0.2222222222222222,
              "#7201a8"
             ],
             [
              0.3333333333333333,
              "#9c179e"
             ],
             [
              0.4444444444444444,
              "#bd3786"
             ],
             [
              0.5555555555555556,
              "#d8576b"
             ],
             [
              0.6666666666666666,
              "#ed7953"
             ],
             [
              0.7777777777777778,
              "#fb9f3a"
             ],
             [
              0.8888888888888888,
              "#fdca26"
             ],
             [
              1,
              "#f0f921"
             ]
            ],
            "type": "histogram2dcontour"
           }
          ],
          "mesh3d": [
           {
            "colorbar": {
             "outlinewidth": 0,
             "ticks": ""
            },
            "type": "mesh3d"
           }
          ],
          "parcoords": [
           {
            "line": {
             "colorbar": {
              "outlinewidth": 0,
              "ticks": ""
             }
            },
            "type": "parcoords"
           }
          ],
          "pie": [
           {
            "automargin": true,
            "type": "pie"
           }
          ],
          "scatter": [
           {
            "fillpattern": {
             "fillmode": "overlay",
             "size": 10,
             "solidity": 0.2
            },
            "type": "scatter"
           }
          ],
          "scatter3d": [
           {
            "line": {
             "colorbar": {
              "outlinewidth": 0,
              "ticks": ""
             }
            },
            "marker": {
             "colorbar": {
              "outlinewidth": 0,
              "ticks": ""
             }
            },
            "type": "scatter3d"
           }
          ],
          "scattercarpet": [
           {
            "marker": {
             "colorbar": {
              "outlinewidth": 0,
              "ticks": ""
             }
            },
            "type": "scattercarpet"
           }
          ],
          "scattergeo": [
           {
            "marker": {
             "colorbar": {
              "outlinewidth": 0,
              "ticks": ""
             }
            },
            "type": "scattergeo"
           }
          ],
          "scattergl": [
           {
            "marker": {
             "colorbar": {
              "outlinewidth": 0,
              "ticks": ""
             }
            },
            "type": "scattergl"
           }
          ],
          "scattermapbox": [
           {
            "marker": {
             "colorbar": {
              "outlinewidth": 0,
              "ticks": ""
             }
            },
            "type": "scattermapbox"
           }
          ],
          "scatterpolar": [
           {
            "marker": {
             "colorbar": {
              "outlinewidth": 0,
              "ticks": ""
             }
            },
            "type": "scatterpolar"
           }
          ],
          "scatterpolargl": [
           {
            "marker": {
             "colorbar": {
              "outlinewidth": 0,
              "ticks": ""
             }
            },
            "type": "scatterpolargl"
           }
          ],
          "scatterternary": [
           {
            "marker": {
             "colorbar": {
              "outlinewidth": 0,
              "ticks": ""
             }
            },
            "type": "scatterternary"
           }
          ],
          "surface": [
           {
            "colorbar": {
             "outlinewidth": 0,
             "ticks": ""
            },
            "colorscale": [
             [
              0,
              "#0d0887"
             ],
             [
              0.1111111111111111,
              "#46039f"
             ],
             [
              0.2222222222222222,
              "#7201a8"
             ],
             [
              0.3333333333333333,
              "#9c179e"
             ],
             [
              0.4444444444444444,
              "#bd3786"
             ],
             [
              0.5555555555555556,
              "#d8576b"
             ],
             [
              0.6666666666666666,
              "#ed7953"
             ],
             [
              0.7777777777777778,
              "#fb9f3a"
             ],
             [
              0.8888888888888888,
              "#fdca26"
             ],
             [
              1,
              "#f0f921"
             ]
            ],
            "type": "surface"
           }
          ],
          "table": [
           {
            "cells": {
             "fill": {
              "color": "#EBF0F8"
             },
             "line": {
              "color": "white"
             }
            },
            "header": {
             "fill": {
              "color": "#C8D4E3"
             },
             "line": {
              "color": "white"
             }
            },
            "type": "table"
           }
          ]
         },
         "layout": {
          "annotationdefaults": {
           "arrowcolor": "#2a3f5f",
           "arrowhead": 0,
           "arrowwidth": 1
          },
          "autotypenumbers": "strict",
          "coloraxis": {
           "colorbar": {
            "outlinewidth": 0,
            "ticks": ""
           }
          },
          "colorscale": {
           "diverging": [
            [
             0,
             "#8e0152"
            ],
            [
             0.1,
             "#c51b7d"
            ],
            [
             0.2,
             "#de77ae"
            ],
            [
             0.3,
             "#f1b6da"
            ],
            [
             0.4,
             "#fde0ef"
            ],
            [
             0.5,
             "#f7f7f7"
            ],
            [
             0.6,
             "#e6f5d0"
            ],
            [
             0.7,
             "#b8e186"
            ],
            [
             0.8,
             "#7fbc41"
            ],
            [
             0.9,
             "#4d9221"
            ],
            [
             1,
             "#276419"
            ]
           ],
           "sequential": [
            [
             0,
             "#0d0887"
            ],
            [
             0.1111111111111111,
             "#46039f"
            ],
            [
             0.2222222222222222,
             "#7201a8"
            ],
            [
             0.3333333333333333,
             "#9c179e"
            ],
            [
             0.4444444444444444,
             "#bd3786"
            ],
            [
             0.5555555555555556,
             "#d8576b"
            ],
            [
             0.6666666666666666,
             "#ed7953"
            ],
            [
             0.7777777777777778,
             "#fb9f3a"
            ],
            [
             0.8888888888888888,
             "#fdca26"
            ],
            [
             1,
             "#f0f921"
            ]
           ],
           "sequentialminus": [
            [
             0,
             "#0d0887"
            ],
            [
             0.1111111111111111,
             "#46039f"
            ],
            [
             0.2222222222222222,
             "#7201a8"
            ],
            [
             0.3333333333333333,
             "#9c179e"
            ],
            [
             0.4444444444444444,
             "#bd3786"
            ],
            [
             0.5555555555555556,
             "#d8576b"
            ],
            [
             0.6666666666666666,
             "#ed7953"
            ],
            [
             0.7777777777777778,
             "#fb9f3a"
            ],
            [
             0.8888888888888888,
             "#fdca26"
            ],
            [
             1,
             "#f0f921"
            ]
           ]
          },
          "colorway": [
           "#636efa",
           "#EF553B",
           "#00cc96",
           "#ab63fa",
           "#FFA15A",
           "#19d3f3",
           "#FF6692",
           "#B6E880",
           "#FF97FF",
           "#FECB52"
          ],
          "font": {
           "color": "#2a3f5f"
          },
          "geo": {
           "bgcolor": "white",
           "lakecolor": "white",
           "landcolor": "#E5ECF6",
           "showlakes": true,
           "showland": true,
           "subunitcolor": "white"
          },
          "hoverlabel": {
           "align": "left"
          },
          "hovermode": "closest",
          "mapbox": {
           "style": "light"
          },
          "paper_bgcolor": "white",
          "plot_bgcolor": "#E5ECF6",
          "polar": {
           "angularaxis": {
            "gridcolor": "white",
            "linecolor": "white",
            "ticks": ""
           },
           "bgcolor": "#E5ECF6",
           "radialaxis": {
            "gridcolor": "white",
            "linecolor": "white",
            "ticks": ""
           }
          },
          "scene": {
           "xaxis": {
            "backgroundcolor": "#E5ECF6",
            "gridcolor": "white",
            "gridwidth": 2,
            "linecolor": "white",
            "showbackground": true,
            "ticks": "",
            "zerolinecolor": "white"
           },
           "yaxis": {
            "backgroundcolor": "#E5ECF6",
            "gridcolor": "white",
            "gridwidth": 2,
            "linecolor": "white",
            "showbackground": true,
            "ticks": "",
            "zerolinecolor": "white"
           },
           "zaxis": {
            "backgroundcolor": "#E5ECF6",
            "gridcolor": "white",
            "gridwidth": 2,
            "linecolor": "white",
            "showbackground": true,
            "ticks": "",
            "zerolinecolor": "white"
           }
          },
          "shapedefaults": {
           "line": {
            "color": "#2a3f5f"
           }
          },
          "ternary": {
           "aaxis": {
            "gridcolor": "white",
            "linecolor": "white",
            "ticks": ""
           },
           "baxis": {
            "gridcolor": "white",
            "linecolor": "white",
            "ticks": ""
           },
           "bgcolor": "#E5ECF6",
           "caxis": {
            "gridcolor": "white",
            "linecolor": "white",
            "ticks": ""
           }
          },
          "title": {
           "x": 0.05
          },
          "xaxis": {
           "automargin": true,
           "gridcolor": "white",
           "linecolor": "white",
           "ticks": "",
           "title": {
            "standoff": 15
           },
           "zerolinecolor": "white",
           "zerolinewidth": 2
          },
          "yaxis": {
           "automargin": true,
           "gridcolor": "white",
           "linecolor": "white",
           "ticks": "",
           "title": {
            "standoff": 15
           },
           "zerolinecolor": "white",
           "zerolinewidth": 2
          }
         }
        },
        "title": {
         "text": "State-wise business applications and tax rates in 2021"
        },
        "xaxis": {
         "anchor": "y",
         "domain": [
          0,
          1
         ],
         "title": {
          "text": "gdp"
         }
        },
        "yaxis": {
         "anchor": "x",
         "domain": [
          0,
          1
         ],
         "title": {
          "text": "min_wage"
         }
        }
       }
      },
      "text/html": [
       "<div>                            <div id=\"29405714-ecc2-45ca-b30c-3dcea4d4cc6d\" class=\"plotly-graph-div\" style=\"height:525px; width:100%;\"></div>            <script type=\"text/javascript\">                require([\"plotly\"], function(Plotly) {                    window.PLOTLYENV=window.PLOTLYENV || {};                                    if (document.getElementById(\"29405714-ecc2-45ca-b30c-3dcea4d4cc6d\")) {                    Plotly.newPlot(                        \"29405714-ecc2-45ca-b30c-3dcea4d4cc6d\",                        [{\"hovertemplate\":\"States=Alabama\\u003cbr\\u003egdp=%{x}\\u003cbr\\u003emin_wage=%{y}\\u003cbr\\u003eBusiness Apps=%{marker.size}\\u003cextra\\u003e\\u003c\\u002fextra\\u003e\",\"legendgroup\":\"Alabama\",\"marker\":{\"color\":\"#636efa\",\"size\":[70750],\"sizemode\":\"area\",\"sizeref\":168.6886111111111,\"symbol\":\"circle\"},\"mode\":\"markers\",\"name\":\"Alabama\",\"orientation\":\"v\",\"showlegend\":true,\"x\":[277817.5],\"xaxis\":\"x\",\"y\":[7.25],\"yaxis\":\"y\",\"type\":\"scatter\"},{\"hovertemplate\":\"States=Alaska\\u003cbr\\u003egdp=%{x}\\u003cbr\\u003emin_wage=%{y}\\u003cbr\\u003eBusiness Apps=%{marker.size}\\u003cextra\\u003e\\u003c\\u002fextra\\u003e\",\"legendgroup\":\"Alaska\",\"marker\":{\"color\":\"#EF553B\",\"size\":[8456],\"sizemode\":\"area\",\"sizeref\":168.6886111111111,\"symbol\":\"circle\"},\"mode\":\"markers\",\"name\":\"Alaska\",\"orientation\":\"v\",\"showlegend\":true,\"x\":[63618.0],\"xaxis\":\"x\",\"y\":[10.34],\"yaxis\":\"y\",\"type\":\"scatter\"},{\"hovertemplate\":\"States=Arizona\\u003cbr\\u003egdp=%{x}\\u003cbr\\u003emin_wage=%{y}\\u003cbr\\u003eBusiness Apps=%{marker.size}\\u003cextra\\u003e\\u003c\\u002fextra\\u003e\",\"legendgroup\":\"Arizona\",\"marker\":{\"color\":\"#00cc96\",\"size\":[115080],\"sizemode\":\"area\",\"sizeref\":168.6886111111111,\"symbol\":\"circle\"},\"mode\":\"markers\",\"name\":\"Arizona\",\"orientation\":\"v\",\"showlegend\":true,\"x\":[458949.8],\"xaxis\":\"x\",\"y\":[12.8],\"yaxis\":\"y\",\"type\":\"scatter\"},{\"hovertemplate\":\"States=Arkansas\\u003cbr\\u003egdp=%{x}\\u003cbr\\u003emin_wage=%{y}\\u003cbr\\u003eBusiness Apps=%{marker.size}\\u003cextra\\u003e\\u003c\\u002fextra\\u003e\",\"legendgroup\":\"Arkansas\",\"marker\":{\"color\":\"#ab63fa\",\"size\":[37562],\"sizemode\":\"area\",\"sizeref\":168.6886111111111,\"symbol\":\"circle\"},\"mode\":\"markers\",\"name\":\"Arkansas\",\"orientation\":\"v\",\"showlegend\":true,\"x\":[165220.6],\"xaxis\":\"x\",\"y\":[11.0],\"yaxis\":\"y\",\"type\":\"scatter\"},{\"hovertemplate\":\"States=California\\u003cbr\\u003egdp=%{x}\\u003cbr\\u003emin_wage=%{y}\\u003cbr\\u003eBusiness Apps=%{marker.size}\\u003cextra\\u003e\\u003c\\u002fextra\\u003e\",\"legendgroup\":\"California\",\"marker\":{\"color\":\"#FFA15A\",\"size\":[485954],\"sizemode\":\"area\",\"sizeref\":168.6886111111111,\"symbol\":\"circle\"},\"mode\":\"markers\",\"name\":\"California\",\"orientation\":\"v\",\"showlegend\":true,\"x\":[3598102.7],\"xaxis\":\"x\",\"y\":[15.0],\"yaxis\":\"y\",\"type\":\"scatter\"},{\"hovertemplate\":\"States=Colorado\\u003cbr\\u003egdp=%{x}\\u003cbr\\u003emin_wage=%{y}\\u003cbr\\u003eBusiness Apps=%{marker.size}\\u003cextra\\u003e\\u003c\\u002fextra\\u003e\",\"legendgroup\":\"Colorado\",\"marker\":{\"color\":\"#19d3f3\",\"size\":[115689],\"sizemode\":\"area\",\"sizeref\":168.6886111111111,\"symbol\":\"circle\"},\"mode\":\"markers\",\"name\":\"Colorado\",\"orientation\":\"v\",\"showlegend\":true,\"x\":[484371.5],\"xaxis\":\"x\",\"y\":[12.56],\"yaxis\":\"y\",\"type\":\"scatter\"},{\"hovertemplate\":\"States=Connecticut\\u003cbr\\u003egdp=%{x}\\u003cbr\\u003emin_wage=%{y}\\u003cbr\\u003eBusiness Apps=%{marker.size}\\u003cextra\\u003e\\u003c\\u002fextra\\u003e\",\"legendgroup\":\"Connecticut\",\"marker\":{\"color\":\"#FF6692\",\"size\":[44568],\"sizemode\":\"area\",\"sizeref\":168.6886111111111,\"symbol\":\"circle\"},\"mode\":\"markers\",\"name\":\"Connecticut\",\"orientation\":\"v\",\"showlegend\":true,\"x\":[321844.6],\"xaxis\":\"x\",\"y\":[14.0],\"yaxis\":\"y\",\"type\":\"scatter\"},{\"hovertemplate\":\"States=Delaware\\u003cbr\\u003egdp=%{x}\\u003cbr\\u003emin_wage=%{y}\\u003cbr\\u003eBusiness Apps=%{marker.size}\\u003cextra\\u003e\\u003c\\u002fextra\\u003e\",\"legendgroup\":\"Delaware\",\"marker\":{\"color\":\"#B6E880\",\"size\":[45471],\"sizemode\":\"area\",\"sizeref\":168.6886111111111,\"symbol\":\"circle\"},\"mode\":\"markers\",\"name\":\"Delaware\",\"orientation\":\"v\",\"showlegend\":true,\"x\":[87524.8],\"xaxis\":\"x\",\"y\":[10.5],\"yaxis\":\"y\",\"type\":\"scatter\"},{\"hovertemplate\":\"States=District of Columbia\\u003cbr\\u003egdp=%{x}\\u003cbr\\u003emin_wage=%{y}\\u003cbr\\u003eBusiness Apps=%{marker.size}\\u003cextra\\u003e\\u003c\\u002fextra\\u003e\",\"legendgroup\":\"District of Columbia\",\"marker\":{\"color\":\"#FF97FF\",\"size\":[14286],\"sizemode\":\"area\",\"sizeref\":168.6886111111111,\"symbol\":\"circle\"},\"mode\":\"markers\",\"name\":\"District of Columbia\",\"orientation\":\"v\",\"showlegend\":true,\"x\":[162314.4],\"xaxis\":\"x\",\"y\":[16.1],\"yaxis\":\"y\",\"type\":\"scatter\"},{\"hovertemplate\":\"States=Florida\\u003cbr\\u003egdp=%{x}\\u003cbr\\u003emin_wage=%{y}\\u003cbr\\u003eBusiness Apps=%{marker.size}\\u003cextra\\u003e\\u003c\\u002fextra\\u003e\",\"legendgroup\":\"Florida\",\"marker\":{\"color\":\"#FECB52\",\"size\":[607279],\"sizemode\":\"area\",\"sizeref\":168.6886111111111,\"symbol\":\"circle\"},\"mode\":\"markers\",\"name\":\"Florida\",\"orientation\":\"v\",\"showlegend\":true,\"x\":[1389069.7],\"xaxis\":\"x\",\"y\":[11.0],\"yaxis\":\"y\",\"type\":\"scatter\"},{\"hovertemplate\":\"States=Georgia\\u003cbr\\u003egdp=%{x}\\u003cbr\\u003emin_wage=%{y}\\u003cbr\\u003eBusiness Apps=%{marker.size}\\u003cextra\\u003e\\u003c\\u002fextra\\u003e\",\"legendgroup\":\"Georgia\",\"marker\":{\"color\":\"#636efa\",\"size\":[272636],\"sizemode\":\"area\",\"sizeref\":168.6886111111111,\"symbol\":\"circle\"},\"mode\":\"markers\",\"name\":\"Georgia\",\"orientation\":\"v\",\"showlegend\":true,\"x\":[755697.9],\"xaxis\":\"x\",\"y\":[7.25],\"yaxis\":\"y\",\"type\":\"scatter\"},{\"hovertemplate\":\"States=Hawaii\\u003cbr\\u003egdp=%{x}\\u003cbr\\u003emin_wage=%{y}\\u003cbr\\u003eBusiness Apps=%{marker.size}\\u003cextra\\u003e\\u003c\\u002fextra\\u003e\",\"legendgroup\":\"Hawaii\",\"marker\":{\"color\":\"#EF553B\",\"size\":[18469],\"sizemode\":\"area\",\"sizeref\":168.6886111111111,\"symbol\":\"circle\"},\"mode\":\"markers\",\"name\":\"Hawaii\",\"orientation\":\"v\",\"showlegend\":true,\"x\":[98218.8],\"xaxis\":\"x\",\"y\":[12.0],\"yaxis\":\"y\",\"type\":\"scatter\"},{\"hovertemplate\":\"States=Idaho\\u003cbr\\u003egdp=%{x}\\u003cbr\\u003emin_wage=%{y}\\u003cbr\\u003eBusiness Apps=%{marker.size}\\u003cextra\\u003e\\u003c\\u002fextra\\u003e\",\"legendgroup\":\"Idaho\",\"marker\":{\"color\":\"#00cc96\",\"size\":[29683],\"sizemode\":\"area\",\"sizeref\":168.6886111111111,\"symbol\":\"circle\"},\"mode\":\"markers\",\"name\":\"Idaho\",\"orientation\":\"v\",\"showlegend\":true,\"x\":[109546.5],\"xaxis\":\"x\",\"y\":[7.25],\"yaxis\":\"y\",\"type\":\"scatter\"},{\"hovertemplate\":\"States=Illinois\\u003cbr\\u003egdp=%{x}\\u003cbr\\u003emin_wage=%{y}\\u003cbr\\u003eBusiness Apps=%{marker.size}\\u003cextra\\u003e\\u003c\\u002fextra\\u003e\",\"legendgroup\":\"Illinois\",\"marker\":{\"color\":\"#ab63fa\",\"size\":[169449],\"sizemode\":\"area\",\"sizeref\":168.6886111111111,\"symbol\":\"circle\"},\"mode\":\"markers\",\"name\":\"Illinois\",\"orientation\":\"v\",\"showlegend\":true,\"x\":[1033310.1],\"xaxis\":\"x\",\"y\":[12.0],\"yaxis\":\"y\",\"type\":\"scatter\"},{\"hovertemplate\":\"States=Indiana\\u003cbr\\u003egdp=%{x}\\u003cbr\\u003emin_wage=%{y}\\u003cbr\\u003eBusiness Apps=%{marker.size}\\u003cextra\\u003e\\u003c\\u002fextra\\u003e\",\"legendgroup\":\"Indiana\",\"marker\":{\"color\":\"#FFA15A\",\"size\":[82971],\"sizemode\":\"area\",\"sizeref\":168.6886111111111,\"symbol\":\"circle\"},\"mode\":\"markers\",\"name\":\"Indiana\",\"orientation\":\"v\",\"showlegend\":true,\"x\":[455750.2],\"xaxis\":\"x\",\"y\":[7.25],\"yaxis\":\"y\",\"type\":\"scatter\"},{\"hovertemplate\":\"States=Iowa\\u003cbr\\u003egdp=%{x}\\u003cbr\\u003emin_wage=%{y}\\u003cbr\\u003eBusiness Apps=%{marker.size}\\u003cextra\\u003e\\u003c\\u002fextra\\u003e\",\"legendgroup\":\"Iowa\",\"marker\":{\"color\":\"#19d3f3\",\"size\":[29762],\"sizemode\":\"area\",\"sizeref\":168.6886111111111,\"symbol\":\"circle\"},\"mode\":\"markers\",\"name\":\"Iowa\",\"orientation\":\"v\",\"showlegend\":true,\"x\":[231107.8],\"xaxis\":\"x\",\"y\":[7.25],\"yaxis\":\"y\",\"type\":\"scatter\"},{\"hovertemplate\":\"States=Kansas\\u003cbr\\u003egdp=%{x}\\u003cbr\\u003emin_wage=%{y}\\u003cbr\\u003eBusiness Apps=%{marker.size}\\u003cextra\\u003e\\u003c\\u002fextra\\u003e\",\"legendgroup\":\"Kansas\",\"marker\":{\"color\":\"#FF6692\",\"size\":[30861],\"sizemode\":\"area\",\"sizeref\":168.6886111111111,\"symbol\":\"circle\"},\"mode\":\"markers\",\"name\":\"Kansas\",\"orientation\":\"v\",\"showlegend\":true,\"x\":[210670.5],\"xaxis\":\"x\",\"y\":[7.25],\"yaxis\":\"y\",\"type\":\"scatter\"},{\"hovertemplate\":\"States=Kentucky\\u003cbr\\u003egdp=%{x}\\u003cbr\\u003emin_wage=%{y}\\u003cbr\\u003eBusiness Apps=%{marker.size}\\u003cextra\\u003e\\u003c\\u002fextra\\u003e\",\"legendgroup\":\"Kentucky\",\"marker\":{\"color\":\"#B6E880\",\"size\":[46553],\"sizemode\":\"area\",\"sizeref\":168.6886111111111,\"symbol\":\"circle\"},\"mode\":\"markers\",\"name\":\"Kentucky\",\"orientation\":\"v\",\"showlegend\":true,\"x\":[260304.1],\"xaxis\":\"x\",\"y\":[7.25],\"yaxis\":\"y\",\"type\":\"scatter\"},{\"hovertemplate\":\"States=Louisiana\\u003cbr\\u003egdp=%{x}\\u003cbr\\u003emin_wage=%{y}\\u003cbr\\u003eBusiness Apps=%{marker.size}\\u003cextra\\u003e\\u003c\\u002fextra\\u003e\",\"legendgroup\":\"Louisiana\",\"marker\":{\"color\":\"#FF97FF\",\"size\":[80385],\"sizemode\":\"area\",\"sizeref\":168.6886111111111,\"symbol\":\"circle\"},\"mode\":\"markers\",\"name\":\"Louisiana\",\"orientation\":\"v\",\"showlegend\":true,\"x\":[281429.3],\"xaxis\":\"x\",\"y\":[7.25],\"yaxis\":\"y\",\"type\":\"scatter\"},{\"hovertemplate\":\"States=Maine\\u003cbr\\u003egdp=%{x}\\u003cbr\\u003emin_wage=%{y}\\u003cbr\\u003eBusiness Apps=%{marker.size}\\u003cextra\\u003e\\u003c\\u002fextra\\u003e\",\"legendgroup\":\"Maine\",\"marker\":{\"color\":\"#FECB52\",\"size\":[12917],\"sizemode\":\"area\",\"sizeref\":168.6886111111111,\"symbol\":\"circle\"},\"mode\":\"markers\",\"name\":\"Maine\",\"orientation\":\"v\",\"showlegend\":true,\"x\":[84497.5],\"xaxis\":\"x\",\"y\":[12.75],\"yaxis\":\"y\",\"type\":\"scatter\"},{\"hovertemplate\":\"States=Maryland\\u003cbr\\u003egdp=%{x}\\u003cbr\\u003emin_wage=%{y}\\u003cbr\\u003eBusiness Apps=%{marker.size}\\u003cextra\\u003e\\u003c\\u002fextra\\u003e\",\"legendgroup\":\"Maryland\",\"marker\":{\"color\":\"#636efa\",\"size\":[99078],\"sizemode\":\"area\",\"sizeref\":168.6886111111111,\"symbol\":\"circle\"},\"mode\":\"markers\",\"name\":\"Maryland\",\"orientation\":\"v\",\"showlegend\":true,\"x\":[470187.1],\"xaxis\":\"x\",\"y\":[12.5],\"yaxis\":\"y\",\"type\":\"scatter\"},{\"hovertemplate\":\"States=Massachusetts\\u003cbr\\u003egdp=%{x}\\u003cbr\\u003emin_wage=%{y}\\u003cbr\\u003eBusiness Apps=%{marker.size}\\u003cextra\\u003e\\u003c\\u002fextra\\u003e\",\"legendgroup\":\"Massachusetts\",\"marker\":{\"color\":\"#EF553B\",\"size\":[71112],\"sizemode\":\"area\",\"sizeref\":168.6886111111111,\"symbol\":\"circle\"},\"mode\":\"markers\",\"name\":\"Massachusetts\",\"orientation\":\"v\",\"showlegend\":true,\"x\":[688391.6],\"xaxis\":\"x\",\"y\":[14.25],\"yaxis\":\"y\",\"type\":\"scatter\"},{\"hovertemplate\":\"States=Michigan\\u003cbr\\u003egdp=%{x}\\u003cbr\\u003emin_wage=%{y}\\u003cbr\\u003eBusiness Apps=%{marker.size}\\u003cextra\\u003e\\u003c\\u002fextra\\u003e\",\"legendgroup\":\"Michigan\",\"marker\":{\"color\":\"#00cc96\",\"size\":[136794],\"sizemode\":\"area\",\"sizeref\":168.6886111111111,\"symbol\":\"circle\"},\"mode\":\"markers\",\"name\":\"Michigan\",\"orientation\":\"v\",\"showlegend\":true,\"x\":[620695.6],\"xaxis\":\"x\",\"y\":[9.87],\"yaxis\":\"y\",\"type\":\"scatter\"},{\"hovertemplate\":\"States=Minnesota\\u003cbr\\u003egdp=%{x}\\u003cbr\\u003emin_wage=%{y}\\u003cbr\\u003eBusiness Apps=%{marker.size}\\u003cextra\\u003e\\u003c\\u002fextra\\u003e\",\"legendgroup\":\"Minnesota\",\"marker\":{\"color\":\"#ab63fa\",\"size\":[60878],\"sizemode\":\"area\",\"sizeref\":168.6886111111111,\"symbol\":\"circle\"},\"mode\":\"markers\",\"name\":\"Minnesota\",\"orientation\":\"v\",\"showlegend\":true,\"x\":[446499.5],\"xaxis\":\"x\",\"y\":[10.33],\"yaxis\":\"y\",\"type\":\"scatter\"},{\"hovertemplate\":\"States=Mississippi\\u003cbr\\u003egdp=%{x}\\u003cbr\\u003emin_wage=%{y}\\u003cbr\\u003eBusiness Apps=%{marker.size}\\u003cextra\\u003e\\u003c\\u002fextra\\u003e\",\"legendgroup\":\"Mississippi\",\"marker\":{\"color\":\"#FFA15A\",\"size\":[55663],\"sizemode\":\"area\",\"sizeref\":168.6886111111111,\"symbol\":\"circle\"},\"mode\":\"markers\",\"name\":\"Mississippi\",\"orientation\":\"v\",\"showlegend\":true,\"x\":[138739.7],\"xaxis\":\"x\",\"y\":[7.25],\"yaxis\":\"y\",\"type\":\"scatter\"},{\"hovertemplate\":\"States=Missouri\\u003cbr\\u003egdp=%{x}\\u003cbr\\u003emin_wage=%{y}\\u003cbr\\u003eBusiness Apps=%{marker.size}\\u003cextra\\u003e\\u003c\\u002fextra\\u003e\",\"legendgroup\":\"Missouri\",\"marker\":{\"color\":\"#19d3f3\",\"size\":[80770],\"sizemode\":\"area\",\"sizeref\":168.6886111111111,\"symbol\":\"circle\"},\"mode\":\"markers\",\"name\":\"Missouri\",\"orientation\":\"v\",\"showlegend\":true,\"x\":[389931.2],\"xaxis\":\"x\",\"y\":[11.15],\"yaxis\":\"y\",\"type\":\"scatter\"},{\"hovertemplate\":\"States=Montana\\u003cbr\\u003egdp=%{x}\\u003cbr\\u003emin_wage=%{y}\\u003cbr\\u003eBusiness Apps=%{marker.size}\\u003cextra\\u003e\\u003c\\u002fextra\\u003e\",\"legendgroup\":\"Montana\",\"marker\":{\"color\":\"#FF6692\",\"size\":[20527],\"sizemode\":\"area\",\"sizeref\":168.6886111111111,\"symbol\":\"circle\"},\"mode\":\"markers\",\"name\":\"Montana\",\"orientation\":\"v\",\"showlegend\":true,\"x\":[65014.5],\"xaxis\":\"x\",\"y\":[9.2],\"yaxis\":\"y\",\"type\":\"scatter\"},{\"hovertemplate\":\"States=Nebraska\\u003cbr\\u003egdp=%{x}\\u003cbr\\u003emin_wage=%{y}\\u003cbr\\u003eBusiness Apps=%{marker.size}\\u003cextra\\u003e\\u003c\\u002fextra\\u003e\",\"legendgroup\":\"Nebraska\",\"marker\":{\"color\":\"#B6E880\",\"size\":[20386],\"sizemode\":\"area\",\"sizeref\":168.6886111111111,\"symbol\":\"circle\"},\"mode\":\"markers\",\"name\":\"Nebraska\",\"orientation\":\"v\",\"showlegend\":true,\"x\":[161702.0],\"xaxis\":\"x\",\"y\":[9.0],\"yaxis\":\"y\",\"type\":\"scatter\"},{\"hovertemplate\":\"States=Nevada\\u003cbr\\u003egdp=%{x}\\u003cbr\\u003emin_wage=%{y}\\u003cbr\\u003eBusiness Apps=%{marker.size}\\u003cextra\\u003e\\u003c\\u002fextra\\u003e\",\"legendgroup\":\"Nevada\",\"marker\":{\"color\":\"#FF97FF\",\"size\":[61820],\"sizemode\":\"area\",\"sizeref\":168.6886111111111,\"symbol\":\"circle\"},\"mode\":\"markers\",\"name\":\"Nevada\",\"orientation\":\"v\",\"showlegend\":true,\"x\":[215917.8],\"xaxis\":\"x\",\"y\":[10.5],\"yaxis\":\"y\",\"type\":\"scatter\"},{\"hovertemplate\":\"States=New Hampshire\\u003cbr\\u003egdp=%{x}\\u003cbr\\u003emin_wage=%{y}\\u003cbr\\u003eBusiness Apps=%{marker.size}\\u003cextra\\u003e\\u003c\\u002fextra\\u003e\",\"legendgroup\":\"New Hampshire\",\"marker\":{\"color\":\"#FECB52\",\"size\":[13893],\"sizemode\":\"area\",\"sizeref\":168.6886111111111,\"symbol\":\"circle\"},\"mode\":\"markers\",\"name\":\"New Hampshire\",\"orientation\":\"v\",\"showlegend\":true,\"x\":[105414.4],\"xaxis\":\"x\",\"y\":[7.25],\"yaxis\":\"y\",\"type\":\"scatter\"},{\"hovertemplate\":\"States=New Jersey\\u003cbr\\u003egdp=%{x}\\u003cbr\\u003emin_wage=%{y}\\u003cbr\\u003eBusiness Apps=%{marker.size}\\u003cextra\\u003e\\u003c\\u002fextra\\u003e\",\"legendgroup\":\"New Jersey\",\"marker\":{\"color\":\"#636efa\",\"size\":[154032],\"sizemode\":\"area\",\"sizeref\":168.6886111111111,\"symbol\":\"circle\"},\"mode\":\"markers\",\"name\":\"New Jersey\",\"orientation\":\"v\",\"showlegend\":true,\"x\":[745422.2],\"xaxis\":\"x\",\"y\":[13.0],\"yaxis\":\"y\",\"type\":\"scatter\"},{\"hovertemplate\":\"States=New Mexico\\u003cbr\\u003egdp=%{x}\\u003cbr\\u003emin_wage=%{y}\\u003cbr\\u003eBusiness Apps=%{marker.size}\\u003cextra\\u003e\\u003c\\u002fextra\\u003e\",\"legendgroup\":\"New Mexico\",\"marker\":{\"color\":\"#EF553B\",\"size\":[26969],\"sizemode\":\"area\",\"sizeref\":168.6886111111111,\"symbol\":\"circle\"},\"mode\":\"markers\",\"name\":\"New Mexico\",\"orientation\":\"v\",\"showlegend\":true,\"x\":[122114.8],\"xaxis\":\"x\",\"y\":[11.5],\"yaxis\":\"y\",\"type\":\"scatter\"},{\"hovertemplate\":\"States=New York\\u003cbr\\u003egdp=%{x}\\u003cbr\\u003emin_wage=%{y}\\u003cbr\\u003eBusiness Apps=%{marker.size}\\u003cextra\\u003e\\u003c\\u002fextra\\u003e\",\"legendgroup\":\"New York\",\"marker\":{\"color\":\"#00cc96\",\"size\":[298059],\"sizemode\":\"area\",\"sizeref\":168.6886111111111,\"symbol\":\"circle\"},\"mode\":\"markers\",\"name\":\"New York\",\"orientation\":\"v\",\"showlegend\":true,\"x\":[2053179.7],\"xaxis\":\"x\",\"y\":[13.2],\"yaxis\":\"y\",\"type\":\"scatter\"},{\"hovertemplate\":\"States=North Carolina \\u003cbr\\u003egdp=%{x}\\u003cbr\\u003emin_wage=%{y}\\u003cbr\\u003eBusiness Apps=%{marker.size}\\u003cextra\\u003e\\u003c\\u002fextra\\u003e\",\"legendgroup\":\"North Carolina \",\"marker\":{\"color\":\"#ab63fa\",\"size\":[163763],\"sizemode\":\"area\",\"sizeref\":168.6886111111111,\"symbol\":\"circle\"},\"mode\":\"markers\",\"name\":\"North Carolina \",\"orientation\":\"v\",\"showlegend\":true,\"x\":[730072.4],\"xaxis\":\"x\",\"y\":[7.25],\"yaxis\":\"y\",\"type\":\"scatter\"},{\"hovertemplate\":\"States=North Dakota\\u003cbr\\u003egdp=%{x}\\u003cbr\\u003emin_wage=%{y}\\u003cbr\\u003eBusiness Apps=%{marker.size}\\u003cextra\\u003e\\u003c\\u002fextra\\u003e\",\"legendgroup\":\"North Dakota\",\"marker\":{\"color\":\"#FFA15A\",\"size\":[7940],\"sizemode\":\"area\",\"sizeref\":168.6886111111111,\"symbol\":\"circle\"},\"mode\":\"markers\",\"name\":\"North Dakota\",\"orientation\":\"v\",\"showlegend\":true,\"x\":[73267.1],\"xaxis\":\"x\",\"y\":[7.25],\"yaxis\":\"y\",\"type\":\"scatter\"},{\"hovertemplate\":\"States=Ohio \\u003cbr\\u003egdp=%{x}\\u003cbr\\u003emin_wage=%{y}\\u003cbr\\u003eBusiness Apps=%{marker.size}\\u003cextra\\u003e\\u003c\\u002fextra\\u003e\",\"legendgroup\":\"Ohio \",\"marker\":{\"color\":\"#19d3f3\",\"size\":[139706],\"sizemode\":\"area\",\"sizeref\":168.6886111111111,\"symbol\":\"circle\"},\"mode\":\"markers\",\"name\":\"Ohio \",\"orientation\":\"v\",\"showlegend\":true,\"x\":[822669.7],\"xaxis\":\"x\",\"y\":[9.3],\"yaxis\":\"y\",\"type\":\"scatter\"},{\"hovertemplate\":\"States=Oklahoma\\u003cbr\\u003egdp=%{x}\\u003cbr\\u003emin_wage=%{y}\\u003cbr\\u003eBusiness Apps=%{marker.size}\\u003cextra\\u003e\\u003c\\u002fextra\\u003e\",\"legendgroup\":\"Oklahoma\",\"marker\":{\"color\":\"#FF6692\",\"size\":[55020],\"sizemode\":\"area\",\"sizeref\":168.6886111111111,\"symbol\":\"circle\"},\"mode\":\"markers\",\"name\":\"Oklahoma\",\"orientation\":\"v\",\"showlegend\":true,\"x\":[240534.3],\"xaxis\":\"x\",\"y\":[7.25],\"yaxis\":\"y\",\"type\":\"scatter\"},{\"hovertemplate\":\"States=Oregon\\u003cbr\\u003egdp=%{x}\\u003cbr\\u003emin_wage=%{y}\\u003cbr\\u003eBusiness Apps=%{marker.size}\\u003cextra\\u003e\\u003c\\u002fextra\\u003e\",\"legendgroup\":\"Oregon\",\"marker\":{\"color\":\"#B6E880\",\"size\":[49277],\"sizemode\":\"area\",\"sizeref\":168.6886111111111,\"symbol\":\"circle\"},\"mode\":\"markers\",\"name\":\"Oregon\",\"orientation\":\"v\",\"showlegend\":true,\"x\":[299125.5],\"xaxis\":\"x\",\"y\":[13.5],\"yaxis\":\"y\",\"type\":\"scatter\"},{\"hovertemplate\":\"States=Pennsylvania\\u003cbr\\u003egdp=%{x}\\u003cbr\\u003emin_wage=%{y}\\u003cbr\\u003eBusiness Apps=%{marker.size}\\u003cextra\\u003e\\u003c\\u002fextra\\u003e\",\"legendgroup\":\"Pennsylvania\",\"marker\":{\"color\":\"#FF97FF\",\"size\":[138402],\"sizemode\":\"area\",\"sizeref\":168.6886111111111,\"symbol\":\"circle\"},\"mode\":\"markers\",\"name\":\"Pennsylvania\",\"orientation\":\"v\",\"showlegend\":true,\"x\":[923088.8],\"xaxis\":\"x\",\"y\":[7.25],\"yaxis\":\"y\",\"type\":\"scatter\"},{\"hovertemplate\":\"States=Rhode Island\\u003cbr\\u003egdp=%{x}\\u003cbr\\u003emin_wage=%{y}\\u003cbr\\u003eBusiness Apps=%{marker.size}\\u003cextra\\u003e\\u003c\\u002fextra\\u003e\",\"legendgroup\":\"Rhode Island\",\"marker\":{\"color\":\"#FECB52\",\"size\":[10876],\"sizemode\":\"area\",\"sizeref\":168.6886111111111,\"symbol\":\"circle\"},\"mode\":\"markers\",\"name\":\"Rhode Island\",\"orientation\":\"v\",\"showlegend\":true,\"x\":[71402.2],\"xaxis\":\"x\",\"y\":[12.25],\"yaxis\":\"y\",\"type\":\"scatter\"},{\"hovertemplate\":\"States=South Carolina\\u003cbr\\u003egdp=%{x}\\u003cbr\\u003emin_wage=%{y}\\u003cbr\\u003eBusiness Apps=%{marker.size}\\u003cextra\\u003e\\u003c\\u002fextra\\u003e\",\"legendgroup\":\"South Carolina\",\"marker\":{\"color\":\"#636efa\",\"size\":[90534],\"sizemode\":\"area\",\"sizeref\":168.6886111111111,\"symbol\":\"circle\"},\"mode\":\"markers\",\"name\":\"South Carolina\",\"orientation\":\"v\",\"showlegend\":true,\"x\":[295880.5],\"xaxis\":\"x\",\"y\":[7.25],\"yaxis\":\"y\",\"type\":\"scatter\"},{\"hovertemplate\":\"States=South Dakota\\u003cbr\\u003egdp=%{x}\\u003cbr\\u003emin_wage=%{y}\\u003cbr\\u003eBusiness Apps=%{marker.size}\\u003cextra\\u003e\\u003c\\u002fextra\\u003e\",\"legendgroup\":\"South Dakota\",\"marker\":{\"color\":\"#EF553B\",\"size\":[10365],\"sizemode\":\"area\",\"sizeref\":168.6886111111111,\"symbol\":\"circle\"},\"mode\":\"markers\",\"name\":\"South Dakota\",\"orientation\":\"v\",\"showlegend\":true,\"x\":[67570.7],\"xaxis\":\"x\",\"y\":[9.95],\"yaxis\":\"y\",\"type\":\"scatter\"},{\"hovertemplate\":\"States=Tennessee\\u003cbr\\u003egdp=%{x}\\u003cbr\\u003emin_wage=%{y}\\u003cbr\\u003eBusiness Apps=%{marker.size}\\u003cextra\\u003e\\u003c\\u002fextra\\u003e\",\"legendgroup\":\"Tennessee\",\"marker\":{\"color\":\"#00cc96\",\"size\":[91283],\"sizemode\":\"area\",\"sizeref\":168.6886111111111,\"symbol\":\"circle\"},\"mode\":\"markers\",\"name\":\"Tennessee\",\"orientation\":\"v\",\"showlegend\":true,\"x\":[475755.1],\"xaxis\":\"x\",\"y\":[7.25],\"yaxis\":\"y\",\"type\":\"scatter\"},{\"hovertemplate\":\"States=Texas\\u003cbr\\u003egdp=%{x}\\u003cbr\\u003emin_wage=%{y}\\u003cbr\\u003eBusiness Apps=%{marker.size}\\u003cextra\\u003e\\u003c\\u002fextra\\u003e\",\"legendgroup\":\"Texas\",\"marker\":{\"color\":\"#ab63fa\",\"size\":[464959],\"sizemode\":\"area\",\"sizeref\":168.6886111111111,\"symbol\":\"circle\"},\"mode\":\"markers\",\"name\":\"Texas\",\"orientation\":\"v\",\"showlegend\":true,\"x\":[2355959.7],\"xaxis\":\"x\",\"y\":[7.25],\"yaxis\":\"y\",\"type\":\"scatter\"},{\"hovertemplate\":\"States=Utah\\u003cbr\\u003egdp=%{x}\\u003cbr\\u003emin_wage=%{y}\\u003cbr\\u003eBusiness Apps=%{marker.size}\\u003cextra\\u003e\\u003c\\u002fextra\\u003e\",\"legendgroup\":\"Utah\",\"marker\":{\"color\":\"#FFA15A\",\"size\":[65064],\"sizemode\":\"area\",\"sizeref\":168.6886111111111,\"symbol\":\"circle\"},\"mode\":\"markers\",\"name\":\"Utah\",\"orientation\":\"v\",\"showlegend\":true,\"x\":[248176.3],\"xaxis\":\"x\",\"y\":[7.25],\"yaxis\":\"y\",\"type\":\"scatter\"},{\"hovertemplate\":\"States=Vermont\\u003cbr\\u003egdp=%{x}\\u003cbr\\u003emin_wage=%{y}\\u003cbr\\u003eBusiness Apps=%{marker.size}\\u003cextra\\u003e\\u003c\\u002fextra\\u003e\",\"legendgroup\":\"Vermont\",\"marker\":{\"color\":\"#19d3f3\",\"size\":[7461],\"sizemode\":\"area\",\"sizeref\":168.6886111111111,\"symbol\":\"circle\"},\"mode\":\"markers\",\"name\":\"Vermont\",\"orientation\":\"v\",\"showlegend\":true,\"x\":[40617.1],\"xaxis\":\"x\",\"y\":[12.55],\"yaxis\":\"y\",\"type\":\"scatter\"},{\"hovertemplate\":\"States=Virginia\\u003cbr\\u003egdp=%{x}\\u003cbr\\u003emin_wage=%{y}\\u003cbr\\u003eBusiness Apps=%{marker.size}\\u003cextra\\u003e\\u003c\\u002fextra\\u003e\",\"legendgroup\":\"Virginia\",\"marker\":{\"color\":\"#FF6692\",\"size\":[123426],\"sizemode\":\"area\",\"sizeref\":168.6886111111111,\"symbol\":\"circle\"},\"mode\":\"markers\",\"name\":\"Virginia\",\"orientation\":\"v\",\"showlegend\":true,\"x\":[649392.6],\"xaxis\":\"x\",\"y\":[11.0],\"yaxis\":\"y\",\"type\":\"scatter\"},{\"hovertemplate\":\"States=Washington\\u003cbr\\u003egdp=%{x}\\u003cbr\\u003emin_wage=%{y}\\u003cbr\\u003eBusiness Apps=%{marker.size}\\u003cextra\\u003e\\u003c\\u002fextra\\u003e\",\"legendgroup\":\"Washington\",\"marker\":{\"color\":\"#B6E880\",\"size\":[88376],\"sizemode\":\"area\",\"sizeref\":168.6886111111111,\"symbol\":\"circle\"},\"mode\":\"markers\",\"name\":\"Washington\",\"orientation\":\"v\",\"showlegend\":true,\"x\":[725513.5],\"xaxis\":\"x\",\"y\":[14.49],\"yaxis\":\"y\",\"type\":\"scatter\"},{\"hovertemplate\":\"States=West Virginia\\u003cbr\\u003egdp=%{x}\\u003cbr\\u003emin_wage=%{y}\\u003cbr\\u003eBusiness Apps=%{marker.size}\\u003cextra\\u003e\\u003c\\u002fextra\\u003e\",\"legendgroup\":\"West Virginia\",\"marker\":{\"color\":\"#FF97FF\",\"size\":[13770],\"sizemode\":\"area\",\"sizeref\":168.6886111111111,\"symbol\":\"circle\"},\"mode\":\"markers\",\"name\":\"West Virginia\",\"orientation\":\"v\",\"showlegend\":true,\"x\":[95588.4],\"xaxis\":\"x\",\"y\":[8.75],\"yaxis\":\"y\",\"type\":\"scatter\"},{\"hovertemplate\":\"States=Wisconsin \\u003cbr\\u003egdp=%{x}\\u003cbr\\u003emin_wage=%{y}\\u003cbr\\u003eBusiness Apps=%{marker.size}\\u003cextra\\u003e\\u003c\\u002fextra\\u003e\",\"legendgroup\":\"Wisconsin \",\"marker\":{\"color\":\"#FECB52\",\"size\":[64151],\"sizemode\":\"area\",\"sizeref\":168.6886111111111,\"symbol\":\"circle\"},\"mode\":\"markers\",\"name\":\"Wisconsin \",\"orientation\":\"v\",\"showlegend\":true,\"x\":[401791.5],\"xaxis\":\"x\",\"y\":[7.25],\"yaxis\":\"y\",\"type\":\"scatter\"},{\"hovertemplate\":\"States=Wyoming\\u003cbr\\u003egdp=%{x}\\u003cbr\\u003emin_wage=%{y}\\u003cbr\\u003eBusiness Apps=%{marker.size}\\u003cextra\\u003e\\u003c\\u002fextra\\u003e\",\"legendgroup\":\"Wyoming\",\"marker\":{\"color\":\"#636efa\",\"size\":[41561],\"sizemode\":\"area\",\"sizeref\":168.6886111111111,\"symbol\":\"circle\"},\"mode\":\"markers\",\"name\":\"Wyoming\",\"orientation\":\"v\",\"showlegend\":true,\"x\":[47432.5],\"xaxis\":\"x\",\"y\":[7.25],\"yaxis\":\"y\",\"type\":\"scatter\"}],                        {\"template\":{\"data\":{\"histogram2dcontour\":[{\"type\":\"histogram2dcontour\",\"colorbar\":{\"outlinewidth\":0,\"ticks\":\"\"},\"colorscale\":[[0.0,\"#0d0887\"],[0.1111111111111111,\"#46039f\"],[0.2222222222222222,\"#7201a8\"],[0.3333333333333333,\"#9c179e\"],[0.4444444444444444,\"#bd3786\"],[0.5555555555555556,\"#d8576b\"],[0.6666666666666666,\"#ed7953\"],[0.7777777777777778,\"#fb9f3a\"],[0.8888888888888888,\"#fdca26\"],[1.0,\"#f0f921\"]]}],\"choropleth\":[{\"type\":\"choropleth\",\"colorbar\":{\"outlinewidth\":0,\"ticks\":\"\"}}],\"histogram2d\":[{\"type\":\"histogram2d\",\"colorbar\":{\"outlinewidth\":0,\"ticks\":\"\"},\"colorscale\":[[0.0,\"#0d0887\"],[0.1111111111111111,\"#46039f\"],[0.2222222222222222,\"#7201a8\"],[0.3333333333333333,\"#9c179e\"],[0.4444444444444444,\"#bd3786\"],[0.5555555555555556,\"#d8576b\"],[0.6666666666666666,\"#ed7953\"],[0.7777777777777778,\"#fb9f3a\"],[0.8888888888888888,\"#fdca26\"],[1.0,\"#f0f921\"]]}],\"heatmap\":[{\"type\":\"heatmap\",\"colorbar\":{\"outlinewidth\":0,\"ticks\":\"\"},\"colorscale\":[[0.0,\"#0d0887\"],[0.1111111111111111,\"#46039f\"],[0.2222222222222222,\"#7201a8\"],[0.3333333333333333,\"#9c179e\"],[0.4444444444444444,\"#bd3786\"],[0.5555555555555556,\"#d8576b\"],[0.6666666666666666,\"#ed7953\"],[0.7777777777777778,\"#fb9f3a\"],[0.8888888888888888,\"#fdca26\"],[1.0,\"#f0f921\"]]}],\"heatmapgl\":[{\"type\":\"heatmapgl\",\"colorbar\":{\"outlinewidth\":0,\"ticks\":\"\"},\"colorscale\":[[0.0,\"#0d0887\"],[0.1111111111111111,\"#46039f\"],[0.2222222222222222,\"#7201a8\"],[0.3333333333333333,\"#9c179e\"],[0.4444444444444444,\"#bd3786\"],[0.5555555555555556,\"#d8576b\"],[0.6666666666666666,\"#ed7953\"],[0.7777777777777778,\"#fb9f3a\"],[0.8888888888888888,\"#fdca26\"],[1.0,\"#f0f921\"]]}],\"contourcarpet\":[{\"type\":\"contourcarpet\",\"colorbar\":{\"outlinewidth\":0,\"ticks\":\"\"}}],\"contour\":[{\"type\":\"contour\",\"colorbar\":{\"outlinewidth\":0,\"ticks\":\"\"},\"colorscale\":[[0.0,\"#0d0887\"],[0.1111111111111111,\"#46039f\"],[0.2222222222222222,\"#7201a8\"],[0.3333333333333333,\"#9c179e\"],[0.4444444444444444,\"#bd3786\"],[0.5555555555555556,\"#d8576b\"],[0.6666666666666666,\"#ed7953\"],[0.7777777777777778,\"#fb9f3a\"],[0.8888888888888888,\"#fdca26\"],[1.0,\"#f0f921\"]]}],\"surface\":[{\"type\":\"surface\",\"colorbar\":{\"outlinewidth\":0,\"ticks\":\"\"},\"colorscale\":[[0.0,\"#0d0887\"],[0.1111111111111111,\"#46039f\"],[0.2222222222222222,\"#7201a8\"],[0.3333333333333333,\"#9c179e\"],[0.4444444444444444,\"#bd3786\"],[0.5555555555555556,\"#d8576b\"],[0.6666666666666666,\"#ed7953\"],[0.7777777777777778,\"#fb9f3a\"],[0.8888888888888888,\"#fdca26\"],[1.0,\"#f0f921\"]]}],\"mesh3d\":[{\"type\":\"mesh3d\",\"colorbar\":{\"outlinewidth\":0,\"ticks\":\"\"}}],\"scatter\":[{\"fillpattern\":{\"fillmode\":\"overlay\",\"size\":10,\"solidity\":0.2},\"type\":\"scatter\"}],\"parcoords\":[{\"type\":\"parcoords\",\"line\":{\"colorbar\":{\"outlinewidth\":0,\"ticks\":\"\"}}}],\"scatterpolargl\":[{\"type\":\"scatterpolargl\",\"marker\":{\"colorbar\":{\"outlinewidth\":0,\"ticks\":\"\"}}}],\"bar\":[{\"error_x\":{\"color\":\"#2a3f5f\"},\"error_y\":{\"color\":\"#2a3f5f\"},\"marker\":{\"line\":{\"color\":\"#E5ECF6\",\"width\":0.5},\"pattern\":{\"fillmode\":\"overlay\",\"size\":10,\"solidity\":0.2}},\"type\":\"bar\"}],\"scattergeo\":[{\"type\":\"scattergeo\",\"marker\":{\"colorbar\":{\"outlinewidth\":0,\"ticks\":\"\"}}}],\"scatterpolar\":[{\"type\":\"scatterpolar\",\"marker\":{\"colorbar\":{\"outlinewidth\":0,\"ticks\":\"\"}}}],\"histogram\":[{\"marker\":{\"pattern\":{\"fillmode\":\"overlay\",\"size\":10,\"solidity\":0.2}},\"type\":\"histogram\"}],\"scattergl\":[{\"type\":\"scattergl\",\"marker\":{\"colorbar\":{\"outlinewidth\":0,\"ticks\":\"\"}}}],\"scatter3d\":[{\"type\":\"scatter3d\",\"line\":{\"colorbar\":{\"outlinewidth\":0,\"ticks\":\"\"}},\"marker\":{\"colorbar\":{\"outlinewidth\":0,\"ticks\":\"\"}}}],\"scattermapbox\":[{\"type\":\"scattermapbox\",\"marker\":{\"colorbar\":{\"outlinewidth\":0,\"ticks\":\"\"}}}],\"scatterternary\":[{\"type\":\"scatterternary\",\"marker\":{\"colorbar\":{\"outlinewidth\":0,\"ticks\":\"\"}}}],\"scattercarpet\":[{\"type\":\"scattercarpet\",\"marker\":{\"colorbar\":{\"outlinewidth\":0,\"ticks\":\"\"}}}],\"carpet\":[{\"aaxis\":{\"endlinecolor\":\"#2a3f5f\",\"gridcolor\":\"white\",\"linecolor\":\"white\",\"minorgridcolor\":\"white\",\"startlinecolor\":\"#2a3f5f\"},\"baxis\":{\"endlinecolor\":\"#2a3f5f\",\"gridcolor\":\"white\",\"linecolor\":\"white\",\"minorgridcolor\":\"white\",\"startlinecolor\":\"#2a3f5f\"},\"type\":\"carpet\"}],\"table\":[{\"cells\":{\"fill\":{\"color\":\"#EBF0F8\"},\"line\":{\"color\":\"white\"}},\"header\":{\"fill\":{\"color\":\"#C8D4E3\"},\"line\":{\"color\":\"white\"}},\"type\":\"table\"}],\"barpolar\":[{\"marker\":{\"line\":{\"color\":\"#E5ECF6\",\"width\":0.5},\"pattern\":{\"fillmode\":\"overlay\",\"size\":10,\"solidity\":0.2}},\"type\":\"barpolar\"}],\"pie\":[{\"automargin\":true,\"type\":\"pie\"}]},\"layout\":{\"autotypenumbers\":\"strict\",\"colorway\":[\"#636efa\",\"#EF553B\",\"#00cc96\",\"#ab63fa\",\"#FFA15A\",\"#19d3f3\",\"#FF6692\",\"#B6E880\",\"#FF97FF\",\"#FECB52\"],\"font\":{\"color\":\"#2a3f5f\"},\"hovermode\":\"closest\",\"hoverlabel\":{\"align\":\"left\"},\"paper_bgcolor\":\"white\",\"plot_bgcolor\":\"#E5ECF6\",\"polar\":{\"bgcolor\":\"#E5ECF6\",\"angularaxis\":{\"gridcolor\":\"white\",\"linecolor\":\"white\",\"ticks\":\"\"},\"radialaxis\":{\"gridcolor\":\"white\",\"linecolor\":\"white\",\"ticks\":\"\"}},\"ternary\":{\"bgcolor\":\"#E5ECF6\",\"aaxis\":{\"gridcolor\":\"white\",\"linecolor\":\"white\",\"ticks\":\"\"},\"baxis\":{\"gridcolor\":\"white\",\"linecolor\":\"white\",\"ticks\":\"\"},\"caxis\":{\"gridcolor\":\"white\",\"linecolor\":\"white\",\"ticks\":\"\"}},\"coloraxis\":{\"colorbar\":{\"outlinewidth\":0,\"ticks\":\"\"}},\"colorscale\":{\"sequential\":[[0.0,\"#0d0887\"],[0.1111111111111111,\"#46039f\"],[0.2222222222222222,\"#7201a8\"],[0.3333333333333333,\"#9c179e\"],[0.4444444444444444,\"#bd3786\"],[0.5555555555555556,\"#d8576b\"],[0.6666666666666666,\"#ed7953\"],[0.7777777777777778,\"#fb9f3a\"],[0.8888888888888888,\"#fdca26\"],[1.0,\"#f0f921\"]],\"sequentialminus\":[[0.0,\"#0d0887\"],[0.1111111111111111,\"#46039f\"],[0.2222222222222222,\"#7201a8\"],[0.3333333333333333,\"#9c179e\"],[0.4444444444444444,\"#bd3786\"],[0.5555555555555556,\"#d8576b\"],[0.6666666666666666,\"#ed7953\"],[0.7777777777777778,\"#fb9f3a\"],[0.8888888888888888,\"#fdca26\"],[1.0,\"#f0f921\"]],\"diverging\":[[0,\"#8e0152\"],[0.1,\"#c51b7d\"],[0.2,\"#de77ae\"],[0.3,\"#f1b6da\"],[0.4,\"#fde0ef\"],[0.5,\"#f7f7f7\"],[0.6,\"#e6f5d0\"],[0.7,\"#b8e186\"],[0.8,\"#7fbc41\"],[0.9,\"#4d9221\"],[1,\"#276419\"]]},\"xaxis\":{\"gridcolor\":\"white\",\"linecolor\":\"white\",\"ticks\":\"\",\"title\":{\"standoff\":15},\"zerolinecolor\":\"white\",\"automargin\":true,\"zerolinewidth\":2},\"yaxis\":{\"gridcolor\":\"white\",\"linecolor\":\"white\",\"ticks\":\"\",\"title\":{\"standoff\":15},\"zerolinecolor\":\"white\",\"automargin\":true,\"zerolinewidth\":2},\"scene\":{\"xaxis\":{\"backgroundcolor\":\"#E5ECF6\",\"gridcolor\":\"white\",\"linecolor\":\"white\",\"showbackground\":true,\"ticks\":\"\",\"zerolinecolor\":\"white\",\"gridwidth\":2},\"yaxis\":{\"backgroundcolor\":\"#E5ECF6\",\"gridcolor\":\"white\",\"linecolor\":\"white\",\"showbackground\":true,\"ticks\":\"\",\"zerolinecolor\":\"white\",\"gridwidth\":2},\"zaxis\":{\"backgroundcolor\":\"#E5ECF6\",\"gridcolor\":\"white\",\"linecolor\":\"white\",\"showbackground\":true,\"ticks\":\"\",\"zerolinecolor\":\"white\",\"gridwidth\":2}},\"shapedefaults\":{\"line\":{\"color\":\"#2a3f5f\"}},\"annotationdefaults\":{\"arrowcolor\":\"#2a3f5f\",\"arrowhead\":0,\"arrowwidth\":1},\"geo\":{\"bgcolor\":\"white\",\"landcolor\":\"#E5ECF6\",\"subunitcolor\":\"white\",\"showland\":true,\"showlakes\":true,\"lakecolor\":\"white\"},\"title\":{\"x\":0.05},\"mapbox\":{\"style\":\"light\"}}},\"xaxis\":{\"anchor\":\"y\",\"domain\":[0.0,1.0],\"title\":{\"text\":\"gdp\"}},\"yaxis\":{\"anchor\":\"x\",\"domain\":[0.0,1.0],\"title\":{\"text\":\"min_wage\"}},\"legend\":{\"title\":{\"text\":\"States\"},\"tracegroupgap\":0,\"itemsizing\":\"constant\"},\"title\":{\"text\":\"State-wise business applications and tax rates in 2021\"}},                        {\"responsive\": true}                    ).then(function(){\n",
       "                            \n",
       "var gd = document.getElementById('29405714-ecc2-45ca-b30c-3dcea4d4cc6d');\n",
       "var x = new MutationObserver(function (mutations, observer) {{\n",
       "        var display = window.getComputedStyle(gd).display;\n",
       "        if (!display || display === 'none') {{\n",
       "            console.log([gd, 'removed!']);\n",
       "            Plotly.purge(gd);\n",
       "            observer.disconnect();\n",
       "        }}\n",
       "}});\n",
       "\n",
       "// Listen for the removal of the full notebook cells\n",
       "var notebookContainer = gd.closest('#notebook-container');\n",
       "if (notebookContainer) {{\n",
       "    x.observe(notebookContainer, {childList: true});\n",
       "}}\n",
       "\n",
       "// Listen for the clearing of the current output cell\n",
       "var outputEl = gd.closest('.output');\n",
       "if (outputEl) {{\n",
       "    x.observe(outputEl, {childList: true});\n",
       "}}\n",
       "\n",
       "                        })                };                });            </script>        </div>"
      ]
     },
     "metadata": {},
     "output_type": "display_data"
    }
   ],
   "source": [
    "fig = px.scatter(df_temp, x=\"gdp\", y=\"min_wage\", size=\"business_apps\", color=\"Name\", size_max=60,\n",
    "                 title=\"State-wise business applications and tax rates in 2021\", \n",
    "                 labels={\n",
    "                     \"tax_rate\": \"Tax Rate\",\n",
    "                     \"business_apps\": \"Business Apps\",\n",
    "                     \"Name\": \"States\"})\n",
    "\n",
    "fig.show()"
   ]
  },
  {
   "cell_type": "code",
   "execution_count": 154,
   "id": "1c0a26ad",
   "metadata": {},
   "outputs": [
    {
     "data": {
      "text/html": [
       "<div>\n",
       "<style scoped>\n",
       "    .dataframe tbody tr th:only-of-type {\n",
       "        vertical-align: middle;\n",
       "    }\n",
       "\n",
       "    .dataframe tbody tr th {\n",
       "        vertical-align: top;\n",
       "    }\n",
       "\n",
       "    .dataframe thead th {\n",
       "        text-align: right;\n",
       "    }\n",
       "</style>\n",
       "<table border=\"1\" class=\"dataframe\">\n",
       "  <thead>\n",
       "    <tr style=\"text-align: right;\">\n",
       "      <th></th>\n",
       "      <th>tax_rate</th>\n",
       "    </tr>\n",
       "    <tr>\n",
       "      <th>State</th>\n",
       "      <th></th>\n",
       "    </tr>\n",
       "  </thead>\n",
       "  <tbody>\n",
       "    <tr>\n",
       "      <th>Alabama</th>\n",
       "      <td>6.50</td>\n",
       "    </tr>\n",
       "    <tr>\n",
       "      <th>Alaska</th>\n",
       "      <td>5.44</td>\n",
       "    </tr>\n",
       "    <tr>\n",
       "      <th>Arizona</th>\n",
       "      <td>6.97</td>\n",
       "    </tr>\n",
       "    <tr>\n",
       "      <th>Arkansas</th>\n",
       "      <td>3.92</td>\n",
       "    </tr>\n",
       "    <tr>\n",
       "      <th>California</th>\n",
       "      <td>8.84</td>\n",
       "    </tr>\n",
       "  </tbody>\n",
       "</table>\n",
       "</div>"
      ],
      "text/plain": [
       "            tax_rate\n",
       "State               \n",
       "Alabama         6.50\n",
       "Alaska          5.44\n",
       "Arizona         6.97\n",
       "Arkansas        3.92\n",
       "California      8.84"
      ]
     },
     "execution_count": 154,
     "metadata": {},
     "output_type": "execute_result"
    }
   ],
   "source": [
    "#2005 data\n",
    "\n",
    "df_temp2005 = pd.DataFrame(index=df.index)\n",
    "df_temp2005['tax_rate'] = df['2005']\n",
    "df_temp2005.head()"
   ]
  },
  {
   "cell_type": "code",
   "execution_count": 157,
   "id": "32359636",
   "metadata": {
    "scrolled": true
   },
   "outputs": [
    {
     "data": {
      "text/plain": [
       "0      31078\n",
       "1       4730\n",
       "2      56547\n",
       "3      19133\n",
       "4     271636\n",
       "5      55916\n",
       "6      28378\n",
       "7      11333\n",
       "8       7293\n",
       "9     281702\n",
       "10     97214\n",
       "11      9609\n",
       "12     15013\n",
       "13     95482\n",
       "14     37943\n",
       "15     17890\n",
       "16     18927\n",
       "17     25430\n",
       "18     36006\n",
       "19      9150\n",
       "20     54307\n",
       "21     46848\n",
       "22     76018\n",
       "23     39685\n",
       "24     19508\n",
       "25     44731\n",
       "26     11190\n",
       "27     10735\n",
       "28     43656\n",
       "29     10660\n",
       "30     87235\n",
       "31     11498\n",
       "32    173019\n",
       "33     71732\n",
       "34      4191\n",
       "35     66112\n",
       "36     26792\n",
       "37     29470\n",
       "38     75425\n",
       "39      7233\n",
       "40     33219\n",
       "41      5506\n",
       "42     36952\n",
       "43    174117\n",
       "44     29025\n",
       "45      4516\n",
       "46     63870\n",
       "47     49488\n",
       "48      9085\n",
       "49     37633\n",
       "50      5442\n",
       "Name: 2005, dtype: int64"
      ]
     },
     "execution_count": 157,
     "metadata": {},
     "output_type": "execute_result"
    }
   ],
   "source": []
  },
  {
   "cell_type": "code",
   "execution_count": 113,
   "id": "5d1c09f4",
   "metadata": {},
   "outputs": [
    {
     "ename": "KeyError",
     "evalue": "\"['State'] not in index\"",
     "output_type": "error",
     "traceback": [
      "\u001b[0;31m---------------------------------------------------------------------------\u001b[0m",
      "\u001b[0;31mKeyError\u001b[0m                                  Traceback (most recent call last)",
      "Cell \u001b[0;32mIn[113], line 3\u001b[0m\n\u001b[1;32m      1\u001b[0m \u001b[38;5;66;03m#creating a bubble chart to show change- \u001b[39;00m\n\u001b[0;32m----> 3\u001b[0m df_change \u001b[38;5;241m=\u001b[39m df[[\u001b[38;5;124m\"\u001b[39m\u001b[38;5;124mName\u001b[39m\u001b[38;5;124m\"\u001b[39m, \u001b[38;5;124m\"\u001b[39m\u001b[38;5;124mState\u001b[39m\u001b[38;5;124m\"\u001b[39m]]\n\u001b[1;32m      4\u001b[0m df_change\u001b[38;5;241m.\u001b[39mhead()\n\u001b[1;32m      5\u001b[0m df_change[\u001b[38;5;124m\"\u001b[39m\u001b[38;5;124mchange\u001b[39m\u001b[38;5;124m\"\u001b[39m] \u001b[38;5;241m=\u001b[39m df[\u001b[38;5;124m\"\u001b[39m\u001b[38;5;124m2022\u001b[39m\u001b[38;5;124m\"\u001b[39m] \u001b[38;5;241m-\u001b[39m df[\u001b[38;5;124m\"\u001b[39m\u001b[38;5;124m2005\u001b[39m\u001b[38;5;124m\"\u001b[39m]\n",
      "File \u001b[0;32m~/anaconda3/lib/python3.11/site-packages/pandas/core/frame.py:3813\u001b[0m, in \u001b[0;36mDataFrame.__getitem__\u001b[0;34m(self, key)\u001b[0m\n\u001b[1;32m   3811\u001b[0m     \u001b[38;5;28;01mif\u001b[39;00m is_iterator(key):\n\u001b[1;32m   3812\u001b[0m         key \u001b[38;5;241m=\u001b[39m \u001b[38;5;28mlist\u001b[39m(key)\n\u001b[0;32m-> 3813\u001b[0m     indexer \u001b[38;5;241m=\u001b[39m \u001b[38;5;28mself\u001b[39m\u001b[38;5;241m.\u001b[39mcolumns\u001b[38;5;241m.\u001b[39m_get_indexer_strict(key, \u001b[38;5;124m\"\u001b[39m\u001b[38;5;124mcolumns\u001b[39m\u001b[38;5;124m\"\u001b[39m)[\u001b[38;5;241m1\u001b[39m]\n\u001b[1;32m   3815\u001b[0m \u001b[38;5;66;03m# take() does not accept boolean indexers\u001b[39;00m\n\u001b[1;32m   3816\u001b[0m \u001b[38;5;28;01mif\u001b[39;00m \u001b[38;5;28mgetattr\u001b[39m(indexer, \u001b[38;5;124m\"\u001b[39m\u001b[38;5;124mdtype\u001b[39m\u001b[38;5;124m\"\u001b[39m, \u001b[38;5;28;01mNone\u001b[39;00m) \u001b[38;5;241m==\u001b[39m \u001b[38;5;28mbool\u001b[39m:\n",
      "File \u001b[0;32m~/anaconda3/lib/python3.11/site-packages/pandas/core/indexes/base.py:6070\u001b[0m, in \u001b[0;36mIndex._get_indexer_strict\u001b[0;34m(self, key, axis_name)\u001b[0m\n\u001b[1;32m   6067\u001b[0m \u001b[38;5;28;01melse\u001b[39;00m:\n\u001b[1;32m   6068\u001b[0m     keyarr, indexer, new_indexer \u001b[38;5;241m=\u001b[39m \u001b[38;5;28mself\u001b[39m\u001b[38;5;241m.\u001b[39m_reindex_non_unique(keyarr)\n\u001b[0;32m-> 6070\u001b[0m \u001b[38;5;28mself\u001b[39m\u001b[38;5;241m.\u001b[39m_raise_if_missing(keyarr, indexer, axis_name)\n\u001b[1;32m   6072\u001b[0m keyarr \u001b[38;5;241m=\u001b[39m \u001b[38;5;28mself\u001b[39m\u001b[38;5;241m.\u001b[39mtake(indexer)\n\u001b[1;32m   6073\u001b[0m \u001b[38;5;28;01mif\u001b[39;00m \u001b[38;5;28misinstance\u001b[39m(key, Index):\n\u001b[1;32m   6074\u001b[0m     \u001b[38;5;66;03m# GH 42790 - Preserve name from an Index\u001b[39;00m\n",
      "File \u001b[0;32m~/anaconda3/lib/python3.11/site-packages/pandas/core/indexes/base.py:6133\u001b[0m, in \u001b[0;36mIndex._raise_if_missing\u001b[0;34m(self, key, indexer, axis_name)\u001b[0m\n\u001b[1;32m   6130\u001b[0m     \u001b[38;5;28;01mraise\u001b[39;00m \u001b[38;5;167;01mKeyError\u001b[39;00m(\u001b[38;5;124mf\u001b[39m\u001b[38;5;124m\"\u001b[39m\u001b[38;5;124mNone of [\u001b[39m\u001b[38;5;132;01m{\u001b[39;00mkey\u001b[38;5;132;01m}\u001b[39;00m\u001b[38;5;124m] are in the [\u001b[39m\u001b[38;5;132;01m{\u001b[39;00maxis_name\u001b[38;5;132;01m}\u001b[39;00m\u001b[38;5;124m]\u001b[39m\u001b[38;5;124m\"\u001b[39m)\n\u001b[1;32m   6132\u001b[0m not_found \u001b[38;5;241m=\u001b[39m \u001b[38;5;28mlist\u001b[39m(ensure_index(key)[missing_mask\u001b[38;5;241m.\u001b[39mnonzero()[\u001b[38;5;241m0\u001b[39m]]\u001b[38;5;241m.\u001b[39munique())\n\u001b[0;32m-> 6133\u001b[0m \u001b[38;5;28;01mraise\u001b[39;00m \u001b[38;5;167;01mKeyError\u001b[39;00m(\u001b[38;5;124mf\u001b[39m\u001b[38;5;124m\"\u001b[39m\u001b[38;5;132;01m{\u001b[39;00mnot_found\u001b[38;5;132;01m}\u001b[39;00m\u001b[38;5;124m not in index\u001b[39m\u001b[38;5;124m\"\u001b[39m)\n",
      "\u001b[0;31mKeyError\u001b[0m: \"['State'] not in index\""
     ]
    }
   ],
   "source": [
    "#creating a bubble chart to show change- \n",
    "\n",
    "df_change = df[[\"Name\", \"State\"]]\n",
    "df_change.head()\n",
    "df_change[\"change\"] = df[\"2022\"] - df[\"2005\"]\n",
    "df_change"
   ]
  },
  {
   "cell_type": "code",
   "execution_count": 65,
   "id": "bd81228c",
   "metadata": {},
   "outputs": [
    {
     "data": {
      "text/html": [
       "<div>\n",
       "<style scoped>\n",
       "    .dataframe tbody tr th:only-of-type {\n",
       "        vertical-align: middle;\n",
       "    }\n",
       "\n",
       "    .dataframe tbody tr th {\n",
       "        vertical-align: top;\n",
       "    }\n",
       "\n",
       "    .dataframe thead th {\n",
       "        text-align: right;\n",
       "    }\n",
       "</style>\n",
       "<table border=\"1\" class=\"dataframe\">\n",
       "  <thead>\n",
       "    <tr style=\"text-align: right;\">\n",
       "      <th></th>\n",
       "      <th>Name</th>\n",
       "      <th>State</th>\n",
       "      <th>tax_rate</th>\n",
       "      <th>business_apps</th>\n",
       "      <th>pop</th>\n",
       "    </tr>\n",
       "  </thead>\n",
       "  <tbody>\n",
       "    <tr>\n",
       "      <th>0</th>\n",
       "      <td>Alabama</td>\n",
       "      <td>AL</td>\n",
       "      <td>0.00</td>\n",
       "      <td>39672</td>\n",
       "      <td>504491</td>\n",
       "    </tr>\n",
       "    <tr>\n",
       "      <th>1</th>\n",
       "      <td>Alaska</td>\n",
       "      <td>AK</td>\n",
       "      <td>-0.10</td>\n",
       "      <td>3726</td>\n",
       "      <td>66637</td>\n",
       "    </tr>\n",
       "    <tr>\n",
       "      <th>2</th>\n",
       "      <td>Arizona</td>\n",
       "      <td>AZ</td>\n",
       "      <td>-2.07</td>\n",
       "      <td>58533</td>\n",
       "      <td>1520120</td>\n",
       "    </tr>\n",
       "    <tr>\n",
       "      <th>3</th>\n",
       "      <td>Arkansas</td>\n",
       "      <td>AR</td>\n",
       "      <td>-0.27</td>\n",
       "      <td>18429</td>\n",
       "      <td>264540</td>\n",
       "    </tr>\n",
       "    <tr>\n",
       "      <th>4</th>\n",
       "      <td>California</td>\n",
       "      <td>CA</td>\n",
       "      <td>0.00</td>\n",
       "      <td>214318</td>\n",
       "      <td>3201399</td>\n",
       "    </tr>\n",
       "  </tbody>\n",
       "</table>\n",
       "</div>"
      ],
      "text/plain": [
       "         Name State  tax_rate  business_apps      pop\n",
       "0     Alabama    AL      0.00          39672   504491\n",
       "1      Alaska    AK     -0.10           3726    66637\n",
       "2     Arizona    AZ     -2.07          58533  1520120\n",
       "3    Arkansas    AR     -0.27          18429   264540\n",
       "4  California    CA      0.00         214318  3201399"
      ]
     },
     "execution_count": 65,
     "metadata": {},
     "output_type": "execute_result"
    }
   ],
   "source": [
    "df_change = df_change.rename(columns={\"change\":\"tax_rate\"})\n",
    "df_change[\"business_apps\"] = df_biz['2022'] - df_biz['2005']\n",
    "df_change[\"pop\"] = df_pop['2022'] - df_pop['2005']\n",
    "df_change.head()"
   ]
  },
  {
   "cell_type": "code",
   "execution_count": 11,
   "id": "03ba4f00",
   "metadata": {},
   "outputs": [
    {
     "ename": "NameError",
     "evalue": "name 'df_gdp' is not defined",
     "output_type": "error",
     "traceback": [
      "\u001b[0;31m---------------------------------------------------------------------------\u001b[0m",
      "\u001b[0;31mNameError\u001b[0m                                 Traceback (most recent call last)",
      "Cell \u001b[0;32mIn[11], line 1\u001b[0m\n\u001b[0;32m----> 1\u001b[0m df_gdp\n",
      "\u001b[0;31mNameError\u001b[0m: name 'df_gdp' is not defined"
     ]
    }
   ],
   "source": [
    "df_gdp"
   ]
  },
  {
   "cell_type": "code",
   "execution_count": 95,
   "id": "bfef600d",
   "metadata": {},
   "outputs": [
    {
     "data": {
      "text/html": [
       "<div>\n",
       "<style scoped>\n",
       "    .dataframe tbody tr th:only-of-type {\n",
       "        vertical-align: middle;\n",
       "    }\n",
       "\n",
       "    .dataframe tbody tr th {\n",
       "        vertical-align: top;\n",
       "    }\n",
       "\n",
       "    .dataframe thead th {\n",
       "        text-align: right;\n",
       "    }\n",
       "</style>\n",
       "<table border=\"1\" class=\"dataframe\">\n",
       "  <thead>\n",
       "    <tr style=\"text-align: right;\">\n",
       "      <th></th>\n",
       "      <th>Name</th>\n",
       "      <th>State</th>\n",
       "      <th>tax_rate</th>\n",
       "      <th>business_apps</th>\n",
       "      <th>pop</th>\n",
       "      <th>gdp</th>\n",
       "    </tr>\n",
       "  </thead>\n",
       "  <tbody>\n",
       "    <tr>\n",
       "      <th>0</th>\n",
       "      <td>Alabama</td>\n",
       "      <td>AL</td>\n",
       "      <td>6.50</td>\n",
       "      <td>70750</td>\n",
       "      <td>5074296</td>\n",
       "      <td>277817.5</td>\n",
       "    </tr>\n",
       "    <tr>\n",
       "      <th>1</th>\n",
       "      <td>Alaska</td>\n",
       "      <td>AK</td>\n",
       "      <td>5.34</td>\n",
       "      <td>8456</td>\n",
       "      <td>733583</td>\n",
       "      <td>63618.0</td>\n",
       "    </tr>\n",
       "    <tr>\n",
       "      <th>2</th>\n",
       "      <td>Arizona</td>\n",
       "      <td>AZ</td>\n",
       "      <td>4.90</td>\n",
       "      <td>115080</td>\n",
       "      <td>7359197</td>\n",
       "      <td>458949.8</td>\n",
       "    </tr>\n",
       "    <tr>\n",
       "      <th>3</th>\n",
       "      <td>Arkansas</td>\n",
       "      <td>AR</td>\n",
       "      <td>3.65</td>\n",
       "      <td>37562</td>\n",
       "      <td>3045637</td>\n",
       "      <td>165220.6</td>\n",
       "    </tr>\n",
       "    <tr>\n",
       "      <th>4</th>\n",
       "      <td>California</td>\n",
       "      <td>CA</td>\n",
       "      <td>8.84</td>\n",
       "      <td>485954</td>\n",
       "      <td>39029342</td>\n",
       "      <td>3598102.7</td>\n",
       "    </tr>\n",
       "    <tr>\n",
       "      <th>5</th>\n",
       "      <td>Colorado</td>\n",
       "      <td>CO</td>\n",
       "      <td>4.55</td>\n",
       "      <td>115689</td>\n",
       "      <td>5839926</td>\n",
       "      <td>484371.5</td>\n",
       "    </tr>\n",
       "    <tr>\n",
       "      <th>6</th>\n",
       "      <td>Connecticut</td>\n",
       "      <td>CT</td>\n",
       "      <td>7.50</td>\n",
       "      <td>44568</td>\n",
       "      <td>3626205</td>\n",
       "      <td>321844.6</td>\n",
       "    </tr>\n",
       "    <tr>\n",
       "      <th>7</th>\n",
       "      <td>Delaware</td>\n",
       "      <td>DE</td>\n",
       "      <td>8.70</td>\n",
       "      <td>45471</td>\n",
       "      <td>1018396</td>\n",
       "      <td>87524.8</td>\n",
       "    </tr>\n",
       "    <tr>\n",
       "      <th>8</th>\n",
       "      <td>Florida</td>\n",
       "      <td>FL</td>\n",
       "      <td>5.50</td>\n",
       "      <td>14286</td>\n",
       "      <td>671803</td>\n",
       "      <td>162314.4</td>\n",
       "    </tr>\n",
       "    <tr>\n",
       "      <th>9</th>\n",
       "      <td>Georgia</td>\n",
       "      <td>GA</td>\n",
       "      <td>5.75</td>\n",
       "      <td>607279</td>\n",
       "      <td>22244823</td>\n",
       "      <td>1389069.7</td>\n",
       "    </tr>\n",
       "    <tr>\n",
       "      <th>10</th>\n",
       "      <td>Hawaii</td>\n",
       "      <td>HI</td>\n",
       "      <td>5.40</td>\n",
       "      <td>272636</td>\n",
       "      <td>10912876</td>\n",
       "      <td>755697.9</td>\n",
       "    </tr>\n",
       "    <tr>\n",
       "      <th>11</th>\n",
       "      <td>Idaho</td>\n",
       "      <td>ID</td>\n",
       "      <td>6.00</td>\n",
       "      <td>18469</td>\n",
       "      <td>1440196</td>\n",
       "      <td>98218.8</td>\n",
       "    </tr>\n",
       "    <tr>\n",
       "      <th>12</th>\n",
       "      <td>Illinois</td>\n",
       "      <td>IL</td>\n",
       "      <td>9.50</td>\n",
       "      <td>29683</td>\n",
       "      <td>1939033</td>\n",
       "      <td>109546.5</td>\n",
       "    </tr>\n",
       "    <tr>\n",
       "      <th>13</th>\n",
       "      <td>Indiana</td>\n",
       "      <td>IN</td>\n",
       "      <td>4.90</td>\n",
       "      <td>169449</td>\n",
       "      <td>12582032</td>\n",
       "      <td>1033310.1</td>\n",
       "    </tr>\n",
       "    <tr>\n",
       "      <th>14</th>\n",
       "      <td>Iowa</td>\n",
       "      <td>IA</td>\n",
       "      <td>8.10</td>\n",
       "      <td>82971</td>\n",
       "      <td>6833037</td>\n",
       "      <td>455750.2</td>\n",
       "    </tr>\n",
       "    <tr>\n",
       "      <th>15</th>\n",
       "      <td>Kansas</td>\n",
       "      <td>KS</td>\n",
       "      <td>5.50</td>\n",
       "      <td>29762</td>\n",
       "      <td>3200517</td>\n",
       "      <td>231107.8</td>\n",
       "    </tr>\n",
       "    <tr>\n",
       "      <th>16</th>\n",
       "      <td>Kentucky</td>\n",
       "      <td>KY</td>\n",
       "      <td>5.00</td>\n",
       "      <td>30861</td>\n",
       "      <td>2937150</td>\n",
       "      <td>210670.5</td>\n",
       "    </tr>\n",
       "    <tr>\n",
       "      <th>17</th>\n",
       "      <td>Louisiana</td>\n",
       "      <td>LA</td>\n",
       "      <td>5.33</td>\n",
       "      <td>46553</td>\n",
       "      <td>4512310</td>\n",
       "      <td>260304.1</td>\n",
       "    </tr>\n",
       "    <tr>\n",
       "      <th>18</th>\n",
       "      <td>Maine</td>\n",
       "      <td>ME</td>\n",
       "      <td>7.17</td>\n",
       "      <td>80385</td>\n",
       "      <td>4590241</td>\n",
       "      <td>281429.3</td>\n",
       "    </tr>\n",
       "    <tr>\n",
       "      <th>19</th>\n",
       "      <td>Maryland</td>\n",
       "      <td>MD</td>\n",
       "      <td>8.25</td>\n",
       "      <td>12917</td>\n",
       "      <td>1385340</td>\n",
       "      <td>84497.5</td>\n",
       "    </tr>\n",
       "    <tr>\n",
       "      <th>20</th>\n",
       "      <td>Massachusetts</td>\n",
       "      <td>MA</td>\n",
       "      <td>8.00</td>\n",
       "      <td>99078</td>\n",
       "      <td>6164660</td>\n",
       "      <td>470187.1</td>\n",
       "    </tr>\n",
       "    <tr>\n",
       "      <th>21</th>\n",
       "      <td>Michigan</td>\n",
       "      <td>MI</td>\n",
       "      <td>6.00</td>\n",
       "      <td>71112</td>\n",
       "      <td>6981974</td>\n",
       "      <td>688391.6</td>\n",
       "    </tr>\n",
       "    <tr>\n",
       "      <th>22</th>\n",
       "      <td>Minnesota</td>\n",
       "      <td>MN</td>\n",
       "      <td>9.80</td>\n",
       "      <td>136794</td>\n",
       "      <td>10034113</td>\n",
       "      <td>620695.6</td>\n",
       "    </tr>\n",
       "    <tr>\n",
       "      <th>23</th>\n",
       "      <td>Mississippi</td>\n",
       "      <td>MS</td>\n",
       "      <td>3.00</td>\n",
       "      <td>60878</td>\n",
       "      <td>5717184</td>\n",
       "      <td>446499.5</td>\n",
       "    </tr>\n",
       "    <tr>\n",
       "      <th>24</th>\n",
       "      <td>Missouri</td>\n",
       "      <td>MO</td>\n",
       "      <td>4.00</td>\n",
       "      <td>55663</td>\n",
       "      <td>2940057</td>\n",
       "      <td>138739.7</td>\n",
       "    </tr>\n",
       "    <tr>\n",
       "      <th>25</th>\n",
       "      <td>Montana</td>\n",
       "      <td>MT</td>\n",
       "      <td>6.75</td>\n",
       "      <td>80770</td>\n",
       "      <td>6177957</td>\n",
       "      <td>389931.2</td>\n",
       "    </tr>\n",
       "    <tr>\n",
       "      <th>26</th>\n",
       "      <td>Nebraska</td>\n",
       "      <td>NE</td>\n",
       "      <td>6.70</td>\n",
       "      <td>20527</td>\n",
       "      <td>1122867</td>\n",
       "      <td>65014.5</td>\n",
       "    </tr>\n",
       "    <tr>\n",
       "      <th>27</th>\n",
       "      <td>Nevada</td>\n",
       "      <td>NV</td>\n",
       "      <td>0.00</td>\n",
       "      <td>20386</td>\n",
       "      <td>1967923</td>\n",
       "      <td>161702.0</td>\n",
       "    </tr>\n",
       "    <tr>\n",
       "      <th>28</th>\n",
       "      <td>New Hampshire</td>\n",
       "      <td>NH</td>\n",
       "      <td>7.60</td>\n",
       "      <td>61820</td>\n",
       "      <td>3177772</td>\n",
       "      <td>215917.8</td>\n",
       "    </tr>\n",
       "    <tr>\n",
       "      <th>29</th>\n",
       "      <td>New Jersey</td>\n",
       "      <td>NJ</td>\n",
       "      <td>8.62</td>\n",
       "      <td>13893</td>\n",
       "      <td>1395231</td>\n",
       "      <td>105414.4</td>\n",
       "    </tr>\n",
       "    <tr>\n",
       "      <th>30</th>\n",
       "      <td>New Mexico</td>\n",
       "      <td>NM</td>\n",
       "      <td>5.35</td>\n",
       "      <td>154032</td>\n",
       "      <td>9261699</td>\n",
       "      <td>745422.2</td>\n",
       "    </tr>\n",
       "    <tr>\n",
       "      <th>31</th>\n",
       "      <td>New York</td>\n",
       "      <td>NY</td>\n",
       "      <td>6.88</td>\n",
       "      <td>26969</td>\n",
       "      <td>2113344</td>\n",
       "      <td>122114.8</td>\n",
       "    </tr>\n",
       "    <tr>\n",
       "      <th>32</th>\n",
       "      <td>North Carolina</td>\n",
       "      <td>NC</td>\n",
       "      <td>2.50</td>\n",
       "      <td>298059</td>\n",
       "      <td>19677151</td>\n",
       "      <td>2053179.7</td>\n",
       "    </tr>\n",
       "    <tr>\n",
       "      <th>33</th>\n",
       "      <td>North Dakota</td>\n",
       "      <td>ND</td>\n",
       "      <td>3.09</td>\n",
       "      <td>163763</td>\n",
       "      <td>10698973</td>\n",
       "      <td>730072.4</td>\n",
       "    </tr>\n",
       "    <tr>\n",
       "      <th>34</th>\n",
       "      <td>Ohio</td>\n",
       "      <td>OH</td>\n",
       "      <td>0.00</td>\n",
       "      <td>7940</td>\n",
       "      <td>779261</td>\n",
       "      <td>73267.1</td>\n",
       "    </tr>\n",
       "    <tr>\n",
       "      <th>35</th>\n",
       "      <td>Oklahoma</td>\n",
       "      <td>OK</td>\n",
       "      <td>4.00</td>\n",
       "      <td>139706</td>\n",
       "      <td>11756058</td>\n",
       "      <td>822669.7</td>\n",
       "    </tr>\n",
       "    <tr>\n",
       "      <th>36</th>\n",
       "      <td>Oregon</td>\n",
       "      <td>OR</td>\n",
       "      <td>7.10</td>\n",
       "      <td>55020</td>\n",
       "      <td>4019800</td>\n",
       "      <td>240534.3</td>\n",
       "    </tr>\n",
       "    <tr>\n",
       "      <th>37</th>\n",
       "      <td>Pennsylvania</td>\n",
       "      <td>PA</td>\n",
       "      <td>9.99</td>\n",
       "      <td>49277</td>\n",
       "      <td>4240137</td>\n",
       "      <td>299125.5</td>\n",
       "    </tr>\n",
       "    <tr>\n",
       "      <th>38</th>\n",
       "      <td>Rhode Island</td>\n",
       "      <td>RI</td>\n",
       "      <td>7.00</td>\n",
       "      <td>138402</td>\n",
       "      <td>12972008</td>\n",
       "      <td>923088.8</td>\n",
       "    </tr>\n",
       "    <tr>\n",
       "      <th>39</th>\n",
       "      <td>South Carolina</td>\n",
       "      <td>SC</td>\n",
       "      <td>5.00</td>\n",
       "      <td>10876</td>\n",
       "      <td>1093734</td>\n",
       "      <td>71402.2</td>\n",
       "    </tr>\n",
       "    <tr>\n",
       "      <th>40</th>\n",
       "      <td>South Dakota</td>\n",
       "      <td>SD</td>\n",
       "      <td>0.00</td>\n",
       "      <td>90534</td>\n",
       "      <td>5282634</td>\n",
       "      <td>295880.5</td>\n",
       "    </tr>\n",
       "    <tr>\n",
       "      <th>41</th>\n",
       "      <td>Tennessee</td>\n",
       "      <td>TN</td>\n",
       "      <td>6.50</td>\n",
       "      <td>10365</td>\n",
       "      <td>909824</td>\n",
       "      <td>67570.7</td>\n",
       "    </tr>\n",
       "    <tr>\n",
       "      <th>42</th>\n",
       "      <td>Texas</td>\n",
       "      <td>TX</td>\n",
       "      <td>0.00</td>\n",
       "      <td>91283</td>\n",
       "      <td>7051339</td>\n",
       "      <td>475755.1</td>\n",
       "    </tr>\n",
       "    <tr>\n",
       "      <th>43</th>\n",
       "      <td>Utah</td>\n",
       "      <td>UT</td>\n",
       "      <td>4.85</td>\n",
       "      <td>464959</td>\n",
       "      <td>30029572</td>\n",
       "      <td>2355959.7</td>\n",
       "    </tr>\n",
       "    <tr>\n",
       "      <th>44</th>\n",
       "      <td>Vermont</td>\n",
       "      <td>VT</td>\n",
       "      <td>7.17</td>\n",
       "      <td>65064</td>\n",
       "      <td>3380800</td>\n",
       "      <td>248176.3</td>\n",
       "    </tr>\n",
       "    <tr>\n",
       "      <th>45</th>\n",
       "      <td>Virginia</td>\n",
       "      <td>VA</td>\n",
       "      <td>6.00</td>\n",
       "      <td>7461</td>\n",
       "      <td>647064</td>\n",
       "      <td>40617.1</td>\n",
       "    </tr>\n",
       "    <tr>\n",
       "      <th>46</th>\n",
       "      <td>Washington</td>\n",
       "      <td>WA</td>\n",
       "      <td>0.00</td>\n",
       "      <td>123426</td>\n",
       "      <td>8683619</td>\n",
       "      <td>649392.6</td>\n",
       "    </tr>\n",
       "    <tr>\n",
       "      <th>47</th>\n",
       "      <td>West Virginia</td>\n",
       "      <td>WV</td>\n",
       "      <td>6.50</td>\n",
       "      <td>88376</td>\n",
       "      <td>7785786</td>\n",
       "      <td>725513.5</td>\n",
       "    </tr>\n",
       "    <tr>\n",
       "      <th>48</th>\n",
       "      <td>Wisconsin</td>\n",
       "      <td>WI</td>\n",
       "      <td>7.90</td>\n",
       "      <td>13770</td>\n",
       "      <td>1775156</td>\n",
       "      <td>95588.4</td>\n",
       "    </tr>\n",
       "    <tr>\n",
       "      <th>49</th>\n",
       "      <td>Wyoming</td>\n",
       "      <td>WY</td>\n",
       "      <td>0.00</td>\n",
       "      <td>64151</td>\n",
       "      <td>5892539</td>\n",
       "      <td>401791.5</td>\n",
       "    </tr>\n",
       "    <tr>\n",
       "      <th>50</th>\n",
       "      <td>District of Columbia</td>\n",
       "      <td>DC</td>\n",
       "      <td>8.25</td>\n",
       "      <td>41561</td>\n",
       "      <td>581381</td>\n",
       "      <td>47432.5</td>\n",
       "    </tr>\n",
       "  </tbody>\n",
       "</table>\n",
       "</div>"
      ],
      "text/plain": [
       "                    Name State  tax_rate  business_apps       pop        gdp\n",
       "0                Alabama    AL      6.50          70750   5074296   277817.5\n",
       "1                 Alaska    AK      5.34           8456    733583    63618.0\n",
       "2                Arizona    AZ      4.90         115080   7359197   458949.8\n",
       "3               Arkansas    AR      3.65          37562   3045637   165220.6\n",
       "4             California    CA      8.84         485954  39029342  3598102.7\n",
       "5               Colorado    CO      4.55         115689   5839926   484371.5\n",
       "6            Connecticut    CT      7.50          44568   3626205   321844.6\n",
       "7               Delaware    DE      8.70          45471   1018396    87524.8\n",
       "8                Florida    FL      5.50          14286    671803   162314.4\n",
       "9                Georgia    GA      5.75         607279  22244823  1389069.7\n",
       "10                Hawaii    HI      5.40         272636  10912876   755697.9\n",
       "11                 Idaho    ID      6.00          18469   1440196    98218.8\n",
       "12              Illinois    IL      9.50          29683   1939033   109546.5\n",
       "13               Indiana    IN      4.90         169449  12582032  1033310.1\n",
       "14                  Iowa    IA      8.10          82971   6833037   455750.2\n",
       "15                Kansas    KS      5.50          29762   3200517   231107.8\n",
       "16              Kentucky    KY      5.00          30861   2937150   210670.5\n",
       "17             Louisiana    LA      5.33          46553   4512310   260304.1\n",
       "18                 Maine    ME      7.17          80385   4590241   281429.3\n",
       "19              Maryland    MD      8.25          12917   1385340    84497.5\n",
       "20         Massachusetts    MA      8.00          99078   6164660   470187.1\n",
       "21              Michigan    MI      6.00          71112   6981974   688391.6\n",
       "22             Minnesota    MN      9.80         136794  10034113   620695.6\n",
       "23           Mississippi    MS      3.00          60878   5717184   446499.5\n",
       "24              Missouri    MO      4.00          55663   2940057   138739.7\n",
       "25               Montana    MT      6.75          80770   6177957   389931.2\n",
       "26              Nebraska    NE      6.70          20527   1122867    65014.5\n",
       "27                Nevada    NV      0.00          20386   1967923   161702.0\n",
       "28         New Hampshire    NH      7.60          61820   3177772   215917.8\n",
       "29            New Jersey    NJ      8.62          13893   1395231   105414.4\n",
       "30            New Mexico    NM      5.35         154032   9261699   745422.2\n",
       "31              New York    NY      6.88          26969   2113344   122114.8\n",
       "32       North Carolina     NC      2.50         298059  19677151  2053179.7\n",
       "33          North Dakota    ND      3.09         163763  10698973   730072.4\n",
       "34                 Ohio     OH      0.00           7940    779261    73267.1\n",
       "35              Oklahoma    OK      4.00         139706  11756058   822669.7\n",
       "36                Oregon    OR      7.10          55020   4019800   240534.3\n",
       "37          Pennsylvania    PA      9.99          49277   4240137   299125.5\n",
       "38          Rhode Island    RI      7.00         138402  12972008   923088.8\n",
       "39        South Carolina    SC      5.00          10876   1093734    71402.2\n",
       "40          South Dakota    SD      0.00          90534   5282634   295880.5\n",
       "41             Tennessee    TN      6.50          10365    909824    67570.7\n",
       "42                 Texas    TX      0.00          91283   7051339   475755.1\n",
       "43                  Utah    UT      4.85         464959  30029572  2355959.7\n",
       "44               Vermont    VT      7.17          65064   3380800   248176.3\n",
       "45              Virginia    VA      6.00           7461    647064    40617.1\n",
       "46            Washington    WA      0.00         123426   8683619   649392.6\n",
       "47         West Virginia    WV      6.50          88376   7785786   725513.5\n",
       "48            Wisconsin     WI      7.90          13770   1775156    95588.4\n",
       "49               Wyoming    WY      0.00          64151   5892539   401791.5\n",
       "50  District of Columbia    DC      8.25          41561    581381    47432.5"
      ]
     },
     "execution_count": 95,
     "metadata": {},
     "output_type": "execute_result"
    }
   ],
   "source": [
    "df_temp"
   ]
  },
  {
   "cell_type": "code",
   "execution_count": 70,
   "id": "ea113371",
   "metadata": {},
   "outputs": [
    {
     "data": {
      "text/plain": [
       "Name              object\n",
       "State             object\n",
       "tax_rate         float64\n",
       "business_apps      int64\n",
       "pop                int64\n",
       "dtype: object"
      ]
     },
     "execution_count": 70,
     "metadata": {},
     "output_type": "execute_result"
    }
   ],
   "source": [
    "df_change.dtypes"
   ]
  },
  {
   "cell_type": "code",
   "execution_count": 84,
   "id": "99d20256",
   "metadata": {},
   "outputs": [
    {
     "data": {
      "application/vnd.plotly.v1+json": {
       "config": {
        "plotlyServerURL": "https://plot.ly"
       },
       "data": [
        {
         "hovertemplate": "States=Alabama<br>Tax Rate Change=%{x}<br>gdp=%{y}<br>Incrimental Business Applications=%{marker.size}<extra></extra>",
         "legendgroup": "Alabama",
         "marker": {
          "color": "#636efa",
          "size": [
           39672
          ],
          "sizemode": "area",
          "sizeref": 90.43805555555555,
          "symbol": "circle"
         },
         "mode": "markers",
         "name": "Alabama",
         "orientation": "v",
         "showlegend": true,
         "type": "scatter",
         "x": [
          0
         ],
         "xaxis": "x",
         "y": [
          118970.70000000001
         ],
         "yaxis": "y"
        },
        {
         "hovertemplate": "States=Alaska<br>Tax Rate Change=%{x}<br>gdp=%{y}<br>Incrimental Business Applications=%{marker.size}<extra></extra>",
         "legendgroup": "Alaska",
         "marker": {
          "color": "#EF553B",
          "size": [
           3726
          ],
          "sizemode": "area",
          "sizeref": 90.43805555555555,
          "symbol": "circle"
         },
         "mode": "markers",
         "name": "Alaska",
         "orientation": "v",
         "showlegend": true,
         "type": "scatter",
         "x": [
          -0.10000000000000053
         ],
         "xaxis": "x",
         "y": [
          23261.4
         ],
         "yaxis": "y"
        },
        {
         "hovertemplate": "States=Arizona<br>Tax Rate Change=%{x}<br>gdp=%{y}<br>Incrimental Business Applications=%{marker.size}<extra></extra>",
         "legendgroup": "Arizona",
         "marker": {
          "color": "#00cc96",
          "size": [
           58533
          ],
          "sizemode": "area",
          "sizeref": 90.43805555555555,
          "symbol": "circle"
         },
         "mode": "markers",
         "name": "Arizona",
         "orientation": "v",
         "showlegend": true,
         "type": "scatter",
         "x": [
          -2.0699999999999994
         ],
         "xaxis": "x",
         "y": [
          231033.9
         ],
         "yaxis": "y"
        },
        {
         "hovertemplate": "States=Arkansas<br>Tax Rate Change=%{x}<br>gdp=%{y}<br>Incrimental Business Applications=%{marker.size}<extra></extra>",
         "legendgroup": "Arkansas",
         "marker": {
          "color": "#ab63fa",
          "size": [
           18429
          ],
          "sizemode": "area",
          "sizeref": 90.43805555555555,
          "symbol": "circle"
         },
         "mode": "markers",
         "name": "Arkansas",
         "orientation": "v",
         "showlegend": true,
         "type": "scatter",
         "x": [
          -0.27
         ],
         "xaxis": "x",
         "y": [
          74332.90000000001
         ],
         "yaxis": "y"
        },
        {
         "hovertemplate": "States=California<br>Tax Rate Change=%{x}<br>gdp=%{y}<br>Incrimental Business Applications=%{marker.size}<extra></extra>",
         "legendgroup": "California",
         "marker": {
          "color": "#FFA15A",
          "size": [
           214318
          ],
          "sizemode": "area",
          "sizeref": 90.43805555555555,
          "symbol": "circle"
         },
         "mode": "markers",
         "name": "California",
         "orientation": "v",
         "showlegend": true,
         "type": "scatter",
         "x": [
          0
         ],
         "xaxis": "x",
         "y": [
          1899542.3000000003
         ],
         "yaxis": "y"
        },
        {
         "hovertemplate": "States=Colorado<br>Tax Rate Change=%{x}<br>gdp=%{y}<br>Incrimental Business Applications=%{marker.size}<extra></extra>",
         "legendgroup": "Colorado",
         "marker": {
          "color": "#19d3f3",
          "size": [
           59773
          ],
          "sizemode": "area",
          "sizeref": 90.43805555555555,
          "symbol": "circle"
         },
         "mode": "markers",
         "name": "Colorado",
         "orientation": "v",
         "showlegend": true,
         "type": "scatter",
         "x": [
          -0.08000000000000007
         ],
         "xaxis": "x",
         "y": [
          263587.8
         ],
         "yaxis": "y"
        },
        {
         "hovertemplate": "States=Connecticut<br>Tax Rate Change=%{x}<br>gdp=%{y}<br>Incrimental Business Applications=%{marker.size}<extra></extra>",
         "legendgroup": "Connecticut",
         "marker": {
          "color": "#FF6692",
          "size": [
           16190
          ],
          "sizemode": "area",
          "sizeref": 90.43805555555555,
          "symbol": "circle"
         },
         "mode": "markers",
         "name": "Connecticut",
         "orientation": "v",
         "showlegend": true,
         "type": "scatter",
         "x": [
          0
         ],
         "xaxis": "x",
         "y": [
          116629.99999999997
         ],
         "yaxis": "y"
        },
        {
         "hovertemplate": "States=Delaware<br>Tax Rate Change=%{x}<br>gdp=%{y}<br>Incrimental Business Applications=%{marker.size}<extra></extra>",
         "legendgroup": "Delaware",
         "marker": {
          "color": "#B6E880",
          "size": [
           34138
          ],
          "sizemode": "area",
          "sizeref": 90.43805555555555,
          "symbol": "circle"
         },
         "mode": "markers",
         "name": "Delaware",
         "orientation": "v",
         "showlegend": true,
         "type": "scatter",
         "x": [
          0
         ],
         "xaxis": "x",
         "y": [
          35371.3
         ],
         "yaxis": "y"
        },
        {
         "hovertemplate": "States=Florida<br>Tax Rate Change=%{x}<br>gdp=%{y}<br>Incrimental Business Applications=%{marker.size}<extra></extra>",
         "legendgroup": "Florida",
         "marker": {
          "color": "#FF97FF",
          "size": [
           6993
          ],
          "sizemode": "area",
          "sizeref": 90.43805555555555,
          "symbol": "circle"
         },
         "mode": "markers",
         "name": "Florida",
         "orientation": "v",
         "showlegend": true,
         "type": "scatter",
         "x": [
          0
         ],
         "xaxis": "x",
         "y": [
          77446.79999999999
         ],
         "yaxis": "y"
        },
        {
         "hovertemplate": "States=Georgia<br>Tax Rate Change=%{x}<br>gdp=%{y}<br>Incrimental Business Applications=%{marker.size}<extra></extra>",
         "legendgroup": "Georgia",
         "marker": {
          "color": "#FECB52",
          "size": [
           325577
          ],
          "sizemode": "area",
          "sizeref": 90.43805555555555,
          "symbol": "circle"
         },
         "mode": "markers",
         "name": "Georgia",
         "orientation": "v",
         "showlegend": true,
         "type": "scatter",
         "x": [
          -0.25
         ],
         "xaxis": "x",
         "y": [
          683217.7999999999
         ],
         "yaxis": "y"
        },
        {
         "hovertemplate": "States=Hawaii<br>Tax Rate Change=%{x}<br>gdp=%{y}<br>Incrimental Business Applications=%{marker.size}<extra></extra>",
         "legendgroup": "Hawaii",
         "marker": {
          "color": "#636efa",
          "size": [
           175422
          ],
          "sizemode": "area",
          "sizeref": 90.43805555555555,
          "symbol": "circle"
         },
         "mode": "markers",
         "name": "Hawaii",
         "orientation": "v",
         "showlegend": true,
         "type": "scatter",
         "x": [
          0
         ],
         "xaxis": "x",
         "y": [
          366160.2
         ],
         "yaxis": "y"
        },
        {
         "hovertemplate": "States=Idaho<br>Tax Rate Change=%{x}<br>gdp=%{y}<br>Incrimental Business Applications=%{marker.size}<extra></extra>",
         "legendgroup": "Idaho",
         "marker": {
          "color": "#EF553B",
          "size": [
           8860
          ],
          "sizemode": "area",
          "sizeref": 90.43805555555555,
          "symbol": "circle"
         },
         "mode": "markers",
         "name": "Idaho",
         "orientation": "v",
         "showlegend": true,
         "type": "scatter",
         "x": [
          -1.5999999999999996
         ],
         "xaxis": "x",
         "y": [
          40849.4
         ],
         "yaxis": "y"
        },
        {
         "hovertemplate": "States=Illinois<br>Tax Rate Change=%{x}<br>gdp=%{y}<br>Incrimental Business Applications=%{marker.size}<extra></extra>",
         "legendgroup": "Illinois",
         "marker": {
          "color": "#00cc96",
          "size": [
           14670
          ],
          "sizemode": "area",
          "sizeref": 90.43805555555555,
          "symbol": "circle"
         },
         "mode": "markers",
         "name": "Illinois",
         "orientation": "v",
         "showlegend": true,
         "type": "scatter",
         "x": [
          2.2
         ],
         "xaxis": "x",
         "y": [
          60903.7
         ],
         "yaxis": "y"
        },
        {
         "hovertemplate": "States=Indiana<br>Tax Rate Change=%{x}<br>gdp=%{y}<br>Incrimental Business Applications=%{marker.size}<extra></extra>",
         "legendgroup": "Indiana",
         "marker": {
          "color": "#ab63fa",
          "size": [
           73967
          ],
          "sizemode": "area",
          "sizeref": 90.43805555555555,
          "symbol": "circle"
         },
         "mode": "markers",
         "name": "Indiana",
         "orientation": "v",
         "showlegend": true,
         "type": "scatter",
         "x": [
          -3.5999999999999996
         ],
         "xaxis": "x",
         "y": [
          443498.29999999993
         ],
         "yaxis": "y"
        },
        {
         "hovertemplate": "States=Iowa<br>Tax Rate Change=%{x}<br>gdp=%{y}<br>Incrimental Business Applications=%{marker.size}<extra></extra>",
         "legendgroup": "Iowa",
         "marker": {
          "color": "#FFA15A",
          "size": [
           45028
          ],
          "sizemode": "area",
          "sizeref": 90.43805555555555,
          "symbol": "circle"
         },
         "mode": "markers",
         "name": "Iowa",
         "orientation": "v",
         "showlegend": true,
         "type": "scatter",
         "x": [
          -0.9000000000000004
         ],
         "xaxis": "x",
         "y": [
          207579.7
         ],
         "yaxis": "y"
        },
        {
         "hovertemplate": "States=Kansas<br>Tax Rate Change=%{x}<br>gdp=%{y}<br>Incrimental Business Applications=%{marker.size}<extra></extra>",
         "legendgroup": "Kansas",
         "marker": {
          "color": "#19d3f3",
          "size": [
           11872
          ],
          "sizemode": "area",
          "sizeref": 90.43805555555555,
          "symbol": "circle"
         },
         "mode": "markers",
         "name": "Kansas",
         "orientation": "v",
         "showlegend": true,
         "type": "scatter",
         "x": [
          1.5
         ],
         "xaxis": "x",
         "y": [
          107916.9
         ],
         "yaxis": "y"
        },
        {
         "hovertemplate": "States=Kentucky<br>Tax Rate Change=%{x}<br>gdp=%{y}<br>Incrimental Business Applications=%{marker.size}<extra></extra>",
         "legendgroup": "Kentucky",
         "marker": {
          "color": "#FF6692",
          "size": [
           11934
          ],
          "sizemode": "area",
          "sizeref": 90.43805555555555,
          "symbol": "circle"
         },
         "mode": "markers",
         "name": "Kentucky",
         "orientation": "v",
         "showlegend": true,
         "type": "scatter",
         "x": [
          -1.0499999999999998
         ],
         "xaxis": "x",
         "y": [
          105144.2
         ],
         "yaxis": "y"
        },
        {
         "hovertemplate": "States=Louisiana<br>Tax Rate Change=%{x}<br>gdp=%{y}<br>Incrimental Business Applications=%{marker.size}<extra></extra>",
         "legendgroup": "Louisiana",
         "marker": {
          "color": "#B6E880",
          "size": [
           21123
          ],
          "sizemode": "area",
          "sizeref": 90.43805555555555,
          "symbol": "circle"
         },
         "mode": "markers",
         "name": "Louisiana",
         "orientation": "v",
         "showlegend": true,
         "type": "scatter",
         "x": [
          -0.6699999999999999
         ],
         "xaxis": "x",
         "y": [
          115293
         ],
         "yaxis": "y"
        },
        {
         "hovertemplate": "States=Maine<br>Tax Rate Change=%{x}<br>gdp=%{y}<br>Incrimental Business Applications=%{marker.size}<extra></extra>",
         "legendgroup": "Maine",
         "marker": {
          "color": "#FF97FF",
          "size": [
           44379
          ],
          "sizemode": "area",
          "sizeref": 90.43805555555555,
          "symbol": "circle"
         },
         "mode": "markers",
         "name": "Maine",
         "orientation": "v",
         "showlegend": true,
         "type": "scatter",
         "x": [
          0
         ],
         "xaxis": "x",
         "y": [
          81834.59999999998
         ],
         "yaxis": "y"
        },
        {
         "hovertemplate": "States=Maryland<br>Tax Rate Change=%{x}<br>gdp=%{y}<br>Incrimental Business Applications=%{marker.size}<extra></extra>",
         "legendgroup": "Maryland",
         "marker": {
          "color": "#FECB52",
          "size": [
           3767
          ],
          "sizemode": "area",
          "sizeref": 90.43805555555555,
          "symbol": "circle"
         },
         "mode": "markers",
         "name": "Maryland",
         "orientation": "v",
         "showlegend": true,
         "type": "scatter",
         "x": [
          1.25
         ],
         "xaxis": "x",
         "y": [
          37419
         ],
         "yaxis": "y"
        },
        {
         "hovertemplate": "States=Massachusetts<br>Tax Rate Change=%{x}<br>gdp=%{y}<br>Incrimental Business Applications=%{marker.size}<extra></extra>",
         "legendgroup": "Massachusetts",
         "marker": {
          "color": "#636efa",
          "size": [
           44771
          ],
          "sizemode": "area",
          "sizeref": 90.43805555555555,
          "symbol": "circle"
         },
         "mode": "markers",
         "name": "Massachusetts",
         "orientation": "v",
         "showlegend": true,
         "type": "scatter",
         "x": [
          -1.5
         ],
         "xaxis": "x",
         "y": [
          208087.09999999998
         ],
         "yaxis": "y"
        },
        {
         "hovertemplate": "States=Michigan<br>Tax Rate Change=%{x}<br>gdp=%{y}<br>Incrimental Business Applications=%{marker.size}<extra></extra>",
         "legendgroup": "Michigan",
         "marker": {
          "color": "#EF553B",
          "size": [
           24264
          ],
          "sizemode": "area",
          "sizeref": 90.43805555555555,
          "symbol": "circle"
         },
         "mode": "markers",
         "name": "Michigan",
         "orientation": "v",
         "showlegend": true,
         "type": "scatter",
         "x": [
          4.1
         ],
         "xaxis": "x",
         "y": [
          346398.39999999997
         ],
         "yaxis": "y"
        },
        {
         "hovertemplate": "States=Minnesota<br>Tax Rate Change=%{x}<br>gdp=%{y}<br>Incrimental Business Applications=%{marker.size}<extra></extra>",
         "legendgroup": "Minnesota",
         "marker": {
          "color": "#00cc96",
          "size": [
           60776
          ],
          "sizemode": "area",
          "sizeref": 90.43805555555555,
          "symbol": "circle"
         },
         "mode": "markers",
         "name": "Minnesota",
         "orientation": "v",
         "showlegend": true,
         "type": "scatter",
         "x": [
          0
         ],
         "xaxis": "x",
         "y": [
          220426.69999999995
         ],
         "yaxis": "y"
        },
        {
         "hovertemplate": "States=Mississippi<br>Tax Rate Change=%{x}<br>gdp=%{y}<br>Incrimental Business Applications=%{marker.size}<extra></extra>",
         "legendgroup": "Mississippi",
         "marker": {
          "color": "#ab63fa",
          "size": [
           21193
          ],
          "sizemode": "area",
          "sizeref": 90.43805555555555,
          "symbol": "circle"
         },
         "mode": "markers",
         "name": "Mississippi",
         "orientation": "v",
         "showlegend": true,
         "type": "scatter",
         "x": [
          -1
         ],
         "xaxis": "x",
         "y": [
          201119
         ],
         "yaxis": "y"
        },
        {
         "hovertemplate": "States=Missouri<br>Tax Rate Change=%{x}<br>gdp=%{y}<br>Incrimental Business Applications=%{marker.size}<extra></extra>",
         "legendgroup": "Missouri",
         "marker": {
          "color": "#FFA15A",
          "size": [
           36155
          ],
          "sizemode": "area",
          "sizeref": 90.43805555555555,
          "symbol": "circle"
         },
         "mode": "markers",
         "name": "Missouri",
         "orientation": "v",
         "showlegend": true,
         "type": "scatter",
         "x": [
          -2.25
         ],
         "xaxis": "x",
         "y": [
          56291.20000000001
         ],
         "yaxis": "y"
        },
        {
         "hovertemplate": "States=Montana<br>Tax Rate Change=%{x}<br>gdp=%{y}<br>Incrimental Business Applications=%{marker.size}<extra></extra>",
         "legendgroup": "Montana",
         "marker": {
          "color": "#19d3f3",
          "size": [
           36039
          ],
          "sizemode": "area",
          "sizeref": 90.43805555555555,
          "symbol": "circle"
         },
         "mode": "markers",
         "name": "Montana",
         "orientation": "v",
         "showlegend": true,
         "type": "scatter",
         "x": [
          0
         ],
         "xaxis": "x",
         "y": [
          161959.90000000002
         ],
         "yaxis": "y"
        },
        {
         "hovertemplate": "States=Nebraska<br>Tax Rate Change=%{x}<br>gdp=%{y}<br>Incrimental Business Applications=%{marker.size}<extra></extra>",
         "legendgroup": "Nebraska",
         "marker": {
          "color": "#FF6692",
          "size": [
           9337
          ],
          "sizemode": "area",
          "sizeref": 90.43805555555555,
          "symbol": "circle"
         },
         "mode": "markers",
         "name": "Nebraska",
         "orientation": "v",
         "showlegend": true,
         "type": "scatter",
         "x": [
          0
         ],
         "xaxis": "x",
         "y": [
          34138.7
         ],
         "yaxis": "y"
        },
        {
         "hovertemplate": "States=Nevada<br>Tax Rate Change=%{x}<br>gdp=%{y}<br>Incrimental Business Applications=%{marker.size}<extra></extra>",
         "legendgroup": "Nevada",
         "marker": {
          "color": "#B6E880",
          "size": [
           9651
          ],
          "sizemode": "area",
          "sizeref": 90.43805555555555,
          "symbol": "circle"
         },
         "mode": "markers",
         "name": "Nevada",
         "orientation": "v",
         "showlegend": true,
         "type": "scatter",
         "x": [
          0
         ],
         "xaxis": "x",
         "y": [
          87137.5
         ],
         "yaxis": "y"
        },
        {
         "hovertemplate": "States=New Hampshire<br>Tax Rate Change=%{x}<br>gdp=%{y}<br>Incrimental Business Applications=%{marker.size}<extra></extra>",
         "legendgroup": "New Hampshire",
         "marker": {
          "color": "#FF97FF",
          "size": [
           18164
          ],
          "sizemode": "area",
          "sizeref": 90.43805555555555,
          "symbol": "circle"
         },
         "mode": "markers",
         "name": "New Hampshire",
         "orientation": "v",
         "showlegend": true,
         "type": "scatter",
         "x": [
          -1.2800000000000011
         ],
         "xaxis": "x",
         "y": [
          99751.59999999999
         ],
         "yaxis": "y"
        },
        {
         "hovertemplate": "States=New Jersey<br>Tax Rate Change=%{x}<br>gdp=%{y}<br>Incrimental Business Applications=%{marker.size}<extra></extra>",
         "legendgroup": "New Jersey",
         "marker": {
          "color": "#FECB52",
          "size": [
           3233
          ],
          "sizemode": "area",
          "sizeref": 90.43805555555555,
          "symbol": "circle"
         },
         "mode": "markers",
         "name": "New Jersey",
         "orientation": "v",
         "showlegend": true,
         "type": "scatter",
         "x": [
          0.9499999999999993
         ],
         "xaxis": "x",
         "y": [
          48461.799999999996
         ],
         "yaxis": "y"
        },
        {
         "hovertemplate": "States=New Mexico<br>Tax Rate Change=%{x}<br>gdp=%{y}<br>Incrimental Business Applications=%{marker.size}<extra></extra>",
         "legendgroup": "New Mexico",
         "marker": {
          "color": "#636efa",
          "size": [
           66797
          ],
          "sizemode": "area",
          "sizeref": 90.43805555555555,
          "symbol": "circle"
         },
         "mode": "markers",
         "name": "New Mexico",
         "orientation": "v",
         "showlegend": true,
         "type": "scatter",
         "x": [
          -0.9199999999999999
         ],
         "xaxis": "x",
         "y": [
          309685.49999999994
         ],
         "yaxis": "y"
        },
        {
         "hovertemplate": "States=New York<br>Tax Rate Change=%{x}<br>gdp=%{y}<br>Incrimental Business Applications=%{marker.size}<extra></extra>",
         "legendgroup": "New York",
         "marker": {
          "color": "#EF553B",
          "size": [
           15471
          ],
          "sizemode": "area",
          "sizeref": 90.43805555555555,
          "symbol": "circle"
         },
         "mode": "markers",
         "name": "New York",
         "orientation": "v",
         "showlegend": true,
         "type": "scatter",
         "x": [
          -0.6200000000000001
         ],
         "xaxis": "x",
         "y": [
          48203.40000000001
         ],
         "yaxis": "y"
        },
        {
         "hovertemplate": "States=North Carolina <br>Tax Rate Change=%{x}<br>gdp=%{y}<br>Incrimental Business Applications=%{marker.size}<extra></extra>",
         "legendgroup": "North Carolina ",
         "marker": {
          "color": "#00cc96",
          "size": [
           125040
          ],
          "sizemode": "area",
          "sizeref": 90.43805555555555,
          "symbol": "circle"
         },
         "mode": "markers",
         "name": "North Carolina ",
         "orientation": "v",
         "showlegend": true,
         "type": "scatter",
         "x": [
          -4.4
         ],
         "xaxis": "x",
         "y": [
          1037142.2
         ],
         "yaxis": "y"
        },
        {
         "hovertemplate": "States=North Dakota<br>Tax Rate Change=%{x}<br>gdp=%{y}<br>Incrimental Business Applications=%{marker.size}<extra></extra>",
         "legendgroup": "North Dakota",
         "marker": {
          "color": "#ab63fa",
          "size": [
           92031
          ],
          "sizemode": "area",
          "sizeref": 90.43805555555555,
          "symbol": "circle"
         },
         "mode": "markers",
         "name": "North Dakota",
         "orientation": "v",
         "showlegend": true,
         "type": "scatter",
         "x": [
          -2.05
         ],
         "xaxis": "x",
         "y": [
          374602.7
         ],
         "yaxis": "y"
        },
        {
         "hovertemplate": "States=Ohio <br>Tax Rate Change=%{x}<br>gdp=%{y}<br>Incrimental Business Applications=%{marker.size}<extra></extra>",
         "legendgroup": "Ohio ",
         "marker": {
          "color": "#FFA15A",
          "size": [
           3749
          ],
          "sizemode": "area",
          "sizeref": 90.43805555555555,
          "symbol": "circle"
         },
         "mode": "markers",
         "name": "Ohio ",
         "orientation": "v",
         "showlegend": true,
         "type": "scatter",
         "x": [
          -6.8
         ],
         "xaxis": "x",
         "y": [
          48567.100000000006
         ],
         "yaxis": "y"
        },
        {
         "hovertemplate": "States=Oklahoma<br>Tax Rate Change=%{x}<br>gdp=%{y}<br>Incrimental Business Applications=%{marker.size}<extra></extra>",
         "legendgroup": "Oklahoma",
         "marker": {
          "color": "#19d3f3",
          "size": [
           73594
          ],
          "sizemode": "area",
          "sizeref": 90.43805555555555,
          "symbol": "circle"
         },
         "mode": "markers",
         "name": "Oklahoma",
         "orientation": "v",
         "showlegend": true,
         "type": "scatter",
         "x": [
          -2
         ],
         "xaxis": "x",
         "y": [
          353778.1
         ],
         "yaxis": "y"
        },
        {
         "hovertemplate": "States=Oregon<br>Tax Rate Change=%{x}<br>gdp=%{y}<br>Incrimental Business Applications=%{marker.size}<extra></extra>",
         "legendgroup": "Oregon",
         "marker": {
          "color": "#FF6692",
          "size": [
           28228
          ],
          "sizemode": "area",
          "sizeref": 90.43805555555555,
          "symbol": "circle"
         },
         "mode": "markers",
         "name": "Oregon",
         "orientation": "v",
         "showlegend": true,
         "type": "scatter",
         "x": [
          0.5
         ],
         "xaxis": "x",
         "y": [
          115452.69999999998
         ],
         "yaxis": "y"
        },
        {
         "hovertemplate": "States=Pennsylvania<br>Tax Rate Change=%{x}<br>gdp=%{y}<br>Incrimental Business Applications=%{marker.size}<extra></extra>",
         "legendgroup": "Pennsylvania",
         "marker": {
          "color": "#B6E880",
          "size": [
           19807
          ],
          "sizemode": "area",
          "sizeref": 90.43805555555555,
          "symbol": "circle"
         },
         "mode": "markers",
         "name": "Pennsylvania",
         "orientation": "v",
         "showlegend": true,
         "type": "scatter",
         "x": [
          0
         ],
         "xaxis": "x",
         "y": [
          155617.7
         ],
         "yaxis": "y"
        },
        {
         "hovertemplate": "States=Rhode Island<br>Tax Rate Change=%{x}<br>gdp=%{y}<br>Incrimental Business Applications=%{marker.size}<extra></extra>",
         "legendgroup": "Rhode Island",
         "marker": {
          "color": "#FF97FF",
          "size": [
           62977
          ],
          "sizemode": "area",
          "sizeref": 90.43805555555555,
          "symbol": "circle"
         },
         "mode": "markers",
         "name": "Rhode Island",
         "orientation": "v",
         "showlegend": true,
         "type": "scatter",
         "x": [
          -2
         ],
         "xaxis": "x",
         "y": [
          411357.4
         ],
         "yaxis": "y"
        },
        {
         "hovertemplate": "States=South Carolina<br>Tax Rate Change=%{x}<br>gdp=%{y}<br>Incrimental Business Applications=%{marker.size}<extra></extra>",
         "legendgroup": "South Carolina",
         "marker": {
          "color": "#FECB52",
          "size": [
           3643
          ],
          "sizemode": "area",
          "sizeref": 90.43805555555555,
          "symbol": "circle"
         },
         "mode": "markers",
         "name": "South Carolina",
         "orientation": "v",
         "showlegend": true,
         "type": "scatter",
         "x": [
          0
         ],
         "xaxis": "x",
         "y": [
          27028.1
         ],
         "yaxis": "y"
        },
        {
         "hovertemplate": "States=South Dakota<br>Tax Rate Change=%{x}<br>gdp=%{y}<br>Incrimental Business Applications=%{marker.size}<extra></extra>",
         "legendgroup": "South Dakota",
         "marker": {
          "color": "#636efa",
          "size": [
           57315
          ],
          "sizemode": "area",
          "sizeref": 90.43805555555555,
          "symbol": "circle"
         },
         "mode": "markers",
         "name": "South Dakota",
         "orientation": "v",
         "showlegend": true,
         "type": "scatter",
         "x": [
          0
         ],
         "xaxis": "x",
         "y": [
          150476.9
         ],
         "yaxis": "y"
        },
        {
         "hovertemplate": "States=Tennessee<br>Tax Rate Change=%{x}<br>gdp=%{y}<br>Incrimental Business Applications=%{marker.size}<extra></extra>",
         "legendgroup": "Tennessee",
         "marker": {
          "color": "#EF553B",
          "size": [
           4859
          ],
          "sizemode": "area",
          "sizeref": 90.43805555555555,
          "symbol": "circle"
         },
         "mode": "markers",
         "name": "Tennessee",
         "orientation": "v",
         "showlegend": true,
         "type": "scatter",
         "x": [
          0
         ],
         "xaxis": "x",
         "y": [
          36573.299999999996
         ],
         "yaxis": "y"
        },
        {
         "hovertemplate": "States=Texas<br>Tax Rate Change=%{x}<br>gdp=%{y}<br>Incrimental Business Applications=%{marker.size}<extra></extra>",
         "legendgroup": "Texas",
         "marker": {
          "color": "#00cc96",
          "size": [
           54331
          ],
          "sizemode": "area",
          "sizeref": 90.43805555555555,
          "symbol": "circle"
         },
         "mode": "markers",
         "name": "Texas",
         "orientation": "v",
         "showlegend": true,
         "type": "scatter",
         "x": [
          0
         ],
         "xaxis": "x",
         "y": [
          244121.59999999998
         ],
         "yaxis": "y"
        },
        {
         "hovertemplate": "States=Utah<br>Tax Rate Change=%{x}<br>gdp=%{y}<br>Incrimental Business Applications=%{marker.size}<extra></extra>",
         "legendgroup": "Utah",
         "marker": {
          "color": "#ab63fa",
          "size": [
           290842
          ],
          "sizemode": "area",
          "sizeref": 90.43805555555555,
          "symbol": "circle"
         },
         "mode": "markers",
         "name": "Utah",
         "orientation": "v",
         "showlegend": true,
         "type": "scatter",
         "x": [
          -0.15000000000000036
         ],
         "xaxis": "x",
         "y": [
          1360707.3000000003
         ],
         "yaxis": "y"
        },
        {
         "hovertemplate": "States=Vermont<br>Tax Rate Change=%{x}<br>gdp=%{y}<br>Incrimental Business Applications=%{marker.size}<extra></extra>",
         "legendgroup": "Vermont",
         "marker": {
          "color": "#FFA15A",
          "size": [
           36039
          ],
          "sizemode": "area",
          "sizeref": 90.43805555555555,
          "symbol": "circle"
         },
         "mode": "markers",
         "name": "Vermont",
         "orientation": "v",
         "showlegend": true,
         "type": "scatter",
         "x": [
          -1.3399999999999999
         ],
         "xaxis": "x",
         "y": [
          152821.19999999998
         ],
         "yaxis": "y"
        },
        {
         "hovertemplate": "States=Virginia<br>Tax Rate Change=%{x}<br>gdp=%{y}<br>Incrimental Business Applications=%{marker.size}<extra></extra>",
         "legendgroup": "Virginia",
         "marker": {
          "color": "#19d3f3",
          "size": [
           2945
          ],
          "sizemode": "area",
          "sizeref": 90.43805555555555,
          "symbol": "circle"
         },
         "mode": "markers",
         "name": "Virginia",
         "orientation": "v",
         "showlegend": true,
         "type": "scatter",
         "x": [
          0
         ],
         "xaxis": "x",
         "y": [
          17008.5
         ],
         "yaxis": "y"
        },
        {
         "hovertemplate": "States=Washington<br>Tax Rate Change=%{x}<br>gdp=%{y}<br>Incrimental Business Applications=%{marker.size}<extra></extra>",
         "legendgroup": "Washington",
         "marker": {
          "color": "#FF6692",
          "size": [
           59556
          ],
          "sizemode": "area",
          "sizeref": 90.43805555555555,
          "symbol": "circle"
         },
         "mode": "markers",
         "name": "Washington",
         "orientation": "v",
         "showlegend": true,
         "type": "scatter",
         "x": [
          0
         ],
         "xaxis": "x",
         "y": [
          291322.89999999997
         ],
         "yaxis": "y"
        },
        {
         "hovertemplate": "States=West Virginia<br>Tax Rate Change=%{x}<br>gdp=%{y}<br>Incrimental Business Applications=%{marker.size}<extra></extra>",
         "legendgroup": "West Virginia",
         "marker": {
          "color": "#B6E880",
          "size": [
           38888
          ],
          "sizemode": "area",
          "sizeref": 90.43805555555555,
          "symbol": "circle"
         },
         "mode": "markers",
         "name": "West Virginia",
         "orientation": "v",
         "showlegend": true,
         "type": "scatter",
         "x": [
          -2.5
         ],
         "xaxis": "x",
         "y": [
          431837.5
         ],
         "yaxis": "y"
        },
        {
         "hovertemplate": "States=Wisconsin <br>Tax Rate Change=%{x}<br>gdp=%{y}<br>Incrimental Business Applications=%{marker.size}<extra></extra>",
         "legendgroup": "Wisconsin ",
         "marker": {
          "color": "#FF97FF",
          "size": [
           4685
          ],
          "sizemode": "area",
          "sizeref": 90.43805555555555,
          "symbol": "circle"
         },
         "mode": "markers",
         "name": "Wisconsin ",
         "orientation": "v",
         "showlegend": true,
         "type": "scatter",
         "x": [
          0
         ],
         "xaxis": "x",
         "y": [
          42095.899999999994
         ],
         "yaxis": "y"
        },
        {
         "hovertemplate": "States=Wyoming<br>Tax Rate Change=%{x}<br>gdp=%{y}<br>Incrimental Business Applications=%{marker.size}<extra></extra>",
         "legendgroup": "Wyoming",
         "marker": {
          "color": "#FECB52",
          "size": [
           26518
          ],
          "sizemode": "area",
          "sizeref": 90.43805555555555,
          "symbol": "circle"
         },
         "mode": "markers",
         "name": "Wyoming",
         "orientation": "v",
         "showlegend": true,
         "type": "scatter",
         "x": [
          0
         ],
         "xaxis": "x",
         "y": [
          174494.5
         ],
         "yaxis": "y"
        },
        {
         "hovertemplate": "States=District of Columbia<br>Tax Rate Change=%{x}<br>gdp=%{y}<br>Incrimental Business Applications=%{marker.size}<extra></extra>",
         "legendgroup": "District of Columbia",
         "marker": {
          "color": "#636efa",
          "size": [
           36119
          ],
          "sizemode": "area",
          "sizeref": 90.43805555555555,
          "symbol": "circle"
         },
         "mode": "markers",
         "name": "District of Columbia",
         "orientation": "v",
         "showlegend": true,
         "type": "scatter",
         "x": [
          -1.7300000000000004
         ],
         "xaxis": "x",
         "y": [
          19856.2
         ],
         "yaxis": "y"
        }
       ],
       "layout": {
        "legend": {
         "itemsizing": "constant",
         "title": {
          "text": "States"
         },
         "tracegroupgap": 0
        },
        "template": {
         "data": {
          "bar": [
           {
            "error_x": {
             "color": "#2a3f5f"
            },
            "error_y": {
             "color": "#2a3f5f"
            },
            "marker": {
             "line": {
              "color": "#E5ECF6",
              "width": 0.5
             },
             "pattern": {
              "fillmode": "overlay",
              "size": 10,
              "solidity": 0.2
             }
            },
            "type": "bar"
           }
          ],
          "barpolar": [
           {
            "marker": {
             "line": {
              "color": "#E5ECF6",
              "width": 0.5
             },
             "pattern": {
              "fillmode": "overlay",
              "size": 10,
              "solidity": 0.2
             }
            },
            "type": "barpolar"
           }
          ],
          "carpet": [
           {
            "aaxis": {
             "endlinecolor": "#2a3f5f",
             "gridcolor": "white",
             "linecolor": "white",
             "minorgridcolor": "white",
             "startlinecolor": "#2a3f5f"
            },
            "baxis": {
             "endlinecolor": "#2a3f5f",
             "gridcolor": "white",
             "linecolor": "white",
             "minorgridcolor": "white",
             "startlinecolor": "#2a3f5f"
            },
            "type": "carpet"
           }
          ],
          "choropleth": [
           {
            "colorbar": {
             "outlinewidth": 0,
             "ticks": ""
            },
            "type": "choropleth"
           }
          ],
          "contour": [
           {
            "colorbar": {
             "outlinewidth": 0,
             "ticks": ""
            },
            "colorscale": [
             [
              0,
              "#0d0887"
             ],
             [
              0.1111111111111111,
              "#46039f"
             ],
             [
              0.2222222222222222,
              "#7201a8"
             ],
             [
              0.3333333333333333,
              "#9c179e"
             ],
             [
              0.4444444444444444,
              "#bd3786"
             ],
             [
              0.5555555555555556,
              "#d8576b"
             ],
             [
              0.6666666666666666,
              "#ed7953"
             ],
             [
              0.7777777777777778,
              "#fb9f3a"
             ],
             [
              0.8888888888888888,
              "#fdca26"
             ],
             [
              1,
              "#f0f921"
             ]
            ],
            "type": "contour"
           }
          ],
          "contourcarpet": [
           {
            "colorbar": {
             "outlinewidth": 0,
             "ticks": ""
            },
            "type": "contourcarpet"
           }
          ],
          "heatmap": [
           {
            "colorbar": {
             "outlinewidth": 0,
             "ticks": ""
            },
            "colorscale": [
             [
              0,
              "#0d0887"
             ],
             [
              0.1111111111111111,
              "#46039f"
             ],
             [
              0.2222222222222222,
              "#7201a8"
             ],
             [
              0.3333333333333333,
              "#9c179e"
             ],
             [
              0.4444444444444444,
              "#bd3786"
             ],
             [
              0.5555555555555556,
              "#d8576b"
             ],
             [
              0.6666666666666666,
              "#ed7953"
             ],
             [
              0.7777777777777778,
              "#fb9f3a"
             ],
             [
              0.8888888888888888,
              "#fdca26"
             ],
             [
              1,
              "#f0f921"
             ]
            ],
            "type": "heatmap"
           }
          ],
          "heatmapgl": [
           {
            "colorbar": {
             "outlinewidth": 0,
             "ticks": ""
            },
            "colorscale": [
             [
              0,
              "#0d0887"
             ],
             [
              0.1111111111111111,
              "#46039f"
             ],
             [
              0.2222222222222222,
              "#7201a8"
             ],
             [
              0.3333333333333333,
              "#9c179e"
             ],
             [
              0.4444444444444444,
              "#bd3786"
             ],
             [
              0.5555555555555556,
              "#d8576b"
             ],
             [
              0.6666666666666666,
              "#ed7953"
             ],
             [
              0.7777777777777778,
              "#fb9f3a"
             ],
             [
              0.8888888888888888,
              "#fdca26"
             ],
             [
              1,
              "#f0f921"
             ]
            ],
            "type": "heatmapgl"
           }
          ],
          "histogram": [
           {
            "marker": {
             "pattern": {
              "fillmode": "overlay",
              "size": 10,
              "solidity": 0.2
             }
            },
            "type": "histogram"
           }
          ],
          "histogram2d": [
           {
            "colorbar": {
             "outlinewidth": 0,
             "ticks": ""
            },
            "colorscale": [
             [
              0,
              "#0d0887"
             ],
             [
              0.1111111111111111,
              "#46039f"
             ],
             [
              0.2222222222222222,
              "#7201a8"
             ],
             [
              0.3333333333333333,
              "#9c179e"
             ],
             [
              0.4444444444444444,
              "#bd3786"
             ],
             [
              0.5555555555555556,
              "#d8576b"
             ],
             [
              0.6666666666666666,
              "#ed7953"
             ],
             [
              0.7777777777777778,
              "#fb9f3a"
             ],
             [
              0.8888888888888888,
              "#fdca26"
             ],
             [
              1,
              "#f0f921"
             ]
            ],
            "type": "histogram2d"
           }
          ],
          "histogram2dcontour": [
           {
            "colorbar": {
             "outlinewidth": 0,
             "ticks": ""
            },
            "colorscale": [
             [
              0,
              "#0d0887"
             ],
             [
              0.1111111111111111,
              "#46039f"
             ],
             [
              0.2222222222222222,
              "#7201a8"
             ],
             [
              0.3333333333333333,
              "#9c179e"
             ],
             [
              0.4444444444444444,
              "#bd3786"
             ],
             [
              0.5555555555555556,
              "#d8576b"
             ],
             [
              0.6666666666666666,
              "#ed7953"
             ],
             [
              0.7777777777777778,
              "#fb9f3a"
             ],
             [
              0.8888888888888888,
              "#fdca26"
             ],
             [
              1,
              "#f0f921"
             ]
            ],
            "type": "histogram2dcontour"
           }
          ],
          "mesh3d": [
           {
            "colorbar": {
             "outlinewidth": 0,
             "ticks": ""
            },
            "type": "mesh3d"
           }
          ],
          "parcoords": [
           {
            "line": {
             "colorbar": {
              "outlinewidth": 0,
              "ticks": ""
             }
            },
            "type": "parcoords"
           }
          ],
          "pie": [
           {
            "automargin": true,
            "type": "pie"
           }
          ],
          "scatter": [
           {
            "fillpattern": {
             "fillmode": "overlay",
             "size": 10,
             "solidity": 0.2
            },
            "type": "scatter"
           }
          ],
          "scatter3d": [
           {
            "line": {
             "colorbar": {
              "outlinewidth": 0,
              "ticks": ""
             }
            },
            "marker": {
             "colorbar": {
              "outlinewidth": 0,
              "ticks": ""
             }
            },
            "type": "scatter3d"
           }
          ],
          "scattercarpet": [
           {
            "marker": {
             "colorbar": {
              "outlinewidth": 0,
              "ticks": ""
             }
            },
            "type": "scattercarpet"
           }
          ],
          "scattergeo": [
           {
            "marker": {
             "colorbar": {
              "outlinewidth": 0,
              "ticks": ""
             }
            },
            "type": "scattergeo"
           }
          ],
          "scattergl": [
           {
            "marker": {
             "colorbar": {
              "outlinewidth": 0,
              "ticks": ""
             }
            },
            "type": "scattergl"
           }
          ],
          "scattermapbox": [
           {
            "marker": {
             "colorbar": {
              "outlinewidth": 0,
              "ticks": ""
             }
            },
            "type": "scattermapbox"
           }
          ],
          "scatterpolar": [
           {
            "marker": {
             "colorbar": {
              "outlinewidth": 0,
              "ticks": ""
             }
            },
            "type": "scatterpolar"
           }
          ],
          "scatterpolargl": [
           {
            "marker": {
             "colorbar": {
              "outlinewidth": 0,
              "ticks": ""
             }
            },
            "type": "scatterpolargl"
           }
          ],
          "scatterternary": [
           {
            "marker": {
             "colorbar": {
              "outlinewidth": 0,
              "ticks": ""
             }
            },
            "type": "scatterternary"
           }
          ],
          "surface": [
           {
            "colorbar": {
             "outlinewidth": 0,
             "ticks": ""
            },
            "colorscale": [
             [
              0,
              "#0d0887"
             ],
             [
              0.1111111111111111,
              "#46039f"
             ],
             [
              0.2222222222222222,
              "#7201a8"
             ],
             [
              0.3333333333333333,
              "#9c179e"
             ],
             [
              0.4444444444444444,
              "#bd3786"
             ],
             [
              0.5555555555555556,
              "#d8576b"
             ],
             [
              0.6666666666666666,
              "#ed7953"
             ],
             [
              0.7777777777777778,
              "#fb9f3a"
             ],
             [
              0.8888888888888888,
              "#fdca26"
             ],
             [
              1,
              "#f0f921"
             ]
            ],
            "type": "surface"
           }
          ],
          "table": [
           {
            "cells": {
             "fill": {
              "color": "#EBF0F8"
             },
             "line": {
              "color": "white"
             }
            },
            "header": {
             "fill": {
              "color": "#C8D4E3"
             },
             "line": {
              "color": "white"
             }
            },
            "type": "table"
           }
          ]
         },
         "layout": {
          "annotationdefaults": {
           "arrowcolor": "#2a3f5f",
           "arrowhead": 0,
           "arrowwidth": 1
          },
          "autotypenumbers": "strict",
          "coloraxis": {
           "colorbar": {
            "outlinewidth": 0,
            "ticks": ""
           }
          },
          "colorscale": {
           "diverging": [
            [
             0,
             "#8e0152"
            ],
            [
             0.1,
             "#c51b7d"
            ],
            [
             0.2,
             "#de77ae"
            ],
            [
             0.3,
             "#f1b6da"
            ],
            [
             0.4,
             "#fde0ef"
            ],
            [
             0.5,
             "#f7f7f7"
            ],
            [
             0.6,
             "#e6f5d0"
            ],
            [
             0.7,
             "#b8e186"
            ],
            [
             0.8,
             "#7fbc41"
            ],
            [
             0.9,
             "#4d9221"
            ],
            [
             1,
             "#276419"
            ]
           ],
           "sequential": [
            [
             0,
             "#0d0887"
            ],
            [
             0.1111111111111111,
             "#46039f"
            ],
            [
             0.2222222222222222,
             "#7201a8"
            ],
            [
             0.3333333333333333,
             "#9c179e"
            ],
            [
             0.4444444444444444,
             "#bd3786"
            ],
            [
             0.5555555555555556,
             "#d8576b"
            ],
            [
             0.6666666666666666,
             "#ed7953"
            ],
            [
             0.7777777777777778,
             "#fb9f3a"
            ],
            [
             0.8888888888888888,
             "#fdca26"
            ],
            [
             1,
             "#f0f921"
            ]
           ],
           "sequentialminus": [
            [
             0,
             "#0d0887"
            ],
            [
             0.1111111111111111,
             "#46039f"
            ],
            [
             0.2222222222222222,
             "#7201a8"
            ],
            [
             0.3333333333333333,
             "#9c179e"
            ],
            [
             0.4444444444444444,
             "#bd3786"
            ],
            [
             0.5555555555555556,
             "#d8576b"
            ],
            [
             0.6666666666666666,
             "#ed7953"
            ],
            [
             0.7777777777777778,
             "#fb9f3a"
            ],
            [
             0.8888888888888888,
             "#fdca26"
            ],
            [
             1,
             "#f0f921"
            ]
           ]
          },
          "colorway": [
           "#636efa",
           "#EF553B",
           "#00cc96",
           "#ab63fa",
           "#FFA15A",
           "#19d3f3",
           "#FF6692",
           "#B6E880",
           "#FF97FF",
           "#FECB52"
          ],
          "font": {
           "color": "#2a3f5f"
          },
          "geo": {
           "bgcolor": "white",
           "lakecolor": "white",
           "landcolor": "#E5ECF6",
           "showlakes": true,
           "showland": true,
           "subunitcolor": "white"
          },
          "hoverlabel": {
           "align": "left"
          },
          "hovermode": "closest",
          "mapbox": {
           "style": "light"
          },
          "paper_bgcolor": "white",
          "plot_bgcolor": "#E5ECF6",
          "polar": {
           "angularaxis": {
            "gridcolor": "white",
            "linecolor": "white",
            "ticks": ""
           },
           "bgcolor": "#E5ECF6",
           "radialaxis": {
            "gridcolor": "white",
            "linecolor": "white",
            "ticks": ""
           }
          },
          "scene": {
           "xaxis": {
            "backgroundcolor": "#E5ECF6",
            "gridcolor": "white",
            "gridwidth": 2,
            "linecolor": "white",
            "showbackground": true,
            "ticks": "",
            "zerolinecolor": "white"
           },
           "yaxis": {
            "backgroundcolor": "#E5ECF6",
            "gridcolor": "white",
            "gridwidth": 2,
            "linecolor": "white",
            "showbackground": true,
            "ticks": "",
            "zerolinecolor": "white"
           },
           "zaxis": {
            "backgroundcolor": "#E5ECF6",
            "gridcolor": "white",
            "gridwidth": 2,
            "linecolor": "white",
            "showbackground": true,
            "ticks": "",
            "zerolinecolor": "white"
           }
          },
          "shapedefaults": {
           "line": {
            "color": "#2a3f5f"
           }
          },
          "ternary": {
           "aaxis": {
            "gridcolor": "white",
            "linecolor": "white",
            "ticks": ""
           },
           "baxis": {
            "gridcolor": "white",
            "linecolor": "white",
            "ticks": ""
           },
           "bgcolor": "#E5ECF6",
           "caxis": {
            "gridcolor": "white",
            "linecolor": "white",
            "ticks": ""
           }
          },
          "title": {
           "x": 0.05
          },
          "xaxis": {
           "automargin": true,
           "gridcolor": "white",
           "linecolor": "white",
           "ticks": "",
           "title": {
            "standoff": 15
           },
           "zerolinecolor": "white",
           "zerolinewidth": 2
          },
          "yaxis": {
           "automargin": true,
           "gridcolor": "white",
           "linecolor": "white",
           "ticks": "",
           "title": {
            "standoff": 15
           },
           "zerolinecolor": "white",
           "zerolinewidth": 2
          }
         }
        },
        "title": {
         "text": "Change in the business applications, tax rates and GDP from 2005-2022"
        },
        "xaxis": {
         "anchor": "y",
         "domain": [
          0,
          1
         ],
         "title": {
          "text": "Tax Rate Change"
         }
        },
        "yaxis": {
         "anchor": "x",
         "domain": [
          0,
          1
         ],
         "title": {
          "text": "gdp"
         }
        }
       }
      },
      "text/html": [
       "<div>                            <div id=\"130c8dce-5b9f-4031-86dc-0d6d9791aa5b\" class=\"plotly-graph-div\" style=\"height:525px; width:100%;\"></div>            <script type=\"text/javascript\">                require([\"plotly\"], function(Plotly) {                    window.PLOTLYENV=window.PLOTLYENV || {};                                    if (document.getElementById(\"130c8dce-5b9f-4031-86dc-0d6d9791aa5b\")) {                    Plotly.newPlot(                        \"130c8dce-5b9f-4031-86dc-0d6d9791aa5b\",                        [{\"hovertemplate\":\"States=Alabama\\u003cbr\\u003eTax Rate Change=%{x}\\u003cbr\\u003egdp=%{y}\\u003cbr\\u003eIncrimental Business Applications=%{marker.size}\\u003cextra\\u003e\\u003c\\u002fextra\\u003e\",\"legendgroup\":\"Alabama\",\"marker\":{\"color\":\"#636efa\",\"size\":[39672],\"sizemode\":\"area\",\"sizeref\":90.43805555555555,\"symbol\":\"circle\"},\"mode\":\"markers\",\"name\":\"Alabama\",\"orientation\":\"v\",\"showlegend\":true,\"x\":[0.0],\"xaxis\":\"x\",\"y\":[118970.70000000001],\"yaxis\":\"y\",\"type\":\"scatter\"},{\"hovertemplate\":\"States=Alaska\\u003cbr\\u003eTax Rate Change=%{x}\\u003cbr\\u003egdp=%{y}\\u003cbr\\u003eIncrimental Business Applications=%{marker.size}\\u003cextra\\u003e\\u003c\\u002fextra\\u003e\",\"legendgroup\":\"Alaska\",\"marker\":{\"color\":\"#EF553B\",\"size\":[3726],\"sizemode\":\"area\",\"sizeref\":90.43805555555555,\"symbol\":\"circle\"},\"mode\":\"markers\",\"name\":\"Alaska\",\"orientation\":\"v\",\"showlegend\":true,\"x\":[-0.10000000000000053],\"xaxis\":\"x\",\"y\":[23261.4],\"yaxis\":\"y\",\"type\":\"scatter\"},{\"hovertemplate\":\"States=Arizona\\u003cbr\\u003eTax Rate Change=%{x}\\u003cbr\\u003egdp=%{y}\\u003cbr\\u003eIncrimental Business Applications=%{marker.size}\\u003cextra\\u003e\\u003c\\u002fextra\\u003e\",\"legendgroup\":\"Arizona\",\"marker\":{\"color\":\"#00cc96\",\"size\":[58533],\"sizemode\":\"area\",\"sizeref\":90.43805555555555,\"symbol\":\"circle\"},\"mode\":\"markers\",\"name\":\"Arizona\",\"orientation\":\"v\",\"showlegend\":true,\"x\":[-2.0699999999999994],\"xaxis\":\"x\",\"y\":[231033.9],\"yaxis\":\"y\",\"type\":\"scatter\"},{\"hovertemplate\":\"States=Arkansas\\u003cbr\\u003eTax Rate Change=%{x}\\u003cbr\\u003egdp=%{y}\\u003cbr\\u003eIncrimental Business Applications=%{marker.size}\\u003cextra\\u003e\\u003c\\u002fextra\\u003e\",\"legendgroup\":\"Arkansas\",\"marker\":{\"color\":\"#ab63fa\",\"size\":[18429],\"sizemode\":\"area\",\"sizeref\":90.43805555555555,\"symbol\":\"circle\"},\"mode\":\"markers\",\"name\":\"Arkansas\",\"orientation\":\"v\",\"showlegend\":true,\"x\":[-0.27],\"xaxis\":\"x\",\"y\":[74332.90000000001],\"yaxis\":\"y\",\"type\":\"scatter\"},{\"hovertemplate\":\"States=California\\u003cbr\\u003eTax Rate Change=%{x}\\u003cbr\\u003egdp=%{y}\\u003cbr\\u003eIncrimental Business Applications=%{marker.size}\\u003cextra\\u003e\\u003c\\u002fextra\\u003e\",\"legendgroup\":\"California\",\"marker\":{\"color\":\"#FFA15A\",\"size\":[214318],\"sizemode\":\"area\",\"sizeref\":90.43805555555555,\"symbol\":\"circle\"},\"mode\":\"markers\",\"name\":\"California\",\"orientation\":\"v\",\"showlegend\":true,\"x\":[0.0],\"xaxis\":\"x\",\"y\":[1899542.3000000003],\"yaxis\":\"y\",\"type\":\"scatter\"},{\"hovertemplate\":\"States=Colorado\\u003cbr\\u003eTax Rate Change=%{x}\\u003cbr\\u003egdp=%{y}\\u003cbr\\u003eIncrimental Business Applications=%{marker.size}\\u003cextra\\u003e\\u003c\\u002fextra\\u003e\",\"legendgroup\":\"Colorado\",\"marker\":{\"color\":\"#19d3f3\",\"size\":[59773],\"sizemode\":\"area\",\"sizeref\":90.43805555555555,\"symbol\":\"circle\"},\"mode\":\"markers\",\"name\":\"Colorado\",\"orientation\":\"v\",\"showlegend\":true,\"x\":[-0.08000000000000007],\"xaxis\":\"x\",\"y\":[263587.8],\"yaxis\":\"y\",\"type\":\"scatter\"},{\"hovertemplate\":\"States=Connecticut\\u003cbr\\u003eTax Rate Change=%{x}\\u003cbr\\u003egdp=%{y}\\u003cbr\\u003eIncrimental Business Applications=%{marker.size}\\u003cextra\\u003e\\u003c\\u002fextra\\u003e\",\"legendgroup\":\"Connecticut\",\"marker\":{\"color\":\"#FF6692\",\"size\":[16190],\"sizemode\":\"area\",\"sizeref\":90.43805555555555,\"symbol\":\"circle\"},\"mode\":\"markers\",\"name\":\"Connecticut\",\"orientation\":\"v\",\"showlegend\":true,\"x\":[0.0],\"xaxis\":\"x\",\"y\":[116629.99999999997],\"yaxis\":\"y\",\"type\":\"scatter\"},{\"hovertemplate\":\"States=Delaware\\u003cbr\\u003eTax Rate Change=%{x}\\u003cbr\\u003egdp=%{y}\\u003cbr\\u003eIncrimental Business Applications=%{marker.size}\\u003cextra\\u003e\\u003c\\u002fextra\\u003e\",\"legendgroup\":\"Delaware\",\"marker\":{\"color\":\"#B6E880\",\"size\":[34138],\"sizemode\":\"area\",\"sizeref\":90.43805555555555,\"symbol\":\"circle\"},\"mode\":\"markers\",\"name\":\"Delaware\",\"orientation\":\"v\",\"showlegend\":true,\"x\":[0.0],\"xaxis\":\"x\",\"y\":[35371.3],\"yaxis\":\"y\",\"type\":\"scatter\"},{\"hovertemplate\":\"States=Florida\\u003cbr\\u003eTax Rate Change=%{x}\\u003cbr\\u003egdp=%{y}\\u003cbr\\u003eIncrimental Business Applications=%{marker.size}\\u003cextra\\u003e\\u003c\\u002fextra\\u003e\",\"legendgroup\":\"Florida\",\"marker\":{\"color\":\"#FF97FF\",\"size\":[6993],\"sizemode\":\"area\",\"sizeref\":90.43805555555555,\"symbol\":\"circle\"},\"mode\":\"markers\",\"name\":\"Florida\",\"orientation\":\"v\",\"showlegend\":true,\"x\":[0.0],\"xaxis\":\"x\",\"y\":[77446.79999999999],\"yaxis\":\"y\",\"type\":\"scatter\"},{\"hovertemplate\":\"States=Georgia\\u003cbr\\u003eTax Rate Change=%{x}\\u003cbr\\u003egdp=%{y}\\u003cbr\\u003eIncrimental Business Applications=%{marker.size}\\u003cextra\\u003e\\u003c\\u002fextra\\u003e\",\"legendgroup\":\"Georgia\",\"marker\":{\"color\":\"#FECB52\",\"size\":[325577],\"sizemode\":\"area\",\"sizeref\":90.43805555555555,\"symbol\":\"circle\"},\"mode\":\"markers\",\"name\":\"Georgia\",\"orientation\":\"v\",\"showlegend\":true,\"x\":[-0.25],\"xaxis\":\"x\",\"y\":[683217.7999999999],\"yaxis\":\"y\",\"type\":\"scatter\"},{\"hovertemplate\":\"States=Hawaii\\u003cbr\\u003eTax Rate Change=%{x}\\u003cbr\\u003egdp=%{y}\\u003cbr\\u003eIncrimental Business Applications=%{marker.size}\\u003cextra\\u003e\\u003c\\u002fextra\\u003e\",\"legendgroup\":\"Hawaii\",\"marker\":{\"color\":\"#636efa\",\"size\":[175422],\"sizemode\":\"area\",\"sizeref\":90.43805555555555,\"symbol\":\"circle\"},\"mode\":\"markers\",\"name\":\"Hawaii\",\"orientation\":\"v\",\"showlegend\":true,\"x\":[0.0],\"xaxis\":\"x\",\"y\":[366160.2],\"yaxis\":\"y\",\"type\":\"scatter\"},{\"hovertemplate\":\"States=Idaho\\u003cbr\\u003eTax Rate Change=%{x}\\u003cbr\\u003egdp=%{y}\\u003cbr\\u003eIncrimental Business Applications=%{marker.size}\\u003cextra\\u003e\\u003c\\u002fextra\\u003e\",\"legendgroup\":\"Idaho\",\"marker\":{\"color\":\"#EF553B\",\"size\":[8860],\"sizemode\":\"area\",\"sizeref\":90.43805555555555,\"symbol\":\"circle\"},\"mode\":\"markers\",\"name\":\"Idaho\",\"orientation\":\"v\",\"showlegend\":true,\"x\":[-1.5999999999999996],\"xaxis\":\"x\",\"y\":[40849.4],\"yaxis\":\"y\",\"type\":\"scatter\"},{\"hovertemplate\":\"States=Illinois\\u003cbr\\u003eTax Rate Change=%{x}\\u003cbr\\u003egdp=%{y}\\u003cbr\\u003eIncrimental Business Applications=%{marker.size}\\u003cextra\\u003e\\u003c\\u002fextra\\u003e\",\"legendgroup\":\"Illinois\",\"marker\":{\"color\":\"#00cc96\",\"size\":[14670],\"sizemode\":\"area\",\"sizeref\":90.43805555555555,\"symbol\":\"circle\"},\"mode\":\"markers\",\"name\":\"Illinois\",\"orientation\":\"v\",\"showlegend\":true,\"x\":[2.2],\"xaxis\":\"x\",\"y\":[60903.7],\"yaxis\":\"y\",\"type\":\"scatter\"},{\"hovertemplate\":\"States=Indiana\\u003cbr\\u003eTax Rate Change=%{x}\\u003cbr\\u003egdp=%{y}\\u003cbr\\u003eIncrimental Business Applications=%{marker.size}\\u003cextra\\u003e\\u003c\\u002fextra\\u003e\",\"legendgroup\":\"Indiana\",\"marker\":{\"color\":\"#ab63fa\",\"size\":[73967],\"sizemode\":\"area\",\"sizeref\":90.43805555555555,\"symbol\":\"circle\"},\"mode\":\"markers\",\"name\":\"Indiana\",\"orientation\":\"v\",\"showlegend\":true,\"x\":[-3.5999999999999996],\"xaxis\":\"x\",\"y\":[443498.29999999993],\"yaxis\":\"y\",\"type\":\"scatter\"},{\"hovertemplate\":\"States=Iowa\\u003cbr\\u003eTax Rate Change=%{x}\\u003cbr\\u003egdp=%{y}\\u003cbr\\u003eIncrimental Business Applications=%{marker.size}\\u003cextra\\u003e\\u003c\\u002fextra\\u003e\",\"legendgroup\":\"Iowa\",\"marker\":{\"color\":\"#FFA15A\",\"size\":[45028],\"sizemode\":\"area\",\"sizeref\":90.43805555555555,\"symbol\":\"circle\"},\"mode\":\"markers\",\"name\":\"Iowa\",\"orientation\":\"v\",\"showlegend\":true,\"x\":[-0.9000000000000004],\"xaxis\":\"x\",\"y\":[207579.7],\"yaxis\":\"y\",\"type\":\"scatter\"},{\"hovertemplate\":\"States=Kansas\\u003cbr\\u003eTax Rate Change=%{x}\\u003cbr\\u003egdp=%{y}\\u003cbr\\u003eIncrimental Business Applications=%{marker.size}\\u003cextra\\u003e\\u003c\\u002fextra\\u003e\",\"legendgroup\":\"Kansas\",\"marker\":{\"color\":\"#19d3f3\",\"size\":[11872],\"sizemode\":\"area\",\"sizeref\":90.43805555555555,\"symbol\":\"circle\"},\"mode\":\"markers\",\"name\":\"Kansas\",\"orientation\":\"v\",\"showlegend\":true,\"x\":[1.5],\"xaxis\":\"x\",\"y\":[107916.9],\"yaxis\":\"y\",\"type\":\"scatter\"},{\"hovertemplate\":\"States=Kentucky\\u003cbr\\u003eTax Rate Change=%{x}\\u003cbr\\u003egdp=%{y}\\u003cbr\\u003eIncrimental Business Applications=%{marker.size}\\u003cextra\\u003e\\u003c\\u002fextra\\u003e\",\"legendgroup\":\"Kentucky\",\"marker\":{\"color\":\"#FF6692\",\"size\":[11934],\"sizemode\":\"area\",\"sizeref\":90.43805555555555,\"symbol\":\"circle\"},\"mode\":\"markers\",\"name\":\"Kentucky\",\"orientation\":\"v\",\"showlegend\":true,\"x\":[-1.0499999999999998],\"xaxis\":\"x\",\"y\":[105144.2],\"yaxis\":\"y\",\"type\":\"scatter\"},{\"hovertemplate\":\"States=Louisiana\\u003cbr\\u003eTax Rate Change=%{x}\\u003cbr\\u003egdp=%{y}\\u003cbr\\u003eIncrimental Business Applications=%{marker.size}\\u003cextra\\u003e\\u003c\\u002fextra\\u003e\",\"legendgroup\":\"Louisiana\",\"marker\":{\"color\":\"#B6E880\",\"size\":[21123],\"sizemode\":\"area\",\"sizeref\":90.43805555555555,\"symbol\":\"circle\"},\"mode\":\"markers\",\"name\":\"Louisiana\",\"orientation\":\"v\",\"showlegend\":true,\"x\":[-0.6699999999999999],\"xaxis\":\"x\",\"y\":[115293.0],\"yaxis\":\"y\",\"type\":\"scatter\"},{\"hovertemplate\":\"States=Maine\\u003cbr\\u003eTax Rate Change=%{x}\\u003cbr\\u003egdp=%{y}\\u003cbr\\u003eIncrimental Business Applications=%{marker.size}\\u003cextra\\u003e\\u003c\\u002fextra\\u003e\",\"legendgroup\":\"Maine\",\"marker\":{\"color\":\"#FF97FF\",\"size\":[44379],\"sizemode\":\"area\",\"sizeref\":90.43805555555555,\"symbol\":\"circle\"},\"mode\":\"markers\",\"name\":\"Maine\",\"orientation\":\"v\",\"showlegend\":true,\"x\":[0.0],\"xaxis\":\"x\",\"y\":[81834.59999999998],\"yaxis\":\"y\",\"type\":\"scatter\"},{\"hovertemplate\":\"States=Maryland\\u003cbr\\u003eTax Rate Change=%{x}\\u003cbr\\u003egdp=%{y}\\u003cbr\\u003eIncrimental Business Applications=%{marker.size}\\u003cextra\\u003e\\u003c\\u002fextra\\u003e\",\"legendgroup\":\"Maryland\",\"marker\":{\"color\":\"#FECB52\",\"size\":[3767],\"sizemode\":\"area\",\"sizeref\":90.43805555555555,\"symbol\":\"circle\"},\"mode\":\"markers\",\"name\":\"Maryland\",\"orientation\":\"v\",\"showlegend\":true,\"x\":[1.25],\"xaxis\":\"x\",\"y\":[37419.0],\"yaxis\":\"y\",\"type\":\"scatter\"},{\"hovertemplate\":\"States=Massachusetts\\u003cbr\\u003eTax Rate Change=%{x}\\u003cbr\\u003egdp=%{y}\\u003cbr\\u003eIncrimental Business Applications=%{marker.size}\\u003cextra\\u003e\\u003c\\u002fextra\\u003e\",\"legendgroup\":\"Massachusetts\",\"marker\":{\"color\":\"#636efa\",\"size\":[44771],\"sizemode\":\"area\",\"sizeref\":90.43805555555555,\"symbol\":\"circle\"},\"mode\":\"markers\",\"name\":\"Massachusetts\",\"orientation\":\"v\",\"showlegend\":true,\"x\":[-1.5],\"xaxis\":\"x\",\"y\":[208087.09999999998],\"yaxis\":\"y\",\"type\":\"scatter\"},{\"hovertemplate\":\"States=Michigan\\u003cbr\\u003eTax Rate Change=%{x}\\u003cbr\\u003egdp=%{y}\\u003cbr\\u003eIncrimental Business Applications=%{marker.size}\\u003cextra\\u003e\\u003c\\u002fextra\\u003e\",\"legendgroup\":\"Michigan\",\"marker\":{\"color\":\"#EF553B\",\"size\":[24264],\"sizemode\":\"area\",\"sizeref\":90.43805555555555,\"symbol\":\"circle\"},\"mode\":\"markers\",\"name\":\"Michigan\",\"orientation\":\"v\",\"showlegend\":true,\"x\":[4.1],\"xaxis\":\"x\",\"y\":[346398.39999999997],\"yaxis\":\"y\",\"type\":\"scatter\"},{\"hovertemplate\":\"States=Minnesota\\u003cbr\\u003eTax Rate Change=%{x}\\u003cbr\\u003egdp=%{y}\\u003cbr\\u003eIncrimental Business Applications=%{marker.size}\\u003cextra\\u003e\\u003c\\u002fextra\\u003e\",\"legendgroup\":\"Minnesota\",\"marker\":{\"color\":\"#00cc96\",\"size\":[60776],\"sizemode\":\"area\",\"sizeref\":90.43805555555555,\"symbol\":\"circle\"},\"mode\":\"markers\",\"name\":\"Minnesota\",\"orientation\":\"v\",\"showlegend\":true,\"x\":[0.0],\"xaxis\":\"x\",\"y\":[220426.69999999995],\"yaxis\":\"y\",\"type\":\"scatter\"},{\"hovertemplate\":\"States=Mississippi\\u003cbr\\u003eTax Rate Change=%{x}\\u003cbr\\u003egdp=%{y}\\u003cbr\\u003eIncrimental Business Applications=%{marker.size}\\u003cextra\\u003e\\u003c\\u002fextra\\u003e\",\"legendgroup\":\"Mississippi\",\"marker\":{\"color\":\"#ab63fa\",\"size\":[21193],\"sizemode\":\"area\",\"sizeref\":90.43805555555555,\"symbol\":\"circle\"},\"mode\":\"markers\",\"name\":\"Mississippi\",\"orientation\":\"v\",\"showlegend\":true,\"x\":[-1.0],\"xaxis\":\"x\",\"y\":[201119.0],\"yaxis\":\"y\",\"type\":\"scatter\"},{\"hovertemplate\":\"States=Missouri\\u003cbr\\u003eTax Rate Change=%{x}\\u003cbr\\u003egdp=%{y}\\u003cbr\\u003eIncrimental Business Applications=%{marker.size}\\u003cextra\\u003e\\u003c\\u002fextra\\u003e\",\"legendgroup\":\"Missouri\",\"marker\":{\"color\":\"#FFA15A\",\"size\":[36155],\"sizemode\":\"area\",\"sizeref\":90.43805555555555,\"symbol\":\"circle\"},\"mode\":\"markers\",\"name\":\"Missouri\",\"orientation\":\"v\",\"showlegend\":true,\"x\":[-2.25],\"xaxis\":\"x\",\"y\":[56291.20000000001],\"yaxis\":\"y\",\"type\":\"scatter\"},{\"hovertemplate\":\"States=Montana\\u003cbr\\u003eTax Rate Change=%{x}\\u003cbr\\u003egdp=%{y}\\u003cbr\\u003eIncrimental Business Applications=%{marker.size}\\u003cextra\\u003e\\u003c\\u002fextra\\u003e\",\"legendgroup\":\"Montana\",\"marker\":{\"color\":\"#19d3f3\",\"size\":[36039],\"sizemode\":\"area\",\"sizeref\":90.43805555555555,\"symbol\":\"circle\"},\"mode\":\"markers\",\"name\":\"Montana\",\"orientation\":\"v\",\"showlegend\":true,\"x\":[0.0],\"xaxis\":\"x\",\"y\":[161959.90000000002],\"yaxis\":\"y\",\"type\":\"scatter\"},{\"hovertemplate\":\"States=Nebraska\\u003cbr\\u003eTax Rate Change=%{x}\\u003cbr\\u003egdp=%{y}\\u003cbr\\u003eIncrimental Business Applications=%{marker.size}\\u003cextra\\u003e\\u003c\\u002fextra\\u003e\",\"legendgroup\":\"Nebraska\",\"marker\":{\"color\":\"#FF6692\",\"size\":[9337],\"sizemode\":\"area\",\"sizeref\":90.43805555555555,\"symbol\":\"circle\"},\"mode\":\"markers\",\"name\":\"Nebraska\",\"orientation\":\"v\",\"showlegend\":true,\"x\":[0.0],\"xaxis\":\"x\",\"y\":[34138.7],\"yaxis\":\"y\",\"type\":\"scatter\"},{\"hovertemplate\":\"States=Nevada\\u003cbr\\u003eTax Rate Change=%{x}\\u003cbr\\u003egdp=%{y}\\u003cbr\\u003eIncrimental Business Applications=%{marker.size}\\u003cextra\\u003e\\u003c\\u002fextra\\u003e\",\"legendgroup\":\"Nevada\",\"marker\":{\"color\":\"#B6E880\",\"size\":[9651],\"sizemode\":\"area\",\"sizeref\":90.43805555555555,\"symbol\":\"circle\"},\"mode\":\"markers\",\"name\":\"Nevada\",\"orientation\":\"v\",\"showlegend\":true,\"x\":[0.0],\"xaxis\":\"x\",\"y\":[87137.5],\"yaxis\":\"y\",\"type\":\"scatter\"},{\"hovertemplate\":\"States=New Hampshire\\u003cbr\\u003eTax Rate Change=%{x}\\u003cbr\\u003egdp=%{y}\\u003cbr\\u003eIncrimental Business Applications=%{marker.size}\\u003cextra\\u003e\\u003c\\u002fextra\\u003e\",\"legendgroup\":\"New Hampshire\",\"marker\":{\"color\":\"#FF97FF\",\"size\":[18164],\"sizemode\":\"area\",\"sizeref\":90.43805555555555,\"symbol\":\"circle\"},\"mode\":\"markers\",\"name\":\"New Hampshire\",\"orientation\":\"v\",\"showlegend\":true,\"x\":[-1.2800000000000011],\"xaxis\":\"x\",\"y\":[99751.59999999999],\"yaxis\":\"y\",\"type\":\"scatter\"},{\"hovertemplate\":\"States=New Jersey\\u003cbr\\u003eTax Rate Change=%{x}\\u003cbr\\u003egdp=%{y}\\u003cbr\\u003eIncrimental Business Applications=%{marker.size}\\u003cextra\\u003e\\u003c\\u002fextra\\u003e\",\"legendgroup\":\"New Jersey\",\"marker\":{\"color\":\"#FECB52\",\"size\":[3233],\"sizemode\":\"area\",\"sizeref\":90.43805555555555,\"symbol\":\"circle\"},\"mode\":\"markers\",\"name\":\"New Jersey\",\"orientation\":\"v\",\"showlegend\":true,\"x\":[0.9499999999999993],\"xaxis\":\"x\",\"y\":[48461.799999999996],\"yaxis\":\"y\",\"type\":\"scatter\"},{\"hovertemplate\":\"States=New Mexico\\u003cbr\\u003eTax Rate Change=%{x}\\u003cbr\\u003egdp=%{y}\\u003cbr\\u003eIncrimental Business Applications=%{marker.size}\\u003cextra\\u003e\\u003c\\u002fextra\\u003e\",\"legendgroup\":\"New Mexico\",\"marker\":{\"color\":\"#636efa\",\"size\":[66797],\"sizemode\":\"area\",\"sizeref\":90.43805555555555,\"symbol\":\"circle\"},\"mode\":\"markers\",\"name\":\"New Mexico\",\"orientation\":\"v\",\"showlegend\":true,\"x\":[-0.9199999999999999],\"xaxis\":\"x\",\"y\":[309685.49999999994],\"yaxis\":\"y\",\"type\":\"scatter\"},{\"hovertemplate\":\"States=New York\\u003cbr\\u003eTax Rate Change=%{x}\\u003cbr\\u003egdp=%{y}\\u003cbr\\u003eIncrimental Business Applications=%{marker.size}\\u003cextra\\u003e\\u003c\\u002fextra\\u003e\",\"legendgroup\":\"New York\",\"marker\":{\"color\":\"#EF553B\",\"size\":[15471],\"sizemode\":\"area\",\"sizeref\":90.43805555555555,\"symbol\":\"circle\"},\"mode\":\"markers\",\"name\":\"New York\",\"orientation\":\"v\",\"showlegend\":true,\"x\":[-0.6200000000000001],\"xaxis\":\"x\",\"y\":[48203.40000000001],\"yaxis\":\"y\",\"type\":\"scatter\"},{\"hovertemplate\":\"States=North Carolina \\u003cbr\\u003eTax Rate Change=%{x}\\u003cbr\\u003egdp=%{y}\\u003cbr\\u003eIncrimental Business Applications=%{marker.size}\\u003cextra\\u003e\\u003c\\u002fextra\\u003e\",\"legendgroup\":\"North Carolina \",\"marker\":{\"color\":\"#00cc96\",\"size\":[125040],\"sizemode\":\"area\",\"sizeref\":90.43805555555555,\"symbol\":\"circle\"},\"mode\":\"markers\",\"name\":\"North Carolina \",\"orientation\":\"v\",\"showlegend\":true,\"x\":[-4.4],\"xaxis\":\"x\",\"y\":[1037142.2],\"yaxis\":\"y\",\"type\":\"scatter\"},{\"hovertemplate\":\"States=North Dakota\\u003cbr\\u003eTax Rate Change=%{x}\\u003cbr\\u003egdp=%{y}\\u003cbr\\u003eIncrimental Business Applications=%{marker.size}\\u003cextra\\u003e\\u003c\\u002fextra\\u003e\",\"legendgroup\":\"North Dakota\",\"marker\":{\"color\":\"#ab63fa\",\"size\":[92031],\"sizemode\":\"area\",\"sizeref\":90.43805555555555,\"symbol\":\"circle\"},\"mode\":\"markers\",\"name\":\"North Dakota\",\"orientation\":\"v\",\"showlegend\":true,\"x\":[-2.05],\"xaxis\":\"x\",\"y\":[374602.7],\"yaxis\":\"y\",\"type\":\"scatter\"},{\"hovertemplate\":\"States=Ohio \\u003cbr\\u003eTax Rate Change=%{x}\\u003cbr\\u003egdp=%{y}\\u003cbr\\u003eIncrimental Business Applications=%{marker.size}\\u003cextra\\u003e\\u003c\\u002fextra\\u003e\",\"legendgroup\":\"Ohio \",\"marker\":{\"color\":\"#FFA15A\",\"size\":[3749],\"sizemode\":\"area\",\"sizeref\":90.43805555555555,\"symbol\":\"circle\"},\"mode\":\"markers\",\"name\":\"Ohio \",\"orientation\":\"v\",\"showlegend\":true,\"x\":[-6.8],\"xaxis\":\"x\",\"y\":[48567.100000000006],\"yaxis\":\"y\",\"type\":\"scatter\"},{\"hovertemplate\":\"States=Oklahoma\\u003cbr\\u003eTax Rate Change=%{x}\\u003cbr\\u003egdp=%{y}\\u003cbr\\u003eIncrimental Business Applications=%{marker.size}\\u003cextra\\u003e\\u003c\\u002fextra\\u003e\",\"legendgroup\":\"Oklahoma\",\"marker\":{\"color\":\"#19d3f3\",\"size\":[73594],\"sizemode\":\"area\",\"sizeref\":90.43805555555555,\"symbol\":\"circle\"},\"mode\":\"markers\",\"name\":\"Oklahoma\",\"orientation\":\"v\",\"showlegend\":true,\"x\":[-2.0],\"xaxis\":\"x\",\"y\":[353778.1],\"yaxis\":\"y\",\"type\":\"scatter\"},{\"hovertemplate\":\"States=Oregon\\u003cbr\\u003eTax Rate Change=%{x}\\u003cbr\\u003egdp=%{y}\\u003cbr\\u003eIncrimental Business Applications=%{marker.size}\\u003cextra\\u003e\\u003c\\u002fextra\\u003e\",\"legendgroup\":\"Oregon\",\"marker\":{\"color\":\"#FF6692\",\"size\":[28228],\"sizemode\":\"area\",\"sizeref\":90.43805555555555,\"symbol\":\"circle\"},\"mode\":\"markers\",\"name\":\"Oregon\",\"orientation\":\"v\",\"showlegend\":true,\"x\":[0.5],\"xaxis\":\"x\",\"y\":[115452.69999999998],\"yaxis\":\"y\",\"type\":\"scatter\"},{\"hovertemplate\":\"States=Pennsylvania\\u003cbr\\u003eTax Rate Change=%{x}\\u003cbr\\u003egdp=%{y}\\u003cbr\\u003eIncrimental Business Applications=%{marker.size}\\u003cextra\\u003e\\u003c\\u002fextra\\u003e\",\"legendgroup\":\"Pennsylvania\",\"marker\":{\"color\":\"#B6E880\",\"size\":[19807],\"sizemode\":\"area\",\"sizeref\":90.43805555555555,\"symbol\":\"circle\"},\"mode\":\"markers\",\"name\":\"Pennsylvania\",\"orientation\":\"v\",\"showlegend\":true,\"x\":[0.0],\"xaxis\":\"x\",\"y\":[155617.7],\"yaxis\":\"y\",\"type\":\"scatter\"},{\"hovertemplate\":\"States=Rhode Island\\u003cbr\\u003eTax Rate Change=%{x}\\u003cbr\\u003egdp=%{y}\\u003cbr\\u003eIncrimental Business Applications=%{marker.size}\\u003cextra\\u003e\\u003c\\u002fextra\\u003e\",\"legendgroup\":\"Rhode Island\",\"marker\":{\"color\":\"#FF97FF\",\"size\":[62977],\"sizemode\":\"area\",\"sizeref\":90.43805555555555,\"symbol\":\"circle\"},\"mode\":\"markers\",\"name\":\"Rhode Island\",\"orientation\":\"v\",\"showlegend\":true,\"x\":[-2.0],\"xaxis\":\"x\",\"y\":[411357.4],\"yaxis\":\"y\",\"type\":\"scatter\"},{\"hovertemplate\":\"States=South Carolina\\u003cbr\\u003eTax Rate Change=%{x}\\u003cbr\\u003egdp=%{y}\\u003cbr\\u003eIncrimental Business Applications=%{marker.size}\\u003cextra\\u003e\\u003c\\u002fextra\\u003e\",\"legendgroup\":\"South Carolina\",\"marker\":{\"color\":\"#FECB52\",\"size\":[3643],\"sizemode\":\"area\",\"sizeref\":90.43805555555555,\"symbol\":\"circle\"},\"mode\":\"markers\",\"name\":\"South Carolina\",\"orientation\":\"v\",\"showlegend\":true,\"x\":[0.0],\"xaxis\":\"x\",\"y\":[27028.1],\"yaxis\":\"y\",\"type\":\"scatter\"},{\"hovertemplate\":\"States=South Dakota\\u003cbr\\u003eTax Rate Change=%{x}\\u003cbr\\u003egdp=%{y}\\u003cbr\\u003eIncrimental Business Applications=%{marker.size}\\u003cextra\\u003e\\u003c\\u002fextra\\u003e\",\"legendgroup\":\"South Dakota\",\"marker\":{\"color\":\"#636efa\",\"size\":[57315],\"sizemode\":\"area\",\"sizeref\":90.43805555555555,\"symbol\":\"circle\"},\"mode\":\"markers\",\"name\":\"South Dakota\",\"orientation\":\"v\",\"showlegend\":true,\"x\":[0.0],\"xaxis\":\"x\",\"y\":[150476.9],\"yaxis\":\"y\",\"type\":\"scatter\"},{\"hovertemplate\":\"States=Tennessee\\u003cbr\\u003eTax Rate Change=%{x}\\u003cbr\\u003egdp=%{y}\\u003cbr\\u003eIncrimental Business Applications=%{marker.size}\\u003cextra\\u003e\\u003c\\u002fextra\\u003e\",\"legendgroup\":\"Tennessee\",\"marker\":{\"color\":\"#EF553B\",\"size\":[4859],\"sizemode\":\"area\",\"sizeref\":90.43805555555555,\"symbol\":\"circle\"},\"mode\":\"markers\",\"name\":\"Tennessee\",\"orientation\":\"v\",\"showlegend\":true,\"x\":[0.0],\"xaxis\":\"x\",\"y\":[36573.299999999996],\"yaxis\":\"y\",\"type\":\"scatter\"},{\"hovertemplate\":\"States=Texas\\u003cbr\\u003eTax Rate Change=%{x}\\u003cbr\\u003egdp=%{y}\\u003cbr\\u003eIncrimental Business Applications=%{marker.size}\\u003cextra\\u003e\\u003c\\u002fextra\\u003e\",\"legendgroup\":\"Texas\",\"marker\":{\"color\":\"#00cc96\",\"size\":[54331],\"sizemode\":\"area\",\"sizeref\":90.43805555555555,\"symbol\":\"circle\"},\"mode\":\"markers\",\"name\":\"Texas\",\"orientation\":\"v\",\"showlegend\":true,\"x\":[0.0],\"xaxis\":\"x\",\"y\":[244121.59999999998],\"yaxis\":\"y\",\"type\":\"scatter\"},{\"hovertemplate\":\"States=Utah\\u003cbr\\u003eTax Rate Change=%{x}\\u003cbr\\u003egdp=%{y}\\u003cbr\\u003eIncrimental Business Applications=%{marker.size}\\u003cextra\\u003e\\u003c\\u002fextra\\u003e\",\"legendgroup\":\"Utah\",\"marker\":{\"color\":\"#ab63fa\",\"size\":[290842],\"sizemode\":\"area\",\"sizeref\":90.43805555555555,\"symbol\":\"circle\"},\"mode\":\"markers\",\"name\":\"Utah\",\"orientation\":\"v\",\"showlegend\":true,\"x\":[-0.15000000000000036],\"xaxis\":\"x\",\"y\":[1360707.3000000003],\"yaxis\":\"y\",\"type\":\"scatter\"},{\"hovertemplate\":\"States=Vermont\\u003cbr\\u003eTax Rate Change=%{x}\\u003cbr\\u003egdp=%{y}\\u003cbr\\u003eIncrimental Business Applications=%{marker.size}\\u003cextra\\u003e\\u003c\\u002fextra\\u003e\",\"legendgroup\":\"Vermont\",\"marker\":{\"color\":\"#FFA15A\",\"size\":[36039],\"sizemode\":\"area\",\"sizeref\":90.43805555555555,\"symbol\":\"circle\"},\"mode\":\"markers\",\"name\":\"Vermont\",\"orientation\":\"v\",\"showlegend\":true,\"x\":[-1.3399999999999999],\"xaxis\":\"x\",\"y\":[152821.19999999998],\"yaxis\":\"y\",\"type\":\"scatter\"},{\"hovertemplate\":\"States=Virginia\\u003cbr\\u003eTax Rate Change=%{x}\\u003cbr\\u003egdp=%{y}\\u003cbr\\u003eIncrimental Business Applications=%{marker.size}\\u003cextra\\u003e\\u003c\\u002fextra\\u003e\",\"legendgroup\":\"Virginia\",\"marker\":{\"color\":\"#19d3f3\",\"size\":[2945],\"sizemode\":\"area\",\"sizeref\":90.43805555555555,\"symbol\":\"circle\"},\"mode\":\"markers\",\"name\":\"Virginia\",\"orientation\":\"v\",\"showlegend\":true,\"x\":[0.0],\"xaxis\":\"x\",\"y\":[17008.5],\"yaxis\":\"y\",\"type\":\"scatter\"},{\"hovertemplate\":\"States=Washington\\u003cbr\\u003eTax Rate Change=%{x}\\u003cbr\\u003egdp=%{y}\\u003cbr\\u003eIncrimental Business Applications=%{marker.size}\\u003cextra\\u003e\\u003c\\u002fextra\\u003e\",\"legendgroup\":\"Washington\",\"marker\":{\"color\":\"#FF6692\",\"size\":[59556],\"sizemode\":\"area\",\"sizeref\":90.43805555555555,\"symbol\":\"circle\"},\"mode\":\"markers\",\"name\":\"Washington\",\"orientation\":\"v\",\"showlegend\":true,\"x\":[0.0],\"xaxis\":\"x\",\"y\":[291322.89999999997],\"yaxis\":\"y\",\"type\":\"scatter\"},{\"hovertemplate\":\"States=West Virginia\\u003cbr\\u003eTax Rate Change=%{x}\\u003cbr\\u003egdp=%{y}\\u003cbr\\u003eIncrimental Business Applications=%{marker.size}\\u003cextra\\u003e\\u003c\\u002fextra\\u003e\",\"legendgroup\":\"West Virginia\",\"marker\":{\"color\":\"#B6E880\",\"size\":[38888],\"sizemode\":\"area\",\"sizeref\":90.43805555555555,\"symbol\":\"circle\"},\"mode\":\"markers\",\"name\":\"West Virginia\",\"orientation\":\"v\",\"showlegend\":true,\"x\":[-2.5],\"xaxis\":\"x\",\"y\":[431837.5],\"yaxis\":\"y\",\"type\":\"scatter\"},{\"hovertemplate\":\"States=Wisconsin \\u003cbr\\u003eTax Rate Change=%{x}\\u003cbr\\u003egdp=%{y}\\u003cbr\\u003eIncrimental Business Applications=%{marker.size}\\u003cextra\\u003e\\u003c\\u002fextra\\u003e\",\"legendgroup\":\"Wisconsin \",\"marker\":{\"color\":\"#FF97FF\",\"size\":[4685],\"sizemode\":\"area\",\"sizeref\":90.43805555555555,\"symbol\":\"circle\"},\"mode\":\"markers\",\"name\":\"Wisconsin \",\"orientation\":\"v\",\"showlegend\":true,\"x\":[0.0],\"xaxis\":\"x\",\"y\":[42095.899999999994],\"yaxis\":\"y\",\"type\":\"scatter\"},{\"hovertemplate\":\"States=Wyoming\\u003cbr\\u003eTax Rate Change=%{x}\\u003cbr\\u003egdp=%{y}\\u003cbr\\u003eIncrimental Business Applications=%{marker.size}\\u003cextra\\u003e\\u003c\\u002fextra\\u003e\",\"legendgroup\":\"Wyoming\",\"marker\":{\"color\":\"#FECB52\",\"size\":[26518],\"sizemode\":\"area\",\"sizeref\":90.43805555555555,\"symbol\":\"circle\"},\"mode\":\"markers\",\"name\":\"Wyoming\",\"orientation\":\"v\",\"showlegend\":true,\"x\":[0.0],\"xaxis\":\"x\",\"y\":[174494.5],\"yaxis\":\"y\",\"type\":\"scatter\"},{\"hovertemplate\":\"States=District of Columbia\\u003cbr\\u003eTax Rate Change=%{x}\\u003cbr\\u003egdp=%{y}\\u003cbr\\u003eIncrimental Business Applications=%{marker.size}\\u003cextra\\u003e\\u003c\\u002fextra\\u003e\",\"legendgroup\":\"District of Columbia\",\"marker\":{\"color\":\"#636efa\",\"size\":[36119],\"sizemode\":\"area\",\"sizeref\":90.43805555555555,\"symbol\":\"circle\"},\"mode\":\"markers\",\"name\":\"District of Columbia\",\"orientation\":\"v\",\"showlegend\":true,\"x\":[-1.7300000000000004],\"xaxis\":\"x\",\"y\":[19856.2],\"yaxis\":\"y\",\"type\":\"scatter\"}],                        {\"template\":{\"data\":{\"histogram2dcontour\":[{\"type\":\"histogram2dcontour\",\"colorbar\":{\"outlinewidth\":0,\"ticks\":\"\"},\"colorscale\":[[0.0,\"#0d0887\"],[0.1111111111111111,\"#46039f\"],[0.2222222222222222,\"#7201a8\"],[0.3333333333333333,\"#9c179e\"],[0.4444444444444444,\"#bd3786\"],[0.5555555555555556,\"#d8576b\"],[0.6666666666666666,\"#ed7953\"],[0.7777777777777778,\"#fb9f3a\"],[0.8888888888888888,\"#fdca26\"],[1.0,\"#f0f921\"]]}],\"choropleth\":[{\"type\":\"choropleth\",\"colorbar\":{\"outlinewidth\":0,\"ticks\":\"\"}}],\"histogram2d\":[{\"type\":\"histogram2d\",\"colorbar\":{\"outlinewidth\":0,\"ticks\":\"\"},\"colorscale\":[[0.0,\"#0d0887\"],[0.1111111111111111,\"#46039f\"],[0.2222222222222222,\"#7201a8\"],[0.3333333333333333,\"#9c179e\"],[0.4444444444444444,\"#bd3786\"],[0.5555555555555556,\"#d8576b\"],[0.6666666666666666,\"#ed7953\"],[0.7777777777777778,\"#fb9f3a\"],[0.8888888888888888,\"#fdca26\"],[1.0,\"#f0f921\"]]}],\"heatmap\":[{\"type\":\"heatmap\",\"colorbar\":{\"outlinewidth\":0,\"ticks\":\"\"},\"colorscale\":[[0.0,\"#0d0887\"],[0.1111111111111111,\"#46039f\"],[0.2222222222222222,\"#7201a8\"],[0.3333333333333333,\"#9c179e\"],[0.4444444444444444,\"#bd3786\"],[0.5555555555555556,\"#d8576b\"],[0.6666666666666666,\"#ed7953\"],[0.7777777777777778,\"#fb9f3a\"],[0.8888888888888888,\"#fdca26\"],[1.0,\"#f0f921\"]]}],\"heatmapgl\":[{\"type\":\"heatmapgl\",\"colorbar\":{\"outlinewidth\":0,\"ticks\":\"\"},\"colorscale\":[[0.0,\"#0d0887\"],[0.1111111111111111,\"#46039f\"],[0.2222222222222222,\"#7201a8\"],[0.3333333333333333,\"#9c179e\"],[0.4444444444444444,\"#bd3786\"],[0.5555555555555556,\"#d8576b\"],[0.6666666666666666,\"#ed7953\"],[0.7777777777777778,\"#fb9f3a\"],[0.8888888888888888,\"#fdca26\"],[1.0,\"#f0f921\"]]}],\"contourcarpet\":[{\"type\":\"contourcarpet\",\"colorbar\":{\"outlinewidth\":0,\"ticks\":\"\"}}],\"contour\":[{\"type\":\"contour\",\"colorbar\":{\"outlinewidth\":0,\"ticks\":\"\"},\"colorscale\":[[0.0,\"#0d0887\"],[0.1111111111111111,\"#46039f\"],[0.2222222222222222,\"#7201a8\"],[0.3333333333333333,\"#9c179e\"],[0.4444444444444444,\"#bd3786\"],[0.5555555555555556,\"#d8576b\"],[0.6666666666666666,\"#ed7953\"],[0.7777777777777778,\"#fb9f3a\"],[0.8888888888888888,\"#fdca26\"],[1.0,\"#f0f921\"]]}],\"surface\":[{\"type\":\"surface\",\"colorbar\":{\"outlinewidth\":0,\"ticks\":\"\"},\"colorscale\":[[0.0,\"#0d0887\"],[0.1111111111111111,\"#46039f\"],[0.2222222222222222,\"#7201a8\"],[0.3333333333333333,\"#9c179e\"],[0.4444444444444444,\"#bd3786\"],[0.5555555555555556,\"#d8576b\"],[0.6666666666666666,\"#ed7953\"],[0.7777777777777778,\"#fb9f3a\"],[0.8888888888888888,\"#fdca26\"],[1.0,\"#f0f921\"]]}],\"mesh3d\":[{\"type\":\"mesh3d\",\"colorbar\":{\"outlinewidth\":0,\"ticks\":\"\"}}],\"scatter\":[{\"fillpattern\":{\"fillmode\":\"overlay\",\"size\":10,\"solidity\":0.2},\"type\":\"scatter\"}],\"parcoords\":[{\"type\":\"parcoords\",\"line\":{\"colorbar\":{\"outlinewidth\":0,\"ticks\":\"\"}}}],\"scatterpolargl\":[{\"type\":\"scatterpolargl\",\"marker\":{\"colorbar\":{\"outlinewidth\":0,\"ticks\":\"\"}}}],\"bar\":[{\"error_x\":{\"color\":\"#2a3f5f\"},\"error_y\":{\"color\":\"#2a3f5f\"},\"marker\":{\"line\":{\"color\":\"#E5ECF6\",\"width\":0.5},\"pattern\":{\"fillmode\":\"overlay\",\"size\":10,\"solidity\":0.2}},\"type\":\"bar\"}],\"scattergeo\":[{\"type\":\"scattergeo\",\"marker\":{\"colorbar\":{\"outlinewidth\":0,\"ticks\":\"\"}}}],\"scatterpolar\":[{\"type\":\"scatterpolar\",\"marker\":{\"colorbar\":{\"outlinewidth\":0,\"ticks\":\"\"}}}],\"histogram\":[{\"marker\":{\"pattern\":{\"fillmode\":\"overlay\",\"size\":10,\"solidity\":0.2}},\"type\":\"histogram\"}],\"scattergl\":[{\"type\":\"scattergl\",\"marker\":{\"colorbar\":{\"outlinewidth\":0,\"ticks\":\"\"}}}],\"scatter3d\":[{\"type\":\"scatter3d\",\"line\":{\"colorbar\":{\"outlinewidth\":0,\"ticks\":\"\"}},\"marker\":{\"colorbar\":{\"outlinewidth\":0,\"ticks\":\"\"}}}],\"scattermapbox\":[{\"type\":\"scattermapbox\",\"marker\":{\"colorbar\":{\"outlinewidth\":0,\"ticks\":\"\"}}}],\"scatterternary\":[{\"type\":\"scatterternary\",\"marker\":{\"colorbar\":{\"outlinewidth\":0,\"ticks\":\"\"}}}],\"scattercarpet\":[{\"type\":\"scattercarpet\",\"marker\":{\"colorbar\":{\"outlinewidth\":0,\"ticks\":\"\"}}}],\"carpet\":[{\"aaxis\":{\"endlinecolor\":\"#2a3f5f\",\"gridcolor\":\"white\",\"linecolor\":\"white\",\"minorgridcolor\":\"white\",\"startlinecolor\":\"#2a3f5f\"},\"baxis\":{\"endlinecolor\":\"#2a3f5f\",\"gridcolor\":\"white\",\"linecolor\":\"white\",\"minorgridcolor\":\"white\",\"startlinecolor\":\"#2a3f5f\"},\"type\":\"carpet\"}],\"table\":[{\"cells\":{\"fill\":{\"color\":\"#EBF0F8\"},\"line\":{\"color\":\"white\"}},\"header\":{\"fill\":{\"color\":\"#C8D4E3\"},\"line\":{\"color\":\"white\"}},\"type\":\"table\"}],\"barpolar\":[{\"marker\":{\"line\":{\"color\":\"#E5ECF6\",\"width\":0.5},\"pattern\":{\"fillmode\":\"overlay\",\"size\":10,\"solidity\":0.2}},\"type\":\"barpolar\"}],\"pie\":[{\"automargin\":true,\"type\":\"pie\"}]},\"layout\":{\"autotypenumbers\":\"strict\",\"colorway\":[\"#636efa\",\"#EF553B\",\"#00cc96\",\"#ab63fa\",\"#FFA15A\",\"#19d3f3\",\"#FF6692\",\"#B6E880\",\"#FF97FF\",\"#FECB52\"],\"font\":{\"color\":\"#2a3f5f\"},\"hovermode\":\"closest\",\"hoverlabel\":{\"align\":\"left\"},\"paper_bgcolor\":\"white\",\"plot_bgcolor\":\"#E5ECF6\",\"polar\":{\"bgcolor\":\"#E5ECF6\",\"angularaxis\":{\"gridcolor\":\"white\",\"linecolor\":\"white\",\"ticks\":\"\"},\"radialaxis\":{\"gridcolor\":\"white\",\"linecolor\":\"white\",\"ticks\":\"\"}},\"ternary\":{\"bgcolor\":\"#E5ECF6\",\"aaxis\":{\"gridcolor\":\"white\",\"linecolor\":\"white\",\"ticks\":\"\"},\"baxis\":{\"gridcolor\":\"white\",\"linecolor\":\"white\",\"ticks\":\"\"},\"caxis\":{\"gridcolor\":\"white\",\"linecolor\":\"white\",\"ticks\":\"\"}},\"coloraxis\":{\"colorbar\":{\"outlinewidth\":0,\"ticks\":\"\"}},\"colorscale\":{\"sequential\":[[0.0,\"#0d0887\"],[0.1111111111111111,\"#46039f\"],[0.2222222222222222,\"#7201a8\"],[0.3333333333333333,\"#9c179e\"],[0.4444444444444444,\"#bd3786\"],[0.5555555555555556,\"#d8576b\"],[0.6666666666666666,\"#ed7953\"],[0.7777777777777778,\"#fb9f3a\"],[0.8888888888888888,\"#fdca26\"],[1.0,\"#f0f921\"]],\"sequentialminus\":[[0.0,\"#0d0887\"],[0.1111111111111111,\"#46039f\"],[0.2222222222222222,\"#7201a8\"],[0.3333333333333333,\"#9c179e\"],[0.4444444444444444,\"#bd3786\"],[0.5555555555555556,\"#d8576b\"],[0.6666666666666666,\"#ed7953\"],[0.7777777777777778,\"#fb9f3a\"],[0.8888888888888888,\"#fdca26\"],[1.0,\"#f0f921\"]],\"diverging\":[[0,\"#8e0152\"],[0.1,\"#c51b7d\"],[0.2,\"#de77ae\"],[0.3,\"#f1b6da\"],[0.4,\"#fde0ef\"],[0.5,\"#f7f7f7\"],[0.6,\"#e6f5d0\"],[0.7,\"#b8e186\"],[0.8,\"#7fbc41\"],[0.9,\"#4d9221\"],[1,\"#276419\"]]},\"xaxis\":{\"gridcolor\":\"white\",\"linecolor\":\"white\",\"ticks\":\"\",\"title\":{\"standoff\":15},\"zerolinecolor\":\"white\",\"automargin\":true,\"zerolinewidth\":2},\"yaxis\":{\"gridcolor\":\"white\",\"linecolor\":\"white\",\"ticks\":\"\",\"title\":{\"standoff\":15},\"zerolinecolor\":\"white\",\"automargin\":true,\"zerolinewidth\":2},\"scene\":{\"xaxis\":{\"backgroundcolor\":\"#E5ECF6\",\"gridcolor\":\"white\",\"linecolor\":\"white\",\"showbackground\":true,\"ticks\":\"\",\"zerolinecolor\":\"white\",\"gridwidth\":2},\"yaxis\":{\"backgroundcolor\":\"#E5ECF6\",\"gridcolor\":\"white\",\"linecolor\":\"white\",\"showbackground\":true,\"ticks\":\"\",\"zerolinecolor\":\"white\",\"gridwidth\":2},\"zaxis\":{\"backgroundcolor\":\"#E5ECF6\",\"gridcolor\":\"white\",\"linecolor\":\"white\",\"showbackground\":true,\"ticks\":\"\",\"zerolinecolor\":\"white\",\"gridwidth\":2}},\"shapedefaults\":{\"line\":{\"color\":\"#2a3f5f\"}},\"annotationdefaults\":{\"arrowcolor\":\"#2a3f5f\",\"arrowhead\":0,\"arrowwidth\":1},\"geo\":{\"bgcolor\":\"white\",\"landcolor\":\"#E5ECF6\",\"subunitcolor\":\"white\",\"showland\":true,\"showlakes\":true,\"lakecolor\":\"white\"},\"title\":{\"x\":0.05},\"mapbox\":{\"style\":\"light\"}}},\"xaxis\":{\"anchor\":\"y\",\"domain\":[0.0,1.0],\"title\":{\"text\":\"Tax Rate Change\"}},\"yaxis\":{\"anchor\":\"x\",\"domain\":[0.0,1.0],\"title\":{\"text\":\"gdp\"}},\"legend\":{\"title\":{\"text\":\"States\"},\"tracegroupgap\":0,\"itemsizing\":\"constant\"},\"title\":{\"text\":\"Change in the business applications, tax rates and GDP from 2005-2022\"}},                        {\"responsive\": true}                    ).then(function(){\n",
       "                            \n",
       "var gd = document.getElementById('130c8dce-5b9f-4031-86dc-0d6d9791aa5b');\n",
       "var x = new MutationObserver(function (mutations, observer) {{\n",
       "        var display = window.getComputedStyle(gd).display;\n",
       "        if (!display || display === 'none') {{\n",
       "            console.log([gd, 'removed!']);\n",
       "            Plotly.purge(gd);\n",
       "            observer.disconnect();\n",
       "        }}\n",
       "}});\n",
       "\n",
       "// Listen for the removal of the full notebook cells\n",
       "var notebookContainer = gd.closest('#notebook-container');\n",
       "if (notebookContainer) {{\n",
       "    x.observe(notebookContainer, {childList: true});\n",
       "}}\n",
       "\n",
       "// Listen for the clearing of the current output cell\n",
       "var outputEl = gd.closest('.output');\n",
       "if (outputEl) {{\n",
       "    x.observe(outputEl, {childList: true});\n",
       "}}\n",
       "\n",
       "                        })                };                });            </script>        </div>"
      ]
     },
     "metadata": {},
     "output_type": "display_data"
    }
   ],
   "source": [
    "fig = px.scatter(df_change, x=\"tax_rate\", y=\"gdp\", size=\"business_apps\", color=\"Name\", size_max=60,\n",
    "                 title=\"Change in the business applications, tax rates and GDP from 2005-2022\", \n",
    "                 labels={\n",
    "                     \"tax_rate\": \"Tax Rate Change\",\n",
    "                     \"business_apps\": \"Incrimental Business Applications\",\n",
    "                     \"Name\": \"States\"})\n",
    "\n",
    "fig.show()"
   ]
  },
  {
   "cell_type": "code",
   "execution_count": 12,
   "id": "587306b6",
   "metadata": {},
   "outputs": [
    {
     "data": {
      "text/html": [
       "<div>\n",
       "<style scoped>\n",
       "    .dataframe tbody tr th:only-of-type {\n",
       "        vertical-align: middle;\n",
       "    }\n",
       "\n",
       "    .dataframe tbody tr th {\n",
       "        vertical-align: top;\n",
       "    }\n",
       "\n",
       "    .dataframe thead th {\n",
       "        text-align: right;\n",
       "    }\n",
       "</style>\n",
       "<table border=\"1\" class=\"dataframe\">\n",
       "  <thead>\n",
       "    <tr style=\"text-align: right;\">\n",
       "      <th></th>\n",
       "      <th>State</th>\n",
       "      <th>2005</th>\n",
       "      <th>2006</th>\n",
       "      <th>2007</th>\n",
       "      <th>2008</th>\n",
       "      <th>2009</th>\n",
       "      <th>2010</th>\n",
       "      <th>2011</th>\n",
       "      <th>2012</th>\n",
       "      <th>2013</th>\n",
       "      <th>2014</th>\n",
       "      <th>2015</th>\n",
       "      <th>2016</th>\n",
       "      <th>2017</th>\n",
       "      <th>2018</th>\n",
       "      <th>2019</th>\n",
       "      <th>2020</th>\n",
       "      <th>2021</th>\n",
       "      <th>2022</th>\n",
       "    </tr>\n",
       "  </thead>\n",
       "  <tbody>\n",
       "    <tr>\n",
       "      <th>0</th>\n",
       "      <td>Alabama</td>\n",
       "      <td>158846.8</td>\n",
       "      <td>166469.0</td>\n",
       "      <td>172975.2</td>\n",
       "      <td>174526.3</td>\n",
       "      <td>170930.9</td>\n",
       "      <td>177249.2</td>\n",
       "      <td>183916.6</td>\n",
       "      <td>189245.5</td>\n",
       "      <td>194786.9</td>\n",
       "      <td>197406.9</td>\n",
       "      <td>202372.4</td>\n",
       "      <td>207368.4</td>\n",
       "      <td>214606.3</td>\n",
       "      <td>223859.3</td>\n",
       "      <td>231561.9</td>\n",
       "      <td>230892.1</td>\n",
       "      <td>254109.7</td>\n",
       "      <td>277817.5</td>\n",
       "    </tr>\n",
       "    <tr>\n",
       "      <th>1</th>\n",
       "      <td>Alaska</td>\n",
       "      <td>40356.6</td>\n",
       "      <td>45094.1</td>\n",
       "      <td>49583.7</td>\n",
       "      <td>55122.5</td>\n",
       "      <td>49957.8</td>\n",
       "      <td>53331.6</td>\n",
       "      <td>56896.3</td>\n",
       "      <td>58283.6</td>\n",
       "      <td>57247.7</td>\n",
       "      <td>56484.9</td>\n",
       "      <td>51490.9</td>\n",
       "      <td>50727.7</td>\n",
       "      <td>53301.5</td>\n",
       "      <td>54899.6</td>\n",
       "      <td>54728.2</td>\n",
       "      <td>50475.2</td>\n",
       "      <td>57349.4</td>\n",
       "      <td>63618.0</td>\n",
       "    </tr>\n",
       "    <tr>\n",
       "      <th>2</th>\n",
       "      <td>Arizona</td>\n",
       "      <td>227915.9</td>\n",
       "      <td>245957.0</td>\n",
       "      <td>261392.0</td>\n",
       "      <td>262926.0</td>\n",
       "      <td>246424.3</td>\n",
       "      <td>251153.0</td>\n",
       "      <td>260915.7</td>\n",
       "      <td>271440.0</td>\n",
       "      <td>278591.6</td>\n",
       "      <td>287666.6</td>\n",
       "      <td>299393.3</td>\n",
       "      <td>313081.4</td>\n",
       "      <td>332001.8</td>\n",
       "      <td>351879.5</td>\n",
       "      <td>372393.5</td>\n",
       "      <td>382072.3</td>\n",
       "      <td>420026.7</td>\n",
       "      <td>458949.8</td>\n",
       "    </tr>\n",
       "    <tr>\n",
       "      <th>3</th>\n",
       "      <td>Arkansas</td>\n",
       "      <td>90887.7</td>\n",
       "      <td>95875.1</td>\n",
       "      <td>98381.6</td>\n",
       "      <td>99706.8</td>\n",
       "      <td>97508.1</td>\n",
       "      <td>101486.5</td>\n",
       "      <td>105768.1</td>\n",
       "      <td>108492.1</td>\n",
       "      <td>113227.3</td>\n",
       "      <td>116139.4</td>\n",
       "      <td>117786.8</td>\n",
       "      <td>119152.4</td>\n",
       "      <td>122466.7</td>\n",
       "      <td>127535.7</td>\n",
       "      <td>131578.3</td>\n",
       "      <td>133969.1</td>\n",
       "      <td>148676.1</td>\n",
       "      <td>165220.6</td>\n",
       "    </tr>\n",
       "    <tr>\n",
       "      <th>4</th>\n",
       "      <td>California</td>\n",
       "      <td>1698560.4</td>\n",
       "      <td>1812210.0</td>\n",
       "      <td>1898902.0</td>\n",
       "      <td>1944695.3</td>\n",
       "      <td>1890165.9</td>\n",
       "      <td>1954092.7</td>\n",
       "      <td>2023500.0</td>\n",
       "      <td>2113096.4</td>\n",
       "      <td>2220389.9</td>\n",
       "      <td>2335286.5</td>\n",
       "      <td>2473555.9</td>\n",
       "      <td>2569634.0</td>\n",
       "      <td>2728743.1</td>\n",
       "      <td>2897200.7</td>\n",
       "      <td>3042694.1</td>\n",
       "      <td>3020173.4</td>\n",
       "      <td>3373240.7</td>\n",
       "      <td>3598102.7</td>\n",
       "    </tr>\n",
       "  </tbody>\n",
       "</table>\n",
       "</div>"
      ],
      "text/plain": [
       "        State       2005       2006       2007       2008       2009  \\\n",
       "0     Alabama   158846.8   166469.0   172975.2   174526.3   170930.9   \n",
       "1      Alaska    40356.6    45094.1    49583.7    55122.5    49957.8   \n",
       "2     Arizona   227915.9   245957.0   261392.0   262926.0   246424.3   \n",
       "3    Arkansas    90887.7    95875.1    98381.6    99706.8    97508.1   \n",
       "4  California  1698560.4  1812210.0  1898902.0  1944695.3  1890165.9   \n",
       "\n",
       "        2010       2011       2012       2013       2014       2015  \\\n",
       "0   177249.2   183916.6   189245.5   194786.9   197406.9   202372.4   \n",
       "1    53331.6    56896.3    58283.6    57247.7    56484.9    51490.9   \n",
       "2   251153.0   260915.7   271440.0   278591.6   287666.6   299393.3   \n",
       "3   101486.5   105768.1   108492.1   113227.3   116139.4   117786.8   \n",
       "4  1954092.7  2023500.0  2113096.4  2220389.9  2335286.5  2473555.9   \n",
       "\n",
       "        2016       2017       2018       2019       2020       2021       2022  \n",
       "0   207368.4   214606.3   223859.3   231561.9   230892.1   254109.7   277817.5  \n",
       "1    50727.7    53301.5    54899.6    54728.2    50475.2    57349.4    63618.0  \n",
       "2   313081.4   332001.8   351879.5   372393.5   382072.3   420026.7   458949.8  \n",
       "3   119152.4   122466.7   127535.7   131578.3   133969.1   148676.1   165220.6  \n",
       "4  2569634.0  2728743.1  2897200.7  3042694.1  3020173.4  3373240.7  3598102.7  "
      ]
     },
     "execution_count": 12,
     "metadata": {},
     "output_type": "execute_result"
    }
   ],
   "source": [
    "df_gdp = pd.read_csv(\"GDP_bystate.csv\")\n",
    "df_gdp.head()"
   ]
  },
  {
   "cell_type": "code",
   "execution_count": 83,
   "id": "233340b5",
   "metadata": {},
   "outputs": [
    {
     "data": {
      "text/html": [
       "<div>\n",
       "<style scoped>\n",
       "    .dataframe tbody tr th:only-of-type {\n",
       "        vertical-align: middle;\n",
       "    }\n",
       "\n",
       "    .dataframe tbody tr th {\n",
       "        vertical-align: top;\n",
       "    }\n",
       "\n",
       "    .dataframe thead th {\n",
       "        text-align: right;\n",
       "    }\n",
       "</style>\n",
       "<table border=\"1\" class=\"dataframe\">\n",
       "  <thead>\n",
       "    <tr style=\"text-align: right;\">\n",
       "      <th></th>\n",
       "      <th>Name</th>\n",
       "      <th>State</th>\n",
       "      <th>tax_rate</th>\n",
       "      <th>business_apps</th>\n",
       "      <th>pop</th>\n",
       "      <th>gdp</th>\n",
       "    </tr>\n",
       "  </thead>\n",
       "  <tbody>\n",
       "    <tr>\n",
       "      <th>0</th>\n",
       "      <td>Alabama</td>\n",
       "      <td>AL</td>\n",
       "      <td>0.00</td>\n",
       "      <td>39672</td>\n",
       "      <td>504491</td>\n",
       "      <td>118970.7</td>\n",
       "    </tr>\n",
       "    <tr>\n",
       "      <th>1</th>\n",
       "      <td>Alaska</td>\n",
       "      <td>AK</td>\n",
       "      <td>-0.10</td>\n",
       "      <td>3726</td>\n",
       "      <td>66637</td>\n",
       "      <td>23261.4</td>\n",
       "    </tr>\n",
       "    <tr>\n",
       "      <th>2</th>\n",
       "      <td>Arizona</td>\n",
       "      <td>AZ</td>\n",
       "      <td>-2.07</td>\n",
       "      <td>58533</td>\n",
       "      <td>1520120</td>\n",
       "      <td>231033.9</td>\n",
       "    </tr>\n",
       "    <tr>\n",
       "      <th>3</th>\n",
       "      <td>Arkansas</td>\n",
       "      <td>AR</td>\n",
       "      <td>-0.27</td>\n",
       "      <td>18429</td>\n",
       "      <td>264540</td>\n",
       "      <td>74332.9</td>\n",
       "    </tr>\n",
       "    <tr>\n",
       "      <th>4</th>\n",
       "      <td>California</td>\n",
       "      <td>CA</td>\n",
       "      <td>0.00</td>\n",
       "      <td>214318</td>\n",
       "      <td>3201399</td>\n",
       "      <td>1899542.3</td>\n",
       "    </tr>\n",
       "    <tr>\n",
       "      <th>5</th>\n",
       "      <td>Colorado</td>\n",
       "      <td>CO</td>\n",
       "      <td>-0.08</td>\n",
       "      <td>59773</td>\n",
       "      <td>1208038</td>\n",
       "      <td>263587.8</td>\n",
       "    </tr>\n",
       "    <tr>\n",
       "      <th>6</th>\n",
       "      <td>Connecticut</td>\n",
       "      <td>CT</td>\n",
       "      <td>0.00</td>\n",
       "      <td>16190</td>\n",
       "      <td>119249</td>\n",
       "      <td>116630.0</td>\n",
       "    </tr>\n",
       "    <tr>\n",
       "      <th>7</th>\n",
       "      <td>Delaware</td>\n",
       "      <td>DE</td>\n",
       "      <td>0.00</td>\n",
       "      <td>34138</td>\n",
       "      <td>173246</td>\n",
       "      <td>35371.3</td>\n",
       "    </tr>\n",
       "    <tr>\n",
       "      <th>8</th>\n",
       "      <td>Florida</td>\n",
       "      <td>FL</td>\n",
       "      <td>0.00</td>\n",
       "      <td>6993</td>\n",
       "      <td>104667</td>\n",
       "      <td>77446.8</td>\n",
       "    </tr>\n",
       "    <tr>\n",
       "      <th>9</th>\n",
       "      <td>Georgia</td>\n",
       "      <td>GA</td>\n",
       "      <td>-0.25</td>\n",
       "      <td>325577</td>\n",
       "      <td>4402785</td>\n",
       "      <td>683217.8</td>\n",
       "    </tr>\n",
       "    <tr>\n",
       "      <th>10</th>\n",
       "      <td>Hawaii</td>\n",
       "      <td>HI</td>\n",
       "      <td>0.00</td>\n",
       "      <td>175422</td>\n",
       "      <td>1986954</td>\n",
       "      <td>366160.2</td>\n",
       "    </tr>\n",
       "    <tr>\n",
       "      <th>11</th>\n",
       "      <td>Idaho</td>\n",
       "      <td>ID</td>\n",
       "      <td>-1.60</td>\n",
       "      <td>8860</td>\n",
       "      <td>147467</td>\n",
       "      <td>40849.4</td>\n",
       "    </tr>\n",
       "    <tr>\n",
       "      <th>12</th>\n",
       "      <td>Illinois</td>\n",
       "      <td>IL</td>\n",
       "      <td>2.20</td>\n",
       "      <td>14670</td>\n",
       "      <td>510792</td>\n",
       "      <td>60903.7</td>\n",
       "    </tr>\n",
       "    <tr>\n",
       "      <th>13</th>\n",
       "      <td>Indiana</td>\n",
       "      <td>IN</td>\n",
       "      <td>-3.60</td>\n",
       "      <td>73967</td>\n",
       "      <td>-27871</td>\n",
       "      <td>443498.3</td>\n",
       "    </tr>\n",
       "    <tr>\n",
       "      <th>14</th>\n",
       "      <td>Iowa</td>\n",
       "      <td>IA</td>\n",
       "      <td>-0.90</td>\n",
       "      <td>45028</td>\n",
       "      <td>554421</td>\n",
       "      <td>207579.7</td>\n",
       "    </tr>\n",
       "    <tr>\n",
       "      <th>15</th>\n",
       "      <td>Kansas</td>\n",
       "      <td>KS</td>\n",
       "      <td>1.50</td>\n",
       "      <td>11872</td>\n",
       "      <td>236063</td>\n",
       "      <td>107916.9</td>\n",
       "    </tr>\n",
       "    <tr>\n",
       "      <th>16</th>\n",
       "      <td>Kentucky</td>\n",
       "      <td>KY</td>\n",
       "      <td>-1.05</td>\n",
       "      <td>11934</td>\n",
       "      <td>191851</td>\n",
       "      <td>105144.2</td>\n",
       "    </tr>\n",
       "    <tr>\n",
       "      <th>17</th>\n",
       "      <td>Louisiana</td>\n",
       "      <td>LA</td>\n",
       "      <td>-0.67</td>\n",
       "      <td>21123</td>\n",
       "      <td>329568</td>\n",
       "      <td>115293.0</td>\n",
       "    </tr>\n",
       "    <tr>\n",
       "      <th>18</th>\n",
       "      <td>Maine</td>\n",
       "      <td>ME</td>\n",
       "      <td>0.00</td>\n",
       "      <td>44379</td>\n",
       "      <td>13613</td>\n",
       "      <td>81834.6</td>\n",
       "    </tr>\n",
       "    <tr>\n",
       "      <th>19</th>\n",
       "      <td>Maryland</td>\n",
       "      <td>MD</td>\n",
       "      <td>1.25</td>\n",
       "      <td>3767</td>\n",
       "      <td>66553</td>\n",
       "      <td>37419.0</td>\n",
       "    </tr>\n",
       "    <tr>\n",
       "      <th>20</th>\n",
       "      <td>Massachusetts</td>\n",
       "      <td>MA</td>\n",
       "      <td>-1.50</td>\n",
       "      <td>44771</td>\n",
       "      <td>572281</td>\n",
       "      <td>208087.1</td>\n",
       "    </tr>\n",
       "    <tr>\n",
       "      <th>21</th>\n",
       "      <td>Michigan</td>\n",
       "      <td>MI</td>\n",
       "      <td>4.10</td>\n",
       "      <td>24264</td>\n",
       "      <td>578684</td>\n",
       "      <td>346398.4</td>\n",
       "    </tr>\n",
       "    <tr>\n",
       "      <th>22</th>\n",
       "      <td>Minnesota</td>\n",
       "      <td>MN</td>\n",
       "      <td>0.00</td>\n",
       "      <td>60776</td>\n",
       "      <td>-17024</td>\n",
       "      <td>220426.7</td>\n",
       "    </tr>\n",
       "    <tr>\n",
       "      <th>23</th>\n",
       "      <td>Mississippi</td>\n",
       "      <td>MS</td>\n",
       "      <td>-1.00</td>\n",
       "      <td>21193</td>\n",
       "      <td>597586</td>\n",
       "      <td>201119.0</td>\n",
       "    </tr>\n",
       "    <tr>\n",
       "      <th>24</th>\n",
       "      <td>Missouri</td>\n",
       "      <td>MO</td>\n",
       "      <td>-2.25</td>\n",
       "      <td>36155</td>\n",
       "      <td>34114</td>\n",
       "      <td>56291.2</td>\n",
       "    </tr>\n",
       "    <tr>\n",
       "      <th>25</th>\n",
       "      <td>Montana</td>\n",
       "      <td>MT</td>\n",
       "      <td>0.00</td>\n",
       "      <td>36039</td>\n",
       "      <td>387657</td>\n",
       "      <td>161959.9</td>\n",
       "    </tr>\n",
       "    <tr>\n",
       "      <th>26</th>\n",
       "      <td>Nebraska</td>\n",
       "      <td>NE</td>\n",
       "      <td>0.00</td>\n",
       "      <td>9337</td>\n",
       "      <td>182765</td>\n",
       "      <td>34138.7</td>\n",
       "    </tr>\n",
       "    <tr>\n",
       "      <th>27</th>\n",
       "      <td>Nevada</td>\n",
       "      <td>NV</td>\n",
       "      <td>0.00</td>\n",
       "      <td>9651</td>\n",
       "      <td>206426</td>\n",
       "      <td>87137.5</td>\n",
       "    </tr>\n",
       "    <tr>\n",
       "      <th>28</th>\n",
       "      <td>New Hampshire</td>\n",
       "      <td>NH</td>\n",
       "      <td>-1.28</td>\n",
       "      <td>18164</td>\n",
       "      <td>745629</td>\n",
       "      <td>99751.6</td>\n",
       "    </tr>\n",
       "    <tr>\n",
       "      <th>29</th>\n",
       "      <td>New Jersey</td>\n",
       "      <td>NJ</td>\n",
       "      <td>0.95</td>\n",
       "      <td>3233</td>\n",
       "      <td>96739</td>\n",
       "      <td>48461.8</td>\n",
       "    </tr>\n",
       "    <tr>\n",
       "      <th>30</th>\n",
       "      <td>New Mexico</td>\n",
       "      <td>NM</td>\n",
       "      <td>-0.92</td>\n",
       "      <td>66797</td>\n",
       "      <td>609725</td>\n",
       "      <td>309685.5</td>\n",
       "    </tr>\n",
       "    <tr>\n",
       "      <th>31</th>\n",
       "      <td>New York</td>\n",
       "      <td>NY</td>\n",
       "      <td>-0.62</td>\n",
       "      <td>15471</td>\n",
       "      <td>181070</td>\n",
       "      <td>48203.4</td>\n",
       "    </tr>\n",
       "    <tr>\n",
       "      <th>32</th>\n",
       "      <td>North Carolina</td>\n",
       "      <td>NC</td>\n",
       "      <td>-4.40</td>\n",
       "      <td>125040</td>\n",
       "      <td>544541</td>\n",
       "      <td>1037142.2</td>\n",
       "    </tr>\n",
       "    <tr>\n",
       "      <th>33</th>\n",
       "      <td>North Dakota</td>\n",
       "      <td>ND</td>\n",
       "      <td>-2.05</td>\n",
       "      <td>92031</td>\n",
       "      <td>1993566</td>\n",
       "      <td>374602.7</td>\n",
       "    </tr>\n",
       "    <tr>\n",
       "      <th>34</th>\n",
       "      <td>Ohio</td>\n",
       "      <td>OH</td>\n",
       "      <td>-6.80</td>\n",
       "      <td>3749</td>\n",
       "      <td>133172</td>\n",
       "      <td>48567.1</td>\n",
       "    </tr>\n",
       "    <tr>\n",
       "      <th>35</th>\n",
       "      <td>Oklahoma</td>\n",
       "      <td>OK</td>\n",
       "      <td>-2.00</td>\n",
       "      <td>73594</td>\n",
       "      <td>292738</td>\n",
       "      <td>353778.1</td>\n",
       "    </tr>\n",
       "    <tr>\n",
       "      <th>36</th>\n",
       "      <td>Oregon</td>\n",
       "      <td>OR</td>\n",
       "      <td>0.50</td>\n",
       "      <td>28228</td>\n",
       "      <td>471203</td>\n",
       "      <td>115452.7</td>\n",
       "    </tr>\n",
       "    <tr>\n",
       "      <th>37</th>\n",
       "      <td>Pennsylvania</td>\n",
       "      <td>PA</td>\n",
       "      <td>0.00</td>\n",
       "      <td>19807</td>\n",
       "      <td>626935</td>\n",
       "      <td>155617.7</td>\n",
       "    </tr>\n",
       "    <tr>\n",
       "      <th>38</th>\n",
       "      <td>Rhode Island</td>\n",
       "      <td>RI</td>\n",
       "      <td>-2.00</td>\n",
       "      <td>62977</td>\n",
       "      <td>522018</td>\n",
       "      <td>411357.4</td>\n",
       "    </tr>\n",
       "    <tr>\n",
       "      <th>39</th>\n",
       "      <td>South Carolina</td>\n",
       "      <td>SC</td>\n",
       "      <td>0.00</td>\n",
       "      <td>3643</td>\n",
       "      <td>25818</td>\n",
       "      <td>27028.1</td>\n",
       "    </tr>\n",
       "    <tr>\n",
       "      <th>40</th>\n",
       "      <td>South Dakota</td>\n",
       "      <td>SD</td>\n",
       "      <td>0.00</td>\n",
       "      <td>57315</td>\n",
       "      <td>1012484</td>\n",
       "      <td>150476.9</td>\n",
       "    </tr>\n",
       "    <tr>\n",
       "      <th>41</th>\n",
       "      <td>Tennessee</td>\n",
       "      <td>TN</td>\n",
       "      <td>0.00</td>\n",
       "      <td>4859</td>\n",
       "      <td>134331</td>\n",
       "      <td>36573.3</td>\n",
       "    </tr>\n",
       "    <tr>\n",
       "      <th>42</th>\n",
       "      <td>Texas</td>\n",
       "      <td>TX</td>\n",
       "      <td>0.00</td>\n",
       "      <td>54331</td>\n",
       "      <td>1060282</td>\n",
       "      <td>244121.6</td>\n",
       "    </tr>\n",
       "    <tr>\n",
       "      <th>43</th>\n",
       "      <td>Utah</td>\n",
       "      <td>UT</td>\n",
       "      <td>-0.15</td>\n",
       "      <td>290842</td>\n",
       "      <td>7251449</td>\n",
       "      <td>1360707.3</td>\n",
       "    </tr>\n",
       "    <tr>\n",
       "      <th>44</th>\n",
       "      <td>Vermont</td>\n",
       "      <td>VT</td>\n",
       "      <td>-1.34</td>\n",
       "      <td>36039</td>\n",
       "      <td>923081</td>\n",
       "      <td>152821.2</td>\n",
       "    </tr>\n",
       "    <tr>\n",
       "      <th>45</th>\n",
       "      <td>Virginia</td>\n",
       "      <td>VA</td>\n",
       "      <td>0.00</td>\n",
       "      <td>2945</td>\n",
       "      <td>25849</td>\n",
       "      <td>17008.5</td>\n",
       "    </tr>\n",
       "    <tr>\n",
       "      <th>46</th>\n",
       "      <td>Washington</td>\n",
       "      <td>WA</td>\n",
       "      <td>0.00</td>\n",
       "      <td>59556</td>\n",
       "      <td>1106514</td>\n",
       "      <td>291322.9</td>\n",
       "    </tr>\n",
       "    <tr>\n",
       "      <th>47</th>\n",
       "      <td>West Virginia</td>\n",
       "      <td>WV</td>\n",
       "      <td>-2.50</td>\n",
       "      <td>38888</td>\n",
       "      <td>1528481</td>\n",
       "      <td>431837.5</td>\n",
       "    </tr>\n",
       "    <tr>\n",
       "      <th>48</th>\n",
       "      <td>Wisconsin</td>\n",
       "      <td>WI</td>\n",
       "      <td>0.00</td>\n",
       "      <td>4685</td>\n",
       "      <td>-45336</td>\n",
       "      <td>42095.9</td>\n",
       "    </tr>\n",
       "    <tr>\n",
       "      <th>49</th>\n",
       "      <td>Wyoming</td>\n",
       "      <td>WY</td>\n",
       "      <td>0.00</td>\n",
       "      <td>26518</td>\n",
       "      <td>346373</td>\n",
       "      <td>174494.5</td>\n",
       "    </tr>\n",
       "    <tr>\n",
       "      <th>50</th>\n",
       "      <td>District of Columbia</td>\n",
       "      <td>DC</td>\n",
       "      <td>-1.73</td>\n",
       "      <td>36119</td>\n",
       "      <td>67224</td>\n",
       "      <td>19856.2</td>\n",
       "    </tr>\n",
       "  </tbody>\n",
       "</table>\n",
       "</div>"
      ],
      "text/plain": [
       "                    Name State  tax_rate  business_apps      pop        gdp\n",
       "0                Alabama    AL      0.00          39672   504491   118970.7\n",
       "1                 Alaska    AK     -0.10           3726    66637    23261.4\n",
       "2                Arizona    AZ     -2.07          58533  1520120   231033.9\n",
       "3               Arkansas    AR     -0.27          18429   264540    74332.9\n",
       "4             California    CA      0.00         214318  3201399  1899542.3\n",
       "5               Colorado    CO     -0.08          59773  1208038   263587.8\n",
       "6            Connecticut    CT      0.00          16190   119249   116630.0\n",
       "7               Delaware    DE      0.00          34138   173246    35371.3\n",
       "8                Florida    FL      0.00           6993   104667    77446.8\n",
       "9                Georgia    GA     -0.25         325577  4402785   683217.8\n",
       "10                Hawaii    HI      0.00         175422  1986954   366160.2\n",
       "11                 Idaho    ID     -1.60           8860   147467    40849.4\n",
       "12              Illinois    IL      2.20          14670   510792    60903.7\n",
       "13               Indiana    IN     -3.60          73967   -27871   443498.3\n",
       "14                  Iowa    IA     -0.90          45028   554421   207579.7\n",
       "15                Kansas    KS      1.50          11872   236063   107916.9\n",
       "16              Kentucky    KY     -1.05          11934   191851   105144.2\n",
       "17             Louisiana    LA     -0.67          21123   329568   115293.0\n",
       "18                 Maine    ME      0.00          44379    13613    81834.6\n",
       "19              Maryland    MD      1.25           3767    66553    37419.0\n",
       "20         Massachusetts    MA     -1.50          44771   572281   208087.1\n",
       "21              Michigan    MI      4.10          24264   578684   346398.4\n",
       "22             Minnesota    MN      0.00          60776   -17024   220426.7\n",
       "23           Mississippi    MS     -1.00          21193   597586   201119.0\n",
       "24              Missouri    MO     -2.25          36155    34114    56291.2\n",
       "25               Montana    MT      0.00          36039   387657   161959.9\n",
       "26              Nebraska    NE      0.00           9337   182765    34138.7\n",
       "27                Nevada    NV      0.00           9651   206426    87137.5\n",
       "28         New Hampshire    NH     -1.28          18164   745629    99751.6\n",
       "29            New Jersey    NJ      0.95           3233    96739    48461.8\n",
       "30            New Mexico    NM     -0.92          66797   609725   309685.5\n",
       "31              New York    NY     -0.62          15471   181070    48203.4\n",
       "32       North Carolina     NC     -4.40         125040   544541  1037142.2\n",
       "33          North Dakota    ND     -2.05          92031  1993566   374602.7\n",
       "34                 Ohio     OH     -6.80           3749   133172    48567.1\n",
       "35              Oklahoma    OK     -2.00          73594   292738   353778.1\n",
       "36                Oregon    OR      0.50          28228   471203   115452.7\n",
       "37          Pennsylvania    PA      0.00          19807   626935   155617.7\n",
       "38          Rhode Island    RI     -2.00          62977   522018   411357.4\n",
       "39        South Carolina    SC      0.00           3643    25818    27028.1\n",
       "40          South Dakota    SD      0.00          57315  1012484   150476.9\n",
       "41             Tennessee    TN      0.00           4859   134331    36573.3\n",
       "42                 Texas    TX      0.00          54331  1060282   244121.6\n",
       "43                  Utah    UT     -0.15         290842  7251449  1360707.3\n",
       "44               Vermont    VT     -1.34          36039   923081   152821.2\n",
       "45              Virginia    VA      0.00           2945    25849    17008.5\n",
       "46            Washington    WA      0.00          59556  1106514   291322.9\n",
       "47         West Virginia    WV     -2.50          38888  1528481   431837.5\n",
       "48            Wisconsin     WI      0.00           4685   -45336    42095.9\n",
       "49               Wyoming    WY      0.00          26518   346373   174494.5\n",
       "50  District of Columbia    DC     -1.73          36119    67224    19856.2"
      ]
     },
     "execution_count": 83,
     "metadata": {},
     "output_type": "execute_result"
    }
   ],
   "source": [
    "df_change[\"gdp\"] = (df_gdp['2022'] - df_gdp['2005'])\n",
    "df_change"
   ]
  },
  {
   "cell_type": "markdown",
   "id": "20978f8a",
   "metadata": {},
   "source": [
    "To do\n",
    " - minimum wage per state from 2005-2023\n",
    " - clean this and finalize the stuff as much as possible"
   ]
  },
  {
   "cell_type": "code",
   "execution_count": 18,
   "id": "e526e731",
   "metadata": {
    "scrolled": true
   },
   "outputs": [
    {
     "data": {
      "text/html": [
       "<div>\n",
       "<style scoped>\n",
       "    .dataframe tbody tr th:only-of-type {\n",
       "        vertical-align: middle;\n",
       "    }\n",
       "\n",
       "    .dataframe tbody tr th {\n",
       "        vertical-align: top;\n",
       "    }\n",
       "\n",
       "    .dataframe thead th {\n",
       "        text-align: right;\n",
       "    }\n",
       "</style>\n",
       "<table border=\"1\" class=\"dataframe\">\n",
       "  <thead>\n",
       "    <tr style=\"text-align: right;\">\n",
       "      <th></th>\n",
       "      <th>State</th>\n",
       "      <th>2005</th>\n",
       "      <th>2006</th>\n",
       "      <th>2007</th>\n",
       "      <th>2008</th>\n",
       "      <th>2009</th>\n",
       "      <th>2010</th>\n",
       "      <th>2011</th>\n",
       "      <th>2012</th>\n",
       "      <th>2013</th>\n",
       "      <th>2014</th>\n",
       "      <th>2015</th>\n",
       "      <th>2016</th>\n",
       "      <th>2017</th>\n",
       "      <th>2018</th>\n",
       "      <th>2019</th>\n",
       "      <th>2020</th>\n",
       "      <th>2021</th>\n",
       "      <th>2022</th>\n",
       "      <th>2023</th>\n",
       "    </tr>\n",
       "  </thead>\n",
       "  <tbody>\n",
       "    <tr>\n",
       "      <th>0</th>\n",
       "      <td>Alabama</td>\n",
       "      <td>5.15</td>\n",
       "      <td>5.15</td>\n",
       "      <td>5.15</td>\n",
       "      <td>6.55</td>\n",
       "      <td>7.25</td>\n",
       "      <td>7.25</td>\n",
       "      <td>7.25</td>\n",
       "      <td>7.25</td>\n",
       "      <td>7.25</td>\n",
       "      <td>7.25</td>\n",
       "      <td>7.25</td>\n",
       "      <td>7.25</td>\n",
       "      <td>7.25</td>\n",
       "      <td>7.25</td>\n",
       "      <td>7.25</td>\n",
       "      <td>7.25</td>\n",
       "      <td>7.25</td>\n",
       "      <td>7.25</td>\n",
       "      <td>7.25</td>\n",
       "    </tr>\n",
       "    <tr>\n",
       "      <th>1</th>\n",
       "      <td>Alaska</td>\n",
       "      <td>7.15</td>\n",
       "      <td>7.15</td>\n",
       "      <td>7.15</td>\n",
       "      <td>7.15</td>\n",
       "      <td>7.25</td>\n",
       "      <td>7.75</td>\n",
       "      <td>7.75</td>\n",
       "      <td>7.75</td>\n",
       "      <td>7.75</td>\n",
       "      <td>7.75</td>\n",
       "      <td>8.75</td>\n",
       "      <td>9.75</td>\n",
       "      <td>9.80</td>\n",
       "      <td>9.84</td>\n",
       "      <td>9.89</td>\n",
       "      <td>10.19</td>\n",
       "      <td>10.34</td>\n",
       "      <td>10.34</td>\n",
       "      <td>10.85</td>\n",
       "    </tr>\n",
       "    <tr>\n",
       "      <th>2</th>\n",
       "      <td>Arizona</td>\n",
       "      <td>5.15</td>\n",
       "      <td>5.15</td>\n",
       "      <td>6.75</td>\n",
       "      <td>6.90</td>\n",
       "      <td>7.25</td>\n",
       "      <td>7.25</td>\n",
       "      <td>7.35</td>\n",
       "      <td>7.65</td>\n",
       "      <td>7.80</td>\n",
       "      <td>7.90</td>\n",
       "      <td>8.05</td>\n",
       "      <td>8.05</td>\n",
       "      <td>10.00</td>\n",
       "      <td>10.50</td>\n",
       "      <td>11.00</td>\n",
       "      <td>12.00</td>\n",
       "      <td>12.15</td>\n",
       "      <td>12.80</td>\n",
       "      <td>13.85</td>\n",
       "    </tr>\n",
       "    <tr>\n",
       "      <th>3</th>\n",
       "      <td>Arkansas</td>\n",
       "      <td>5.15</td>\n",
       "      <td>5.15</td>\n",
       "      <td>6.25</td>\n",
       "      <td>6.25</td>\n",
       "      <td>7.25</td>\n",
       "      <td>7.25</td>\n",
       "      <td>7.25</td>\n",
       "      <td>7.25</td>\n",
       "      <td>7.25</td>\n",
       "      <td>7.25</td>\n",
       "      <td>7.50</td>\n",
       "      <td>8.00</td>\n",
       "      <td>8.50</td>\n",
       "      <td>8.50</td>\n",
       "      <td>9.25</td>\n",
       "      <td>10.00</td>\n",
       "      <td>11.00</td>\n",
       "      <td>11.00</td>\n",
       "      <td>11.00</td>\n",
       "    </tr>\n",
       "    <tr>\n",
       "      <th>4</th>\n",
       "      <td>California</td>\n",
       "      <td>6.75</td>\n",
       "      <td>6.75</td>\n",
       "      <td>7.50</td>\n",
       "      <td>8.00</td>\n",
       "      <td>8.00</td>\n",
       "      <td>8.00</td>\n",
       "      <td>8.00</td>\n",
       "      <td>8.00</td>\n",
       "      <td>8.00</td>\n",
       "      <td>9.00</td>\n",
       "      <td>9.00</td>\n",
       "      <td>10.00</td>\n",
       "      <td>10.50</td>\n",
       "      <td>11.00</td>\n",
       "      <td>12.00</td>\n",
       "      <td>13.00</td>\n",
       "      <td>14.00</td>\n",
       "      <td>15.00</td>\n",
       "      <td>15.50</td>\n",
       "    </tr>\n",
       "    <tr>\n",
       "      <th>5</th>\n",
       "      <td>Colorado</td>\n",
       "      <td>5.15</td>\n",
       "      <td>5.15</td>\n",
       "      <td>6.85</td>\n",
       "      <td>7.02</td>\n",
       "      <td>7.28</td>\n",
       "      <td>7.24</td>\n",
       "      <td>7.36</td>\n",
       "      <td>7.64</td>\n",
       "      <td>7.78</td>\n",
       "      <td>8.00</td>\n",
       "      <td>8.23</td>\n",
       "      <td>8.31</td>\n",
       "      <td>9.30</td>\n",
       "      <td>10.20</td>\n",
       "      <td>11.10</td>\n",
       "      <td>12.00</td>\n",
       "      <td>12.32</td>\n",
       "      <td>12.56</td>\n",
       "      <td>13.65</td>\n",
       "    </tr>\n",
       "    <tr>\n",
       "      <th>6</th>\n",
       "      <td>Connecticut</td>\n",
       "      <td>7.10</td>\n",
       "      <td>7.40</td>\n",
       "      <td>7.65</td>\n",
       "      <td>7.65</td>\n",
       "      <td>8.00</td>\n",
       "      <td>8.25</td>\n",
       "      <td>8.25</td>\n",
       "      <td>8.25</td>\n",
       "      <td>8.25</td>\n",
       "      <td>8.70</td>\n",
       "      <td>9.15</td>\n",
       "      <td>9.60</td>\n",
       "      <td>10.10</td>\n",
       "      <td>10.10</td>\n",
       "      <td>10.10</td>\n",
       "      <td>12.00</td>\n",
       "      <td>13.00</td>\n",
       "      <td>14.00</td>\n",
       "      <td>15.00</td>\n",
       "    </tr>\n",
       "    <tr>\n",
       "      <th>7</th>\n",
       "      <td>Delaware</td>\n",
       "      <td>6.15</td>\n",
       "      <td>6.15</td>\n",
       "      <td>6.65</td>\n",
       "      <td>7.15</td>\n",
       "      <td>7.25</td>\n",
       "      <td>7.25</td>\n",
       "      <td>7.25</td>\n",
       "      <td>7.25</td>\n",
       "      <td>7.25</td>\n",
       "      <td>7.75</td>\n",
       "      <td>8.25</td>\n",
       "      <td>8.25</td>\n",
       "      <td>8.25</td>\n",
       "      <td>8.25</td>\n",
       "      <td>8.75</td>\n",
       "      <td>9.25</td>\n",
       "      <td>9.25</td>\n",
       "      <td>10.50</td>\n",
       "      <td>11.75</td>\n",
       "    </tr>\n",
       "    <tr>\n",
       "      <th>8</th>\n",
       "      <td>District of Columbia</td>\n",
       "      <td>6.60</td>\n",
       "      <td>7.00</td>\n",
       "      <td>7.00</td>\n",
       "      <td>7.55</td>\n",
       "      <td>8.25</td>\n",
       "      <td>8.25</td>\n",
       "      <td>8.25</td>\n",
       "      <td>8.25</td>\n",
       "      <td>8.25</td>\n",
       "      <td>9.50</td>\n",
       "      <td>10.50</td>\n",
       "      <td>11.50</td>\n",
       "      <td>12.50</td>\n",
       "      <td>13.25</td>\n",
       "      <td>14.00</td>\n",
       "      <td>15.00</td>\n",
       "      <td>15.20</td>\n",
       "      <td>16.10</td>\n",
       "      <td>17.00</td>\n",
       "    </tr>\n",
       "    <tr>\n",
       "      <th>9</th>\n",
       "      <td>Florida</td>\n",
       "      <td>5.15</td>\n",
       "      <td>5.15</td>\n",
       "      <td>6.40</td>\n",
       "      <td>6.79</td>\n",
       "      <td>7.25</td>\n",
       "      <td>7.25</td>\n",
       "      <td>7.31</td>\n",
       "      <td>7.67</td>\n",
       "      <td>7.79</td>\n",
       "      <td>7.93</td>\n",
       "      <td>8.05</td>\n",
       "      <td>8.05</td>\n",
       "      <td>8.10</td>\n",
       "      <td>8.25</td>\n",
       "      <td>8.46</td>\n",
       "      <td>8.56</td>\n",
       "      <td>8.65</td>\n",
       "      <td>11.00</td>\n",
       "      <td>12.00</td>\n",
       "    </tr>\n",
       "    <tr>\n",
       "      <th>10</th>\n",
       "      <td>Georgia</td>\n",
       "      <td>5.15</td>\n",
       "      <td>5.15</td>\n",
       "      <td>5.15</td>\n",
       "      <td>6.55</td>\n",
       "      <td>7.25</td>\n",
       "      <td>7.25</td>\n",
       "      <td>7.25</td>\n",
       "      <td>7.25</td>\n",
       "      <td>7.25</td>\n",
       "      <td>7.25</td>\n",
       "      <td>7.25</td>\n",
       "      <td>7.25</td>\n",
       "      <td>7.25</td>\n",
       "      <td>7.25</td>\n",
       "      <td>7.25</td>\n",
       "      <td>7.25</td>\n",
       "      <td>7.25</td>\n",
       "      <td>7.25</td>\n",
       "      <td>7.25</td>\n",
       "    </tr>\n",
       "    <tr>\n",
       "      <th>11</th>\n",
       "      <td>Hawaii</td>\n",
       "      <td>6.25</td>\n",
       "      <td>6.75</td>\n",
       "      <td>7.25</td>\n",
       "      <td>7.25</td>\n",
       "      <td>7.25</td>\n",
       "      <td>7.25</td>\n",
       "      <td>7.25</td>\n",
       "      <td>7.25</td>\n",
       "      <td>7.25</td>\n",
       "      <td>7.25</td>\n",
       "      <td>7.75</td>\n",
       "      <td>8.50</td>\n",
       "      <td>9.25</td>\n",
       "      <td>10.10</td>\n",
       "      <td>10.10</td>\n",
       "      <td>10.10</td>\n",
       "      <td>10.10</td>\n",
       "      <td>12.00</td>\n",
       "      <td>12.00</td>\n",
       "    </tr>\n",
       "    <tr>\n",
       "      <th>12</th>\n",
       "      <td>Idaho</td>\n",
       "      <td>5.15</td>\n",
       "      <td>5.15</td>\n",
       "      <td>5.15</td>\n",
       "      <td>5.85</td>\n",
       "      <td>6.55</td>\n",
       "      <td>7.25</td>\n",
       "      <td>7.25</td>\n",
       "      <td>7.25</td>\n",
       "      <td>7.25</td>\n",
       "      <td>7.25</td>\n",
       "      <td>7.25</td>\n",
       "      <td>7.25</td>\n",
       "      <td>7.25</td>\n",
       "      <td>7.25</td>\n",
       "      <td>7.25</td>\n",
       "      <td>7.25</td>\n",
       "      <td>7.25</td>\n",
       "      <td>7.25</td>\n",
       "      <td>7.25</td>\n",
       "    </tr>\n",
       "    <tr>\n",
       "      <th>13</th>\n",
       "      <td>Illinois</td>\n",
       "      <td>6.50</td>\n",
       "      <td>6.50</td>\n",
       "      <td>6.50</td>\n",
       "      <td>7.50</td>\n",
       "      <td>7.75</td>\n",
       "      <td>8.00</td>\n",
       "      <td>8.25</td>\n",
       "      <td>8.25</td>\n",
       "      <td>8.25</td>\n",
       "      <td>8.25</td>\n",
       "      <td>8.25</td>\n",
       "      <td>8.25</td>\n",
       "      <td>8.25</td>\n",
       "      <td>8.25</td>\n",
       "      <td>8.25</td>\n",
       "      <td>10.00</td>\n",
       "      <td>11.00</td>\n",
       "      <td>12.00</td>\n",
       "      <td>13.00</td>\n",
       "    </tr>\n",
       "    <tr>\n",
       "      <th>14</th>\n",
       "      <td>Indiana</td>\n",
       "      <td>5.15</td>\n",
       "      <td>5.15</td>\n",
       "      <td>5.15</td>\n",
       "      <td>5.85</td>\n",
       "      <td>6.55</td>\n",
       "      <td>7.25</td>\n",
       "      <td>7.25</td>\n",
       "      <td>7.25</td>\n",
       "      <td>7.25</td>\n",
       "      <td>7.25</td>\n",
       "      <td>7.25</td>\n",
       "      <td>7.25</td>\n",
       "      <td>7.25</td>\n",
       "      <td>7.25</td>\n",
       "      <td>7.25</td>\n",
       "      <td>7.25</td>\n",
       "      <td>7.25</td>\n",
       "      <td>7.25</td>\n",
       "      <td>7.25</td>\n",
       "    </tr>\n",
       "    <tr>\n",
       "      <th>15</th>\n",
       "      <td>Iowa</td>\n",
       "      <td>5.15</td>\n",
       "      <td>5.15</td>\n",
       "      <td>5.15</td>\n",
       "      <td>7.25</td>\n",
       "      <td>7.25</td>\n",
       "      <td>7.25</td>\n",
       "      <td>7.25</td>\n",
       "      <td>7.25</td>\n",
       "      <td>7.25</td>\n",
       "      <td>7.25</td>\n",
       "      <td>7.25</td>\n",
       "      <td>7.25</td>\n",
       "      <td>7.25</td>\n",
       "      <td>7.25</td>\n",
       "      <td>7.25</td>\n",
       "      <td>7.25</td>\n",
       "      <td>7.25</td>\n",
       "      <td>7.25</td>\n",
       "      <td>7.25</td>\n",
       "    </tr>\n",
       "    <tr>\n",
       "      <th>16</th>\n",
       "      <td>Kansas</td>\n",
       "      <td>2.65</td>\n",
       "      <td>2.65</td>\n",
       "      <td>2.65</td>\n",
       "      <td>2.65</td>\n",
       "      <td>2.65</td>\n",
       "      <td>7.25</td>\n",
       "      <td>7.25</td>\n",
       "      <td>7.25</td>\n",
       "      <td>7.25</td>\n",
       "      <td>7.25</td>\n",
       "      <td>7.25</td>\n",
       "      <td>7.25</td>\n",
       "      <td>7.25</td>\n",
       "      <td>7.25</td>\n",
       "      <td>7.25</td>\n",
       "      <td>7.25</td>\n",
       "      <td>7.25</td>\n",
       "      <td>7.25</td>\n",
       "      <td>7.25</td>\n",
       "    </tr>\n",
       "    <tr>\n",
       "      <th>17</th>\n",
       "      <td>Kentucky</td>\n",
       "      <td>5.15</td>\n",
       "      <td>5.15</td>\n",
       "      <td>5.15</td>\n",
       "      <td>5.85</td>\n",
       "      <td>6.55</td>\n",
       "      <td>7.25</td>\n",
       "      <td>7.25</td>\n",
       "      <td>7.25</td>\n",
       "      <td>7.25</td>\n",
       "      <td>7.25</td>\n",
       "      <td>7.25</td>\n",
       "      <td>7.25</td>\n",
       "      <td>7.25</td>\n",
       "      <td>7.25</td>\n",
       "      <td>7.25</td>\n",
       "      <td>7.25</td>\n",
       "      <td>7.25</td>\n",
       "      <td>7.25</td>\n",
       "      <td>7.25</td>\n",
       "    </tr>\n",
       "    <tr>\n",
       "      <th>18</th>\n",
       "      <td>Louisiana</td>\n",
       "      <td>5.15</td>\n",
       "      <td>5.15</td>\n",
       "      <td>5.85</td>\n",
       "      <td>6.55</td>\n",
       "      <td>7.25</td>\n",
       "      <td>7.25</td>\n",
       "      <td>7.25</td>\n",
       "      <td>7.25</td>\n",
       "      <td>7.25</td>\n",
       "      <td>7.25</td>\n",
       "      <td>7.25</td>\n",
       "      <td>7.25</td>\n",
       "      <td>7.25</td>\n",
       "      <td>7.25</td>\n",
       "      <td>7.25</td>\n",
       "      <td>7.25</td>\n",
       "      <td>7.25</td>\n",
       "      <td>7.25</td>\n",
       "      <td>7.25</td>\n",
       "    </tr>\n",
       "    <tr>\n",
       "      <th>19</th>\n",
       "      <td>Maine</td>\n",
       "      <td>6.35</td>\n",
       "      <td>6.50</td>\n",
       "      <td>6.75</td>\n",
       "      <td>7.00</td>\n",
       "      <td>7.25</td>\n",
       "      <td>7.50</td>\n",
       "      <td>7.50</td>\n",
       "      <td>7.50</td>\n",
       "      <td>7.50</td>\n",
       "      <td>7.50</td>\n",
       "      <td>7.50</td>\n",
       "      <td>7.50</td>\n",
       "      <td>9.00</td>\n",
       "      <td>10.00</td>\n",
       "      <td>11.00</td>\n",
       "      <td>12.00</td>\n",
       "      <td>12.15</td>\n",
       "      <td>12.75</td>\n",
       "      <td>13.80</td>\n",
       "    </tr>\n",
       "    <tr>\n",
       "      <th>20</th>\n",
       "      <td>Maryland</td>\n",
       "      <td>5.15</td>\n",
       "      <td>5.15</td>\n",
       "      <td>6.15</td>\n",
       "      <td>6.15</td>\n",
       "      <td>6.55</td>\n",
       "      <td>7.25</td>\n",
       "      <td>7.25</td>\n",
       "      <td>7.25</td>\n",
       "      <td>7.25</td>\n",
       "      <td>7.25</td>\n",
       "      <td>8.00</td>\n",
       "      <td>8.75</td>\n",
       "      <td>9.25</td>\n",
       "      <td>10.10</td>\n",
       "      <td>10.10</td>\n",
       "      <td>11.00</td>\n",
       "      <td>11.75</td>\n",
       "      <td>12.50</td>\n",
       "      <td>13.25</td>\n",
       "    </tr>\n",
       "    <tr>\n",
       "      <th>21</th>\n",
       "      <td>Massachusetts</td>\n",
       "      <td>6.75</td>\n",
       "      <td>6.75</td>\n",
       "      <td>7.50</td>\n",
       "      <td>8.00</td>\n",
       "      <td>8.00</td>\n",
       "      <td>8.00</td>\n",
       "      <td>8.00</td>\n",
       "      <td>8.00</td>\n",
       "      <td>8.00</td>\n",
       "      <td>8.00</td>\n",
       "      <td>9.00</td>\n",
       "      <td>10.00</td>\n",
       "      <td>11.00</td>\n",
       "      <td>11.00</td>\n",
       "      <td>12.00</td>\n",
       "      <td>12.75</td>\n",
       "      <td>13.50</td>\n",
       "      <td>14.25</td>\n",
       "      <td>15.00</td>\n",
       "    </tr>\n",
       "    <tr>\n",
       "      <th>22</th>\n",
       "      <td>Michigan</td>\n",
       "      <td>5.15</td>\n",
       "      <td>5.15</td>\n",
       "      <td>6.95</td>\n",
       "      <td>7.15</td>\n",
       "      <td>7.40</td>\n",
       "      <td>7.40</td>\n",
       "      <td>7.40</td>\n",
       "      <td>7.40</td>\n",
       "      <td>7.40</td>\n",
       "      <td>8.15</td>\n",
       "      <td>8.15</td>\n",
       "      <td>8.50</td>\n",
       "      <td>8.90</td>\n",
       "      <td>9.25</td>\n",
       "      <td>9.45</td>\n",
       "      <td>9.65</td>\n",
       "      <td>9.65</td>\n",
       "      <td>9.87</td>\n",
       "      <td>10.10</td>\n",
       "    </tr>\n",
       "    <tr>\n",
       "      <th>23</th>\n",
       "      <td>Minnesota</td>\n",
       "      <td>5.15</td>\n",
       "      <td>6.15</td>\n",
       "      <td>6.15</td>\n",
       "      <td>6.15</td>\n",
       "      <td>6.15</td>\n",
       "      <td>6.15</td>\n",
       "      <td>6.15</td>\n",
       "      <td>6.15</td>\n",
       "      <td>6.15</td>\n",
       "      <td>8.00</td>\n",
       "      <td>9.00</td>\n",
       "      <td>9.50</td>\n",
       "      <td>9.50</td>\n",
       "      <td>9.65</td>\n",
       "      <td>9.86</td>\n",
       "      <td>10.00</td>\n",
       "      <td>10.08</td>\n",
       "      <td>10.33</td>\n",
       "      <td>10.59</td>\n",
       "    </tr>\n",
       "    <tr>\n",
       "      <th>24</th>\n",
       "      <td>Mississippi</td>\n",
       "      <td>5.15</td>\n",
       "      <td>5.15</td>\n",
       "      <td>5.85</td>\n",
       "      <td>6.55</td>\n",
       "      <td>7.25</td>\n",
       "      <td>7.25</td>\n",
       "      <td>7.25</td>\n",
       "      <td>7.25</td>\n",
       "      <td>7.25</td>\n",
       "      <td>7.25</td>\n",
       "      <td>7.25</td>\n",
       "      <td>7.25</td>\n",
       "      <td>7.25</td>\n",
       "      <td>7.25</td>\n",
       "      <td>7.25</td>\n",
       "      <td>7.25</td>\n",
       "      <td>7.25</td>\n",
       "      <td>7.25</td>\n",
       "      <td>7.25</td>\n",
       "    </tr>\n",
       "    <tr>\n",
       "      <th>25</th>\n",
       "      <td>Missouri</td>\n",
       "      <td>5.15</td>\n",
       "      <td>5.15</td>\n",
       "      <td>6.50</td>\n",
       "      <td>6.65</td>\n",
       "      <td>7.25</td>\n",
       "      <td>7.25</td>\n",
       "      <td>7.25</td>\n",
       "      <td>7.25</td>\n",
       "      <td>7.35</td>\n",
       "      <td>7.50</td>\n",
       "      <td>7.65</td>\n",
       "      <td>7.65</td>\n",
       "      <td>7.70</td>\n",
       "      <td>7.85</td>\n",
       "      <td>8.60</td>\n",
       "      <td>9.45</td>\n",
       "      <td>10.30</td>\n",
       "      <td>11.15</td>\n",
       "      <td>12.00</td>\n",
       "    </tr>\n",
       "    <tr>\n",
       "      <th>26</th>\n",
       "      <td>Montana</td>\n",
       "      <td>5.15</td>\n",
       "      <td>5.15</td>\n",
       "      <td>6.15</td>\n",
       "      <td>6.55</td>\n",
       "      <td>7.25</td>\n",
       "      <td>7.25</td>\n",
       "      <td>7.35</td>\n",
       "      <td>7.65</td>\n",
       "      <td>7.65</td>\n",
       "      <td>7.90</td>\n",
       "      <td>8.05</td>\n",
       "      <td>8.05</td>\n",
       "      <td>8.15</td>\n",
       "      <td>8.30</td>\n",
       "      <td>8.50</td>\n",
       "      <td>8.65</td>\n",
       "      <td>8.75</td>\n",
       "      <td>9.20</td>\n",
       "      <td>9.95</td>\n",
       "    </tr>\n",
       "    <tr>\n",
       "      <th>27</th>\n",
       "      <td>Nebraska</td>\n",
       "      <td>5.15</td>\n",
       "      <td>5.15</td>\n",
       "      <td>5.15</td>\n",
       "      <td>5.85</td>\n",
       "      <td>6.55</td>\n",
       "      <td>7.25</td>\n",
       "      <td>7.25</td>\n",
       "      <td>7.25</td>\n",
       "      <td>7.25</td>\n",
       "      <td>7.25</td>\n",
       "      <td>8.00</td>\n",
       "      <td>9.00</td>\n",
       "      <td>9.00</td>\n",
       "      <td>9.00</td>\n",
       "      <td>9.00</td>\n",
       "      <td>9.00</td>\n",
       "      <td>9.00</td>\n",
       "      <td>9.00</td>\n",
       "      <td>10.50</td>\n",
       "    </tr>\n",
       "    <tr>\n",
       "      <th>28</th>\n",
       "      <td>Nevada</td>\n",
       "      <td>5.15</td>\n",
       "      <td>5.15</td>\n",
       "      <td>6.15</td>\n",
       "      <td>6.33</td>\n",
       "      <td>6.85</td>\n",
       "      <td>7.55</td>\n",
       "      <td>8.25</td>\n",
       "      <td>8.25</td>\n",
       "      <td>8.25</td>\n",
       "      <td>8.25</td>\n",
       "      <td>8.25</td>\n",
       "      <td>8.25</td>\n",
       "      <td>8.25</td>\n",
       "      <td>8.25</td>\n",
       "      <td>8.25</td>\n",
       "      <td>9.00</td>\n",
       "      <td>9.75</td>\n",
       "      <td>10.50</td>\n",
       "      <td>11.25</td>\n",
       "    </tr>\n",
       "    <tr>\n",
       "      <th>29</th>\n",
       "      <td>New Hampshire</td>\n",
       "      <td>5.15</td>\n",
       "      <td>5.15</td>\n",
       "      <td>5.15</td>\n",
       "      <td>6.50</td>\n",
       "      <td>7.25</td>\n",
       "      <td>7.25</td>\n",
       "      <td>7.25</td>\n",
       "      <td>7.25</td>\n",
       "      <td>7.25</td>\n",
       "      <td>7.25</td>\n",
       "      <td>7.25</td>\n",
       "      <td>7.25</td>\n",
       "      <td>7.25</td>\n",
       "      <td>7.25</td>\n",
       "      <td>7.25</td>\n",
       "      <td>7.25</td>\n",
       "      <td>7.25</td>\n",
       "      <td>7.25</td>\n",
       "      <td>7.25</td>\n",
       "    </tr>\n",
       "    <tr>\n",
       "      <th>30</th>\n",
       "      <td>New Jersey</td>\n",
       "      <td>5.15</td>\n",
       "      <td>6.15</td>\n",
       "      <td>7.15</td>\n",
       "      <td>7.15</td>\n",
       "      <td>7.25</td>\n",
       "      <td>7.25</td>\n",
       "      <td>7.25</td>\n",
       "      <td>7.25</td>\n",
       "      <td>7.25</td>\n",
       "      <td>8.25</td>\n",
       "      <td>8.38</td>\n",
       "      <td>8.38</td>\n",
       "      <td>8.44</td>\n",
       "      <td>8.60</td>\n",
       "      <td>10.00</td>\n",
       "      <td>11.00</td>\n",
       "      <td>12.00</td>\n",
       "      <td>13.00</td>\n",
       "      <td>14.13</td>\n",
       "    </tr>\n",
       "    <tr>\n",
       "      <th>31</th>\n",
       "      <td>New Mexico</td>\n",
       "      <td>5.15</td>\n",
       "      <td>5.15</td>\n",
       "      <td>5.15</td>\n",
       "      <td>6.50</td>\n",
       "      <td>7.50</td>\n",
       "      <td>7.50</td>\n",
       "      <td>7.50</td>\n",
       "      <td>7.50</td>\n",
       "      <td>7.50</td>\n",
       "      <td>7.50</td>\n",
       "      <td>7.50</td>\n",
       "      <td>7.50</td>\n",
       "      <td>7.50</td>\n",
       "      <td>7.50</td>\n",
       "      <td>7.50</td>\n",
       "      <td>9.00</td>\n",
       "      <td>10.50</td>\n",
       "      <td>11.50</td>\n",
       "      <td>12.00</td>\n",
       "    </tr>\n",
       "    <tr>\n",
       "      <th>32</th>\n",
       "      <td>New York</td>\n",
       "      <td>6.00</td>\n",
       "      <td>6.75</td>\n",
       "      <td>7.15</td>\n",
       "      <td>7.15</td>\n",
       "      <td>7.25</td>\n",
       "      <td>7.25</td>\n",
       "      <td>7.25</td>\n",
       "      <td>7.25</td>\n",
       "      <td>7.25</td>\n",
       "      <td>8.00</td>\n",
       "      <td>8.75</td>\n",
       "      <td>9.00</td>\n",
       "      <td>9.70</td>\n",
       "      <td>10.40</td>\n",
       "      <td>11.10</td>\n",
       "      <td>11.80</td>\n",
       "      <td>12.50</td>\n",
       "      <td>13.20</td>\n",
       "      <td>14.20</td>\n",
       "    </tr>\n",
       "    <tr>\n",
       "      <th>33</th>\n",
       "      <td>North Carolina</td>\n",
       "      <td>5.15</td>\n",
       "      <td>5.15</td>\n",
       "      <td>6.15</td>\n",
       "      <td>6.55</td>\n",
       "      <td>7.25</td>\n",
       "      <td>7.25</td>\n",
       "      <td>7.25</td>\n",
       "      <td>7.25</td>\n",
       "      <td>7.25</td>\n",
       "      <td>7.25</td>\n",
       "      <td>7.25</td>\n",
       "      <td>7.25</td>\n",
       "      <td>7.25</td>\n",
       "      <td>7.25</td>\n",
       "      <td>7.25</td>\n",
       "      <td>7.25</td>\n",
       "      <td>7.25</td>\n",
       "      <td>7.25</td>\n",
       "      <td>7.25</td>\n",
       "    </tr>\n",
       "    <tr>\n",
       "      <th>34</th>\n",
       "      <td>North Dakota</td>\n",
       "      <td>5.15</td>\n",
       "      <td>5.15</td>\n",
       "      <td>5.15</td>\n",
       "      <td>6.55</td>\n",
       "      <td>7.25</td>\n",
       "      <td>7.25</td>\n",
       "      <td>7.25</td>\n",
       "      <td>7.25</td>\n",
       "      <td>7.25</td>\n",
       "      <td>7.25</td>\n",
       "      <td>7.25</td>\n",
       "      <td>7.25</td>\n",
       "      <td>7.25</td>\n",
       "      <td>7.25</td>\n",
       "      <td>7.25</td>\n",
       "      <td>7.25</td>\n",
       "      <td>7.25</td>\n",
       "      <td>7.25</td>\n",
       "      <td>7.25</td>\n",
       "    </tr>\n",
       "    <tr>\n",
       "      <th>35</th>\n",
       "      <td>Ohio</td>\n",
       "      <td>4.25</td>\n",
       "      <td>4.25</td>\n",
       "      <td>6.85</td>\n",
       "      <td>7.00</td>\n",
       "      <td>7.30</td>\n",
       "      <td>7.30</td>\n",
       "      <td>7.40</td>\n",
       "      <td>7.70</td>\n",
       "      <td>7.85</td>\n",
       "      <td>7.95</td>\n",
       "      <td>8.10</td>\n",
       "      <td>8.10</td>\n",
       "      <td>8.15</td>\n",
       "      <td>8.30</td>\n",
       "      <td>8.55</td>\n",
       "      <td>8.70</td>\n",
       "      <td>8.80</td>\n",
       "      <td>9.30</td>\n",
       "      <td>10.10</td>\n",
       "    </tr>\n",
       "    <tr>\n",
       "      <th>36</th>\n",
       "      <td>Oklahoma</td>\n",
       "      <td>5.15</td>\n",
       "      <td>5.15</td>\n",
       "      <td>5.15</td>\n",
       "      <td>5.85</td>\n",
       "      <td>6.55</td>\n",
       "      <td>7.25</td>\n",
       "      <td>7.25</td>\n",
       "      <td>7.25</td>\n",
       "      <td>7.25</td>\n",
       "      <td>7.25</td>\n",
       "      <td>7.25</td>\n",
       "      <td>7.25</td>\n",
       "      <td>7.25</td>\n",
       "      <td>7.25</td>\n",
       "      <td>7.25</td>\n",
       "      <td>7.25</td>\n",
       "      <td>7.25</td>\n",
       "      <td>7.25</td>\n",
       "      <td>7.25</td>\n",
       "    </tr>\n",
       "    <tr>\n",
       "      <th>37</th>\n",
       "      <td>Oregon</td>\n",
       "      <td>7.25</td>\n",
       "      <td>7.50</td>\n",
       "      <td>7.80</td>\n",
       "      <td>7.95</td>\n",
       "      <td>8.40</td>\n",
       "      <td>8.40</td>\n",
       "      <td>8.50</td>\n",
       "      <td>8.80</td>\n",
       "      <td>8.95</td>\n",
       "      <td>9.10</td>\n",
       "      <td>9.25</td>\n",
       "      <td>9.75</td>\n",
       "      <td>10.75</td>\n",
       "      <td>10.75</td>\n",
       "      <td>11.25</td>\n",
       "      <td>12.00</td>\n",
       "      <td>12.75</td>\n",
       "      <td>13.50</td>\n",
       "      <td>14.20</td>\n",
       "    </tr>\n",
       "    <tr>\n",
       "      <th>38</th>\n",
       "      <td>Pennsylvania</td>\n",
       "      <td>5.15</td>\n",
       "      <td>5.15</td>\n",
       "      <td>6.25</td>\n",
       "      <td>7.15</td>\n",
       "      <td>7.25</td>\n",
       "      <td>7.25</td>\n",
       "      <td>7.25</td>\n",
       "      <td>7.25</td>\n",
       "      <td>7.25</td>\n",
       "      <td>7.25</td>\n",
       "      <td>7.25</td>\n",
       "      <td>7.25</td>\n",
       "      <td>7.25</td>\n",
       "      <td>7.25</td>\n",
       "      <td>7.25</td>\n",
       "      <td>7.25</td>\n",
       "      <td>7.25</td>\n",
       "      <td>7.25</td>\n",
       "      <td>7.25</td>\n",
       "    </tr>\n",
       "    <tr>\n",
       "      <th>39</th>\n",
       "      <td>Rhode Island</td>\n",
       "      <td>6.75</td>\n",
       "      <td>6.75</td>\n",
       "      <td>7.40</td>\n",
       "      <td>7.40</td>\n",
       "      <td>7.40</td>\n",
       "      <td>7.40</td>\n",
       "      <td>7.40</td>\n",
       "      <td>7.40</td>\n",
       "      <td>7.75</td>\n",
       "      <td>8.00</td>\n",
       "      <td>9.00</td>\n",
       "      <td>9.00</td>\n",
       "      <td>9.60</td>\n",
       "      <td>10.10</td>\n",
       "      <td>10.50</td>\n",
       "      <td>11.50</td>\n",
       "      <td>11.50</td>\n",
       "      <td>12.25</td>\n",
       "      <td>13.00</td>\n",
       "    </tr>\n",
       "    <tr>\n",
       "      <th>40</th>\n",
       "      <td>South Carolina</td>\n",
       "      <td>5.15</td>\n",
       "      <td>5.15</td>\n",
       "      <td>5.85</td>\n",
       "      <td>6.55</td>\n",
       "      <td>7.25</td>\n",
       "      <td>7.25</td>\n",
       "      <td>7.25</td>\n",
       "      <td>7.25</td>\n",
       "      <td>7.25</td>\n",
       "      <td>7.25</td>\n",
       "      <td>7.25</td>\n",
       "      <td>7.25</td>\n",
       "      <td>7.25</td>\n",
       "      <td>7.25</td>\n",
       "      <td>7.25</td>\n",
       "      <td>7.25</td>\n",
       "      <td>7.25</td>\n",
       "      <td>7.25</td>\n",
       "      <td>7.25</td>\n",
       "    </tr>\n",
       "    <tr>\n",
       "      <th>41</th>\n",
       "      <td>South Dakota</td>\n",
       "      <td>5.15</td>\n",
       "      <td>5.15</td>\n",
       "      <td>5.15</td>\n",
       "      <td>5.85</td>\n",
       "      <td>6.55</td>\n",
       "      <td>7.25</td>\n",
       "      <td>7.25</td>\n",
       "      <td>7.25</td>\n",
       "      <td>7.25</td>\n",
       "      <td>7.25</td>\n",
       "      <td>8.50</td>\n",
       "      <td>8.50</td>\n",
       "      <td>8.65</td>\n",
       "      <td>8.65</td>\n",
       "      <td>9.10</td>\n",
       "      <td>9.30</td>\n",
       "      <td>9.45</td>\n",
       "      <td>9.95</td>\n",
       "      <td>10.80</td>\n",
       "    </tr>\n",
       "    <tr>\n",
       "      <th>42</th>\n",
       "      <td>Tennessee</td>\n",
       "      <td>5.15</td>\n",
       "      <td>5.15</td>\n",
       "      <td>5.85</td>\n",
       "      <td>5.58</td>\n",
       "      <td>7.25</td>\n",
       "      <td>7.25</td>\n",
       "      <td>7.25</td>\n",
       "      <td>7.25</td>\n",
       "      <td>7.25</td>\n",
       "      <td>7.25</td>\n",
       "      <td>7.25</td>\n",
       "      <td>7.25</td>\n",
       "      <td>7.25</td>\n",
       "      <td>7.25</td>\n",
       "      <td>7.25</td>\n",
       "      <td>7.25</td>\n",
       "      <td>7.25</td>\n",
       "      <td>7.25</td>\n",
       "      <td>7.25</td>\n",
       "    </tr>\n",
       "    <tr>\n",
       "      <th>43</th>\n",
       "      <td>Texas</td>\n",
       "      <td>5.15</td>\n",
       "      <td>5.15</td>\n",
       "      <td>5.15</td>\n",
       "      <td>5.85</td>\n",
       "      <td>6.55</td>\n",
       "      <td>7.25</td>\n",
       "      <td>7.25</td>\n",
       "      <td>7.25</td>\n",
       "      <td>7.25</td>\n",
       "      <td>7.25</td>\n",
       "      <td>7.25</td>\n",
       "      <td>7.25</td>\n",
       "      <td>7.25</td>\n",
       "      <td>7.25</td>\n",
       "      <td>7.25</td>\n",
       "      <td>7.25</td>\n",
       "      <td>7.25</td>\n",
       "      <td>7.25</td>\n",
       "      <td>7.25</td>\n",
       "    </tr>\n",
       "    <tr>\n",
       "      <th>44</th>\n",
       "      <td>Utah</td>\n",
       "      <td>5.15</td>\n",
       "      <td>5.15</td>\n",
       "      <td>5.15</td>\n",
       "      <td>5.85</td>\n",
       "      <td>6.55</td>\n",
       "      <td>7.25</td>\n",
       "      <td>7.25</td>\n",
       "      <td>7.25</td>\n",
       "      <td>7.25</td>\n",
       "      <td>7.25</td>\n",
       "      <td>7.25</td>\n",
       "      <td>7.25</td>\n",
       "      <td>7.25</td>\n",
       "      <td>7.25</td>\n",
       "      <td>7.25</td>\n",
       "      <td>7.25</td>\n",
       "      <td>7.25</td>\n",
       "      <td>7.25</td>\n",
       "      <td>7.25</td>\n",
       "    </tr>\n",
       "    <tr>\n",
       "      <th>45</th>\n",
       "      <td>Vermont</td>\n",
       "      <td>7.00</td>\n",
       "      <td>7.25</td>\n",
       "      <td>7.53</td>\n",
       "      <td>7.68</td>\n",
       "      <td>8.06</td>\n",
       "      <td>8.06</td>\n",
       "      <td>8.15</td>\n",
       "      <td>8.46</td>\n",
       "      <td>8.60</td>\n",
       "      <td>8.73</td>\n",
       "      <td>9.15</td>\n",
       "      <td>9.60</td>\n",
       "      <td>10.00</td>\n",
       "      <td>10.50</td>\n",
       "      <td>10.78</td>\n",
       "      <td>10.96</td>\n",
       "      <td>11.75</td>\n",
       "      <td>12.55</td>\n",
       "      <td>13.18</td>\n",
       "    </tr>\n",
       "    <tr>\n",
       "      <th>46</th>\n",
       "      <td>Virginia</td>\n",
       "      <td>5.15</td>\n",
       "      <td>5.15</td>\n",
       "      <td>5.15</td>\n",
       "      <td>5.85</td>\n",
       "      <td>6.55</td>\n",
       "      <td>7.25</td>\n",
       "      <td>7.25</td>\n",
       "      <td>7.25</td>\n",
       "      <td>7.25</td>\n",
       "      <td>7.25</td>\n",
       "      <td>7.25</td>\n",
       "      <td>7.25</td>\n",
       "      <td>7.25</td>\n",
       "      <td>7.25</td>\n",
       "      <td>7.25</td>\n",
       "      <td>7.25</td>\n",
       "      <td>9.50</td>\n",
       "      <td>11.00</td>\n",
       "      <td>12.00</td>\n",
       "    </tr>\n",
       "    <tr>\n",
       "      <th>47</th>\n",
       "      <td>Washington</td>\n",
       "      <td>7.35</td>\n",
       "      <td>7.63</td>\n",
       "      <td>7.93</td>\n",
       "      <td>8.07</td>\n",
       "      <td>8.55</td>\n",
       "      <td>8.55</td>\n",
       "      <td>8.67</td>\n",
       "      <td>9.04</td>\n",
       "      <td>9.19</td>\n",
       "      <td>9.32</td>\n",
       "      <td>9.47</td>\n",
       "      <td>9.47</td>\n",
       "      <td>11.00</td>\n",
       "      <td>11.50</td>\n",
       "      <td>12.00</td>\n",
       "      <td>13.50</td>\n",
       "      <td>13.69</td>\n",
       "      <td>14.49</td>\n",
       "      <td>15.74</td>\n",
       "    </tr>\n",
       "    <tr>\n",
       "      <th>48</th>\n",
       "      <td>West Virginia</td>\n",
       "      <td>5.15</td>\n",
       "      <td>5.15</td>\n",
       "      <td>5.85</td>\n",
       "      <td>6.55</td>\n",
       "      <td>7.25</td>\n",
       "      <td>7.25</td>\n",
       "      <td>7.25</td>\n",
       "      <td>7.25</td>\n",
       "      <td>7.25</td>\n",
       "      <td>7.25</td>\n",
       "      <td>8.00</td>\n",
       "      <td>8.75</td>\n",
       "      <td>8.75</td>\n",
       "      <td>8.75</td>\n",
       "      <td>8.75</td>\n",
       "      <td>8.75</td>\n",
       "      <td>8.75</td>\n",
       "      <td>8.75</td>\n",
       "      <td>8.75</td>\n",
       "    </tr>\n",
       "    <tr>\n",
       "      <th>49</th>\n",
       "      <td>Wisconsin</td>\n",
       "      <td>5.15</td>\n",
       "      <td>5.70</td>\n",
       "      <td>6.50</td>\n",
       "      <td>6.50</td>\n",
       "      <td>6.50</td>\n",
       "      <td>7.25</td>\n",
       "      <td>7.25</td>\n",
       "      <td>7.25</td>\n",
       "      <td>7.25</td>\n",
       "      <td>7.25</td>\n",
       "      <td>7.25</td>\n",
       "      <td>7.25</td>\n",
       "      <td>7.25</td>\n",
       "      <td>7.25</td>\n",
       "      <td>7.25</td>\n",
       "      <td>7.25</td>\n",
       "      <td>7.25</td>\n",
       "      <td>7.25</td>\n",
       "      <td>7.25</td>\n",
       "    </tr>\n",
       "    <tr>\n",
       "      <th>50</th>\n",
       "      <td>Wyoming</td>\n",
       "      <td>5.15</td>\n",
       "      <td>5.15</td>\n",
       "      <td>5.15</td>\n",
       "      <td>6.55</td>\n",
       "      <td>7.25</td>\n",
       "      <td>7.25</td>\n",
       "      <td>7.25</td>\n",
       "      <td>7.25</td>\n",
       "      <td>7.25</td>\n",
       "      <td>7.25</td>\n",
       "      <td>7.25</td>\n",
       "      <td>7.25</td>\n",
       "      <td>7.25</td>\n",
       "      <td>7.25</td>\n",
       "      <td>7.25</td>\n",
       "      <td>7.25</td>\n",
       "      <td>7.25</td>\n",
       "      <td>7.25</td>\n",
       "      <td>7.25</td>\n",
       "    </tr>\n",
       "  </tbody>\n",
       "</table>\n",
       "</div>"
      ],
      "text/plain": [
       "                   State  2005  2006  2007  2008  2009  2010  2011  2012  \\\n",
       "0                Alabama  5.15  5.15  5.15  6.55  7.25  7.25  7.25  7.25   \n",
       "1                 Alaska  7.15  7.15  7.15  7.15  7.25  7.75  7.75  7.75   \n",
       "2                Arizona  5.15  5.15  6.75  6.90  7.25  7.25  7.35  7.65   \n",
       "3               Arkansas  5.15  5.15  6.25  6.25  7.25  7.25  7.25  7.25   \n",
       "4             California  6.75  6.75  7.50  8.00  8.00  8.00  8.00  8.00   \n",
       "5               Colorado  5.15  5.15  6.85  7.02  7.28  7.24  7.36  7.64   \n",
       "6            Connecticut  7.10  7.40  7.65  7.65  8.00  8.25  8.25  8.25   \n",
       "7               Delaware  6.15  6.15  6.65  7.15  7.25  7.25  7.25  7.25   \n",
       "8   District of Columbia  6.60  7.00  7.00  7.55  8.25  8.25  8.25  8.25   \n",
       "9                Florida  5.15  5.15  6.40  6.79  7.25  7.25  7.31  7.67   \n",
       "10               Georgia  5.15  5.15  5.15  6.55  7.25  7.25  7.25  7.25   \n",
       "11                Hawaii  6.25  6.75  7.25  7.25  7.25  7.25  7.25  7.25   \n",
       "12                 Idaho  5.15  5.15  5.15  5.85  6.55  7.25  7.25  7.25   \n",
       "13              Illinois  6.50  6.50  6.50  7.50  7.75  8.00  8.25  8.25   \n",
       "14               Indiana  5.15  5.15  5.15  5.85  6.55  7.25  7.25  7.25   \n",
       "15                  Iowa  5.15  5.15  5.15  7.25  7.25  7.25  7.25  7.25   \n",
       "16                Kansas  2.65  2.65  2.65  2.65  2.65  7.25  7.25  7.25   \n",
       "17              Kentucky  5.15  5.15  5.15  5.85  6.55  7.25  7.25  7.25   \n",
       "18             Louisiana  5.15  5.15  5.85  6.55  7.25  7.25  7.25  7.25   \n",
       "19                 Maine  6.35  6.50  6.75  7.00  7.25  7.50  7.50  7.50   \n",
       "20              Maryland  5.15  5.15  6.15  6.15  6.55  7.25  7.25  7.25   \n",
       "21         Massachusetts  6.75  6.75  7.50  8.00  8.00  8.00  8.00  8.00   \n",
       "22              Michigan  5.15  5.15  6.95  7.15  7.40  7.40  7.40  7.40   \n",
       "23             Minnesota  5.15  6.15  6.15  6.15  6.15  6.15  6.15  6.15   \n",
       "24           Mississippi  5.15  5.15  5.85  6.55  7.25  7.25  7.25  7.25   \n",
       "25              Missouri  5.15  5.15  6.50  6.65  7.25  7.25  7.25  7.25   \n",
       "26               Montana  5.15  5.15  6.15  6.55  7.25  7.25  7.35  7.65   \n",
       "27              Nebraska  5.15  5.15  5.15  5.85  6.55  7.25  7.25  7.25   \n",
       "28                Nevada  5.15  5.15  6.15  6.33  6.85  7.55  8.25  8.25   \n",
       "29         New Hampshire  5.15  5.15  5.15  6.50  7.25  7.25  7.25  7.25   \n",
       "30            New Jersey  5.15  6.15  7.15  7.15  7.25  7.25  7.25  7.25   \n",
       "31            New Mexico  5.15  5.15  5.15  6.50  7.50  7.50  7.50  7.50   \n",
       "32              New York  6.00  6.75  7.15  7.15  7.25  7.25  7.25  7.25   \n",
       "33        North Carolina  5.15  5.15  6.15  6.55  7.25  7.25  7.25  7.25   \n",
       "34          North Dakota  5.15  5.15  5.15  6.55  7.25  7.25  7.25  7.25   \n",
       "35                  Ohio  4.25  4.25  6.85  7.00  7.30  7.30  7.40  7.70   \n",
       "36              Oklahoma  5.15  5.15  5.15  5.85  6.55  7.25  7.25  7.25   \n",
       "37                Oregon  7.25  7.50  7.80  7.95  8.40  8.40  8.50  8.80   \n",
       "38          Pennsylvania  5.15  5.15  6.25  7.15  7.25  7.25  7.25  7.25   \n",
       "39          Rhode Island  6.75  6.75  7.40  7.40  7.40  7.40  7.40  7.40   \n",
       "40        South Carolina  5.15  5.15  5.85  6.55  7.25  7.25  7.25  7.25   \n",
       "41          South Dakota  5.15  5.15  5.15  5.85  6.55  7.25  7.25  7.25   \n",
       "42             Tennessee  5.15  5.15  5.85  5.58  7.25  7.25  7.25  7.25   \n",
       "43                 Texas  5.15  5.15  5.15  5.85  6.55  7.25  7.25  7.25   \n",
       "44                  Utah  5.15  5.15  5.15  5.85  6.55  7.25  7.25  7.25   \n",
       "45               Vermont  7.00  7.25  7.53  7.68  8.06  8.06  8.15  8.46   \n",
       "46              Virginia  5.15  5.15  5.15  5.85  6.55  7.25  7.25  7.25   \n",
       "47            Washington  7.35  7.63  7.93  8.07  8.55  8.55  8.67  9.04   \n",
       "48         West Virginia  5.15  5.15  5.85  6.55  7.25  7.25  7.25  7.25   \n",
       "49             Wisconsin  5.15  5.70  6.50  6.50  6.50  7.25  7.25  7.25   \n",
       "50               Wyoming  5.15  5.15  5.15  6.55  7.25  7.25  7.25  7.25   \n",
       "\n",
       "    2013  2014   2015   2016   2017   2018   2019   2020   2021   2022   2023  \n",
       "0   7.25  7.25   7.25   7.25   7.25   7.25   7.25   7.25   7.25   7.25   7.25  \n",
       "1   7.75  7.75   8.75   9.75   9.80   9.84   9.89  10.19  10.34  10.34  10.85  \n",
       "2   7.80  7.90   8.05   8.05  10.00  10.50  11.00  12.00  12.15  12.80  13.85  \n",
       "3   7.25  7.25   7.50   8.00   8.50   8.50   9.25  10.00  11.00  11.00  11.00  \n",
       "4   8.00  9.00   9.00  10.00  10.50  11.00  12.00  13.00  14.00  15.00  15.50  \n",
       "5   7.78  8.00   8.23   8.31   9.30  10.20  11.10  12.00  12.32  12.56  13.65  \n",
       "6   8.25  8.70   9.15   9.60  10.10  10.10  10.10  12.00  13.00  14.00  15.00  \n",
       "7   7.25  7.75   8.25   8.25   8.25   8.25   8.75   9.25   9.25  10.50  11.75  \n",
       "8   8.25  9.50  10.50  11.50  12.50  13.25  14.00  15.00  15.20  16.10  17.00  \n",
       "9   7.79  7.93   8.05   8.05   8.10   8.25   8.46   8.56   8.65  11.00  12.00  \n",
       "10  7.25  7.25   7.25   7.25   7.25   7.25   7.25   7.25   7.25   7.25   7.25  \n",
       "11  7.25  7.25   7.75   8.50   9.25  10.10  10.10  10.10  10.10  12.00  12.00  \n",
       "12  7.25  7.25   7.25   7.25   7.25   7.25   7.25   7.25   7.25   7.25   7.25  \n",
       "13  8.25  8.25   8.25   8.25   8.25   8.25   8.25  10.00  11.00  12.00  13.00  \n",
       "14  7.25  7.25   7.25   7.25   7.25   7.25   7.25   7.25   7.25   7.25   7.25  \n",
       "15  7.25  7.25   7.25   7.25   7.25   7.25   7.25   7.25   7.25   7.25   7.25  \n",
       "16  7.25  7.25   7.25   7.25   7.25   7.25   7.25   7.25   7.25   7.25   7.25  \n",
       "17  7.25  7.25   7.25   7.25   7.25   7.25   7.25   7.25   7.25   7.25   7.25  \n",
       "18  7.25  7.25   7.25   7.25   7.25   7.25   7.25   7.25   7.25   7.25   7.25  \n",
       "19  7.50  7.50   7.50   7.50   9.00  10.00  11.00  12.00  12.15  12.75  13.80  \n",
       "20  7.25  7.25   8.00   8.75   9.25  10.10  10.10  11.00  11.75  12.50  13.25  \n",
       "21  8.00  8.00   9.00  10.00  11.00  11.00  12.00  12.75  13.50  14.25  15.00  \n",
       "22  7.40  8.15   8.15   8.50   8.90   9.25   9.45   9.65   9.65   9.87  10.10  \n",
       "23  6.15  8.00   9.00   9.50   9.50   9.65   9.86  10.00  10.08  10.33  10.59  \n",
       "24  7.25  7.25   7.25   7.25   7.25   7.25   7.25   7.25   7.25   7.25   7.25  \n",
       "25  7.35  7.50   7.65   7.65   7.70   7.85   8.60   9.45  10.30  11.15  12.00  \n",
       "26  7.65  7.90   8.05   8.05   8.15   8.30   8.50   8.65   8.75   9.20   9.95  \n",
       "27  7.25  7.25   8.00   9.00   9.00   9.00   9.00   9.00   9.00   9.00  10.50  \n",
       "28  8.25  8.25   8.25   8.25   8.25   8.25   8.25   9.00   9.75  10.50  11.25  \n",
       "29  7.25  7.25   7.25   7.25   7.25   7.25   7.25   7.25   7.25   7.25   7.25  \n",
       "30  7.25  8.25   8.38   8.38   8.44   8.60  10.00  11.00  12.00  13.00  14.13  \n",
       "31  7.50  7.50   7.50   7.50   7.50   7.50   7.50   9.00  10.50  11.50  12.00  \n",
       "32  7.25  8.00   8.75   9.00   9.70  10.40  11.10  11.80  12.50  13.20  14.20  \n",
       "33  7.25  7.25   7.25   7.25   7.25   7.25   7.25   7.25   7.25   7.25   7.25  \n",
       "34  7.25  7.25   7.25   7.25   7.25   7.25   7.25   7.25   7.25   7.25   7.25  \n",
       "35  7.85  7.95   8.10   8.10   8.15   8.30   8.55   8.70   8.80   9.30  10.10  \n",
       "36  7.25  7.25   7.25   7.25   7.25   7.25   7.25   7.25   7.25   7.25   7.25  \n",
       "37  8.95  9.10   9.25   9.75  10.75  10.75  11.25  12.00  12.75  13.50  14.20  \n",
       "38  7.25  7.25   7.25   7.25   7.25   7.25   7.25   7.25   7.25   7.25   7.25  \n",
       "39  7.75  8.00   9.00   9.00   9.60  10.10  10.50  11.50  11.50  12.25  13.00  \n",
       "40  7.25  7.25   7.25   7.25   7.25   7.25   7.25   7.25   7.25   7.25   7.25  \n",
       "41  7.25  7.25   8.50   8.50   8.65   8.65   9.10   9.30   9.45   9.95  10.80  \n",
       "42  7.25  7.25   7.25   7.25   7.25   7.25   7.25   7.25   7.25   7.25   7.25  \n",
       "43  7.25  7.25   7.25   7.25   7.25   7.25   7.25   7.25   7.25   7.25   7.25  \n",
       "44  7.25  7.25   7.25   7.25   7.25   7.25   7.25   7.25   7.25   7.25   7.25  \n",
       "45  8.60  8.73   9.15   9.60  10.00  10.50  10.78  10.96  11.75  12.55  13.18  \n",
       "46  7.25  7.25   7.25   7.25   7.25   7.25   7.25   7.25   9.50  11.00  12.00  \n",
       "47  9.19  9.32   9.47   9.47  11.00  11.50  12.00  13.50  13.69  14.49  15.74  \n",
       "48  7.25  7.25   8.00   8.75   8.75   8.75   8.75   8.75   8.75   8.75   8.75  \n",
       "49  7.25  7.25   7.25   7.25   7.25   7.25   7.25   7.25   7.25   7.25   7.25  \n",
       "50  7.25  7.25   7.25   7.25   7.25   7.25   7.25   7.25   7.25   7.25   7.25  "
      ]
     },
     "execution_count": 18,
     "metadata": {},
     "output_type": "execute_result"
    }
   ],
   "source": [
    "df_mw = pd.read_csv(\"min_wage.csv\")\n",
    "df_mw"
   ]
  },
  {
   "cell_type": "markdown",
   "id": "de1f0303",
   "metadata": {},
   "source": [
    "Regression \n",
    "\n",
    "- tax rate\n",
    "- biz apps \n",
    "- population (to search)\n",
    "- unemployment rate\n",
    "- minimum wage\n"
   ]
  },
  {
   "cell_type": "markdown",
   "id": "9c6f72cc",
   "metadata": {},
   "source": [
    "To do:\n",
    "\n",
    "1. Merge data\n",
    "2. regression\n",
    "3. clean code in 1 file \n",
    "4. start on ppt & micropublication\n",
    "5. delete useless "
   ]
  },
  {
   "cell_type": "code",
   "execution_count": 13,
   "id": "b9ad9e3e",
   "metadata": {},
   "outputs": [
    {
     "data": {
      "text/html": [
       "<div>\n",
       "<style scoped>\n",
       "    .dataframe tbody tr th:only-of-type {\n",
       "        vertical-align: middle;\n",
       "    }\n",
       "\n",
       "    .dataframe tbody tr th {\n",
       "        vertical-align: top;\n",
       "    }\n",
       "\n",
       "    .dataframe thead th {\n",
       "        text-align: right;\n",
       "    }\n",
       "</style>\n",
       "<table border=\"1\" class=\"dataframe\">\n",
       "  <thead>\n",
       "    <tr style=\"text-align: right;\">\n",
       "      <th></th>\n",
       "      <th>State</th>\n",
       "      <th>year</th>\n",
       "      <th>tax_rate</th>\n",
       "    </tr>\n",
       "  </thead>\n",
       "  <tbody>\n",
       "    <tr>\n",
       "      <th>0</th>\n",
       "      <td>Alabama</td>\n",
       "      <td>2005</td>\n",
       "      <td>6.5</td>\n",
       "    </tr>\n",
       "    <tr>\n",
       "      <th>1</th>\n",
       "      <td>Alabama</td>\n",
       "      <td>2006</td>\n",
       "      <td>6.5</td>\n",
       "    </tr>\n",
       "    <tr>\n",
       "      <th>2</th>\n",
       "      <td>Alabama</td>\n",
       "      <td>2007</td>\n",
       "      <td>6.5</td>\n",
       "    </tr>\n",
       "    <tr>\n",
       "      <th>3</th>\n",
       "      <td>Alabama</td>\n",
       "      <td>2008</td>\n",
       "      <td>6.5</td>\n",
       "    </tr>\n",
       "    <tr>\n",
       "      <th>4</th>\n",
       "      <td>Alabama</td>\n",
       "      <td>2009</td>\n",
       "      <td>6.5</td>\n",
       "    </tr>\n",
       "    <tr>\n",
       "      <th>...</th>\n",
       "      <td>...</td>\n",
       "      <td>...</td>\n",
       "      <td>...</td>\n",
       "    </tr>\n",
       "    <tr>\n",
       "      <th>913</th>\n",
       "      <td>Wyoming</td>\n",
       "      <td>2018</td>\n",
       "      <td>0.0</td>\n",
       "    </tr>\n",
       "    <tr>\n",
       "      <th>914</th>\n",
       "      <td>Wyoming</td>\n",
       "      <td>2019</td>\n",
       "      <td>0.0</td>\n",
       "    </tr>\n",
       "    <tr>\n",
       "      <th>915</th>\n",
       "      <td>Wyoming</td>\n",
       "      <td>2020</td>\n",
       "      <td>0.0</td>\n",
       "    </tr>\n",
       "    <tr>\n",
       "      <th>916</th>\n",
       "      <td>Wyoming</td>\n",
       "      <td>2021</td>\n",
       "      <td>0.0</td>\n",
       "    </tr>\n",
       "    <tr>\n",
       "      <th>917</th>\n",
       "      <td>Wyoming</td>\n",
       "      <td>2022</td>\n",
       "      <td>0.0</td>\n",
       "    </tr>\n",
       "  </tbody>\n",
       "</table>\n",
       "<p>918 rows × 3 columns</p>\n",
       "</div>"
      ],
      "text/plain": [
       "       State  year  tax_rate\n",
       "0    Alabama  2005       6.5\n",
       "1    Alabama  2006       6.5\n",
       "2    Alabama  2007       6.5\n",
       "3    Alabama  2008       6.5\n",
       "4    Alabama  2009       6.5\n",
       "..       ...   ...       ...\n",
       "913  Wyoming  2018       0.0\n",
       "914  Wyoming  2019       0.0\n",
       "915  Wyoming  2020       0.0\n",
       "916  Wyoming  2021       0.0\n",
       "917  Wyoming  2022       0.0\n",
       "\n",
       "[918 rows x 3 columns]"
      ]
     },
     "execution_count": 13,
     "metadata": {},
     "output_type": "execute_result"
    }
   ],
   "source": [
    "df_single = df_tax_2022.melt(id_vars= ['State'])\n",
    "df_single = df_single.rename(columns={\"variable\":\"year\", 'value':'tax_rate'})\n",
    "df_single = df_single.sort_values(by=['State','year'])\n",
    "df_single = df_single.reset_index(drop=True)\n",
    "df_single"
   ]
  },
  {
   "cell_type": "code",
   "execution_count": 14,
   "id": "cee20e24",
   "metadata": {},
   "outputs": [
    {
     "data": {
      "text/html": [
       "<div>\n",
       "<style scoped>\n",
       "    .dataframe tbody tr th:only-of-type {\n",
       "        vertical-align: middle;\n",
       "    }\n",
       "\n",
       "    .dataframe tbody tr th {\n",
       "        vertical-align: top;\n",
       "    }\n",
       "\n",
       "    .dataframe thead th {\n",
       "        text-align: right;\n",
       "    }\n",
       "</style>\n",
       "<table border=\"1\" class=\"dataframe\">\n",
       "  <thead>\n",
       "    <tr style=\"text-align: right;\">\n",
       "      <th></th>\n",
       "      <th>Name</th>\n",
       "      <th>State</th>\n",
       "      <th>year</th>\n",
       "      <th>business_applications</th>\n",
       "    </tr>\n",
       "  </thead>\n",
       "  <tbody>\n",
       "    <tr>\n",
       "      <th>0</th>\n",
       "      <td>Alaska</td>\n",
       "      <td>AK</td>\n",
       "      <td>2005</td>\n",
       "      <td>4730</td>\n",
       "    </tr>\n",
       "    <tr>\n",
       "      <th>1</th>\n",
       "      <td>Alaska</td>\n",
       "      <td>AK</td>\n",
       "      <td>2006</td>\n",
       "      <td>5229</td>\n",
       "    </tr>\n",
       "    <tr>\n",
       "      <th>2</th>\n",
       "      <td>Alaska</td>\n",
       "      <td>AK</td>\n",
       "      <td>2007</td>\n",
       "      <td>5138</td>\n",
       "    </tr>\n",
       "    <tr>\n",
       "      <th>3</th>\n",
       "      <td>Alaska</td>\n",
       "      <td>AK</td>\n",
       "      <td>2008</td>\n",
       "      <td>4979</td>\n",
       "    </tr>\n",
       "    <tr>\n",
       "      <th>4</th>\n",
       "      <td>Alaska</td>\n",
       "      <td>AK</td>\n",
       "      <td>2009</td>\n",
       "      <td>4396</td>\n",
       "    </tr>\n",
       "    <tr>\n",
       "      <th>...</th>\n",
       "      <td>...</td>\n",
       "      <td>...</td>\n",
       "      <td>...</td>\n",
       "      <td>...</td>\n",
       "    </tr>\n",
       "    <tr>\n",
       "      <th>913</th>\n",
       "      <td>Wyoming</td>\n",
       "      <td>WY</td>\n",
       "      <td>2018</td>\n",
       "      <td>19712</td>\n",
       "    </tr>\n",
       "    <tr>\n",
       "      <th>914</th>\n",
       "      <td>Wyoming</td>\n",
       "      <td>WY</td>\n",
       "      <td>2019</td>\n",
       "      <td>18796</td>\n",
       "    </tr>\n",
       "    <tr>\n",
       "      <th>915</th>\n",
       "      <td>Wyoming</td>\n",
       "      <td>WY</td>\n",
       "      <td>2020</td>\n",
       "      <td>24646</td>\n",
       "    </tr>\n",
       "    <tr>\n",
       "      <th>916</th>\n",
       "      <td>Wyoming</td>\n",
       "      <td>WY</td>\n",
       "      <td>2021</td>\n",
       "      <td>33741</td>\n",
       "    </tr>\n",
       "    <tr>\n",
       "      <th>917</th>\n",
       "      <td>Wyoming</td>\n",
       "      <td>WY</td>\n",
       "      <td>2022</td>\n",
       "      <td>41561</td>\n",
       "    </tr>\n",
       "  </tbody>\n",
       "</table>\n",
       "<p>918 rows × 4 columns</p>\n",
       "</div>"
      ],
      "text/plain": [
       "        Name State  year  business_applications\n",
       "0     Alaska    AK  2005                   4730\n",
       "1     Alaska    AK  2006                   5229\n",
       "2     Alaska    AK  2007                   5138\n",
       "3     Alaska    AK  2008                   4979\n",
       "4     Alaska    AK  2009                   4396\n",
       "..       ...   ...   ...                    ...\n",
       "913  Wyoming    WY  2018                  19712\n",
       "914  Wyoming    WY  2019                  18796\n",
       "915  Wyoming    WY  2020                  24646\n",
       "916  Wyoming    WY  2021                  33741\n",
       "917  Wyoming    WY  2022                  41561\n",
       "\n",
       "[918 rows x 4 columns]"
      ]
     },
     "execution_count": 14,
     "metadata": {},
     "output_type": "execute_result"
    }
   ],
   "source": [
    "df_ba = df_biz.melt(id_vars = ['Name', 'State'])\n",
    "df_ba = df_ba.rename(columns={\"variable\":\"year\", 'value':'business_applications'})\n",
    "df_ba = df_ba.sort_values(by=['State','year'])\n",
    "df_ba = df_ba.reset_index(drop=True)\n",
    "df_ba"
   ]
  },
  {
   "cell_type": "code",
   "execution_count": 15,
   "id": "0c98210f",
   "metadata": {
    "scrolled": false
   },
   "outputs": [
    {
     "data": {
      "text/html": [
       "<div>\n",
       "<style scoped>\n",
       "    .dataframe tbody tr th:only-of-type {\n",
       "        vertical-align: middle;\n",
       "    }\n",
       "\n",
       "    .dataframe tbody tr th {\n",
       "        vertical-align: top;\n",
       "    }\n",
       "\n",
       "    .dataframe thead th {\n",
       "        text-align: right;\n",
       "    }\n",
       "</style>\n",
       "<table border=\"1\" class=\"dataframe\">\n",
       "  <thead>\n",
       "    <tr style=\"text-align: right;\">\n",
       "      <th></th>\n",
       "      <th>State</th>\n",
       "      <th>year</th>\n",
       "      <th>tax_rate</th>\n",
       "      <th>business_applications</th>\n",
       "    </tr>\n",
       "  </thead>\n",
       "  <tbody>\n",
       "    <tr>\n",
       "      <th>913</th>\n",
       "      <td>Wyoming</td>\n",
       "      <td>2018</td>\n",
       "      <td>0.0</td>\n",
       "      <td>19712</td>\n",
       "    </tr>\n",
       "    <tr>\n",
       "      <th>914</th>\n",
       "      <td>Wyoming</td>\n",
       "      <td>2019</td>\n",
       "      <td>0.0</td>\n",
       "      <td>18796</td>\n",
       "    </tr>\n",
       "    <tr>\n",
       "      <th>915</th>\n",
       "      <td>Wyoming</td>\n",
       "      <td>2020</td>\n",
       "      <td>0.0</td>\n",
       "      <td>24646</td>\n",
       "    </tr>\n",
       "    <tr>\n",
       "      <th>916</th>\n",
       "      <td>Wyoming</td>\n",
       "      <td>2021</td>\n",
       "      <td>0.0</td>\n",
       "      <td>33741</td>\n",
       "    </tr>\n",
       "    <tr>\n",
       "      <th>917</th>\n",
       "      <td>Wyoming</td>\n",
       "      <td>2022</td>\n",
       "      <td>0.0</td>\n",
       "      <td>41561</td>\n",
       "    </tr>\n",
       "  </tbody>\n",
       "</table>\n",
       "</div>"
      ],
      "text/plain": [
       "       State  year  tax_rate  business_applications\n",
       "913  Wyoming  2018       0.0                  19712\n",
       "914  Wyoming  2019       0.0                  18796\n",
       "915  Wyoming  2020       0.0                  24646\n",
       "916  Wyoming  2021       0.0                  33741\n",
       "917  Wyoming  2022       0.0                  41561"
      ]
     },
     "execution_count": 15,
     "metadata": {},
     "output_type": "execute_result"
    }
   ],
   "source": [
    "df_single['business_applications'] = df_ba['business_applications']\n",
    "\n",
    "df_single.tail()"
   ]
  },
  {
   "cell_type": "code",
   "execution_count": 16,
   "id": "1339b01e",
   "metadata": {
    "scrolled": false
   },
   "outputs": [],
   "source": [
    "df_gd = df_gdp.melt(id_vars = ['State'])\n",
    "df_gd = df_gd.rename(columns={\"variable\":\"year\", 'value':'gdp'})\n",
    "df_gd = df_gd.sort_values(by=['State','year'])\n",
    "df_gd = df_gd.reset_index(drop=True)\n",
    "df_single['gdp'] = df_gd['gdp']"
   ]
  },
  {
   "cell_type": "code",
   "execution_count": 19,
   "id": "3f3020a9",
   "metadata": {
    "scrolled": true
   },
   "outputs": [
    {
     "data": {
      "text/html": [
       "<div>\n",
       "<style scoped>\n",
       "    .dataframe tbody tr th:only-of-type {\n",
       "        vertical-align: middle;\n",
       "    }\n",
       "\n",
       "    .dataframe tbody tr th {\n",
       "        vertical-align: top;\n",
       "    }\n",
       "\n",
       "    .dataframe thead th {\n",
       "        text-align: right;\n",
       "    }\n",
       "</style>\n",
       "<table border=\"1\" class=\"dataframe\">\n",
       "  <thead>\n",
       "    <tr style=\"text-align: right;\">\n",
       "      <th></th>\n",
       "      <th>State</th>\n",
       "      <th>year</th>\n",
       "      <th>tax_rate</th>\n",
       "      <th>business_applications</th>\n",
       "      <th>gdp</th>\n",
       "      <th>min_wage</th>\n",
       "    </tr>\n",
       "  </thead>\n",
       "  <tbody>\n",
       "    <tr>\n",
       "      <th>0</th>\n",
       "      <td>Alabama</td>\n",
       "      <td>2005</td>\n",
       "      <td>6.5</td>\n",
       "      <td>4730</td>\n",
       "      <td>158846.8</td>\n",
       "      <td>5.15</td>\n",
       "    </tr>\n",
       "    <tr>\n",
       "      <th>1</th>\n",
       "      <td>Alabama</td>\n",
       "      <td>2006</td>\n",
       "      <td>6.5</td>\n",
       "      <td>5229</td>\n",
       "      <td>166469.0</td>\n",
       "      <td>5.15</td>\n",
       "    </tr>\n",
       "    <tr>\n",
       "      <th>2</th>\n",
       "      <td>Alabama</td>\n",
       "      <td>2007</td>\n",
       "      <td>6.5</td>\n",
       "      <td>5138</td>\n",
       "      <td>172975.2</td>\n",
       "      <td>5.15</td>\n",
       "    </tr>\n",
       "    <tr>\n",
       "      <th>3</th>\n",
       "      <td>Alabama</td>\n",
       "      <td>2008</td>\n",
       "      <td>6.5</td>\n",
       "      <td>4979</td>\n",
       "      <td>174526.3</td>\n",
       "      <td>6.55</td>\n",
       "    </tr>\n",
       "    <tr>\n",
       "      <th>4</th>\n",
       "      <td>Alabama</td>\n",
       "      <td>2009</td>\n",
       "      <td>6.5</td>\n",
       "      <td>4396</td>\n",
       "      <td>170930.9</td>\n",
       "      <td>7.25</td>\n",
       "    </tr>\n",
       "  </tbody>\n",
       "</table>\n",
       "</div>"
      ],
      "text/plain": [
       "     State  year  tax_rate  business_applications       gdp  min_wage\n",
       "0  Alabama  2005       6.5                   4730  158846.8      5.15\n",
       "1  Alabama  2006       6.5                   5229  166469.0      5.15\n",
       "2  Alabama  2007       6.5                   5138  172975.2      5.15\n",
       "3  Alabama  2008       6.5                   4979  174526.3      6.55\n",
       "4  Alabama  2009       6.5                   4396  170930.9      7.25"
      ]
     },
     "execution_count": 19,
     "metadata": {},
     "output_type": "execute_result"
    }
   ],
   "source": [
    "df_mwage = df_mw.melt(id_vars=['State'])\n",
    "df_mwage = df_mwage.rename(columns={\"variable\":\"year\", 'value':'min_wage'})\n",
    "df_mwage = df_mwage.sort_values(by=['State','year'])\n",
    "df_mwage = df_mwage.reset_index(drop=True)\n",
    "df_single['min_wage'] = df_mwage['min_wage']\n",
    "df_single.head()\n",
    "#unemployement data to merge"
   ]
  },
  {
   "cell_type": "code",
   "execution_count": 20,
   "id": "71062c24",
   "metadata": {},
   "outputs": [
    {
     "data": {
      "text/plain": [
       "(918, 7)"
      ]
     },
     "execution_count": 20,
     "metadata": {},
     "output_type": "execute_result"
    }
   ],
   "source": [
    "df_ur = pd.read_csv('Unemployment_rates.csv')\n",
    "df_ur_new = df_ur.melt(id_vars=['State'])\n",
    "df_ur_new = df_ur_new.rename(columns={\"variable\":\"year\", 'value':'unemployment_rate'})\n",
    "df_ur_new = df_ur_new.sort_values(by=['State','year'])\n",
    "df_ur_new = df_ur_new.reset_index(drop=True)\n",
    "df_single['unemployment_rate'] = df_ur_new['unemployment_rate']\n",
    "df_single.shape"
   ]
  },
  {
   "cell_type": "code",
   "execution_count": 21,
   "id": "bb4556bf",
   "metadata": {
    "scrolled": true
   },
   "outputs": [
    {
     "data": {
      "text/html": [
       "<div>\n",
       "<style scoped>\n",
       "    .dataframe tbody tr th:only-of-type {\n",
       "        vertical-align: middle;\n",
       "    }\n",
       "\n",
       "    .dataframe tbody tr th {\n",
       "        vertical-align: top;\n",
       "    }\n",
       "\n",
       "    .dataframe thead th {\n",
       "        text-align: right;\n",
       "    }\n",
       "</style>\n",
       "<table border=\"1\" class=\"dataframe\">\n",
       "  <thead>\n",
       "    <tr style=\"text-align: right;\">\n",
       "      <th></th>\n",
       "      <th>State</th>\n",
       "      <th>year</th>\n",
       "      <th>tax_rate</th>\n",
       "      <th>business_applications</th>\n",
       "      <th>gdp</th>\n",
       "      <th>min_wage</th>\n",
       "      <th>unemployment_rate</th>\n",
       "    </tr>\n",
       "  </thead>\n",
       "  <tbody>\n",
       "    <tr>\n",
       "      <th>0</th>\n",
       "      <td>Alabama</td>\n",
       "      <td>2005</td>\n",
       "      <td>6.5</td>\n",
       "      <td>4730</td>\n",
       "      <td>158846.8</td>\n",
       "      <td>5.15</td>\n",
       "      <td>4.5</td>\n",
       "    </tr>\n",
       "    <tr>\n",
       "      <th>1</th>\n",
       "      <td>Alabama</td>\n",
       "      <td>2006</td>\n",
       "      <td>6.5</td>\n",
       "      <td>5229</td>\n",
       "      <td>166469.0</td>\n",
       "      <td>5.15</td>\n",
       "      <td>4.0</td>\n",
       "    </tr>\n",
       "    <tr>\n",
       "      <th>2</th>\n",
       "      <td>Alabama</td>\n",
       "      <td>2007</td>\n",
       "      <td>6.5</td>\n",
       "      <td>5138</td>\n",
       "      <td>172975.2</td>\n",
       "      <td>5.15</td>\n",
       "      <td>4.0</td>\n",
       "    </tr>\n",
       "    <tr>\n",
       "      <th>3</th>\n",
       "      <td>Alabama</td>\n",
       "      <td>2008</td>\n",
       "      <td>6.5</td>\n",
       "      <td>4979</td>\n",
       "      <td>174526.3</td>\n",
       "      <td>6.55</td>\n",
       "      <td>5.7</td>\n",
       "    </tr>\n",
       "    <tr>\n",
       "      <th>4</th>\n",
       "      <td>Alabama</td>\n",
       "      <td>2009</td>\n",
       "      <td>6.5</td>\n",
       "      <td>4396</td>\n",
       "      <td>170930.9</td>\n",
       "      <td>7.25</td>\n",
       "      <td>11.0</td>\n",
       "    </tr>\n",
       "    <tr>\n",
       "      <th>...</th>\n",
       "      <td>...</td>\n",
       "      <td>...</td>\n",
       "      <td>...</td>\n",
       "      <td>...</td>\n",
       "      <td>...</td>\n",
       "      <td>...</td>\n",
       "      <td>...</td>\n",
       "    </tr>\n",
       "    <tr>\n",
       "      <th>913</th>\n",
       "      <td>Wyoming</td>\n",
       "      <td>2018</td>\n",
       "      <td>0.0</td>\n",
       "      <td>19712</td>\n",
       "      <td>39171.7</td>\n",
       "      <td>5.15</td>\n",
       "      <td>4.1</td>\n",
       "    </tr>\n",
       "    <tr>\n",
       "      <th>914</th>\n",
       "      <td>Wyoming</td>\n",
       "      <td>2019</td>\n",
       "      <td>0.0</td>\n",
       "      <td>18796</td>\n",
       "      <td>39428.0</td>\n",
       "      <td>5.85</td>\n",
       "      <td>3.7</td>\n",
       "    </tr>\n",
       "    <tr>\n",
       "      <th>915</th>\n",
       "      <td>Wyoming</td>\n",
       "      <td>2020</td>\n",
       "      <td>0.0</td>\n",
       "      <td>24646</td>\n",
       "      <td>36330.4</td>\n",
       "      <td>6.55</td>\n",
       "      <td>5.9</td>\n",
       "    </tr>\n",
       "    <tr>\n",
       "      <th>916</th>\n",
       "      <td>Wyoming</td>\n",
       "      <td>2021</td>\n",
       "      <td>0.0</td>\n",
       "      <td>33741</td>\n",
       "      <td>41510.2</td>\n",
       "      <td>7.25</td>\n",
       "      <td>4.6</td>\n",
       "    </tr>\n",
       "    <tr>\n",
       "      <th>917</th>\n",
       "      <td>Wyoming</td>\n",
       "      <td>2022</td>\n",
       "      <td>0.0</td>\n",
       "      <td>41561</td>\n",
       "      <td>47432.5</td>\n",
       "      <td>7.25</td>\n",
       "      <td>3.6</td>\n",
       "    </tr>\n",
       "  </tbody>\n",
       "</table>\n",
       "<p>918 rows × 7 columns</p>\n",
       "</div>"
      ],
      "text/plain": [
       "       State  year  tax_rate  business_applications       gdp  min_wage  \\\n",
       "0    Alabama  2005       6.5                   4730  158846.8      5.15   \n",
       "1    Alabama  2006       6.5                   5229  166469.0      5.15   \n",
       "2    Alabama  2007       6.5                   5138  172975.2      5.15   \n",
       "3    Alabama  2008       6.5                   4979  174526.3      6.55   \n",
       "4    Alabama  2009       6.5                   4396  170930.9      7.25   \n",
       "..       ...   ...       ...                    ...       ...       ...   \n",
       "913  Wyoming  2018       0.0                  19712   39171.7      5.15   \n",
       "914  Wyoming  2019       0.0                  18796   39428.0      5.85   \n",
       "915  Wyoming  2020       0.0                  24646   36330.4      6.55   \n",
       "916  Wyoming  2021       0.0                  33741   41510.2      7.25   \n",
       "917  Wyoming  2022       0.0                  41561   47432.5      7.25   \n",
       "\n",
       "     unemployment_rate  \n",
       "0                  4.5  \n",
       "1                  4.0  \n",
       "2                  4.0  \n",
       "3                  5.7  \n",
       "4                 11.0  \n",
       "..                 ...  \n",
       "913                4.1  \n",
       "914                3.7  \n",
       "915                5.9  \n",
       "916                4.6  \n",
       "917                3.6  \n",
       "\n",
       "[918 rows x 7 columns]"
      ]
     },
     "execution_count": 21,
     "metadata": {},
     "output_type": "execute_result"
    }
   ],
   "source": [
    "df_single"
   ]
  },
  {
   "cell_type": "code",
   "execution_count": 22,
   "id": "5c1a3031",
   "metadata": {},
   "outputs": [
    {
     "data": {
      "text/html": [
       "<div>\n",
       "<style scoped>\n",
       "    .dataframe tbody tr th:only-of-type {\n",
       "        vertical-align: middle;\n",
       "    }\n",
       "\n",
       "    .dataframe tbody tr th {\n",
       "        vertical-align: top;\n",
       "    }\n",
       "\n",
       "    .dataframe thead th {\n",
       "        text-align: right;\n",
       "    }\n",
       "</style>\n",
       "<table border=\"1\" class=\"dataframe\">\n",
       "  <thead>\n",
       "    <tr style=\"text-align: right;\">\n",
       "      <th></th>\n",
       "      <th>State</th>\n",
       "      <th>year</th>\n",
       "      <th>tax_rate</th>\n",
       "      <th>business_applications</th>\n",
       "      <th>gdp</th>\n",
       "      <th>min_wage</th>\n",
       "      <th>unemployment_rate</th>\n",
       "      <th>population</th>\n",
       "    </tr>\n",
       "  </thead>\n",
       "  <tbody>\n",
       "    <tr>\n",
       "      <th>0</th>\n",
       "      <td>Alabama</td>\n",
       "      <td>2005</td>\n",
       "      <td>6.5</td>\n",
       "      <td>4730</td>\n",
       "      <td>158846.8</td>\n",
       "      <td>5.15</td>\n",
       "      <td>4.5</td>\n",
       "      <td>4569805</td>\n",
       "    </tr>\n",
       "    <tr>\n",
       "      <th>1</th>\n",
       "      <td>Alabama</td>\n",
       "      <td>2006</td>\n",
       "      <td>6.5</td>\n",
       "      <td>5229</td>\n",
       "      <td>166469.0</td>\n",
       "      <td>5.15</td>\n",
       "      <td>4.0</td>\n",
       "      <td>4628981</td>\n",
       "    </tr>\n",
       "    <tr>\n",
       "      <th>2</th>\n",
       "      <td>Alabama</td>\n",
       "      <td>2007</td>\n",
       "      <td>6.5</td>\n",
       "      <td>5138</td>\n",
       "      <td>172975.2</td>\n",
       "      <td>5.15</td>\n",
       "      <td>4.0</td>\n",
       "      <td>4672840</td>\n",
       "    </tr>\n",
       "    <tr>\n",
       "      <th>3</th>\n",
       "      <td>Alabama</td>\n",
       "      <td>2008</td>\n",
       "      <td>6.5</td>\n",
       "      <td>4979</td>\n",
       "      <td>174526.3</td>\n",
       "      <td>6.55</td>\n",
       "      <td>5.7</td>\n",
       "      <td>4718206</td>\n",
       "    </tr>\n",
       "    <tr>\n",
       "      <th>4</th>\n",
       "      <td>Alabama</td>\n",
       "      <td>2009</td>\n",
       "      <td>6.5</td>\n",
       "      <td>4396</td>\n",
       "      <td>170930.9</td>\n",
       "      <td>7.25</td>\n",
       "      <td>11.0</td>\n",
       "      <td>4757938</td>\n",
       "    </tr>\n",
       "  </tbody>\n",
       "</table>\n",
       "</div>"
      ],
      "text/plain": [
       "     State  year  tax_rate  business_applications       gdp  min_wage  \\\n",
       "0  Alabama  2005       6.5                   4730  158846.8      5.15   \n",
       "1  Alabama  2006       6.5                   5229  166469.0      5.15   \n",
       "2  Alabama  2007       6.5                   5138  172975.2      5.15   \n",
       "3  Alabama  2008       6.5                   4979  174526.3      6.55   \n",
       "4  Alabama  2009       6.5                   4396  170930.9      7.25   \n",
       "\n",
       "   unemployment_rate  population  \n",
       "0                4.5     4569805  \n",
       "1                4.0     4628981  \n",
       "2                4.0     4672840  \n",
       "3                5.7     4718206  \n",
       "4               11.0     4757938  "
      ]
     },
     "execution_count": 22,
     "metadata": {},
     "output_type": "execute_result"
    }
   ],
   "source": [
    "df_pp = df_pop.melt(id_vars=['State'])\n",
    "df_pp = df_pp.rename(columns={\"variable\":\"year\", 'value':'population'})\n",
    "df_pp = df_pp.sort_values(by=['State','year'])\n",
    "df_pp = df_pp.reset_index(drop=True)\n",
    "df_single['population'] = df_pp['population']\n",
    "df_single.head()"
   ]
  },
  {
   "cell_type": "code",
   "execution_count": null,
   "id": "cf53367e",
   "metadata": {},
   "outputs": [],
   "source": []
  }
 ],
 "metadata": {
  "kernelspec": {
   "display_name": "Python 3 (ipykernel)",
   "language": "python",
   "name": "python3"
  },
  "language_info": {
   "codemirror_mode": {
    "name": "ipython",
    "version": 3
   },
   "file_extension": ".py",
   "mimetype": "text/x-python",
   "name": "python",
   "nbconvert_exporter": "python",
   "pygments_lexer": "ipython3",
   "version": "3.11.3"
  }
 },
 "nbformat": 4,
 "nbformat_minor": 5
}
