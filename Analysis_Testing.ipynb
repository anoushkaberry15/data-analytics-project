{
 "cells": [
  {
   "cell_type": "code",
   "execution_count": null,
   "metadata": {},
   "outputs": [],
   "source": [
    "# Loading and inspecting the newly uploaded dataset \"combined.csv\"\n",
    "\n",
    "combined_data = pd.read_csv(\"/mnt/data/combined.csv\")\n",
    "combined_data_head = combined_data.head()\n",
    "combined_data_head\n"
   ]
  }
 ],
 "metadata": {
  "language_info": {
   "name": "python"
  }
 },
 "nbformat": 4,
 "nbformat_minor": 2
}
